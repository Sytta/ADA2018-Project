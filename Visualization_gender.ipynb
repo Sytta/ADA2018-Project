{
 "cells": [
  {
   "cell_type": "code",
   "execution_count": 430,
   "metadata": {},
   "outputs": [
    {
     "data": {
      "text/html": [
       "<script type=\"text/javascript\">window.PlotlyConfig = {MathJaxConfig: 'local'};</script><script type=\"text/javascript\">if (window.MathJax) {MathJax.Hub.Config({SVG: {font: \"STIX-Web\"}});}</script><script>requirejs.config({paths: { 'plotly': ['https://cdn.plot.ly/plotly-latest.min']},});if(!window._Plotly) {require(['plotly'],function(plotly) {window._Plotly=plotly;});}</script>"
      ],
      "text/vnd.plotly.v1+html": [
       "<script type=\"text/javascript\">window.PlotlyConfig = {MathJaxConfig: 'local'};</script><script type=\"text/javascript\">if (window.MathJax) {MathJax.Hub.Config({SVG: {font: \"STIX-Web\"}});}</script><script>requirejs.config({paths: { 'plotly': ['https://cdn.plot.ly/plotly-latest.min']},});if(!window._Plotly) {require(['plotly'],function(plotly) {window._Plotly=plotly;});}</script>"
      ]
     },
     "metadata": {},
     "output_type": "display_data"
    }
   ],
   "source": [
    "import pandas as pd\n",
    "import os\n",
    "import matplotlib.pyplot as plt\n",
    "import seaborn as sns\n",
    "from enum import Enum\n",
    "import numpy as np\n",
    "import json\n",
    "import folium\n",
    "from branca.colormap import LinearColormap, StepColormap\n",
    "from matplotlib.legend import Legend\n",
    "import itertools\n",
    "from plotly.offline import init_notebook_mode, iplot, plot\n",
    "from IPython.display import display, HTML\n",
    "import plotly.graph_objs as go\n",
    "from plotly import tools\n",
    "\n",
    "init_notebook_mode(connected=True)"
   ]
  },
  {
   "cell_type": "code",
   "execution_count": 2,
   "metadata": {},
   "outputs": [],
   "source": [
    "DALY = pd.read_csv(\"./data/Last_data/\" + \"DALYs (Disability-Adjusted Life Years).csv\", index_col=0, low_memory=False).dropna()\n",
    "DALY.age = DALY.age.replace({'5 to 9':'05 to 09', '1 to 4':'01 to 04'})\n",
    "\n",
    "prevalence = pd.read_csv(\"./data/Last_data/Prevalence.csv\", index_col=0, low_memory=False).dropna()\n",
    "prevalence.year = prevalence.year.astype(int)\n",
    "prevalence_number = prevalence[prevalence.metric == 'Number']\n",
    "prevalence_rate = prevalence[prevalence.metric == 'Rate']\n",
    "\n",
    "level_1 = ['Mental disorders']\n",
    "depression = ['Major depressive disorder', 'Dysthymia']\n",
    "eating = ['Anorexia nervosa', 'Bulimia nervosa']\n",
    "level_2 = [i for i in DALY.cause.unique() if (i not in level_1) and (i not in depression) and (i not in eating) ]\n",
    "\n",
    "population = pd.read_csv(\"./data/population_1990_2017.csv\")\n"
   ]
  },
  {
   "cell_type": "code",
   "execution_count": 433,
   "metadata": {},
   "outputs": [],
   "source": [
    "\n",
    "# Categorize the countries\n",
    "glob = ['Global']\n",
    "continents = ['Asia', 'Europe', 'Oceania', 'America', 'Africa']\n",
    "countries = [ i for i in sorted(DALY.location.unique()) if ((not i in continents) and (i != 'Global'))]\n"
   ]
  },
  {
   "cell_type": "code",
   "execution_count": 434,
   "metadata": {},
   "outputs": [],
   "source": [
    "def save_html(html_str, title):\n",
    "    Html_file = open(\"plotly/\" + title + \".html\",\"w\")\n",
    "    Html_file.write(html_str)\n",
    "    Html_file.close()"
   ]
  },
  {
   "cell_type": "code",
   "execution_count": 4,
   "metadata": {},
   "outputs": [
    {
     "data": {
      "text/html": [
       "<div>\n",
       "<style scoped>\n",
       "    .dataframe tbody tr th:only-of-type {\n",
       "        vertical-align: middle;\n",
       "    }\n",
       "\n",
       "    .dataframe tbody tr th {\n",
       "        vertical-align: top;\n",
       "    }\n",
       "\n",
       "    .dataframe thead th {\n",
       "        text-align: right;\n",
       "    }\n",
       "</style>\n",
       "<table border=\"1\" class=\"dataframe\">\n",
       "  <thead>\n",
       "    <tr style=\"text-align: right;\">\n",
       "      <th></th>\n",
       "      <th>cause</th>\n",
       "      <th>Male</th>\n",
       "      <th>Female</th>\n",
       "    </tr>\n",
       "  </thead>\n",
       "  <tbody>\n",
       "    <tr>\n",
       "      <th>0</th>\n",
       "      <td>Anxiety disorders</td>\n",
       "      <td>21.207867</td>\n",
       "      <td>33.120790</td>\n",
       "    </tr>\n",
       "    <tr>\n",
       "      <th>1</th>\n",
       "      <td>Depressive disorders</td>\n",
       "      <td>20.653087</td>\n",
       "      <td>29.944150</td>\n",
       "    </tr>\n",
       "    <tr>\n",
       "      <th>2</th>\n",
       "      <td>Other mental disorders</td>\n",
       "      <td>17.831006</td>\n",
       "      <td>11.241406</td>\n",
       "    </tr>\n",
       "    <tr>\n",
       "      <th>3</th>\n",
       "      <td>Idiopathic developmental intellectual disability</td>\n",
       "      <td>10.859483</td>\n",
       "      <td>8.613581</td>\n",
       "    </tr>\n",
       "    <tr>\n",
       "      <th>4</th>\n",
       "      <td>Attention-deficit/hyperactivity disorder</td>\n",
       "      <td>10.371021</td>\n",
       "      <td>4.013573</td>\n",
       "    </tr>\n",
       "  </tbody>\n",
       "</table>\n",
       "</div>"
      ],
      "text/plain": [
       "                                              cause       Male     Female\n",
       "0                                 Anxiety disorders  21.207867  33.120790\n",
       "1                              Depressive disorders  20.653087  29.944150\n",
       "2                            Other mental disorders  17.831006  11.241406\n",
       "3  Idiopathic developmental intellectual disability  10.859483   8.613581\n",
       "4          Attention-deficit/hyperactivity disorder  10.371021   4.013573"
      ]
     },
     "execution_count": 4,
     "metadata": {},
     "output_type": "execute_result"
    }
   ],
   "source": [
    "prevalence_gender = pd.read_csv(\"./prevalence_gender.csv\")\n",
    "prevalence_gender.head()"
   ]
  },
  {
   "cell_type": "markdown",
   "metadata": {},
   "source": [
    "#### By Gender Population Share"
   ]
  },
  {
   "cell_type": "code",
   "execution_count": 502,
   "metadata": {},
   "outputs": [],
   "source": [
    "df = prevalence_number\n",
    "locations = continents\n",
    "\n",
    "years = sorted(list(df.year.unique()))\n",
    "years_str = results = list(map(str, years))\n",
    "\n",
    "continents = locations\n",
    "\n",
    "def make_figure(title, x_axis=None, y_axis=None, sliders=True, playButtons = True, values=years_str):\n",
    "    # make figure\n",
    "    figure = {\n",
    "        'data': [],\n",
    "        'layout': {},\n",
    "        'frames': []\n",
    "    }\n",
    "\n",
    "    # fill in most of layout\n",
    "    if (x_axis is not None) and (y_axis is not None):\n",
    "        figure['layout']['xaxis'] = x_axis\n",
    "        figure['layout']['yaxis'] = y_axis\n",
    "    figure['layout']['hovermode'] = 'closest'\n",
    "    if sliders:\n",
    "        figure['layout']['sliders'] = {\n",
    "            'args': [\n",
    "                'transition', {\n",
    "                    'duration': 400,\n",
    "                    'easing': 'cubic-in-out'\n",
    "                }\n",
    "            ],\n",
    "            'initialValue': str(values[0]),\n",
    "            'plotlycommand': 'animate',\n",
    "            'values': values,\n",
    "            'visible': True\n",
    "        }\n",
    "    \n",
    "    if playButtons:\n",
    "        figure['layout']['updatemenus'] = [\n",
    "            {\n",
    "                'buttons': [\n",
    "                    {\n",
    "                        'args': [None, {'frame': {'duration': 500, 'redraw': True},\n",
    "                                 'fromcurrent': True, 'transition': {'duration': 300, 'easing': 'quadratic-in-out'}}],\n",
    "                        'label': 'Play',\n",
    "                        'method': 'animate'\n",
    "                    },\n",
    "                    {\n",
    "                        'args': [[None], {'frame': {'duration': 0, 'redraw': True}, 'mode': 'immediate',\n",
    "                        'transition': {'duration': 0}}],\n",
    "                        'label': 'Pause',\n",
    "                        'method': 'animate'\n",
    "                    }\n",
    "                ],\n",
    "                'direction': 'left',\n",
    "                'pad': {'r': 10, 't': 87},\n",
    "                'showactive': False,\n",
    "                'type': 'buttons',\n",
    "                'x': 0.1,\n",
    "                'xanchor': 'right',\n",
    "                'y': 0,\n",
    "                'yanchor': 'top'\n",
    "            }\n",
    "        ]\n",
    "    figure['layout']['title'] = title\n",
    "    figure['layout']['font'] = dict(color='#ffffff')\n",
    "    \n",
    "    return figure\n",
    "\n",
    "def make_figure_black(title, x_axis=None, y_axis=None, sliders=True, playButtons = True, values=years_str):\n",
    "    figure = make_figure(title, x_axis, y_axis, sliders, playButtons, values)\n",
    "    figure['layout']['font'] = dict(color='#000000')\n",
    "    \n",
    "    return figure\n",
    "\n",
    "def make_sliders(prefix = 'Year: '):\n",
    "    sliders_dict = {\n",
    "        'active': 0,\n",
    "        'yanchor': 'top',\n",
    "        'xanchor': 'left',\n",
    "        'currentvalue': {\n",
    "            'font': {'size': 15},\n",
    "            'prefix': prefix,\n",
    "            'visible': True,\n",
    "            'xanchor': 'right'\n",
    "        },\n",
    "        'transition': {'duration': 300, 'easing': 'cubic-in-out'},\n",
    "        'pad': {'b': 10, 't': 50},\n",
    "        'len': 0.9,\n",
    "        'x': 0.1,\n",
    "        'y': 0,\n",
    "        'steps': []\n",
    "    }\n",
    "    return sliders_dict"
   ]
  },
  {
   "cell_type": "code",
   "execution_count": 503,
   "metadata": {},
   "outputs": [],
   "source": [
    "def get_gender_share_per_year(start_year, end_year, df, locations):\n",
    "    years = np.linspace(start_year, end_year, end_year - start_year + 1, dtype=np.int32)\n",
    "\n",
    "    x = dict.fromkeys(locations)\n",
    "    y = dict.fromkeys(locations)\n",
    "    size = dict.fromkeys(locations)\n",
    "\n",
    "    for year in years:\n",
    "        df_year = df[(df.cause.isin(level_2)) &\n",
    "                                (df.year == year) &\n",
    "                                (df.age == 'All Ages') &\n",
    "                                (df.location.isin(locations))]\n",
    "\n",
    "        pop = population[(population.location_name.isin(locations)) & \n",
    "                               (population.year_id == year) &\n",
    "                               (population.age_group_name == 'All Ages')]\n",
    "\n",
    "        df_year_group = df_year.groupby(['location', 'sex'])['val'].sum().reset_index()\n",
    "        pop = pop.groupby(['location_name', 'sex_name'])['val'].sum().reset_index()\n",
    "        # Join the prevalency data with population data so we can get the prevalency as a percentage of population\n",
    "        perc = pd.merge(df_year_group, pop, how='inner', left_on=['location', 'sex'], right_on=['location_name', 'sex_name'])\n",
    "        # Create new column as prevalency percentage of population\n",
    "        perc['prevalency_percentage'] = perc['val_x'] / perc['val_y'] * 100\n",
    "        perc_male = perc[perc.sex == 'Male'][['location', 'prevalency_percentage']].reset_index(drop = True)\n",
    "        perc_female = perc[perc.sex == 'Female'][['location', 'prevalency_percentage']].reset_index(drop = True)\n",
    "        pop_per_loc = perc[perc.sex == 'Both'][['location', 'val_x']]\n",
    "        \n",
    "        for loc in locations:\n",
    "            if (year == start_year and end_year != start_year):\n",
    "                x[loc] = list(round(elem, 2) for elem in list(perc_female[perc_female.location == loc].prevalency_percentage))\n",
    "                y[loc] = list(round(elem, 2) for elem in list(perc_male[perc_male.location == loc].prevalency_percentage))\n",
    "                size[loc] = list(pop_per_loc[pop_per_loc.location == loc].val_x / 10000000)\n",
    "            elif year == start_year and end_year == start_year:\n",
    "                x[loc] = list(round(elem, 2) for elem in list(perc_female[perc_female.location == loc].prevalency_percentage))\n",
    "                y[loc] = list(round(elem, 2) for elem in list(perc_male[perc_male.location == loc].prevalency_percentage))\n",
    "                size[loc] = list(pop_per_loc[pop_per_loc.location == loc].val_x / 100000)\n",
    "            else:\n",
    "                x[loc].extend(list(round(elem, 2) for elem in list(perc_female[perc_female.location == loc].prevalency_percentage)))\n",
    "                y[loc].extend(list(round(elem, 2) for elem in list(perc_male[perc_male.location == loc].prevalency_percentage)))\n",
    "                if year == end_year and start_year != end_year:\n",
    "                    size[loc].extend(list(pop_per_loc[pop_per_loc.location == loc].val_x / 100000))\n",
    "                else:\n",
    "                    size[loc].extend(list(pop_per_loc[pop_per_loc.location == loc].val_x / 10000000))   \n",
    "    \n",
    "    data_dicts = []\n",
    "    for loc in locations:\n",
    "        # Make dict\n",
    "        data_dict = {\n",
    "            'x': x[loc],\n",
    "            'y': y[loc],\n",
    "            'mode': 'lines+markers',\n",
    "            'text': '(Female(%), Male(%))',\n",
    "            'marker': {\n",
    "                'sizemode': 'area',\n",
    "                'sizeref': 2,\n",
    "                'size': size[loc]\n",
    "            },\n",
    "            'line': {\n",
    "                'width': 5\n",
    "            },\n",
    "            'name': loc\n",
    "        }\n",
    "        data_dicts.append(data_dict)\n",
    "        \n",
    "    return data_dicts"
   ]
  },
  {
   "cell_type": "code",
   "execution_count": 504,
   "metadata": {},
   "outputs": [],
   "source": [
    "def make_plot(sliders_dict, figure, function, years, df, locations, bar = False):\n",
    "    years = sorted(years)\n",
    "    for year in years:\n",
    "        if bar:\n",
    "            data_dict = function(year, df, locations[0], level_2)\n",
    "        else:\n",
    "            data_dict = function(years[0], year, df, locations)\n",
    "#         print(data_dict)\n",
    "        # Only append first year\n",
    "        if year == years[0]:\n",
    "            figure['data'] = data_dict\n",
    "\n",
    "        # Make frames\n",
    "        frame = {'data': data_dict, 'name': str(year)}\n",
    "#         frame['data'] = data_dict\n",
    "#         print(frame)\n",
    "        figure['frames'].append(frame)\n",
    "\n",
    "        # Slider step\n",
    "        slider_step = {'args': [\n",
    "            [str(year)],\n",
    "            {'frame': {'duration': 300, 'redraw': True},\n",
    "             'mode': 'immediate',\n",
    "           'transition': {'duration': 300}}\n",
    "         ],\n",
    "         'label': str(year),\n",
    "         'method': 'animate'}\n",
    "        sliders_dict['steps'].append(slider_step)\n",
    "\n",
    "    figure['layout']['sliders'] = [sliders_dict]\n",
    "    figure['layout']['paper_bgcolor']='rgba(0,0,0,0)'\n",
    "    figure['layout']['plot_bgcolor']='rgba(0,0,0,0)'\n",
    "    if bar:\n",
    "        figure['layout']['barmode'] ='stack'\n",
    "    \n",
    "\n",
    "    return figure"
   ]
  },
  {
   "cell_type": "code",
   "execution_count": 505,
   "metadata": {},
   "outputs": [],
   "source": [
    "sliders = make_sliders()\n",
    "figure = make_figure_black('Share of gender of mental illness per continent(%)', \n",
    "                                                    {'title': 'Share of Female(%)', 'range': [10, 18]},\n",
    "                                                    {'title': 'Share of Male(%)', 'range': [10, 15]})"
   ]
  },
  {
   "cell_type": "code",
   "execution_count": 506,
   "metadata": {},
   "outputs": [],
   "source": [
    "fig_gender = make_plot(sliders, figure, get_gender_share_per_year, years, df, locations)"
   ]
  },
  {
   "cell_type": "code",
   "execution_count": 507,
   "metadata": {},
   "outputs": [
    {
     "data": {
      "application/vnd.plotly.v1+json": {
       "config": {
        "linkText": "Export to plot.ly",
        "plotlyServerURL": "https://plot.ly",
        "showLink": true
       },
       "data": [
        {
         "line": {
          "width": 5
         },
         "marker": {
          "size": [
           4150.704853363701
          ],
          "sizemode": "area",
          "sizeref": 2
         },
         "mode": "lines+markers",
         "name": "Asia",
         "text": "(Female(%), Male(%))",
         "type": "scatter",
         "uid": "edd4fa56-54ac-4684-acb8-ef21c831ec37",
         "x": [
          13.15
         ],
         "y": [
          12.69
         ]
        },
        {
         "line": {
          "width": 5
         },
         "marker": {
          "size": [
           1156.9720858558
          ],
          "sizemode": "area",
          "sizeref": 2
         },
         "mode": "lines+markers",
         "name": "Europe",
         "text": "(Female(%), Male(%))",
         "type": "scatter",
         "uid": "40bbcc86-20d0-4930-bc12-dde6468e48a3",
         "x": [
          15.51
         ],
         "y": [
          13.14
         ]
        },
        {
         "line": {
          "width": 5
         },
         "marker": {
          "size": [
           7.059487252018501
          ],
          "sizemode": "area",
          "sizeref": 2
         },
         "mode": "lines+markers",
         "name": "Oceania",
         "text": "(Female(%), Male(%))",
         "type": "scatter",
         "uid": "c95c6318-3a4c-4b7b-886e-50e6cb82b5cf",
         "x": [
          10.83
         ],
         "y": [
          11.02
         ]
        },
        {
         "line": {
          "width": 5
         },
         "marker": {
          "size": [
           1043.5574998098
          ],
          "sizemode": "area",
          "sizeref": 2
         },
         "mode": "lines+markers",
         "name": "America",
         "text": "(Female(%), Male(%))",
         "type": "scatter",
         "uid": "6ad03703-40af-427a-8688-bc39c6f45f37",
         "x": [
          15.67
         ],
         "y": [
          13.42
         ]
        },
        {
         "line": {
          "width": 5
         },
         "marker": {
          "size": [
           782.7384698927
          ],
          "sizemode": "area",
          "sizeref": 2
         },
         "mode": "lines+markers",
         "name": "Africa",
         "text": "(Female(%), Male(%))",
         "type": "scatter",
         "uid": "b749a611-7edf-4274-ac27-006796b2b2e7",
         "x": [
          12.32
         ],
         "y": [
          12.5
         ]
        }
       ],
       "frames": [
        {
         "data": [
          {
           "line": {
            "width": 5
           },
           "marker": {
            "size": [
             4150.704853363701
            ],
            "sizemode": "area",
            "sizeref": 2
           },
           "mode": "lines+markers",
           "name": "Asia",
           "text": "(Female(%), Male(%))",
           "type": "scatter",
           "x": [
            13.15
           ],
           "y": [
            12.69
           ]
          },
          {
           "line": {
            "width": 5
           },
           "marker": {
            "size": [
             1156.9720858558
            ],
            "sizemode": "area",
            "sizeref": 2
           },
           "mode": "lines+markers",
           "name": "Europe",
           "text": "(Female(%), Male(%))",
           "type": "scatter",
           "x": [
            15.51
           ],
           "y": [
            13.14
           ]
          },
          {
           "line": {
            "width": 5
           },
           "marker": {
            "size": [
             7.059487252018501
            ],
            "sizemode": "area",
            "sizeref": 2
           },
           "mode": "lines+markers",
           "name": "Oceania",
           "text": "(Female(%), Male(%))",
           "type": "scatter",
           "x": [
            10.83
           ],
           "y": [
            11.02
           ]
          },
          {
           "line": {
            "width": 5
           },
           "marker": {
            "size": [
             1043.5574998098
            ],
            "sizemode": "area",
            "sizeref": 2
           },
           "mode": "lines+markers",
           "name": "America",
           "text": "(Female(%), Male(%))",
           "type": "scatter",
           "x": [
            15.67
           ],
           "y": [
            13.42
           ]
          },
          {
           "line": {
            "width": 5
           },
           "marker": {
            "size": [
             782.7384698927
            ],
            "sizemode": "area",
            "sizeref": 2
           },
           "mode": "lines+markers",
           "name": "Africa",
           "text": "(Female(%), Male(%))",
           "type": "scatter",
           "x": [
            12.32
           ],
           "y": [
            12.5
           ]
          }
         ],
         "name": "1990"
        },
        {
         "data": [
          {
           "line": {
            "width": 5
           },
           "marker": {
            "size": [
             41.507048533637004,
             4224.7305328355005
            ],
            "sizemode": "area",
            "sizeref": 2
           },
           "mode": "lines+markers",
           "name": "Asia",
           "text": "(Female(%), Male(%))",
           "type": "scatter",
           "x": [
            13.15,
            13.18
           ],
           "y": [
            12.69,
            12.7
           ]
          },
          {
           "line": {
            "width": 5
           },
           "marker": {
            "size": [
             11.569720858558,
             1163.1189460122
            ],
            "sizemode": "area",
            "sizeref": 2
           },
           "mode": "lines+markers",
           "name": "Europe",
           "text": "(Female(%), Male(%))",
           "type": "scatter",
           "x": [
            15.51,
            15.54
           ],
           "y": [
            13.14,
            13.16
           ]
          },
          {
           "line": {
            "width": 5
           },
           "marker": {
            "size": [
             0.07059487252018501,
             7.229065158469298
            ],
            "sizemode": "area",
            "sizeref": 2
           },
           "mode": "lines+markers",
           "name": "Oceania",
           "text": "(Female(%), Male(%))",
           "type": "scatter",
           "x": [
            10.83,
            10.84
           ],
           "y": [
            11.02,
            11.02
           ]
          },
          {
           "line": {
            "width": 5
           },
           "marker": {
            "size": [
             10.435574998098001,
             1059.1623238304999
            ],
            "sizemode": "area",
            "sizeref": 2
           },
           "mode": "lines+markers",
           "name": "America",
           "text": "(Female(%), Male(%))",
           "type": "scatter",
           "x": [
            15.67,
            15.65
           ],
           "y": [
            13.42,
            13.42
           ]
          },
          {
           "line": {
            "width": 5
           },
           "marker": {
            "size": [
             7.827384698927,
             804.7934793854199
            ],
            "sizemode": "area",
            "sizeref": 2
           },
           "mode": "lines+markers",
           "name": "Africa",
           "text": "(Female(%), Male(%))",
           "type": "scatter",
           "x": [
            12.32,
            12.34
           ],
           "y": [
            12.5,
            12.52
           ]
          }
         ],
         "name": "1991"
        },
        {
         "data": [
          {
           "line": {
            "width": 5
           },
           "marker": {
            "size": [
             41.507048533637004,
             42.247305328355004,
             4299.8372421271
            ],
            "sizemode": "area",
            "sizeref": 2
           },
           "mode": "lines+markers",
           "name": "Asia",
           "text": "(Female(%), Male(%))",
           "type": "scatter",
           "x": [
            13.15,
            13.18,
            13.21
           ],
           "y": [
            12.69,
            12.7,
            12.72
           ]
          },
          {
           "line": {
            "width": 5
           },
           "marker": {
            "size": [
             11.569720858558,
             11.631189460122002,
             1169.017512627
            ],
            "sizemode": "area",
            "sizeref": 2
           },
           "mode": "lines+markers",
           "name": "Europe",
           "text": "(Female(%), Male(%))",
           "type": "scatter",
           "x": [
            15.51,
            15.54,
            15.57
           ],
           "y": [
            13.14,
            13.16,
            13.19
           ]
          },
          {
           "line": {
            "width": 5
           },
           "marker": {
            "size": [
             0.07059487252018501,
             0.07229065158469299,
             7.402553143406599
            ],
            "sizemode": "area",
            "sizeref": 2
           },
           "mode": "lines+markers",
           "name": "Oceania",
           "text": "(Female(%), Male(%))",
           "type": "scatter",
           "x": [
            10.83,
            10.84,
            10.84
           ],
           "y": [
            11.02,
            11.02,
            11.01
           ]
          },
          {
           "line": {
            "width": 5
           },
           "marker": {
            "size": [
             10.435574998098001,
             10.591623238304997,
             1075.4487838361
            ],
            "sizemode": "area",
            "sizeref": 2
           },
           "mode": "lines+markers",
           "name": "America",
           "text": "(Female(%), Male(%))",
           "type": "scatter",
           "x": [
            15.67,
            15.65,
            15.64
           ],
           "y": [
            13.42,
            13.42,
            13.42
           ]
          },
          {
           "line": {
            "width": 5
           },
           "marker": {
            "size": [
             7.827384698927,
             8.0479347938542,
             827.1495633983399
            ],
            "sizemode": "area",
            "sizeref": 2
           },
           "mode": "lines+markers",
           "name": "Africa",
           "text": "(Female(%), Male(%))",
           "type": "scatter",
           "x": [
            12.32,
            12.34,
            12.36
           ],
           "y": [
            12.5,
            12.52,
            12.54
           ]
          }
         ],
         "name": "1992"
        },
        {
         "data": [
          {
           "line": {
            "width": 5
           },
           "marker": {
            "size": [
             41.507048533637004,
             42.247305328355004,
             42.99837242127099,
             4375.5529240514
            ],
            "sizemode": "area",
            "sizeref": 2
           },
           "mode": "lines+markers",
           "name": "Asia",
           "text": "(Female(%), Male(%))",
           "type": "scatter",
           "x": [
            13.15,
            13.18,
            13.21,
            13.25
           ],
           "y": [
            12.69,
            12.7,
            12.72,
            12.75
           ]
          },
          {
           "line": {
            "width": 5
           },
           "marker": {
            "size": [
             11.569720858558,
             11.631189460122002,
             11.69017512627,
             1173.7069200834
            ],
            "sizemode": "area",
            "sizeref": 2
           },
           "mode": "lines+markers",
           "name": "Europe",
           "text": "(Female(%), Male(%))",
           "type": "scatter",
           "x": [
            15.51,
            15.54,
            15.57,
            15.61
           ],
           "y": [
            13.14,
            13.16,
            13.19,
            13.22
           ]
          },
          {
           "line": {
            "width": 5
           },
           "marker": {
            "size": [
             0.07059487252018501,
             0.07229065158469299,
             0.07402553143406598,
             7.5808479220901
            ],
            "sizemode": "area",
            "sizeref": 2
           },
           "mode": "lines+markers",
           "name": "Oceania",
           "text": "(Female(%), Male(%))",
           "type": "scatter",
           "x": [
            10.83,
            10.84,
            10.84,
            10.83
           ],
           "y": [
            11.02,
            11.02,
            11.01,
            11
           ]
          },
          {
           "line": {
            "width": 5
           },
           "marker": {
            "size": [
             10.435574998098001,
             10.591623238304997,
             10.754487838361,
             1092.2767653036
            ],
            "sizemode": "area",
            "sizeref": 2
           },
           "mode": "lines+markers",
           "name": "America",
           "text": "(Female(%), Male(%))",
           "type": "scatter",
           "x": [
            15.67,
            15.65,
            15.64,
            15.64
           ],
           "y": [
            13.42,
            13.42,
            13.42,
            13.43
           ]
          },
          {
           "line": {
            "width": 5
           },
           "marker": {
            "size": [
             7.827384698927,
             8.0479347938542,
             8.271495633983399,
             848.3905958896097
            ],
            "sizemode": "area",
            "sizeref": 2
           },
           "mode": "lines+markers",
           "name": "Africa",
           "text": "(Female(%), Male(%))",
           "type": "scatter",
           "x": [
            12.32,
            12.34,
            12.36,
            12.38
           ],
           "y": [
            12.5,
            12.52,
            12.54,
            12.56
           ]
          }
         ],
         "name": "1993"
        },
        {
         "data": [
          {
           "line": {
            "width": 5
           },
           "marker": {
            "size": [
             41.507048533637004,
             42.247305328355004,
             42.99837242127099,
             43.755529240514,
             4449.7129753522
            ],
            "sizemode": "area",
            "sizeref": 2
           },
           "mode": "lines+markers",
           "name": "Asia",
           "text": "(Female(%), Male(%))",
           "type": "scatter",
           "x": [
            13.15,
            13.18,
            13.21,
            13.25,
            13.28
           ],
           "y": [
            12.69,
            12.7,
            12.72,
            12.75,
            12.78
           ]
          },
          {
           "line": {
            "width": 5
           },
           "marker": {
            "size": [
             11.569720858558,
             11.631189460122002,
             11.69017512627,
             11.737069200834002,
             1177.7361005205998
            ],
            "sizemode": "area",
            "sizeref": 2
           },
           "mode": "lines+markers",
           "name": "Europe",
           "text": "(Female(%), Male(%))",
           "type": "scatter",
           "x": [
            15.51,
            15.54,
            15.57,
            15.61,
            15.65
           ],
           "y": [
            13.14,
            13.16,
            13.19,
            13.22,
            13.26
           ]
          },
          {
           "line": {
            "width": 5
           },
           "marker": {
            "size": [
             0.07059487252018501,
             0.07229065158469299,
             0.07402553143406598,
             0.075808479220901,
             7.7650418185455
            ],
            "sizemode": "area",
            "sizeref": 2
           },
           "mode": "lines+markers",
           "name": "Oceania",
           "text": "(Female(%), Male(%))",
           "type": "scatter",
           "x": [
            10.83,
            10.84,
            10.84,
            10.83,
            10.83
           ],
           "y": [
            11.02,
            11.02,
            11.01,
            11,
            10.99
           ]
          },
          {
           "line": {
            "width": 5
           },
           "marker": {
            "size": [
             10.435574998098001,
             10.591623238304997,
             10.754487838361,
             10.922767653035999,
             1109.6432629956996
            ],
            "sizemode": "area",
            "sizeref": 2
           },
           "mode": "lines+markers",
           "name": "America",
           "text": "(Female(%), Male(%))",
           "type": "scatter",
           "x": [
            15.67,
            15.65,
            15.64,
            15.64,
            15.65
           ],
           "y": [
            13.42,
            13.42,
            13.42,
            13.43,
            13.44
           ]
          },
          {
           "line": {
            "width": 5
           },
           "marker": {
            "size": [
             7.827384698927,
             8.0479347938542,
             8.271495633983399,
             8.483905958896097,
             870.5413233800301
            ],
            "sizemode": "area",
            "sizeref": 2
           },
           "mode": "lines+markers",
           "name": "Africa",
           "text": "(Female(%), Male(%))",
           "type": "scatter",
           "x": [
            12.32,
            12.34,
            12.36,
            12.38,
            12.4
           ],
           "y": [
            12.5,
            12.52,
            12.54,
            12.56,
            12.58
           ]
          }
         ],
         "name": "1994"
        },
        {
         "data": [
          {
           "line": {
            "width": 5
           },
           "marker": {
            "size": [
             41.507048533637004,
             42.247305328355004,
             42.99837242127099,
             43.755529240514,
             44.497129753522,
             4523.0261942216
            ],
            "sizemode": "area",
            "sizeref": 2
           },
           "mode": "lines+markers",
           "name": "Asia",
           "text": "(Female(%), Male(%))",
           "type": "scatter",
           "x": [
            13.15,
            13.18,
            13.21,
            13.25,
            13.28,
            13.32
           ],
           "y": [
            12.69,
            12.7,
            12.72,
            12.75,
            12.78,
            12.8
           ]
          },
          {
           "line": {
            "width": 5
           },
           "marker": {
            "size": [
             11.569720858558,
             11.631189460122002,
             11.69017512627,
             11.737069200834002,
             11.777361005205998,
             1181.1418568808
            ],
            "sizemode": "area",
            "sizeref": 2
           },
           "mode": "lines+markers",
           "name": "Europe",
           "text": "(Female(%), Male(%))",
           "type": "scatter",
           "x": [
            15.51,
            15.54,
            15.57,
            15.61,
            15.65,
            15.69
           ],
           "y": [
            13.14,
            13.16,
            13.19,
            13.22,
            13.26,
            13.29
           ]
          },
          {
           "line": {
            "width": 5
           },
           "marker": {
            "size": [
             0.07059487252018501,
             0.07229065158469299,
             0.07402553143406598,
             0.075808479220901,
             0.077650418185455,
             7.9579032190682994
            ],
            "sizemode": "area",
            "sizeref": 2
           },
           "mode": "lines+markers",
           "name": "Oceania",
           "text": "(Female(%), Male(%))",
           "type": "scatter",
           "x": [
            10.83,
            10.84,
            10.84,
            10.83,
            10.83,
            10.83
           ],
           "y": [
            11.02,
            11.02,
            11.01,
            11,
            10.99,
            10.98
           ]
          },
          {
           "line": {
            "width": 5
           },
           "marker": {
            "size": [
             10.435574998098001,
             10.591623238304997,
             10.754487838361,
             10.922767653035999,
             11.096432629956997,
             1127.5918196658001
            ],
            "sizemode": "area",
            "sizeref": 2
           },
           "mode": "lines+markers",
           "name": "America",
           "text": "(Female(%), Male(%))",
           "type": "scatter",
           "x": [
            15.67,
            15.65,
            15.64,
            15.64,
            15.65,
            15.68
           ],
           "y": [
            13.42,
            13.42,
            13.42,
            13.43,
            13.44,
            13.46
           ]
          },
          {
           "line": {
            "width": 5
           },
           "marker": {
            "size": [
             7.827384698927,
             8.0479347938542,
             8.271495633983399,
             8.483905958896097,
             8.7054132338003,
             894.6702382126098
            ],
            "sizemode": "area",
            "sizeref": 2
           },
           "mode": "lines+markers",
           "name": "Africa",
           "text": "(Female(%), Male(%))",
           "type": "scatter",
           "x": [
            12.32,
            12.34,
            12.36,
            12.38,
            12.4,
            12.41
           ],
           "y": [
            12.5,
            12.52,
            12.54,
            12.56,
            12.58,
            12.59
           ]
          }
         ],
         "name": "1995"
        },
        {
         "data": [
          {
           "line": {
            "width": 5
           },
           "marker": {
            "size": [
             41.507048533637004,
             42.247305328355004,
             42.99837242127099,
             43.755529240514,
             44.497129753522,
             45.230261942216,
             4596.9592620613
            ],
            "sizemode": "area",
            "sizeref": 2
           },
           "mode": "lines+markers",
           "name": "Asia",
           "text": "(Female(%), Male(%))",
           "type": "scatter",
           "x": [
            13.15,
            13.18,
            13.21,
            13.25,
            13.28,
            13.32,
            13.36
           ],
           "y": [
            12.69,
            12.7,
            12.72,
            12.75,
            12.78,
            12.8,
            12.83
           ]
          },
          {
           "line": {
            "width": 5
           },
           "marker": {
            "size": [
             11.569720858558,
             11.631189460122002,
             11.69017512627,
             11.737069200834002,
             11.777361005205998,
             11.811418568808001,
             1184.2781858480998
            ],
            "sizemode": "area",
            "sizeref": 2
           },
           "mode": "lines+markers",
           "name": "Europe",
           "text": "(Female(%), Male(%))",
           "type": "scatter",
           "x": [
            15.51,
            15.54,
            15.57,
            15.61,
            15.65,
            15.69,
            15.72
           ],
           "y": [
            13.14,
            13.16,
            13.19,
            13.22,
            13.26,
            13.29,
            13.32
           ]
          },
          {
           "line": {
            "width": 5
           },
           "marker": {
            "size": [
             0.07059487252018501,
             0.07229065158469299,
             0.07402553143406598,
             0.075808479220901,
             0.077650418185455,
             0.07957903219068299,
             8.1593470288486
            ],
            "sizemode": "area",
            "sizeref": 2
           },
           "mode": "lines+markers",
           "name": "Oceania",
           "text": "(Female(%), Male(%))",
           "type": "scatter",
           "x": [
            10.83,
            10.84,
            10.84,
            10.83,
            10.83,
            10.83,
            10.82
           ],
           "y": [
            11.02,
            11.02,
            11.01,
            11,
            10.99,
            10.98,
            10.96
           ]
          },
          {
           "line": {
            "width": 5
           },
           "marker": {
            "size": [
             10.435574998098001,
             10.591623238304997,
             10.754487838361,
             10.922767653035999,
             11.096432629956997,
             11.275918196658,
             1148.5344435111
            ],
            "sizemode": "area",
            "sizeref": 2
           },
           "mode": "lines+markers",
           "name": "America",
           "text": "(Female(%), Male(%))",
           "type": "scatter",
           "x": [
            15.67,
            15.65,
            15.64,
            15.64,
            15.65,
            15.68,
            15.76
           ],
           "y": [
            13.42,
            13.42,
            13.42,
            13.43,
            13.44,
            13.46,
            13.51
           ]
          },
          {
           "line": {
            "width": 5
           },
           "marker": {
            "size": [
             7.827384698927,
             8.0479347938542,
             8.271495633983399,
             8.483905958896097,
             8.7054132338003,
             8.946702382126098,
             919.8456056090399
            ],
            "sizemode": "area",
            "sizeref": 2
           },
           "mode": "lines+markers",
           "name": "Africa",
           "text": "(Female(%), Male(%))",
           "type": "scatter",
           "x": [
            12.32,
            12.34,
            12.36,
            12.38,
            12.4,
            12.41,
            12.43
           ],
           "y": [
            12.5,
            12.52,
            12.54,
            12.56,
            12.58,
            12.59,
            12.59
           ]
          }
         ],
         "name": "1996"
        },
        {
         "data": [
          {
           "line": {
            "width": 5
           },
           "marker": {
            "size": [
             41.507048533637004,
             42.247305328355004,
             42.99837242127099,
             43.755529240514,
             44.497129753522,
             45.230261942216,
             45.969592620613,
             4672.0652318023
            ],
            "sizemode": "area",
            "sizeref": 2
           },
           "mode": "lines+markers",
           "name": "Asia",
           "text": "(Female(%), Male(%))",
           "type": "scatter",
           "x": [
            13.15,
            13.18,
            13.21,
            13.25,
            13.28,
            13.32,
            13.36,
            13.41
           ],
           "y": [
            12.69,
            12.7,
            12.72,
            12.75,
            12.78,
            12.8,
            12.83,
            12.86
           ]
          },
          {
           "line": {
            "width": 5
           },
           "marker": {
            "size": [
             11.569720858558,
             11.631189460122002,
             11.69017512627,
             11.737069200834002,
             11.777361005205998,
             11.811418568808001,
             11.842781858480999,
             1187.6011734311
            ],
            "sizemode": "area",
            "sizeref": 2
           },
           "mode": "lines+markers",
           "name": "Europe",
           "text": "(Female(%), Male(%))",
           "type": "scatter",
           "x": [
            15.51,
            15.54,
            15.57,
            15.61,
            15.65,
            15.69,
            15.72,
            15.75
           ],
           "y": [
            13.14,
            13.16,
            13.19,
            13.22,
            13.26,
            13.29,
            13.32,
            13.35
           ]
          },
          {
           "line": {
            "width": 5
           },
           "marker": {
            "size": [
             0.07059487252018501,
             0.07229065158469299,
             0.07402553143406598,
             0.075808479220901,
             0.077650418185455,
             0.07957903219068299,
             0.081593470288486,
             8.369878890943099
            ],
            "sizemode": "area",
            "sizeref": 2
           },
           "mode": "lines+markers",
           "name": "Oceania",
           "text": "(Female(%), Male(%))",
           "type": "scatter",
           "x": [
            10.83,
            10.84,
            10.84,
            10.83,
            10.83,
            10.83,
            10.82,
            10.82
           ],
           "y": [
            11.02,
            11.02,
            11.01,
            11,
            10.99,
            10.98,
            10.96,
            10.95
           ]
          },
          {
           "line": {
            "width": 5
           },
           "marker": {
            "size": [
             10.435574998098001,
             10.591623238304997,
             10.754487838361,
             10.922767653035999,
             11.096432629956997,
             11.275918196658,
             11.485344435111001,
             1173.3403218282997
            ],
            "sizemode": "area",
            "sizeref": 2
           },
           "mode": "lines+markers",
           "name": "America",
           "text": "(Female(%), Male(%))",
           "type": "scatter",
           "x": [
            15.67,
            15.65,
            15.64,
            15.64,
            15.65,
            15.68,
            15.76,
            15.92
           ],
           "y": [
            13.42,
            13.42,
            13.42,
            13.43,
            13.44,
            13.46,
            13.51,
            13.59
           ]
          },
          {
           "line": {
            "width": 5
           },
           "marker": {
            "size": [
             7.827384698927,
             8.0479347938542,
             8.271495633983399,
             8.483905958896097,
             8.7054132338003,
             8.946702382126098,
             9.1984560560904,
             945.9342345147601
            ],
            "sizemode": "area",
            "sizeref": 2
           },
           "mode": "lines+markers",
           "name": "Africa",
           "text": "(Female(%), Male(%))",
           "type": "scatter",
           "x": [
            12.32,
            12.34,
            12.36,
            12.38,
            12.4,
            12.41,
            12.43,
            12.45
           ],
           "y": [
            12.5,
            12.52,
            12.54,
            12.56,
            12.58,
            12.59,
            12.59,
            12.6
           ]
          }
         ],
         "name": "1997"
        },
        {
         "data": [
          {
           "line": {
            "width": 5
           },
           "marker": {
            "size": [
             41.507048533637004,
             42.247305328355004,
             42.99837242127099,
             43.755529240514,
             44.497129753522,
             45.230261942216,
             45.969592620613,
             46.720652318023,
             4747.8713310152
            ],
            "sizemode": "area",
            "sizeref": 2
           },
           "mode": "lines+markers",
           "name": "Asia",
           "text": "(Female(%), Male(%))",
           "type": "scatter",
           "x": [
            13.15,
            13.18,
            13.21,
            13.25,
            13.28,
            13.32,
            13.36,
            13.41,
            13.46
           ],
           "y": [
            12.69,
            12.7,
            12.72,
            12.75,
            12.78,
            12.8,
            12.83,
            12.86,
            12.88
           ]
          },
          {
           "line": {
            "width": 5
           },
           "marker": {
            "size": [
             11.569720858558,
             11.631189460122002,
             11.69017512627,
             11.737069200834002,
             11.777361005205998,
             11.811418568808001,
             11.842781858480999,
             11.876011734311,
             1190.8208589172
            ],
            "sizemode": "area",
            "sizeref": 2
           },
           "mode": "lines+markers",
           "name": "Europe",
           "text": "(Female(%), Male(%))",
           "type": "scatter",
           "x": [
            15.51,
            15.54,
            15.57,
            15.61,
            15.65,
            15.69,
            15.72,
            15.75,
            15.78
           ],
           "y": [
            13.14,
            13.16,
            13.19,
            13.22,
            13.26,
            13.29,
            13.32,
            13.35,
            13.37
           ]
          },
          {
           "line": {
            "width": 5
           },
           "marker": {
            "size": [
             0.07059487252018501,
             0.07229065158469299,
             0.07402553143406598,
             0.075808479220901,
             0.077650418185455,
             0.07957903219068299,
             0.081593470288486,
             0.08369878890943099,
             8.5896934803086
            ],
            "sizemode": "area",
            "sizeref": 2
           },
           "mode": "lines+markers",
           "name": "Oceania",
           "text": "(Female(%), Male(%))",
           "type": "scatter",
           "x": [
            10.83,
            10.84,
            10.84,
            10.83,
            10.83,
            10.83,
            10.82,
            10.82,
            10.82
           ],
           "y": [
            11.02,
            11.02,
            11.01,
            11,
            10.99,
            10.98,
            10.96,
            10.95,
            10.94
           ]
          },
          {
           "line": {
            "width": 5
           },
           "marker": {
            "size": [
             10.435574998098001,
             10.591623238304997,
             10.754487838361,
             10.922767653035999,
             11.096432629956997,
             11.275918196658,
             11.485344435111001,
             11.733403218282996,
             1199.831867219
            ],
            "sizemode": "area",
            "sizeref": 2
           },
           "mode": "lines+markers",
           "name": "America",
           "text": "(Female(%), Male(%))",
           "type": "scatter",
           "x": [
            15.67,
            15.65,
            15.64,
            15.64,
            15.65,
            15.68,
            15.76,
            15.92,
            16.11
           ],
           "y": [
            13.42,
            13.42,
            13.42,
            13.43,
            13.44,
            13.46,
            13.51,
            13.59,
            13.67
           ]
          },
          {
           "line": {
            "width": 5
           },
           "marker": {
            "size": [
             7.827384698927,
             8.0479347938542,
             8.271495633983399,
             8.483905958896097,
             8.7054132338003,
             8.946702382126098,
             9.1984560560904,
             9.4593423451476,
             971.3402740962499
            ],
            "sizemode": "area",
            "sizeref": 2
           },
           "mode": "lines+markers",
           "name": "Africa",
           "text": "(Female(%), Male(%))",
           "type": "scatter",
           "x": [
            12.32,
            12.34,
            12.36,
            12.38,
            12.4,
            12.41,
            12.43,
            12.45,
            12.47
           ],
           "y": [
            12.5,
            12.52,
            12.54,
            12.56,
            12.58,
            12.59,
            12.59,
            12.6,
            12.6
           ]
          }
         ],
         "name": "1998"
        },
        {
         "data": [
          {
           "line": {
            "width": 5
           },
           "marker": {
            "size": [
             41.507048533637004,
             42.247305328355004,
             42.99837242127099,
             43.755529240514,
             44.497129753522,
             45.230261942216,
             45.969592620613,
             46.720652318023,
             47.478713310152,
             4823.7024300766
            ],
            "sizemode": "area",
            "sizeref": 2
           },
           "mode": "lines+markers",
           "name": "Asia",
           "text": "(Female(%), Male(%))",
           "type": "scatter",
           "x": [
            13.15,
            13.18,
            13.21,
            13.25,
            13.28,
            13.32,
            13.36,
            13.41,
            13.46,
            13.51
           ],
           "y": [
            12.69,
            12.7,
            12.72,
            12.75,
            12.78,
            12.8,
            12.83,
            12.86,
            12.88,
            12.91
           ]
          },
          {
           "line": {
            "width": 5
           },
           "marker": {
            "size": [
             11.569720858558,
             11.631189460122002,
             11.69017512627,
             11.737069200834002,
             11.777361005205998,
             11.811418568808001,
             11.842781858480999,
             11.876011734311,
             11.908208589172,
             1193.7853561178001
            ],
            "sizemode": "area",
            "sizeref": 2
           },
           "mode": "lines+markers",
           "name": "Europe",
           "text": "(Female(%), Male(%))",
           "type": "scatter",
           "x": [
            15.51,
            15.54,
            15.57,
            15.61,
            15.65,
            15.69,
            15.72,
            15.75,
            15.78,
            15.8
           ],
           "y": [
            13.14,
            13.16,
            13.19,
            13.22,
            13.26,
            13.29,
            13.32,
            13.35,
            13.37,
            13.39
           ]
          },
          {
           "line": {
            "width": 5
           },
           "marker": {
            "size": [
             0.07059487252018501,
             0.07229065158469299,
             0.07402553143406598,
             0.075808479220901,
             0.077650418185455,
             0.07957903219068299,
             0.081593470288486,
             0.08369878890943099,
             0.08589693480308601,
             8.8200472219235
            ],
            "sizemode": "area",
            "sizeref": 2
           },
           "mode": "lines+markers",
           "name": "Oceania",
           "text": "(Female(%), Male(%))",
           "type": "scatter",
           "x": [
            10.83,
            10.84,
            10.84,
            10.83,
            10.83,
            10.83,
            10.82,
            10.82,
            10.82,
            10.82
           ],
           "y": [
            11.02,
            11.02,
            11.01,
            11,
            10.99,
            10.98,
            10.96,
            10.95,
            10.94,
            10.93
           ]
          },
          {
           "line": {
            "width": 5
           },
           "marker": {
            "size": [
             10.435574998098001,
             10.591623238304997,
             10.754487838361,
             10.922767653035999,
             11.096432629956997,
             11.275918196658,
             11.485344435111001,
             11.733403218282996,
             11.99831867219,
             1225.6932115892002
            ],
            "sizemode": "area",
            "sizeref": 2
           },
           "mode": "lines+markers",
           "name": "America",
           "text": "(Female(%), Male(%))",
           "type": "scatter",
           "x": [
            15.67,
            15.65,
            15.64,
            15.64,
            15.65,
            15.68,
            15.76,
            15.92,
            16.11,
            16.28
           ],
           "y": [
            13.42,
            13.42,
            13.42,
            13.43,
            13.44,
            13.46,
            13.51,
            13.59,
            13.67,
            13.75
           ]
          },
          {
           "line": {
            "width": 5
           },
           "marker": {
            "size": [
             7.827384698927,
             8.0479347938542,
             8.271495633983399,
             8.483905958896097,
             8.7054132338003,
             8.946702382126098,
             9.1984560560904,
             9.4593423451476,
             9.713402740962499,
             996.73963721366
            ],
            "sizemode": "area",
            "sizeref": 2
           },
           "mode": "lines+markers",
           "name": "Africa",
           "text": "(Female(%), Male(%))",
           "type": "scatter",
           "x": [
            12.32,
            12.34,
            12.36,
            12.38,
            12.4,
            12.41,
            12.43,
            12.45,
            12.47,
            12.48
           ],
           "y": [
            12.5,
            12.52,
            12.54,
            12.56,
            12.58,
            12.59,
            12.59,
            12.6,
            12.6,
            12.59
           ]
          }
         ],
         "name": "1999"
        },
        {
         "data": [
          {
           "line": {
            "width": 5
           },
           "marker": {
            "size": [
             41.507048533637004,
             42.247305328355004,
             42.99837242127099,
             43.755529240514,
             44.497129753522,
             45.230261942216,
             45.969592620613,
             46.720652318023,
             47.478713310152,
             48.237024300765995,
             4899.5617945636
            ],
            "sizemode": "area",
            "sizeref": 2
           },
           "mode": "lines+markers",
           "name": "Asia",
           "text": "(Female(%), Male(%))",
           "type": "scatter",
           "x": [
            13.15,
            13.18,
            13.21,
            13.25,
            13.28,
            13.32,
            13.36,
            13.41,
            13.46,
            13.51,
            13.56
           ],
           "y": [
            12.69,
            12.7,
            12.72,
            12.75,
            12.78,
            12.8,
            12.83,
            12.86,
            12.88,
            12.91,
            12.93
           ]
          },
          {
           "line": {
            "width": 5
           },
           "marker": {
            "size": [
             11.569720858558,
             11.631189460122002,
             11.69017512627,
             11.737069200834002,
             11.777361005205998,
             11.811418568808001,
             11.842781858480999,
             11.876011734311,
             11.908208589172,
             11.937853561178,
             1196.9235636410997
            ],
            "sizemode": "area",
            "sizeref": 2
           },
           "mode": "lines+markers",
           "name": "Europe",
           "text": "(Female(%), Male(%))",
           "type": "scatter",
           "x": [
            15.51,
            15.54,
            15.57,
            15.61,
            15.65,
            15.69,
            15.72,
            15.75,
            15.78,
            15.8,
            15.83
           ],
           "y": [
            13.14,
            13.16,
            13.19,
            13.22,
            13.26,
            13.29,
            13.32,
            13.35,
            13.37,
            13.39,
            13.41
           ]
          },
          {
           "line": {
            "width": 5
           },
           "marker": {
            "size": [
             0.07059487252018501,
             0.07229065158469299,
             0.07402553143406598,
             0.075808479220901,
             0.077650418185455,
             0.07957903219068299,
             0.081593470288486,
             0.08369878890943099,
             0.08589693480308601,
             0.08820047221923501,
             9.062310844527799
            ],
            "sizemode": "area",
            "sizeref": 2
           },
           "mode": "lines+markers",
           "name": "Oceania",
           "text": "(Female(%), Male(%))",
           "type": "scatter",
           "x": [
            10.83,
            10.84,
            10.84,
            10.83,
            10.83,
            10.83,
            10.82,
            10.82,
            10.82,
            10.82,
            10.83
           ],
           "y": [
            11.02,
            11.02,
            11.01,
            11,
            10.99,
            10.98,
            10.96,
            10.95,
            10.94,
            10.93,
            10.94
           ]
          },
          {
           "line": {
            "width": 5
           },
           "marker": {
            "size": [
             10.435574998098001,
             10.591623238304997,
             10.754487838361,
             10.922767653035999,
             11.096432629956997,
             11.275918196658,
             11.485344435111001,
             11.733403218282996,
             11.99831867219,
             12.256932115892003,
             1248.3046901423
            ],
            "sizemode": "area",
            "sizeref": 2
           },
           "mode": "lines+markers",
           "name": "America",
           "text": "(Female(%), Male(%))",
           "type": "scatter",
           "x": [
            15.67,
            15.65,
            15.64,
            15.64,
            15.65,
            15.68,
            15.76,
            15.92,
            16.11,
            16.28,
            16.39
           ],
           "y": [
            13.42,
            13.42,
            13.42,
            13.43,
            13.44,
            13.46,
            13.51,
            13.59,
            13.67,
            13.75,
            13.8
           ]
          },
          {
           "line": {
            "width": 5
           },
           "marker": {
            "size": [
             7.827384698927,
             8.0479347938542,
             8.271495633983399,
             8.483905958896097,
             8.7054132338003,
             8.946702382126098,
             9.1984560560904,
             9.4593423451476,
             9.713402740962499,
             9.9673963721366,
             1022.3800158564702
            ],
            "sizemode": "area",
            "sizeref": 2
           },
           "mode": "lines+markers",
           "name": "Africa",
           "text": "(Female(%), Male(%))",
           "type": "scatter",
           "x": [
            12.32,
            12.34,
            12.36,
            12.38,
            12.4,
            12.41,
            12.43,
            12.45,
            12.47,
            12.48,
            12.49
           ],
           "y": [
            12.5,
            12.52,
            12.54,
            12.56,
            12.58,
            12.59,
            12.59,
            12.6,
            12.6,
            12.59,
            12.59
           ]
          }
         ],
         "name": "2000"
        },
        {
         "data": [
          {
           "line": {
            "width": 5
           },
           "marker": {
            "size": [
             41.507048533637004,
             42.247305328355004,
             42.99837242127099,
             43.755529240514,
             44.497129753522,
             45.230261942216,
             45.969592620613,
             46.720652318023,
             47.478713310152,
             48.237024300765995,
             48.995617945636006,
             4974.6234375214
            ],
            "sizemode": "area",
            "sizeref": 2
           },
           "mode": "lines+markers",
           "name": "Asia",
           "text": "(Female(%), Male(%))",
           "type": "scatter",
           "x": [
            13.15,
            13.18,
            13.21,
            13.25,
            13.28,
            13.32,
            13.36,
            13.41,
            13.46,
            13.51,
            13.56,
            13.61
           ],
           "y": [
            12.69,
            12.7,
            12.72,
            12.75,
            12.78,
            12.8,
            12.83,
            12.86,
            12.88,
            12.91,
            12.93,
            12.96
           ]
          },
          {
           "line": {
            "width": 5
           },
           "marker": {
            "size": [
             11.569720858558,
             11.631189460122002,
             11.69017512627,
             11.737069200834002,
             11.777361005205998,
             11.811418568808001,
             11.842781858480999,
             11.876011734311,
             11.908208589172,
             11.937853561178,
             11.969235636410998,
             1199.8050562738001
            ],
            "sizemode": "area",
            "sizeref": 2
           },
           "mode": "lines+markers",
           "name": "Europe",
           "text": "(Female(%), Male(%))",
           "type": "scatter",
           "x": [
            15.51,
            15.54,
            15.57,
            15.61,
            15.65,
            15.69,
            15.72,
            15.75,
            15.78,
            15.8,
            15.83,
            15.85
           ],
           "y": [
            13.14,
            13.16,
            13.19,
            13.22,
            13.26,
            13.29,
            13.32,
            13.35,
            13.37,
            13.39,
            13.41,
            13.42
           ]
          },
          {
           "line": {
            "width": 5
           },
           "marker": {
            "size": [
             0.07059487252018501,
             0.07229065158469299,
             0.07402553143406598,
             0.075808479220901,
             0.077650418185455,
             0.07957903219068299,
             0.081593470288486,
             0.08369878890943099,
             0.08589693480308601,
             0.08820047221923501,
             0.090623108445278,
             9.3125540499872
            ],
            "sizemode": "area",
            "sizeref": 2
           },
           "mode": "lines+markers",
           "name": "Oceania",
           "text": "(Female(%), Male(%))",
           "type": "scatter",
           "x": [
            10.83,
            10.84,
            10.84,
            10.83,
            10.83,
            10.83,
            10.82,
            10.82,
            10.82,
            10.82,
            10.83,
            10.85
           ],
           "y": [
            11.02,
            11.02,
            11.01,
            11,
            10.99,
            10.98,
            10.96,
            10.95,
            10.94,
            10.93,
            10.94,
            10.95
           ]
          },
          {
           "line": {
            "width": 5
           },
           "marker": {
            "size": [
             10.435574998098001,
             10.591623238304997,
             10.754487838361,
             10.922767653035999,
             11.096432629956997,
             11.275918196658,
             11.485344435111001,
             11.733403218282996,
             11.99831867219,
             12.256932115892003,
             12.483046901423,
             1268.5524488105
            ],
            "sizemode": "area",
            "sizeref": 2
           },
           "mode": "lines+markers",
           "name": "America",
           "text": "(Female(%), Male(%))",
           "type": "scatter",
           "x": [
            15.67,
            15.65,
            15.64,
            15.64,
            15.65,
            15.68,
            15.76,
            15.92,
            16.11,
            16.28,
            16.39,
            16.46
           ],
           "y": [
            13.42,
            13.42,
            13.42,
            13.43,
            13.44,
            13.46,
            13.51,
            13.59,
            13.67,
            13.75,
            13.8,
            13.83
           ]
          },
          {
           "line": {
            "width": 5
           },
           "marker": {
            "size": [
             7.827384698927,
             8.0479347938542,
             8.271495633983399,
             8.483905958896097,
             8.7054132338003,
             8.946702382126098,
             9.1984560560904,
             9.4593423451476,
             9.713402740962499,
             9.9673963721366,
             10.223800158564702,
             1048.3139636820001
            ],
            "sizemode": "area",
            "sizeref": 2
           },
           "mode": "lines+markers",
           "name": "Africa",
           "text": "(Female(%), Male(%))",
           "type": "scatter",
           "x": [
            12.32,
            12.34,
            12.36,
            12.38,
            12.4,
            12.41,
            12.43,
            12.45,
            12.47,
            12.48,
            12.49,
            12.48
           ],
           "y": [
            12.5,
            12.52,
            12.54,
            12.56,
            12.58,
            12.59,
            12.59,
            12.6,
            12.6,
            12.59,
            12.59,
            12.58
           ]
          }
         ],
         "name": "2001"
        },
        {
         "data": [
          {
           "line": {
            "width": 5
           },
           "marker": {
            "size": [
             41.507048533637004,
             42.247305328355004,
             42.99837242127099,
             43.755529240514,
             44.497129753522,
             45.230261942216,
             45.969592620613,
             46.720652318023,
             47.478713310152,
             48.237024300765995,
             48.995617945636006,
             49.746234375214,
             5049.9516955978
            ],
            "sizemode": "area",
            "sizeref": 2
           },
           "mode": "lines+markers",
           "name": "Asia",
           "text": "(Female(%), Male(%))",
           "type": "scatter",
           "x": [
            13.15,
            13.18,
            13.21,
            13.25,
            13.28,
            13.32,
            13.36,
            13.41,
            13.46,
            13.51,
            13.56,
            13.61,
            13.65
           ],
           "y": [
            12.69,
            12.7,
            12.72,
            12.75,
            12.78,
            12.8,
            12.83,
            12.86,
            12.88,
            12.91,
            12.93,
            12.96,
            12.98
           ]
          },
          {
           "line": {
            "width": 5
           },
           "marker": {
            "size": [
             11.569720858558,
             11.631189460122002,
             11.69017512627,
             11.737069200834002,
             11.777361005205998,
             11.811418568808001,
             11.842781858480999,
             11.876011734311,
             11.908208589172,
             11.937853561178,
             11.969235636410998,
             11.998050562738001,
             1201.9802374394
            ],
            "sizemode": "area",
            "sizeref": 2
           },
           "mode": "lines+markers",
           "name": "Europe",
           "text": "(Female(%), Male(%))",
           "type": "scatter",
           "x": [
            15.51,
            15.54,
            15.57,
            15.61,
            15.65,
            15.69,
            15.72,
            15.75,
            15.78,
            15.8,
            15.83,
            15.85,
            15.85
           ],
           "y": [
            13.14,
            13.16,
            13.19,
            13.22,
            13.26,
            13.29,
            13.32,
            13.35,
            13.37,
            13.39,
            13.41,
            13.42,
            13.42
           ]
          },
          {
           "line": {
            "width": 5
           },
           "marker": {
            "size": [
             0.07059487252018501,
             0.07229065158469299,
             0.07402553143406598,
             0.075808479220901,
             0.077650418185455,
             0.07957903219068299,
             0.081593470288486,
             0.08369878890943099,
             0.08589693480308601,
             0.08820047221923501,
             0.090623108445278,
             0.093125540499872,
             9.567611743151401
            ],
            "sizemode": "area",
            "sizeref": 2
           },
           "mode": "lines+markers",
           "name": "Oceania",
           "text": "(Female(%), Male(%))",
           "type": "scatter",
           "x": [
            10.83,
            10.84,
            10.84,
            10.83,
            10.83,
            10.83,
            10.82,
            10.82,
            10.82,
            10.82,
            10.83,
            10.85,
            10.87
           ],
           "y": [
            11.02,
            11.02,
            11.01,
            11,
            10.99,
            10.98,
            10.96,
            10.95,
            10.94,
            10.93,
            10.94,
            10.95,
            10.96
           ]
          },
          {
           "line": {
            "width": 5
           },
           "marker": {
            "size": [
             10.435574998098001,
             10.591623238304997,
             10.754487838361,
             10.922767653035999,
             11.096432629956997,
             11.275918196658,
             11.485344435111001,
             11.733403218282996,
             11.99831867219,
             12.256932115892003,
             12.483046901423,
             12.685524488104999,
             1288.5975826185
            ],
            "sizemode": "area",
            "sizeref": 2
           },
           "mode": "lines+markers",
           "name": "America",
           "text": "(Female(%), Male(%))",
           "type": "scatter",
           "x": [
            15.67,
            15.65,
            15.64,
            15.64,
            15.65,
            15.68,
            15.76,
            15.92,
            16.11,
            16.28,
            16.39,
            16.46,
            16.53
           ],
           "y": [
            13.42,
            13.42,
            13.42,
            13.43,
            13.44,
            13.46,
            13.51,
            13.59,
            13.67,
            13.75,
            13.8,
            13.83,
            13.85
           ]
          },
          {
           "line": {
            "width": 5
           },
           "marker": {
            "size": [
             7.827384698927,
             8.0479347938542,
             8.271495633983399,
             8.483905958896097,
             8.7054132338003,
             8.946702382126098,
             9.1984560560904,
             9.4593423451476,
             9.713402740962499,
             9.9673963721366,
             10.223800158564702,
             10.48313963682,
             1074.2163492702
            ],
            "sizemode": "area",
            "sizeref": 2
           },
           "mode": "lines+markers",
           "name": "Africa",
           "text": "(Female(%), Male(%))",
           "type": "scatter",
           "x": [
            12.32,
            12.34,
            12.36,
            12.38,
            12.4,
            12.41,
            12.43,
            12.45,
            12.47,
            12.48,
            12.49,
            12.48,
            12.47
           ],
           "y": [
            12.5,
            12.52,
            12.54,
            12.56,
            12.58,
            12.59,
            12.59,
            12.6,
            12.6,
            12.59,
            12.59,
            12.58,
            12.56
           ]
          }
         ],
         "name": "2002"
        },
        {
         "data": [
          {
           "line": {
            "width": 5
           },
           "marker": {
            "size": [
             41.507048533637004,
             42.247305328355004,
             42.99837242127099,
             43.755529240514,
             44.497129753522,
             45.230261942216,
             45.969592620613,
             46.720652318023,
             47.478713310152,
             48.237024300765995,
             48.995617945636006,
             49.746234375214,
             50.499516955978,
             5125.0989148154
            ],
            "sizemode": "area",
            "sizeref": 2
           },
           "mode": "lines+markers",
           "name": "Asia",
           "text": "(Female(%), Male(%))",
           "type": "scatter",
           "x": [
            13.15,
            13.18,
            13.21,
            13.25,
            13.28,
            13.32,
            13.36,
            13.41,
            13.46,
            13.51,
            13.56,
            13.61,
            13.65,
            13.7
           ],
           "y": [
            12.69,
            12.7,
            12.72,
            12.75,
            12.78,
            12.8,
            12.83,
            12.86,
            12.88,
            12.91,
            12.93,
            12.96,
            12.98,
            13
           ]
          },
          {
           "line": {
            "width": 5
           },
           "marker": {
            "size": [
             11.569720858558,
             11.631189460122002,
             11.69017512627,
             11.737069200834002,
             11.777361005205998,
             11.811418568808001,
             11.842781858480999,
             11.876011734311,
             11.908208589172,
             11.937853561178,
             11.969235636410998,
             11.998050562738001,
             12.019802374393999,
             1203.6452518335
            ],
            "sizemode": "area",
            "sizeref": 2
           },
           "mode": "lines+markers",
           "name": "Europe",
           "text": "(Female(%), Male(%))",
           "type": "scatter",
           "x": [
            15.51,
            15.54,
            15.57,
            15.61,
            15.65,
            15.69,
            15.72,
            15.75,
            15.78,
            15.8,
            15.83,
            15.85,
            15.85,
            15.85
           ],
           "y": [
            13.14,
            13.16,
            13.19,
            13.22,
            13.26,
            13.29,
            13.32,
            13.35,
            13.37,
            13.39,
            13.41,
            13.42,
            13.42,
            13.41
           ]
          },
          {
           "line": {
            "width": 5
           },
           "marker": {
            "size": [
             0.07059487252018501,
             0.07229065158469299,
             0.07402553143406598,
             0.075808479220901,
             0.077650418185455,
             0.07957903219068299,
             0.081593470288486,
             0.08369878890943099,
             0.08589693480308601,
             0.08820047221923501,
             0.090623108445278,
             0.093125540499872,
             0.09567611743151401,
             9.829023328753598
            ],
            "sizemode": "area",
            "sizeref": 2
           },
           "mode": "lines+markers",
           "name": "Oceania",
           "text": "(Female(%), Male(%))",
           "type": "scatter",
           "x": [
            10.83,
            10.84,
            10.84,
            10.83,
            10.83,
            10.83,
            10.82,
            10.82,
            10.82,
            10.82,
            10.83,
            10.85,
            10.87,
            10.89
           ],
           "y": [
            11.02,
            11.02,
            11.01,
            11,
            10.99,
            10.98,
            10.96,
            10.95,
            10.94,
            10.93,
            10.94,
            10.95,
            10.96,
            10.98
           ]
          },
          {
           "line": {
            "width": 5
           },
           "marker": {
            "size": [
             10.435574998098001,
             10.591623238304997,
             10.754487838361,
             10.922767653035999,
             11.096432629956997,
             11.275918196658,
             11.485344435111001,
             11.733403218282996,
             11.99831867219,
             12.256932115892003,
             12.483046901423,
             12.685524488104999,
             12.885975826185,
             1308.2967746048
            ],
            "sizemode": "area",
            "sizeref": 2
           },
           "mode": "lines+markers",
           "name": "America",
           "text": "(Female(%), Male(%))",
           "type": "scatter",
           "x": [
            15.67,
            15.65,
            15.64,
            15.64,
            15.65,
            15.68,
            15.76,
            15.92,
            16.11,
            16.28,
            16.39,
            16.46,
            16.53,
            16.59
           ],
           "y": [
            13.42,
            13.42,
            13.42,
            13.43,
            13.44,
            13.46,
            13.51,
            13.59,
            13.67,
            13.75,
            13.8,
            13.83,
            13.85,
            13.88
           ]
          },
          {
           "line": {
            "width": 5
           },
           "marker": {
            "size": [
             7.827384698927,
             8.0479347938542,
             8.271495633983399,
             8.483905958896097,
             8.7054132338003,
             8.946702382126098,
             9.1984560560904,
             9.4593423451476,
             9.713402740962499,
             9.9673963721366,
             10.223800158564702,
             10.48313963682,
             10.742163492702,
             1100.06515247
            ],
            "sizemode": "area",
            "sizeref": 2
           },
           "mode": "lines+markers",
           "name": "Africa",
           "text": "(Female(%), Male(%))",
           "type": "scatter",
           "x": [
            12.32,
            12.34,
            12.36,
            12.38,
            12.4,
            12.41,
            12.43,
            12.45,
            12.47,
            12.48,
            12.49,
            12.48,
            12.47,
            12.45
           ],
           "y": [
            12.5,
            12.52,
            12.54,
            12.56,
            12.58,
            12.59,
            12.59,
            12.6,
            12.6,
            12.59,
            12.59,
            12.58,
            12.56,
            12.53
           ]
          }
         ],
         "name": "2003"
        },
        {
         "data": [
          {
           "line": {
            "width": 5
           },
           "marker": {
            "size": [
             41.507048533637004,
             42.247305328355004,
             42.99837242127099,
             43.755529240514,
             44.497129753522,
             45.230261942216,
             45.969592620613,
             46.720652318023,
             47.478713310152,
             48.237024300765995,
             48.995617945636006,
             49.746234375214,
             50.499516955978,
             51.250989148154005,
             5198.856988665801
            ],
            "sizemode": "area",
            "sizeref": 2
           },
           "mode": "lines+markers",
           "name": "Asia",
           "text": "(Female(%), Male(%))",
           "type": "scatter",
           "x": [
            13.15,
            13.18,
            13.21,
            13.25,
            13.28,
            13.32,
            13.36,
            13.41,
            13.46,
            13.51,
            13.56,
            13.61,
            13.65,
            13.7,
            13.73
           ],
           "y": [
            12.69,
            12.7,
            12.72,
            12.75,
            12.78,
            12.8,
            12.83,
            12.86,
            12.88,
            12.91,
            12.93,
            12.96,
            12.98,
            13,
            13.02
           ]
          },
          {
           "line": {
            "width": 5
           },
           "marker": {
            "size": [
             11.569720858558,
             11.631189460122002,
             11.69017512627,
             11.737069200834002,
             11.777361005205998,
             11.811418568808001,
             11.842781858480999,
             11.876011734311,
             11.908208589172,
             11.937853561178,
             11.969235636410998,
             11.998050562738001,
             12.019802374393999,
             12.036452518335,
             1205.1977117267002
            ],
            "sizemode": "area",
            "sizeref": 2
           },
           "mode": "lines+markers",
           "name": "Europe",
           "text": "(Female(%), Male(%))",
           "type": "scatter",
           "x": [
            15.51,
            15.54,
            15.57,
            15.61,
            15.65,
            15.69,
            15.72,
            15.75,
            15.78,
            15.8,
            15.83,
            15.85,
            15.85,
            15.85,
            15.84
           ],
           "y": [
            13.14,
            13.16,
            13.19,
            13.22,
            13.26,
            13.29,
            13.32,
            13.35,
            13.37,
            13.39,
            13.41,
            13.42,
            13.42,
            13.41,
            13.4
           ]
          },
          {
           "line": {
            "width": 5
           },
           "marker": {
            "size": [
             0.07059487252018501,
             0.07229065158469299,
             0.07402553143406598,
             0.075808479220901,
             0.077650418185455,
             0.07957903219068299,
             0.081593470288486,
             0.08369878890943099,
             0.08589693480308601,
             0.08820047221923501,
             0.090623108445278,
             0.093125540499872,
             0.09567611743151401,
             0.09829023328753599,
             10.099792717217
            ],
            "sizemode": "area",
            "sizeref": 2
           },
           "mode": "lines+markers",
           "name": "Oceania",
           "text": "(Female(%), Male(%))",
           "type": "scatter",
           "x": [
            10.83,
            10.84,
            10.84,
            10.83,
            10.83,
            10.83,
            10.82,
            10.82,
            10.82,
            10.82,
            10.83,
            10.85,
            10.87,
            10.89,
            10.91
           ],
           "y": [
            11.02,
            11.02,
            11.01,
            11,
            10.99,
            10.98,
            10.96,
            10.95,
            10.94,
            10.93,
            10.94,
            10.95,
            10.96,
            10.98,
            11
           ]
          },
          {
           "line": {
            "width": 5
           },
           "marker": {
            "size": [
             10.435574998098001,
             10.591623238304997,
             10.754487838361,
             10.922767653035999,
             11.096432629956997,
             11.275918196658,
             11.485344435111001,
             11.733403218282996,
             11.99831867219,
             12.256932115892003,
             12.483046901423,
             12.685524488104999,
             12.885975826185,
             13.082967746048,
             1327.6190222787
            ],
            "sizemode": "area",
            "sizeref": 2
           },
           "mode": "lines+markers",
           "name": "America",
           "text": "(Female(%), Male(%))",
           "type": "scatter",
           "x": [
            15.67,
            15.65,
            15.64,
            15.64,
            15.65,
            15.68,
            15.76,
            15.92,
            16.11,
            16.28,
            16.39,
            16.46,
            16.53,
            16.59,
            16.64
           ],
           "y": [
            13.42,
            13.42,
            13.42,
            13.43,
            13.44,
            13.46,
            13.51,
            13.59,
            13.67,
            13.75,
            13.8,
            13.83,
            13.85,
            13.88,
            13.9
           ]
          },
          {
           "line": {
            "width": 5
           },
           "marker": {
            "size": [
             7.827384698927,
             8.0479347938542,
             8.271495633983399,
             8.483905958896097,
             8.7054132338003,
             8.946702382126098,
             9.1984560560904,
             9.4593423451476,
             9.713402740962499,
             9.9673963721366,
             10.223800158564702,
             10.48313963682,
             10.742163492702,
             11.000651524699999,
             1126.2418522780001
            ],
            "sizemode": "area",
            "sizeref": 2
           },
           "mode": "lines+markers",
           "name": "Africa",
           "text": "(Female(%), Male(%))",
           "type": "scatter",
           "x": [
            12.32,
            12.34,
            12.36,
            12.38,
            12.4,
            12.41,
            12.43,
            12.45,
            12.47,
            12.48,
            12.49,
            12.48,
            12.47,
            12.45,
            12.43
           ],
           "y": [
            12.5,
            12.52,
            12.54,
            12.56,
            12.58,
            12.59,
            12.59,
            12.6,
            12.6,
            12.59,
            12.59,
            12.58,
            12.56,
            12.53,
            12.51
           ]
          }
         ],
         "name": "2004"
        },
        {
         "data": [
          {
           "line": {
            "width": 5
           },
           "marker": {
            "size": [
             41.507048533637004,
             42.247305328355004,
             42.99837242127099,
             43.755529240514,
             44.497129753522,
             45.230261942216,
             45.969592620613,
             46.720652318023,
             47.478713310152,
             48.237024300765995,
             48.995617945636006,
             49.746234375214,
             50.499516955978,
             51.250989148154005,
             51.988569886658006,
             5272.6336062742
            ],
            "sizemode": "area",
            "sizeref": 2
           },
           "mode": "lines+markers",
           "name": "Asia",
           "text": "(Female(%), Male(%))",
           "type": "scatter",
           "x": [
            13.15,
            13.18,
            13.21,
            13.25,
            13.28,
            13.32,
            13.36,
            13.41,
            13.46,
            13.51,
            13.56,
            13.61,
            13.65,
            13.7,
            13.73,
            13.77
           ],
           "y": [
            12.69,
            12.7,
            12.72,
            12.75,
            12.78,
            12.8,
            12.83,
            12.86,
            12.88,
            12.91,
            12.93,
            12.96,
            12.98,
            13,
            13.02,
            13.03
           ]
          },
          {
           "line": {
            "width": 5
           },
           "marker": {
            "size": [
             11.569720858558,
             11.631189460122002,
             11.69017512627,
             11.737069200834002,
             11.777361005205998,
             11.811418568808001,
             11.842781858480999,
             11.876011734311,
             11.908208589172,
             11.937853561178,
             11.969235636410998,
             11.998050562738001,
             12.019802374393999,
             12.036452518335,
             12.051977117267002,
             1206.9455889980998
            ],
            "sizemode": "area",
            "sizeref": 2
           },
           "mode": "lines+markers",
           "name": "Europe",
           "text": "(Female(%), Male(%))",
           "type": "scatter",
           "x": [
            15.51,
            15.54,
            15.57,
            15.61,
            15.65,
            15.69,
            15.72,
            15.75,
            15.78,
            15.8,
            15.83,
            15.85,
            15.85,
            15.85,
            15.84,
            15.84
           ],
           "y": [
            13.14,
            13.16,
            13.19,
            13.22,
            13.26,
            13.29,
            13.32,
            13.35,
            13.37,
            13.39,
            13.41,
            13.42,
            13.42,
            13.41,
            13.4,
            13.39
           ]
          },
          {
           "line": {
            "width": 5
           },
           "marker": {
            "size": [
             0.07059487252018501,
             0.07229065158469299,
             0.07402553143406598,
             0.075808479220901,
             0.077650418185455,
             0.07957903219068299,
             0.081593470288486,
             0.08369878890943099,
             0.08589693480308601,
             0.08820047221923501,
             0.090623108445278,
             0.093125540499872,
             0.09567611743151401,
             0.09829023328753599,
             0.10099792717217,
             10.378657234629003
            ],
            "sizemode": "area",
            "sizeref": 2
           },
           "mode": "lines+markers",
           "name": "Oceania",
           "text": "(Female(%), Male(%))",
           "type": "scatter",
           "x": [
            10.83,
            10.84,
            10.84,
            10.83,
            10.83,
            10.83,
            10.82,
            10.82,
            10.82,
            10.82,
            10.83,
            10.85,
            10.87,
            10.89,
            10.91,
            10.94
           ],
           "y": [
            11.02,
            11.02,
            11.01,
            11,
            10.99,
            10.98,
            10.96,
            10.95,
            10.94,
            10.93,
            10.94,
            10.95,
            10.96,
            10.98,
            11,
            11.02
           ]
          },
          {
           "line": {
            "width": 5
           },
           "marker": {
            "size": [
             10.435574998098001,
             10.591623238304997,
             10.754487838361,
             10.922767653035999,
             11.096432629956997,
             11.275918196658,
             11.485344435111001,
             11.733403218282996,
             11.99831867219,
             12.256932115892003,
             12.483046901423,
             12.685524488104999,
             12.885975826185,
             13.082967746048,
             13.276190222787,
             1346.1832295846
            ],
            "sizemode": "area",
            "sizeref": 2
           },
           "mode": "lines+markers",
           "name": "America",
           "text": "(Female(%), Male(%))",
           "type": "scatter",
           "x": [
            15.67,
            15.65,
            15.64,
            15.64,
            15.65,
            15.68,
            15.76,
            15.92,
            16.11,
            16.28,
            16.39,
            16.46,
            16.53,
            16.59,
            16.64,
            16.67
           ],
           "y": [
            13.42,
            13.42,
            13.42,
            13.43,
            13.44,
            13.46,
            13.51,
            13.59,
            13.67,
            13.75,
            13.8,
            13.83,
            13.85,
            13.88,
            13.9,
            13.91
           ]
          },
          {
           "line": {
            "width": 5
           },
           "marker": {
            "size": [
             7.827384698927,
             8.0479347938542,
             8.271495633983399,
             8.483905958896097,
             8.7054132338003,
             8.946702382126098,
             9.1984560560904,
             9.4593423451476,
             9.713402740962499,
             9.9673963721366,
             10.223800158564702,
             10.48313963682,
             10.742163492702,
             11.000651524699999,
             11.26241852278,
             1153.326675437
            ],
            "sizemode": "area",
            "sizeref": 2
           },
           "mode": "lines+markers",
           "name": "Africa",
           "text": "(Female(%), Male(%))",
           "type": "scatter",
           "x": [
            12.32,
            12.34,
            12.36,
            12.38,
            12.4,
            12.41,
            12.43,
            12.45,
            12.47,
            12.48,
            12.49,
            12.48,
            12.47,
            12.45,
            12.43,
            12.41
           ],
           "y": [
            12.5,
            12.52,
            12.54,
            12.56,
            12.58,
            12.59,
            12.59,
            12.6,
            12.6,
            12.59,
            12.59,
            12.58,
            12.56,
            12.53,
            12.51,
            12.48
           ]
          }
         ],
         "name": "2005"
        },
        {
         "data": [
          {
           "line": {
            "width": 5
           },
           "marker": {
            "size": [
             41.507048533637004,
             42.247305328355004,
             42.99837242127099,
             43.755529240514,
             44.497129753522,
             45.230261942216,
             45.969592620613,
             46.720652318023,
             47.478713310152,
             48.237024300765995,
             48.995617945636006,
             49.746234375214,
             50.499516955978,
             51.250989148154005,
             51.988569886658006,
             52.726336062742,
             5340.1822579593
            ],
            "sizemode": "area",
            "sizeref": 2
           },
           "mode": "lines+markers",
           "name": "Asia",
           "text": "(Female(%), Male(%))",
           "type": "scatter",
           "x": [
            13.15,
            13.18,
            13.21,
            13.25,
            13.28,
            13.32,
            13.36,
            13.41,
            13.46,
            13.51,
            13.56,
            13.61,
            13.65,
            13.7,
            13.73,
            13.77,
            13.79
           ],
           "y": [
            12.69,
            12.7,
            12.72,
            12.75,
            12.78,
            12.8,
            12.83,
            12.86,
            12.88,
            12.91,
            12.93,
            12.96,
            12.98,
            13,
            13.02,
            13.03,
            13.03
           ]
          },
          {
           "line": {
            "width": 5
           },
           "marker": {
            "size": [
             11.569720858558,
             11.631189460122002,
             11.69017512627,
             11.737069200834002,
             11.777361005205998,
             11.811418568808001,
             11.842781858480999,
             11.876011734311,
             11.908208589172,
             11.937853561178,
             11.969235636410998,
             11.998050562738001,
             12.019802374393999,
             12.036452518335,
             12.051977117267002,
             12.069455889980999,
             1209.0660396644
            ],
            "sizemode": "area",
            "sizeref": 2
           },
           "mode": "lines+markers",
           "name": "Europe",
           "text": "(Female(%), Male(%))",
           "type": "scatter",
           "x": [
            15.51,
            15.54,
            15.57,
            15.61,
            15.65,
            15.69,
            15.72,
            15.75,
            15.78,
            15.8,
            15.83,
            15.85,
            15.85,
            15.85,
            15.84,
            15.84,
            15.85
           ],
           "y": [
            13.14,
            13.16,
            13.19,
            13.22,
            13.26,
            13.29,
            13.32,
            13.35,
            13.37,
            13.39,
            13.41,
            13.42,
            13.42,
            13.41,
            13.4,
            13.39,
            13.37
           ]
          },
          {
           "line": {
            "width": 5
           },
           "marker": {
            "size": [
             0.07059487252018501,
             0.07229065158469299,
             0.07402553143406598,
             0.075808479220901,
             0.077650418185455,
             0.07957903219068299,
             0.081593470288486,
             0.08369878890943099,
             0.08589693480308601,
             0.08820047221923501,
             0.090623108445278,
             0.093125540499872,
             0.09567611743151401,
             0.09829023328753599,
             0.10099792717217,
             0.10378657234629003,
             10.664998538745001
            ],
            "sizemode": "area",
            "sizeref": 2
           },
           "mode": "lines+markers",
           "name": "Oceania",
           "text": "(Female(%), Male(%))",
           "type": "scatter",
           "x": [
            10.83,
            10.84,
            10.84,
            10.83,
            10.83,
            10.83,
            10.82,
            10.82,
            10.82,
            10.82,
            10.83,
            10.85,
            10.87,
            10.89,
            10.91,
            10.94,
            10.97
           ],
           "y": [
            11.02,
            11.02,
            11.01,
            11,
            10.99,
            10.98,
            10.96,
            10.95,
            10.94,
            10.93,
            10.94,
            10.95,
            10.96,
            10.98,
            11,
            11.02,
            11.05
           ]
          },
          {
           "line": {
            "width": 5
           },
           "marker": {
            "size": [
             10.435574998098001,
             10.591623238304997,
             10.754487838361,
             10.922767653035999,
             11.096432629956997,
             11.275918196658,
             11.485344435111001,
             11.733403218282996,
             11.99831867219,
             12.256932115892003,
             12.483046901423,
             12.685524488104999,
             12.885975826185,
             13.082967746048,
             13.276190222787,
             13.461832295846,
             1362.0177279108
            ],
            "sizemode": "area",
            "sizeref": 2
           },
           "mode": "lines+markers",
           "name": "America",
           "text": "(Female(%), Male(%))",
           "type": "scatter",
           "x": [
            15.67,
            15.65,
            15.64,
            15.64,
            15.65,
            15.68,
            15.76,
            15.92,
            16.11,
            16.28,
            16.39,
            16.46,
            16.53,
            16.59,
            16.64,
            16.67,
            16.67
           ],
           "y": [
            13.42,
            13.42,
            13.42,
            13.43,
            13.44,
            13.46,
            13.51,
            13.59,
            13.67,
            13.75,
            13.8,
            13.83,
            13.85,
            13.88,
            13.9,
            13.91,
            13.9
           ]
          },
          {
           "line": {
            "width": 5
           },
           "marker": {
            "size": [
             7.827384698927,
             8.0479347938542,
             8.271495633983399,
             8.483905958896097,
             8.7054132338003,
             8.946702382126098,
             9.1984560560904,
             9.4593423451476,
             9.713402740962499,
             9.9673963721366,
             10.223800158564702,
             10.48313963682,
             10.742163492702,
             11.000651524699999,
             11.26241852278,
             11.533266754369999,
             1181.1296375948
            ],
            "sizemode": "area",
            "sizeref": 2
           },
           "mode": "lines+markers",
           "name": "Africa",
           "text": "(Female(%), Male(%))",
           "type": "scatter",
           "x": [
            12.32,
            12.34,
            12.36,
            12.38,
            12.4,
            12.41,
            12.43,
            12.45,
            12.47,
            12.48,
            12.49,
            12.48,
            12.47,
            12.45,
            12.43,
            12.41,
            12.39
           ],
           "y": [
            12.5,
            12.52,
            12.54,
            12.56,
            12.58,
            12.59,
            12.59,
            12.6,
            12.6,
            12.59,
            12.59,
            12.58,
            12.56,
            12.53,
            12.51,
            12.48,
            12.45
           ]
          }
         ],
         "name": "2006"
        },
        {
         "data": [
          {
           "line": {
            "width": 5
           },
           "marker": {
            "size": [
             41.507048533637004,
             42.247305328355004,
             42.99837242127099,
             43.755529240514,
             44.497129753522,
             45.230261942216,
             45.969592620613,
             46.720652318023,
             47.478713310152,
             48.237024300765995,
             48.995617945636006,
             49.746234375214,
             50.499516955978,
             51.250989148154005,
             51.988569886658006,
             52.726336062742,
             53.401822579592995,
             5401.2022863642005
            ],
            "sizemode": "area",
            "sizeref": 2
           },
           "mode": "lines+markers",
           "name": "Asia",
           "text": "(Female(%), Male(%))",
           "type": "scatter",
           "x": [
            13.15,
            13.18,
            13.21,
            13.25,
            13.28,
            13.32,
            13.36,
            13.41,
            13.46,
            13.51,
            13.56,
            13.61,
            13.65,
            13.7,
            13.73,
            13.77,
            13.79,
            13.78
           ],
           "y": [
            12.69,
            12.7,
            12.72,
            12.75,
            12.78,
            12.8,
            12.83,
            12.86,
            12.88,
            12.91,
            12.93,
            12.96,
            12.98,
            13,
            13.02,
            13.03,
            13.03,
            13.02
           ]
          },
          {
           "line": {
            "width": 5
           },
           "marker": {
            "size": [
             11.569720858558,
             11.631189460122002,
             11.69017512627,
             11.737069200834002,
             11.777361005205998,
             11.811418568808001,
             11.842781858480999,
             11.876011734311,
             11.908208589172,
             11.937853561178,
             11.969235636410998,
             11.998050562738001,
             12.019802374393999,
             12.036452518335,
             12.051977117267002,
             12.069455889980999,
             12.090660396644001,
             1211.4958552561
            ],
            "sizemode": "area",
            "sizeref": 2
           },
           "mode": "lines+markers",
           "name": "Europe",
           "text": "(Female(%), Male(%))",
           "type": "scatter",
           "x": [
            15.51,
            15.54,
            15.57,
            15.61,
            15.65,
            15.69,
            15.72,
            15.75,
            15.78,
            15.8,
            15.83,
            15.85,
            15.85,
            15.85,
            15.84,
            15.84,
            15.85,
            15.87
           ],
           "y": [
            13.14,
            13.16,
            13.19,
            13.22,
            13.26,
            13.29,
            13.32,
            13.35,
            13.37,
            13.39,
            13.41,
            13.42,
            13.42,
            13.41,
            13.4,
            13.39,
            13.37,
            13.34
           ]
          },
          {
           "line": {
            "width": 5
           },
           "marker": {
            "size": [
             0.07059487252018501,
             0.07229065158469299,
             0.07402553143406598,
             0.075808479220901,
             0.077650418185455,
             0.07957903219068299,
             0.081593470288486,
             0.08369878890943099,
             0.08589693480308601,
             0.08820047221923501,
             0.090623108445278,
             0.093125540499872,
             0.09567611743151401,
             0.09829023328753599,
             0.10099792717217,
             0.10378657234629003,
             0.10664998538745002,
             10.955386664782997
            ],
            "sizemode": "area",
            "sizeref": 2
           },
           "mode": "lines+markers",
           "name": "Oceania",
           "text": "(Female(%), Male(%))",
           "type": "scatter",
           "x": [
            10.83,
            10.84,
            10.84,
            10.83,
            10.83,
            10.83,
            10.82,
            10.82,
            10.82,
            10.82,
            10.83,
            10.85,
            10.87,
            10.89,
            10.91,
            10.94,
            10.97,
            10.99
           ],
           "y": [
            11.02,
            11.02,
            11.01,
            11,
            10.99,
            10.98,
            10.96,
            10.95,
            10.94,
            10.93,
            10.94,
            10.95,
            10.96,
            10.98,
            11,
            11.02,
            11.05,
            11.07
           ]
          },
          {
           "line": {
            "width": 5
           },
           "marker": {
            "size": [
             10.435574998098001,
             10.591623238304997,
             10.754487838361,
             10.922767653035999,
             11.096432629956997,
             11.275918196658,
             11.485344435111001,
             11.733403218282996,
             11.99831867219,
             12.256932115892003,
             12.483046901423,
             12.685524488104999,
             12.885975826185,
             13.082967746048,
             13.276190222787,
             13.461832295846,
             13.620177279108,
             1374.3075485068
            ],
            "sizemode": "area",
            "sizeref": 2
           },
           "mode": "lines+markers",
           "name": "America",
           "text": "(Female(%), Male(%))",
           "type": "scatter",
           "x": [
            15.67,
            15.65,
            15.64,
            15.64,
            15.65,
            15.68,
            15.76,
            15.92,
            16.11,
            16.28,
            16.39,
            16.46,
            16.53,
            16.59,
            16.64,
            16.67,
            16.67,
            16.6
           ],
           "y": [
            13.42,
            13.42,
            13.42,
            13.43,
            13.44,
            13.46,
            13.51,
            13.59,
            13.67,
            13.75,
            13.8,
            13.83,
            13.85,
            13.88,
            13.9,
            13.91,
            13.9,
            13.87
           ]
          },
          {
           "line": {
            "width": 5
           },
           "marker": {
            "size": [
             7.827384698927,
             8.0479347938542,
             8.271495633983399,
             8.483905958896097,
             8.7054132338003,
             8.946702382126098,
             9.1984560560904,
             9.4593423451476,
             9.713402740962499,
             9.9673963721366,
             10.223800158564702,
             10.48313963682,
             10.742163492702,
             11.000651524699999,
             11.26241852278,
             11.533266754369999,
             11.811296375948,
             1209.453301357
            ],
            "sizemode": "area",
            "sizeref": 2
           },
           "mode": "lines+markers",
           "name": "Africa",
           "text": "(Female(%), Male(%))",
           "type": "scatter",
           "x": [
            12.32,
            12.34,
            12.36,
            12.38,
            12.4,
            12.41,
            12.43,
            12.45,
            12.47,
            12.48,
            12.49,
            12.48,
            12.47,
            12.45,
            12.43,
            12.41,
            12.39,
            12.37
           ],
           "y": [
            12.5,
            12.52,
            12.54,
            12.56,
            12.58,
            12.59,
            12.59,
            12.6,
            12.6,
            12.59,
            12.59,
            12.58,
            12.56,
            12.53,
            12.51,
            12.48,
            12.45,
            12.42
           ]
          }
         ],
         "name": "2007"
        },
        {
         "data": [
          {
           "line": {
            "width": 5
           },
           "marker": {
            "size": [
             41.507048533637004,
             42.247305328355004,
             42.99837242127099,
             43.755529240514,
             44.497129753522,
             45.230261942216,
             45.969592620613,
             46.720652318023,
             47.478713310152,
             48.237024300765995,
             48.995617945636006,
             49.746234375214,
             50.499516955978,
             51.250989148154005,
             51.988569886658006,
             52.726336062742,
             53.401822579592995,
             54.012022863642,
             5460.789265178299
            ],
            "sizemode": "area",
            "sizeref": 2
           },
           "mode": "lines+markers",
           "name": "Asia",
           "text": "(Female(%), Male(%))",
           "type": "scatter",
           "x": [
            13.15,
            13.18,
            13.21,
            13.25,
            13.28,
            13.32,
            13.36,
            13.41,
            13.46,
            13.51,
            13.56,
            13.61,
            13.65,
            13.7,
            13.73,
            13.77,
            13.79,
            13.78,
            13.76
           ],
           "y": [
            12.69,
            12.7,
            12.72,
            12.75,
            12.78,
            12.8,
            12.83,
            12.86,
            12.88,
            12.91,
            12.93,
            12.96,
            12.98,
            13,
            13.02,
            13.03,
            13.03,
            13.02,
            13
           ]
          },
          {
           "line": {
            "width": 5
           },
           "marker": {
            "size": [
             11.569720858558,
             11.631189460122002,
             11.69017512627,
             11.737069200834002,
             11.777361005205998,
             11.811418568808001,
             11.842781858480999,
             11.876011734311,
             11.908208589172,
             11.937853561178,
             11.969235636410998,
             11.998050562738001,
             12.019802374393999,
             12.036452518335,
             12.051977117267002,
             12.069455889980999,
             12.090660396644001,
             12.114958552561,
             1213.8204154105
            ],
            "sizemode": "area",
            "sizeref": 2
           },
           "mode": "lines+markers",
           "name": "Europe",
           "text": "(Female(%), Male(%))",
           "type": "scatter",
           "x": [
            15.51,
            15.54,
            15.57,
            15.61,
            15.65,
            15.69,
            15.72,
            15.75,
            15.78,
            15.8,
            15.83,
            15.85,
            15.85,
            15.85,
            15.84,
            15.84,
            15.85,
            15.87,
            15.88
           ],
           "y": [
            13.14,
            13.16,
            13.19,
            13.22,
            13.26,
            13.29,
            13.32,
            13.35,
            13.37,
            13.39,
            13.41,
            13.42,
            13.42,
            13.41,
            13.4,
            13.39,
            13.37,
            13.34,
            13.31
           ]
          },
          {
           "line": {
            "width": 5
           },
           "marker": {
            "size": [
             0.07059487252018501,
             0.07229065158469299,
             0.07402553143406598,
             0.075808479220901,
             0.077650418185455,
             0.07957903219068299,
             0.081593470288486,
             0.08369878890943099,
             0.08589693480308601,
             0.08820047221923501,
             0.090623108445278,
             0.093125540499872,
             0.09567611743151401,
             0.09829023328753599,
             0.10099792717217,
             0.10378657234629003,
             0.10664998538745002,
             0.10955386664782997,
             11.248195849502
            ],
            "sizemode": "area",
            "sizeref": 2
           },
           "mode": "lines+markers",
           "name": "Oceania",
           "text": "(Female(%), Male(%))",
           "type": "scatter",
           "x": [
            10.83,
            10.84,
            10.84,
            10.83,
            10.83,
            10.83,
            10.82,
            10.82,
            10.82,
            10.82,
            10.83,
            10.85,
            10.87,
            10.89,
            10.91,
            10.94,
            10.97,
            10.99,
            11
           ],
           "y": [
            11.02,
            11.02,
            11.01,
            11,
            10.99,
            10.98,
            10.96,
            10.95,
            10.94,
            10.93,
            10.94,
            10.95,
            10.96,
            10.98,
            11,
            11.02,
            11.05,
            11.07,
            11.1
           ]
          },
          {
           "line": {
            "width": 5
           },
           "marker": {
            "size": [
             10.435574998098001,
             10.591623238304997,
             10.754487838361,
             10.922767653035999,
             11.096432629956997,
             11.275918196658,
             11.485344435111001,
             11.733403218282996,
             11.99831867219,
             12.256932115892003,
             12.483046901423,
             12.685524488104999,
             12.885975826185,
             13.082967746048,
             13.276190222787,
             13.461832295846,
             13.620177279108,
             13.743075485068,
             1384.9273317374998
            ],
            "sizemode": "area",
            "sizeref": 2
           },
           "mode": "lines+markers",
           "name": "America",
           "text": "(Female(%), Male(%))",
           "type": "scatter",
           "x": [
            15.67,
            15.65,
            15.64,
            15.64,
            15.65,
            15.68,
            15.76,
            15.92,
            16.11,
            16.28,
            16.39,
            16.46,
            16.53,
            16.59,
            16.64,
            16.67,
            16.67,
            16.6,
            16.52
           ],
           "y": [
            13.42,
            13.42,
            13.42,
            13.43,
            13.44,
            13.46,
            13.51,
            13.59,
            13.67,
            13.75,
            13.8,
            13.83,
            13.85,
            13.88,
            13.9,
            13.91,
            13.9,
            13.87,
            13.83
           ]
          },
          {
           "line": {
            "width": 5
           },
           "marker": {
            "size": [
             7.827384698927,
             8.0479347938542,
             8.271495633983399,
             8.483905958896097,
             8.7054132338003,
             8.946702382126098,
             9.1984560560904,
             9.4593423451476,
             9.713402740962499,
             9.9673963721366,
             10.223800158564702,
             10.48313963682,
             10.742163492702,
             11.000651524699999,
             11.26241852278,
             11.533266754369999,
             11.811296375948,
             12.094533013570002,
             1238.5127875768
            ],
            "sizemode": "area",
            "sizeref": 2
           },
           "mode": "lines+markers",
           "name": "Africa",
           "text": "(Female(%), Male(%))",
           "type": "scatter",
           "x": [
            12.32,
            12.34,
            12.36,
            12.38,
            12.4,
            12.41,
            12.43,
            12.45,
            12.47,
            12.48,
            12.49,
            12.48,
            12.47,
            12.45,
            12.43,
            12.41,
            12.39,
            12.37,
            12.35
           ],
           "y": [
            12.5,
            12.52,
            12.54,
            12.56,
            12.58,
            12.59,
            12.59,
            12.6,
            12.6,
            12.59,
            12.59,
            12.58,
            12.56,
            12.53,
            12.51,
            12.48,
            12.45,
            12.42,
            12.39
           ]
          }
         ],
         "name": "2008"
        },
        {
         "data": [
          {
           "line": {
            "width": 5
           },
           "marker": {
            "size": [
             41.507048533637004,
             42.247305328355004,
             42.99837242127099,
             43.755529240514,
             44.497129753522,
             45.230261942216,
             45.969592620613,
             46.720652318023,
             47.478713310152,
             48.237024300765995,
             48.995617945636006,
             49.746234375214,
             50.499516955978,
             51.250989148154005,
             51.988569886658006,
             52.726336062742,
             53.401822579592995,
             54.012022863642,
             54.60789265178299,
             5522.6972241962
            ],
            "sizemode": "area",
            "sizeref": 2
           },
           "mode": "lines+markers",
           "name": "Asia",
           "text": "(Female(%), Male(%))",
           "type": "scatter",
           "x": [
            13.15,
            13.18,
            13.21,
            13.25,
            13.28,
            13.32,
            13.36,
            13.41,
            13.46,
            13.51,
            13.56,
            13.61,
            13.65,
            13.7,
            13.73,
            13.77,
            13.79,
            13.78,
            13.76,
            13.75
           ],
           "y": [
            12.69,
            12.7,
            12.72,
            12.75,
            12.78,
            12.8,
            12.83,
            12.86,
            12.88,
            12.91,
            12.93,
            12.96,
            12.98,
            13,
            13.02,
            13.03,
            13.03,
            13.02,
            13,
            12.99
           ]
          },
          {
           "line": {
            "width": 5
           },
           "marker": {
            "size": [
             11.569720858558,
             11.631189460122002,
             11.69017512627,
             11.737069200834002,
             11.777361005205998,
             11.811418568808001,
             11.842781858480999,
             11.876011734311,
             11.908208589172,
             11.937853561178,
             11.969235636410998,
             11.998050562738001,
             12.019802374393999,
             12.036452518335,
             12.051977117267002,
             12.069455889980999,
             12.090660396644001,
             12.114958552561,
             12.138204154104999,
             1215.9560423934001
            ],
            "sizemode": "area",
            "sizeref": 2
           },
           "mode": "lines+markers",
           "name": "Europe",
           "text": "(Female(%), Male(%))",
           "type": "scatter",
           "x": [
            15.51,
            15.54,
            15.57,
            15.61,
            15.65,
            15.69,
            15.72,
            15.75,
            15.78,
            15.8,
            15.83,
            15.85,
            15.85,
            15.85,
            15.84,
            15.84,
            15.85,
            15.87,
            15.88,
            15.88
           ],
           "y": [
            13.14,
            13.16,
            13.19,
            13.22,
            13.26,
            13.29,
            13.32,
            13.35,
            13.37,
            13.39,
            13.41,
            13.42,
            13.42,
            13.41,
            13.4,
            13.39,
            13.37,
            13.34,
            13.31,
            13.28
           ]
          },
          {
           "line": {
            "width": 5
           },
           "marker": {
            "size": [
             0.07059487252018501,
             0.07229065158469299,
             0.07402553143406598,
             0.075808479220901,
             0.077650418185455,
             0.07957903219068299,
             0.081593470288486,
             0.08369878890943099,
             0.08589693480308601,
             0.08820047221923501,
             0.090623108445278,
             0.093125540499872,
             0.09567611743151401,
             0.09829023328753599,
             0.10099792717217,
             0.10378657234629003,
             0.10664998538745002,
             0.10955386664782997,
             0.11248195849502,
             11.538501416971002
            ],
            "sizemode": "area",
            "sizeref": 2
           },
           "mode": "lines+markers",
           "name": "Oceania",
           "text": "(Female(%), Male(%))",
           "type": "scatter",
           "x": [
            10.83,
            10.84,
            10.84,
            10.83,
            10.83,
            10.83,
            10.82,
            10.82,
            10.82,
            10.82,
            10.83,
            10.85,
            10.87,
            10.89,
            10.91,
            10.94,
            10.97,
            10.99,
            11,
            11.01
           ],
           "y": [
            11.02,
            11.02,
            11.01,
            11,
            10.99,
            10.98,
            10.96,
            10.95,
            10.94,
            10.93,
            10.94,
            10.95,
            10.96,
            10.98,
            11,
            11.02,
            11.05,
            11.07,
            11.1,
            11.11
           ]
          },
          {
           "line": {
            "width": 5
           },
           "marker": {
            "size": [
             10.435574998098001,
             10.591623238304997,
             10.754487838361,
             10.922767653035999,
             11.096432629956997,
             11.275918196658,
             11.485344435111001,
             11.733403218282996,
             11.99831867219,
             12.256932115892003,
             12.483046901423,
             12.685524488104999,
             12.885975826185,
             13.082967746048,
             13.276190222787,
             13.461832295846,
             13.620177279108,
             13.743075485068,
             13.849273317374998,
             1395.8507316024002
            ],
            "sizemode": "area",
            "sizeref": 2
           },
           "mode": "lines+markers",
           "name": "America",
           "text": "(Female(%), Male(%))",
           "type": "scatter",
           "x": [
            15.67,
            15.65,
            15.64,
            15.64,
            15.65,
            15.68,
            15.76,
            15.92,
            16.11,
            16.28,
            16.39,
            16.46,
            16.53,
            16.59,
            16.64,
            16.67,
            16.67,
            16.6,
            16.52,
            16.44
           ],
           "y": [
            13.42,
            13.42,
            13.42,
            13.43,
            13.44,
            13.46,
            13.51,
            13.59,
            13.67,
            13.75,
            13.8,
            13.83,
            13.85,
            13.88,
            13.9,
            13.91,
            13.9,
            13.87,
            13.83,
            13.79
           ]
          },
          {
           "line": {
            "width": 5
           },
           "marker": {
            "size": [
             7.827384698927,
             8.0479347938542,
             8.271495633983399,
             8.483905958896097,
             8.7054132338003,
             8.946702382126098,
             9.1984560560904,
             9.4593423451476,
             9.713402740962499,
             9.9673963721366,
             10.223800158564702,
             10.48313963682,
             10.742163492702,
             11.000651524699999,
             11.26241852278,
             11.533266754369999,
             11.811296375948,
             12.094533013570002,
             12.385127875768,
             1268.5061003911
            ],
            "sizemode": "area",
            "sizeref": 2
           },
           "mode": "lines+markers",
           "name": "Africa",
           "text": "(Female(%), Male(%))",
           "type": "scatter",
           "x": [
            12.32,
            12.34,
            12.36,
            12.38,
            12.4,
            12.41,
            12.43,
            12.45,
            12.47,
            12.48,
            12.49,
            12.48,
            12.47,
            12.45,
            12.43,
            12.41,
            12.39,
            12.37,
            12.35,
            12.33
           ],
           "y": [
            12.5,
            12.52,
            12.54,
            12.56,
            12.58,
            12.59,
            12.59,
            12.6,
            12.6,
            12.59,
            12.59,
            12.58,
            12.56,
            12.53,
            12.51,
            12.48,
            12.45,
            12.42,
            12.39,
            12.36
           ]
          }
         ],
         "name": "2009"
        },
        {
         "data": [
          {
           "line": {
            "width": 5
           },
           "marker": {
            "size": [
             41.507048533637004,
             42.247305328355004,
             42.99837242127099,
             43.755529240514,
             44.497129753522,
             45.230261942216,
             45.969592620613,
             46.720652318023,
             47.478713310152,
             48.237024300765995,
             48.995617945636006,
             49.746234375214,
             50.499516955978,
             51.250989148154005,
             51.988569886658006,
             52.726336062742,
             53.401822579592995,
             54.012022863642,
             54.60789265178299,
             55.226972241962,
             5588.314758750901
            ],
            "sizemode": "area",
            "sizeref": 2
           },
           "mode": "lines+markers",
           "name": "Asia",
           "text": "(Female(%), Male(%))",
           "type": "scatter",
           "x": [
            13.15,
            13.18,
            13.21,
            13.25,
            13.28,
            13.32,
            13.36,
            13.41,
            13.46,
            13.51,
            13.56,
            13.61,
            13.65,
            13.7,
            13.73,
            13.77,
            13.79,
            13.78,
            13.76,
            13.75,
            13.76
           ],
           "y": [
            12.69,
            12.7,
            12.72,
            12.75,
            12.78,
            12.8,
            12.83,
            12.86,
            12.88,
            12.91,
            12.93,
            12.96,
            12.98,
            13,
            13.02,
            13.03,
            13.03,
            13.02,
            13,
            12.99,
            12.99
           ]
          },
          {
           "line": {
            "width": 5
           },
           "marker": {
            "size": [
             11.569720858558,
             11.631189460122002,
             11.69017512627,
             11.737069200834002,
             11.777361005205998,
             11.811418568808001,
             11.842781858480999,
             11.876011734311,
             11.908208589172,
             11.937853561178,
             11.969235636410998,
             11.998050562738001,
             12.019802374393999,
             12.036452518335,
             12.051977117267002,
             12.069455889980999,
             12.090660396644001,
             12.114958552561,
             12.138204154104999,
             12.159560423934002,
             1217.8399440065002
            ],
            "sizemode": "area",
            "sizeref": 2
           },
           "mode": "lines+markers",
           "name": "Europe",
           "text": "(Female(%), Male(%))",
           "type": "scatter",
           "x": [
            15.51,
            15.54,
            15.57,
            15.61,
            15.65,
            15.69,
            15.72,
            15.75,
            15.78,
            15.8,
            15.83,
            15.85,
            15.85,
            15.85,
            15.84,
            15.84,
            15.85,
            15.87,
            15.88,
            15.88,
            15.88
           ],
           "y": [
            13.14,
            13.16,
            13.19,
            13.22,
            13.26,
            13.29,
            13.32,
            13.35,
            13.37,
            13.39,
            13.41,
            13.42,
            13.42,
            13.41,
            13.4,
            13.39,
            13.37,
            13.34,
            13.31,
            13.28,
            13.25
           ]
          },
          {
           "line": {
            "width": 5
           },
           "marker": {
            "size": [
             0.07059487252018501,
             0.07229065158469299,
             0.07402553143406598,
             0.075808479220901,
             0.077650418185455,
             0.07957903219068299,
             0.081593470288486,
             0.08369878890943099,
             0.08589693480308601,
             0.08820047221923501,
             0.090623108445278,
             0.093125540499872,
             0.09567611743151401,
             0.09829023328753599,
             0.10099792717217,
             0.10378657234629003,
             0.10664998538745002,
             0.10955386664782997,
             0.11248195849502,
             0.11538501416971002,
             11.828115080485999
            ],
            "sizemode": "area",
            "sizeref": 2
           },
           "mode": "lines+markers",
           "name": "Oceania",
           "text": "(Female(%), Male(%))",
           "type": "scatter",
           "x": [
            10.83,
            10.84,
            10.84,
            10.83,
            10.83,
            10.83,
            10.82,
            10.82,
            10.82,
            10.82,
            10.83,
            10.85,
            10.87,
            10.89,
            10.91,
            10.94,
            10.97,
            10.99,
            11,
            11.01,
            11.02
           ],
           "y": [
            11.02,
            11.02,
            11.01,
            11,
            10.99,
            10.98,
            10.96,
            10.95,
            10.94,
            10.93,
            10.94,
            10.95,
            10.96,
            10.98,
            11,
            11.02,
            11.05,
            11.07,
            11.1,
            11.11,
            11.11
           ]
          },
          {
           "line": {
            "width": 5
           },
           "marker": {
            "size": [
             10.435574998098001,
             10.591623238304997,
             10.754487838361,
             10.922767653035999,
             11.096432629956997,
             11.275918196658,
             11.485344435111001,
             11.733403218282996,
             11.99831867219,
             12.256932115892003,
             12.483046901423,
             12.685524488104999,
             12.885975826185,
             13.082967746048,
             13.276190222787,
             13.461832295846,
             13.620177279108,
             13.743075485068,
             13.849273317374998,
             13.958507316024003,
             1408.8389256693
            ],
            "sizemode": "area",
            "sizeref": 2
           },
           "mode": "lines+markers",
           "name": "America",
           "text": "(Female(%), Male(%))",
           "type": "scatter",
           "x": [
            15.67,
            15.65,
            15.64,
            15.64,
            15.65,
            15.68,
            15.76,
            15.92,
            16.11,
            16.28,
            16.39,
            16.46,
            16.53,
            16.59,
            16.64,
            16.67,
            16.67,
            16.6,
            16.52,
            16.44,
            16.4
           ],
           "y": [
            13.42,
            13.42,
            13.42,
            13.43,
            13.44,
            13.46,
            13.51,
            13.59,
            13.67,
            13.75,
            13.8,
            13.83,
            13.85,
            13.88,
            13.9,
            13.91,
            13.9,
            13.87,
            13.83,
            13.79,
            13.77
           ]
          },
          {
           "line": {
            "width": 5
           },
           "marker": {
            "size": [
             7.827384698927,
             8.0479347938542,
             8.271495633983399,
             8.483905958896097,
             8.7054132338003,
             8.946702382126098,
             9.1984560560904,
             9.4593423451476,
             9.713402740962499,
             9.9673963721366,
             10.223800158564702,
             10.48313963682,
             10.742163492702,
             11.000651524699999,
             11.26241852278,
             11.533266754369999,
             11.811296375948,
             12.094533013570002,
             12.385127875768,
             12.685061003911,
             1299.3203832138
            ],
            "sizemode": "area",
            "sizeref": 2
           },
           "mode": "lines+markers",
           "name": "Africa",
           "text": "(Female(%), Male(%))",
           "type": "scatter",
           "x": [
            12.32,
            12.34,
            12.36,
            12.38,
            12.4,
            12.41,
            12.43,
            12.45,
            12.47,
            12.48,
            12.49,
            12.48,
            12.47,
            12.45,
            12.43,
            12.41,
            12.39,
            12.37,
            12.35,
            12.33,
            12.31
           ],
           "y": [
            12.5,
            12.52,
            12.54,
            12.56,
            12.58,
            12.59,
            12.59,
            12.6,
            12.6,
            12.59,
            12.59,
            12.58,
            12.56,
            12.53,
            12.51,
            12.48,
            12.45,
            12.42,
            12.39,
            12.36,
            12.34
           ]
          }
         ],
         "name": "2010"
        },
        {
         "data": [
          {
           "line": {
            "width": 5
           },
           "marker": {
            "size": [
             41.507048533637004,
             42.247305328355004,
             42.99837242127099,
             43.755529240514,
             44.497129753522,
             45.230261942216,
             45.969592620613,
             46.720652318023,
             47.478713310152,
             48.237024300765995,
             48.995617945636006,
             49.746234375214,
             50.499516955978,
             51.250989148154005,
             51.988569886658006,
             52.726336062742,
             53.401822579592995,
             54.012022863642,
             54.60789265178299,
             55.226972241962,
             55.883147587509015,
             5658.5590778611
            ],
            "sizemode": "area",
            "sizeref": 2
           },
           "mode": "lines+markers",
           "name": "Asia",
           "text": "(Female(%), Male(%))",
           "type": "scatter",
           "x": [
            13.15,
            13.18,
            13.21,
            13.25,
            13.28,
            13.32,
            13.36,
            13.41,
            13.46,
            13.51,
            13.56,
            13.61,
            13.65,
            13.7,
            13.73,
            13.77,
            13.79,
            13.78,
            13.76,
            13.75,
            13.76,
            13.79
           ],
           "y": [
            12.69,
            12.7,
            12.72,
            12.75,
            12.78,
            12.8,
            12.83,
            12.86,
            12.88,
            12.91,
            12.93,
            12.96,
            12.98,
            13,
            13.02,
            13.03,
            13.03,
            13.02,
            13,
            12.99,
            12.99,
            12.99
           ]
          },
          {
           "line": {
            "width": 5
           },
           "marker": {
            "size": [
             11.569720858558,
             11.631189460122002,
             11.69017512627,
             11.737069200834002,
             11.777361005205998,
             11.811418568808001,
             11.842781858480999,
             11.876011734311,
             11.908208589172,
             11.937853561178,
             11.969235636410998,
             11.998050562738001,
             12.019802374393999,
             12.036452518335,
             12.051977117267002,
             12.069455889980999,
             12.090660396644001,
             12.114958552561,
             12.138204154104999,
             12.159560423934002,
             12.178399440065002,
             1219.3352833323997
            ],
            "sizemode": "area",
            "sizeref": 2
           },
           "mode": "lines+markers",
           "name": "Europe",
           "text": "(Female(%), Male(%))",
           "type": "scatter",
           "x": [
            15.51,
            15.54,
            15.57,
            15.61,
            15.65,
            15.69,
            15.72,
            15.75,
            15.78,
            15.8,
            15.83,
            15.85,
            15.85,
            15.85,
            15.84,
            15.84,
            15.85,
            15.87,
            15.88,
            15.88,
            15.88,
            15.87
           ],
           "y": [
            13.14,
            13.16,
            13.19,
            13.22,
            13.26,
            13.29,
            13.32,
            13.35,
            13.37,
            13.39,
            13.41,
            13.42,
            13.42,
            13.41,
            13.4,
            13.39,
            13.37,
            13.34,
            13.31,
            13.28,
            13.25,
            13.23
           ]
          },
          {
           "line": {
            "width": 5
           },
           "marker": {
            "size": [
             0.07059487252018501,
             0.07229065158469299,
             0.07402553143406598,
             0.075808479220901,
             0.077650418185455,
             0.07957903219068299,
             0.081593470288486,
             0.08369878890943099,
             0.08589693480308601,
             0.08820047221923501,
             0.090623108445278,
             0.093125540499872,
             0.09567611743151401,
             0.09829023328753599,
             0.10099792717217,
             0.10378657234629003,
             0.10664998538745002,
             0.10955386664782997,
             0.11248195849502,
             0.11538501416971002,
             0.11828115080485999,
             12.115084743011998
            ],
            "sizemode": "area",
            "sizeref": 2
           },
           "mode": "lines+markers",
           "name": "Oceania",
           "text": "(Female(%), Male(%))",
           "type": "scatter",
           "x": [
            10.83,
            10.84,
            10.84,
            10.83,
            10.83,
            10.83,
            10.82,
            10.82,
            10.82,
            10.82,
            10.83,
            10.85,
            10.87,
            10.89,
            10.91,
            10.94,
            10.97,
            10.99,
            11,
            11.01,
            11.02,
            11.02
           ],
           "y": [
            11.02,
            11.02,
            11.01,
            11,
            10.99,
            10.98,
            10.96,
            10.95,
            10.94,
            10.93,
            10.94,
            10.95,
            10.96,
            10.98,
            11,
            11.02,
            11.05,
            11.07,
            11.1,
            11.11,
            11.11,
            11.11
           ]
          },
          {
           "line": {
            "width": 5
           },
           "marker": {
            "size": [
             10.435574998098001,
             10.591623238304997,
             10.754487838361,
             10.922767653035999,
             11.096432629956997,
             11.275918196658,
             11.485344435111001,
             11.733403218282996,
             11.99831867219,
             12.256932115892003,
             12.483046901423,
             12.685524488104999,
             12.885975826185,
             13.082967746048,
             13.276190222787,
             13.461832295846,
             13.620177279108,
             13.743075485068,
             13.849273317374998,
             13.958507316024003,
             14.088389256693,
             1423.4866221311
            ],
            "sizemode": "area",
            "sizeref": 2
           },
           "mode": "lines+markers",
           "name": "America",
           "text": "(Female(%), Male(%))",
           "type": "scatter",
           "x": [
            15.67,
            15.65,
            15.64,
            15.64,
            15.65,
            15.68,
            15.76,
            15.92,
            16.11,
            16.28,
            16.39,
            16.46,
            16.53,
            16.59,
            16.64,
            16.67,
            16.67,
            16.6,
            16.52,
            16.44,
            16.4,
            16.39
           ],
           "y": [
            13.42,
            13.42,
            13.42,
            13.43,
            13.44,
            13.46,
            13.51,
            13.59,
            13.67,
            13.75,
            13.8,
            13.83,
            13.85,
            13.88,
            13.9,
            13.91,
            13.9,
            13.87,
            13.83,
            13.79,
            13.77,
            13.76
           ]
          },
          {
           "line": {
            "width": 5
           },
           "marker": {
            "size": [
             7.827384698927,
             8.0479347938542,
             8.271495633983399,
             8.483905958896097,
             8.7054132338003,
             8.946702382126098,
             9.1984560560904,
             9.4593423451476,
             9.713402740962499,
             9.9673963721366,
             10.223800158564702,
             10.48313963682,
             10.742163492702,
             11.000651524699999,
             11.26241852278,
             11.533266754369999,
             11.811296375948,
             12.094533013570002,
             12.385127875768,
             12.685061003911,
             12.993203832137999,
             1331.3013372022
            ],
            "sizemode": "area",
            "sizeref": 2
           },
           "mode": "lines+markers",
           "name": "Africa",
           "text": "(Female(%), Male(%))",
           "type": "scatter",
           "x": [
            12.32,
            12.34,
            12.36,
            12.38,
            12.4,
            12.41,
            12.43,
            12.45,
            12.47,
            12.48,
            12.49,
            12.48,
            12.47,
            12.45,
            12.43,
            12.41,
            12.39,
            12.37,
            12.35,
            12.33,
            12.31,
            12.3
           ],
           "y": [
            12.5,
            12.52,
            12.54,
            12.56,
            12.58,
            12.59,
            12.59,
            12.6,
            12.6,
            12.59,
            12.59,
            12.58,
            12.56,
            12.53,
            12.51,
            12.48,
            12.45,
            12.42,
            12.39,
            12.36,
            12.34,
            12.32
           ]
          }
         ],
         "name": "2011"
        },
        {
         "data": [
          {
           "line": {
            "width": 5
           },
           "marker": {
            "size": [
             41.507048533637004,
             42.247305328355004,
             42.99837242127099,
             43.755529240514,
             44.497129753522,
             45.230261942216,
             45.969592620613,
             46.720652318023,
             47.478713310152,
             48.237024300765995,
             48.995617945636006,
             49.746234375214,
             50.499516955978,
             51.250989148154005,
             51.988569886658006,
             52.726336062742,
             53.401822579592995,
             54.012022863642,
             54.60789265178299,
             55.226972241962,
             55.883147587509015,
             56.58559077861101,
             5727.874937964601
            ],
            "sizemode": "area",
            "sizeref": 2
           },
           "mode": "lines+markers",
           "name": "Asia",
           "text": "(Female(%), Male(%))",
           "type": "scatter",
           "x": [
            13.15,
            13.18,
            13.21,
            13.25,
            13.28,
            13.32,
            13.36,
            13.41,
            13.46,
            13.51,
            13.56,
            13.61,
            13.65,
            13.7,
            13.73,
            13.77,
            13.79,
            13.78,
            13.76,
            13.75,
            13.76,
            13.79,
            13.81
           ],
           "y": [
            12.69,
            12.7,
            12.72,
            12.75,
            12.78,
            12.8,
            12.83,
            12.86,
            12.88,
            12.91,
            12.93,
            12.96,
            12.98,
            13,
            13.02,
            13.03,
            13.03,
            13.02,
            13,
            12.99,
            12.99,
            12.99,
            13
           ]
          },
          {
           "line": {
            "width": 5
           },
           "marker": {
            "size": [
             11.569720858558,
             11.631189460122002,
             11.69017512627,
             11.737069200834002,
             11.777361005205998,
             11.811418568808001,
             11.842781858480999,
             11.876011734311,
             11.908208589172,
             11.937853561178,
             11.969235636410998,
             11.998050562738001,
             12.019802374393999,
             12.036452518335,
             12.051977117267002,
             12.069455889980999,
             12.090660396644001,
             12.114958552561,
             12.138204154104999,
             12.159560423934002,
             12.178399440065002,
             12.193352833323997,
             1221.0290326186
            ],
            "sizemode": "area",
            "sizeref": 2
           },
           "mode": "lines+markers",
           "name": "Europe",
           "text": "(Female(%), Male(%))",
           "type": "scatter",
           "x": [
            15.51,
            15.54,
            15.57,
            15.61,
            15.65,
            15.69,
            15.72,
            15.75,
            15.78,
            15.8,
            15.83,
            15.85,
            15.85,
            15.85,
            15.84,
            15.84,
            15.85,
            15.87,
            15.88,
            15.88,
            15.88,
            15.87,
            15.86
           ],
           "y": [
            13.14,
            13.16,
            13.19,
            13.22,
            13.26,
            13.29,
            13.32,
            13.35,
            13.37,
            13.39,
            13.41,
            13.42,
            13.42,
            13.41,
            13.4,
            13.39,
            13.37,
            13.34,
            13.31,
            13.28,
            13.25,
            13.23,
            13.21
           ]
          },
          {
           "line": {
            "width": 5
           },
           "marker": {
            "size": [
             0.07059487252018501,
             0.07229065158469299,
             0.07402553143406598,
             0.075808479220901,
             0.077650418185455,
             0.07957903219068299,
             0.081593470288486,
             0.08369878890943099,
             0.08589693480308601,
             0.08820047221923501,
             0.090623108445278,
             0.093125540499872,
             0.09567611743151401,
             0.09829023328753599,
             0.10099792717217,
             0.10378657234629003,
             0.10664998538745002,
             0.10955386664782997,
             0.11248195849502,
             0.11538501416971002,
             0.11828115080485999,
             0.12115084743011999,
             12.399141619404
            ],
            "sizemode": "area",
            "sizeref": 2
           },
           "mode": "lines+markers",
           "name": "Oceania",
           "text": "(Female(%), Male(%))",
           "type": "scatter",
           "x": [
            10.83,
            10.84,
            10.84,
            10.83,
            10.83,
            10.83,
            10.82,
            10.82,
            10.82,
            10.82,
            10.83,
            10.85,
            10.87,
            10.89,
            10.91,
            10.94,
            10.97,
            10.99,
            11,
            11.01,
            11.02,
            11.02,
            11.02
           ],
           "y": [
            11.02,
            11.02,
            11.01,
            11,
            10.99,
            10.98,
            10.96,
            10.95,
            10.94,
            10.93,
            10.94,
            10.95,
            10.96,
            10.98,
            11,
            11.02,
            11.05,
            11.07,
            11.1,
            11.11,
            11.11,
            11.11,
            11.1
           ]
          },
          {
           "line": {
            "width": 5
           },
           "marker": {
            "size": [
             10.435574998098001,
             10.591623238304997,
             10.754487838361,
             10.922767653035999,
             11.096432629956997,
             11.275918196658,
             11.485344435111001,
             11.733403218282996,
             11.99831867219,
             12.256932115892003,
             12.483046901423,
             12.685524488104999,
             12.885975826185,
             13.082967746048,
             13.276190222787,
             13.461832295846,
             13.620177279108,
             13.743075485068,
             13.849273317374998,
             13.958507316024003,
             14.088389256693,
             14.234866221311,
             1437.8484816067005
            ],
            "sizemode": "area",
            "sizeref": 2
           },
           "mode": "lines+markers",
           "name": "America",
           "text": "(Female(%), Male(%))",
           "type": "scatter",
           "x": [
            15.67,
            15.65,
            15.64,
            15.64,
            15.65,
            15.68,
            15.76,
            15.92,
            16.11,
            16.28,
            16.39,
            16.46,
            16.53,
            16.59,
            16.64,
            16.67,
            16.67,
            16.6,
            16.52,
            16.44,
            16.4,
            16.39,
            16.38
           ],
           "y": [
            13.42,
            13.42,
            13.42,
            13.43,
            13.44,
            13.46,
            13.51,
            13.59,
            13.67,
            13.75,
            13.8,
            13.83,
            13.85,
            13.88,
            13.9,
            13.91,
            13.9,
            13.87,
            13.83,
            13.79,
            13.77,
            13.76,
            13.75
           ]
          },
          {
           "line": {
            "width": 5
           },
           "marker": {
            "size": [
             7.827384698927,
             8.0479347938542,
             8.271495633983399,
             8.483905958896097,
             8.7054132338003,
             8.946702382126098,
             9.1984560560904,
             9.4593423451476,
             9.713402740962499,
             9.9673963721366,
             10.223800158564702,
             10.48313963682,
             10.742163492702,
             11.000651524699999,
             11.26241852278,
             11.533266754369999,
             11.811296375948,
             12.094533013570002,
             12.385127875768,
             12.685061003911,
             12.993203832137999,
             13.313013372022,
             1364.5373051673998
            ],
            "sizemode": "area",
            "sizeref": 2
           },
           "mode": "lines+markers",
           "name": "Africa",
           "text": "(Female(%), Male(%))",
           "type": "scatter",
           "x": [
            12.32,
            12.34,
            12.36,
            12.38,
            12.4,
            12.41,
            12.43,
            12.45,
            12.47,
            12.48,
            12.49,
            12.48,
            12.47,
            12.45,
            12.43,
            12.41,
            12.39,
            12.37,
            12.35,
            12.33,
            12.31,
            12.3,
            12.29
           ],
           "y": [
            12.5,
            12.52,
            12.54,
            12.56,
            12.58,
            12.59,
            12.59,
            12.6,
            12.6,
            12.59,
            12.59,
            12.58,
            12.56,
            12.53,
            12.51,
            12.48,
            12.45,
            12.42,
            12.39,
            12.36,
            12.34,
            12.32,
            12.31
           ]
          }
         ],
         "name": "2012"
        },
        {
         "data": [
          {
           "line": {
            "width": 5
           },
           "marker": {
            "size": [
             41.507048533637004,
             42.247305328355004,
             42.99837242127099,
             43.755529240514,
             44.497129753522,
             45.230261942216,
             45.969592620613,
             46.720652318023,
             47.478713310152,
             48.237024300765995,
             48.995617945636006,
             49.746234375214,
             50.499516955978,
             51.250989148154005,
             51.988569886658006,
             52.726336062742,
             53.401822579592995,
             54.012022863642,
             54.60789265178299,
             55.226972241962,
             55.883147587509015,
             56.58559077861101,
             57.278749379646,
             5797.327907222501
            ],
            "sizemode": "area",
            "sizeref": 2
           },
           "mode": "lines+markers",
           "name": "Asia",
           "text": "(Female(%), Male(%))",
           "type": "scatter",
           "x": [
            13.15,
            13.18,
            13.21,
            13.25,
            13.28,
            13.32,
            13.36,
            13.41,
            13.46,
            13.51,
            13.56,
            13.61,
            13.65,
            13.7,
            13.73,
            13.77,
            13.79,
            13.78,
            13.76,
            13.75,
            13.76,
            13.79,
            13.81,
            13.83
           ],
           "y": [
            12.69,
            12.7,
            12.72,
            12.75,
            12.78,
            12.8,
            12.83,
            12.86,
            12.88,
            12.91,
            12.93,
            12.96,
            12.98,
            13,
            13.02,
            13.03,
            13.03,
            13.02,
            13,
            12.99,
            12.99,
            12.99,
            13,
            13
           ]
          },
          {
           "line": {
            "width": 5
           },
           "marker": {
            "size": [
             11.569720858558,
             11.631189460122002,
             11.69017512627,
             11.737069200834002,
             11.777361005205998,
             11.811418568808001,
             11.842781858480999,
             11.876011734311,
             11.908208589172,
             11.937853561178,
             11.969235636410998,
             11.998050562738001,
             12.019802374393999,
             12.036452518335,
             12.051977117267002,
             12.069455889980999,
             12.090660396644001,
             12.114958552561,
             12.138204154104999,
             12.159560423934002,
             12.178399440065002,
             12.193352833323997,
             12.210290326186,
             1222.764678159
            ],
            "sizemode": "area",
            "sizeref": 2
           },
           "mode": "lines+markers",
           "name": "Europe",
           "text": "(Female(%), Male(%))",
           "type": "scatter",
           "x": [
            15.51,
            15.54,
            15.57,
            15.61,
            15.65,
            15.69,
            15.72,
            15.75,
            15.78,
            15.8,
            15.83,
            15.85,
            15.85,
            15.85,
            15.84,
            15.84,
            15.85,
            15.87,
            15.88,
            15.88,
            15.88,
            15.87,
            15.86,
            15.85
           ],
           "y": [
            13.14,
            13.16,
            13.19,
            13.22,
            13.26,
            13.29,
            13.32,
            13.35,
            13.37,
            13.39,
            13.41,
            13.42,
            13.42,
            13.41,
            13.4,
            13.39,
            13.37,
            13.34,
            13.31,
            13.28,
            13.25,
            13.23,
            13.21,
            13.19
           ]
          },
          {
           "line": {
            "width": 5
           },
           "marker": {
            "size": [
             0.07059487252018501,
             0.07229065158469299,
             0.07402553143406598,
             0.075808479220901,
             0.077650418185455,
             0.07957903219068299,
             0.081593470288486,
             0.08369878890943099,
             0.08589693480308601,
             0.08820047221923501,
             0.090623108445278,
             0.093125540499872,
             0.09567611743151401,
             0.09829023328753599,
             0.10099792717217,
             0.10378657234629003,
             0.10664998538745002,
             0.10955386664782997,
             0.11248195849502,
             0.11538501416971002,
             0.11828115080485999,
             0.12115084743011999,
             0.12399141619404,
             12.680780583176
            ],
            "sizemode": "area",
            "sizeref": 2
           },
           "mode": "lines+markers",
           "name": "Oceania",
           "text": "(Female(%), Male(%))",
           "type": "scatter",
           "x": [
            10.83,
            10.84,
            10.84,
            10.83,
            10.83,
            10.83,
            10.82,
            10.82,
            10.82,
            10.82,
            10.83,
            10.85,
            10.87,
            10.89,
            10.91,
            10.94,
            10.97,
            10.99,
            11,
            11.01,
            11.02,
            11.02,
            11.02,
            11.01
           ],
           "y": [
            11.02,
            11.02,
            11.01,
            11,
            10.99,
            10.98,
            10.96,
            10.95,
            10.94,
            10.93,
            10.94,
            10.95,
            10.96,
            10.98,
            11,
            11.02,
            11.05,
            11.07,
            11.1,
            11.11,
            11.11,
            11.11,
            11.1,
            11.08
           ]
          },
          {
           "line": {
            "width": 5
           },
           "marker": {
            "size": [
             10.435574998098001,
             10.591623238304997,
             10.754487838361,
             10.922767653035999,
             11.096432629956997,
             11.275918196658,
             11.485344435111001,
             11.733403218282996,
             11.99831867219,
             12.256932115892003,
             12.483046901423,
             12.685524488104999,
             12.885975826185,
             13.082967746048,
             13.276190222787,
             13.461832295846,
             13.620177279108,
             13.743075485068,
             13.849273317374998,
             13.958507316024003,
             14.088389256693,
             14.234866221311,
             14.378484816067004,
             1451.9769148542998
            ],
            "sizemode": "area",
            "sizeref": 2
           },
           "mode": "lines+markers",
           "name": "America",
           "text": "(Female(%), Male(%))",
           "type": "scatter",
           "x": [
            15.67,
            15.65,
            15.64,
            15.64,
            15.65,
            15.68,
            15.76,
            15.92,
            16.11,
            16.28,
            16.39,
            16.46,
            16.53,
            16.59,
            16.64,
            16.67,
            16.67,
            16.6,
            16.52,
            16.44,
            16.4,
            16.39,
            16.38,
            16.36
           ],
           "y": [
            13.42,
            13.42,
            13.42,
            13.43,
            13.44,
            13.46,
            13.51,
            13.59,
            13.67,
            13.75,
            13.8,
            13.83,
            13.85,
            13.88,
            13.9,
            13.91,
            13.9,
            13.87,
            13.83,
            13.79,
            13.77,
            13.76,
            13.75,
            13.73
           ]
          },
          {
           "line": {
            "width": 5
           },
           "marker": {
            "size": [
             7.827384698927,
             8.0479347938542,
             8.271495633983399,
             8.483905958896097,
             8.7054132338003,
             8.946702382126098,
             9.1984560560904,
             9.4593423451476,
             9.713402740962499,
             9.9673963721366,
             10.223800158564702,
             10.48313963682,
             10.742163492702,
             11.000651524699999,
             11.26241852278,
             11.533266754369999,
             11.811296375948,
             12.094533013570002,
             12.385127875768,
             12.685061003911,
             12.993203832137999,
             13.313013372022,
             13.645373051674,
             1398.5957778107002
            ],
            "sizemode": "area",
            "sizeref": 2
           },
           "mode": "lines+markers",
           "name": "Africa",
           "text": "(Female(%), Male(%))",
           "type": "scatter",
           "x": [
            12.32,
            12.34,
            12.36,
            12.38,
            12.4,
            12.41,
            12.43,
            12.45,
            12.47,
            12.48,
            12.49,
            12.48,
            12.47,
            12.45,
            12.43,
            12.41,
            12.39,
            12.37,
            12.35,
            12.33,
            12.31,
            12.3,
            12.29,
            12.28
           ],
           "y": [
            12.5,
            12.52,
            12.54,
            12.56,
            12.58,
            12.59,
            12.59,
            12.6,
            12.6,
            12.59,
            12.59,
            12.58,
            12.56,
            12.53,
            12.51,
            12.48,
            12.45,
            12.42,
            12.39,
            12.36,
            12.34,
            12.32,
            12.31,
            12.3
           ]
          }
         ],
         "name": "2013"
        },
        {
         "data": [
          {
           "line": {
            "width": 5
           },
           "marker": {
            "size": [
             41.507048533637004,
             42.247305328355004,
             42.99837242127099,
             43.755529240514,
             44.497129753522,
             45.230261942216,
             45.969592620613,
             46.720652318023,
             47.478713310152,
             48.237024300765995,
             48.995617945636006,
             49.746234375214,
             50.499516955978,
             51.250989148154005,
             51.988569886658006,
             52.726336062742,
             53.401822579592995,
             54.012022863642,
             54.60789265178299,
             55.226972241962,
             55.883147587509015,
             56.58559077861101,
             57.278749379646,
             57.97327907222501,
             5864.3200612560995
            ],
            "sizemode": "area",
            "sizeref": 2
           },
           "mode": "lines+markers",
           "name": "Asia",
           "text": "(Female(%), Male(%))",
           "type": "scatter",
           "x": [
            13.15,
            13.18,
            13.21,
            13.25,
            13.28,
            13.32,
            13.36,
            13.41,
            13.46,
            13.51,
            13.56,
            13.61,
            13.65,
            13.7,
            13.73,
            13.77,
            13.79,
            13.78,
            13.76,
            13.75,
            13.76,
            13.79,
            13.81,
            13.83,
            13.85
           ],
           "y": [
            12.69,
            12.7,
            12.72,
            12.75,
            12.78,
            12.8,
            12.83,
            12.86,
            12.88,
            12.91,
            12.93,
            12.96,
            12.98,
            13,
            13.02,
            13.03,
            13.03,
            13.02,
            13,
            12.99,
            12.99,
            12.99,
            13,
            13,
            13
           ]
          },
          {
           "line": {
            "width": 5
           },
           "marker": {
            "size": [
             11.569720858558,
             11.631189460122002,
             11.69017512627,
             11.737069200834002,
             11.777361005205998,
             11.811418568808001,
             11.842781858480999,
             11.876011734311,
             11.908208589172,
             11.937853561178,
             11.969235636410998,
             11.998050562738001,
             12.019802374393999,
             12.036452518335,
             12.051977117267002,
             12.069455889980999,
             12.090660396644001,
             12.114958552561,
             12.138204154104999,
             12.159560423934002,
             12.178399440065002,
             12.193352833323997,
             12.210290326186,
             12.227646781589998,
             1224.4954830549998
            ],
            "sizemode": "area",
            "sizeref": 2
           },
           "mode": "lines+markers",
           "name": "Europe",
           "text": "(Female(%), Male(%))",
           "type": "scatter",
           "x": [
            15.51,
            15.54,
            15.57,
            15.61,
            15.65,
            15.69,
            15.72,
            15.75,
            15.78,
            15.8,
            15.83,
            15.85,
            15.85,
            15.85,
            15.84,
            15.84,
            15.85,
            15.87,
            15.88,
            15.88,
            15.88,
            15.87,
            15.86,
            15.85,
            15.85
           ],
           "y": [
            13.14,
            13.16,
            13.19,
            13.22,
            13.26,
            13.29,
            13.32,
            13.35,
            13.37,
            13.39,
            13.41,
            13.42,
            13.42,
            13.41,
            13.4,
            13.39,
            13.37,
            13.34,
            13.31,
            13.28,
            13.25,
            13.23,
            13.21,
            13.19,
            13.18
           ]
          },
          {
           "line": {
            "width": 5
           },
           "marker": {
            "size": [
             0.07059487252018501,
             0.07229065158469299,
             0.07402553143406598,
             0.075808479220901,
             0.077650418185455,
             0.07957903219068299,
             0.081593470288486,
             0.08369878890943099,
             0.08589693480308601,
             0.08820047221923501,
             0.090623108445278,
             0.093125540499872,
             0.09567611743151401,
             0.09829023328753599,
             0.10099792717217,
             0.10378657234629003,
             0.10664998538745002,
             0.10955386664782997,
             0.11248195849502,
             0.11538501416971002,
             0.11828115080485999,
             0.12115084743011999,
             0.12399141619404,
             0.12680780583176002,
             12.960617236997
            ],
            "sizemode": "area",
            "sizeref": 2
           },
           "mode": "lines+markers",
           "name": "Oceania",
           "text": "(Female(%), Male(%))",
           "type": "scatter",
           "x": [
            10.83,
            10.84,
            10.84,
            10.83,
            10.83,
            10.83,
            10.82,
            10.82,
            10.82,
            10.82,
            10.83,
            10.85,
            10.87,
            10.89,
            10.91,
            10.94,
            10.97,
            10.99,
            11,
            11.01,
            11.02,
            11.02,
            11.02,
            11.01,
            10.99
           ],
           "y": [
            11.02,
            11.02,
            11.01,
            11,
            10.99,
            10.98,
            10.96,
            10.95,
            10.94,
            10.93,
            10.94,
            10.95,
            10.96,
            10.98,
            11,
            11.02,
            11.05,
            11.07,
            11.1,
            11.11,
            11.11,
            11.11,
            11.1,
            11.08,
            11.06
           ]
          },
          {
           "line": {
            "width": 5
           },
           "marker": {
            "size": [
             10.435574998098001,
             10.591623238304997,
             10.754487838361,
             10.922767653035999,
             11.096432629956997,
             11.275918196658,
             11.485344435111001,
             11.733403218282996,
             11.99831867219,
             12.256932115892003,
             12.483046901423,
             12.685524488104999,
             12.885975826185,
             13.082967746048,
             13.276190222787,
             13.461832295846,
             13.620177279108,
             13.743075485068,
             13.849273317374998,
             13.958507316024003,
             14.088389256693,
             14.234866221311,
             14.378484816067004,
             14.519769148542997,
             1465.9027098418999
            ],
            "sizemode": "area",
            "sizeref": 2
           },
           "mode": "lines+markers",
           "name": "America",
           "text": "(Female(%), Male(%))",
           "type": "scatter",
           "x": [
            15.67,
            15.65,
            15.64,
            15.64,
            15.65,
            15.68,
            15.76,
            15.92,
            16.11,
            16.28,
            16.39,
            16.46,
            16.53,
            16.59,
            16.64,
            16.67,
            16.67,
            16.6,
            16.52,
            16.44,
            16.4,
            16.39,
            16.38,
            16.36,
            16.34
           ],
           "y": [
            13.42,
            13.42,
            13.42,
            13.43,
            13.44,
            13.46,
            13.51,
            13.59,
            13.67,
            13.75,
            13.8,
            13.83,
            13.85,
            13.88,
            13.9,
            13.91,
            13.9,
            13.87,
            13.83,
            13.79,
            13.77,
            13.76,
            13.75,
            13.73,
            13.72
           ]
          },
          {
           "line": {
            "width": 5
           },
           "marker": {
            "size": [
             7.827384698927,
             8.0479347938542,
             8.271495633983399,
             8.483905958896097,
             8.7054132338003,
             8.946702382126098,
             9.1984560560904,
             9.4593423451476,
             9.713402740962499,
             9.9673963721366,
             10.223800158564702,
             10.48313963682,
             10.742163492702,
             11.000651524699999,
             11.26241852278,
             11.533266754369999,
             11.811296375948,
             12.094533013570002,
             12.385127875768,
             12.685061003911,
             12.993203832137999,
             13.313013372022,
             13.645373051674,
             13.985957778107002,
             1433.2932309438002
            ],
            "sizemode": "area",
            "sizeref": 2
           },
           "mode": "lines+markers",
           "name": "Africa",
           "text": "(Female(%), Male(%))",
           "type": "scatter",
           "x": [
            12.32,
            12.34,
            12.36,
            12.38,
            12.4,
            12.41,
            12.43,
            12.45,
            12.47,
            12.48,
            12.49,
            12.48,
            12.47,
            12.45,
            12.43,
            12.41,
            12.39,
            12.37,
            12.35,
            12.33,
            12.31,
            12.3,
            12.29,
            12.28,
            12.27
           ],
           "y": [
            12.5,
            12.52,
            12.54,
            12.56,
            12.58,
            12.59,
            12.59,
            12.6,
            12.6,
            12.59,
            12.59,
            12.58,
            12.56,
            12.53,
            12.51,
            12.48,
            12.45,
            12.42,
            12.39,
            12.36,
            12.34,
            12.32,
            12.31,
            12.3,
            12.29
           ]
          }
         ],
         "name": "2014"
        },
        {
         "data": [
          {
           "line": {
            "width": 5
           },
           "marker": {
            "size": [
             41.507048533637004,
             42.247305328355004,
             42.99837242127099,
             43.755529240514,
             44.497129753522,
             45.230261942216,
             45.969592620613,
             46.720652318023,
             47.478713310152,
             48.237024300765995,
             48.995617945636006,
             49.746234375214,
             50.499516955978,
             51.250989148154005,
             51.988569886658006,
             52.726336062742,
             53.401822579592995,
             54.012022863642,
             54.60789265178299,
             55.226972241962,
             55.883147587509015,
             56.58559077861101,
             57.278749379646,
             57.97327907222501,
             58.643200612560996,
             5927.7430201086
            ],
            "sizemode": "area",
            "sizeref": 2
           },
           "mode": "lines+markers",
           "name": "Asia",
           "text": "(Female(%), Male(%))",
           "type": "scatter",
           "x": [
            13.15,
            13.18,
            13.21,
            13.25,
            13.28,
            13.32,
            13.36,
            13.41,
            13.46,
            13.51,
            13.56,
            13.61,
            13.65,
            13.7,
            13.73,
            13.77,
            13.79,
            13.78,
            13.76,
            13.75,
            13.76,
            13.79,
            13.81,
            13.83,
            13.85,
            13.88
           ],
           "y": [
            12.69,
            12.7,
            12.72,
            12.75,
            12.78,
            12.8,
            12.83,
            12.86,
            12.88,
            12.91,
            12.93,
            12.96,
            12.98,
            13,
            13.02,
            13.03,
            13.03,
            13.02,
            13,
            12.99,
            12.99,
            12.99,
            13,
            13,
            13,
            13
           ]
          },
          {
           "line": {
            "width": 5
           },
           "marker": {
            "size": [
             11.569720858558,
             11.631189460122002,
             11.69017512627,
             11.737069200834002,
             11.777361005205998,
             11.811418568808001,
             11.842781858480999,
             11.876011734311,
             11.908208589172,
             11.937853561178,
             11.969235636410998,
             11.998050562738001,
             12.019802374393999,
             12.036452518335,
             12.051977117267002,
             12.069455889980999,
             12.090660396644001,
             12.114958552561,
             12.138204154104999,
             12.159560423934002,
             12.178399440065002,
             12.193352833323997,
             12.210290326186,
             12.227646781589998,
             12.244954830549998,
             1226.342750833
            ],
            "sizemode": "area",
            "sizeref": 2
           },
           "mode": "lines+markers",
           "name": "Europe",
           "text": "(Female(%), Male(%))",
           "type": "scatter",
           "x": [
            15.51,
            15.54,
            15.57,
            15.61,
            15.65,
            15.69,
            15.72,
            15.75,
            15.78,
            15.8,
            15.83,
            15.85,
            15.85,
            15.85,
            15.84,
            15.84,
            15.85,
            15.87,
            15.88,
            15.88,
            15.88,
            15.87,
            15.86,
            15.85,
            15.85,
            15.84
           ],
           "y": [
            13.14,
            13.16,
            13.19,
            13.22,
            13.26,
            13.29,
            13.32,
            13.35,
            13.37,
            13.39,
            13.41,
            13.42,
            13.42,
            13.41,
            13.4,
            13.39,
            13.37,
            13.34,
            13.31,
            13.28,
            13.25,
            13.23,
            13.21,
            13.19,
            13.18,
            13.16
           ]
          },
          {
           "line": {
            "width": 5
           },
           "marker": {
            "size": [
             0.07059487252018501,
             0.07229065158469299,
             0.07402553143406598,
             0.075808479220901,
             0.077650418185455,
             0.07957903219068299,
             0.081593470288486,
             0.08369878890943099,
             0.08589693480308601,
             0.08820047221923501,
             0.090623108445278,
             0.093125540499872,
             0.09567611743151401,
             0.09829023328753599,
             0.10099792717217,
             0.10378657234629003,
             0.10664998538745002,
             0.10955386664782997,
             0.11248195849502,
             0.11538501416971002,
             0.11828115080485999,
             0.12115084743011999,
             0.12399141619404,
             0.12680780583176002,
             0.12960617236997002,
             13.242642204071002
            ],
            "sizemode": "area",
            "sizeref": 2
           },
           "mode": "lines+markers",
           "name": "Oceania",
           "text": "(Female(%), Male(%))",
           "type": "scatter",
           "x": [
            10.83,
            10.84,
            10.84,
            10.83,
            10.83,
            10.83,
            10.82,
            10.82,
            10.82,
            10.82,
            10.83,
            10.85,
            10.87,
            10.89,
            10.91,
            10.94,
            10.97,
            10.99,
            11,
            11.01,
            11.02,
            11.02,
            11.02,
            11.01,
            10.99,
            10.98
           ],
           "y": [
            11.02,
            11.02,
            11.01,
            11,
            10.99,
            10.98,
            10.96,
            10.95,
            10.94,
            10.93,
            10.94,
            10.95,
            10.96,
            10.98,
            11,
            11.02,
            11.05,
            11.07,
            11.1,
            11.11,
            11.11,
            11.11,
            11.1,
            11.08,
            11.06,
            11.03
           ]
          },
          {
           "line": {
            "width": 5
           },
           "marker": {
            "size": [
             10.435574998098001,
             10.591623238304997,
             10.754487838361,
             10.922767653035999,
             11.096432629956997,
             11.275918196658,
             11.485344435111001,
             11.733403218282996,
             11.99831867219,
             12.256932115892003,
             12.483046901423,
             12.685524488104999,
             12.885975826185,
             13.082967746048,
             13.276190222787,
             13.461832295846,
             13.620177279108,
             13.743075485068,
             13.849273317374998,
             13.958507316024003,
             14.088389256693,
             14.234866221311,
             14.378484816067004,
             14.519769148542997,
             14.659027098419,
             1479.4548703988999
            ],
            "sizemode": "area",
            "sizeref": 2
           },
           "mode": "lines+markers",
           "name": "America",
           "text": "(Female(%), Male(%))",
           "type": "scatter",
           "x": [
            15.67,
            15.65,
            15.64,
            15.64,
            15.65,
            15.68,
            15.76,
            15.92,
            16.11,
            16.28,
            16.39,
            16.46,
            16.53,
            16.59,
            16.64,
            16.67,
            16.67,
            16.6,
            16.52,
            16.44,
            16.4,
            16.39,
            16.38,
            16.36,
            16.34,
            16.32
           ],
           "y": [
            13.42,
            13.42,
            13.42,
            13.43,
            13.44,
            13.46,
            13.51,
            13.59,
            13.67,
            13.75,
            13.8,
            13.83,
            13.85,
            13.88,
            13.9,
            13.91,
            13.9,
            13.87,
            13.83,
            13.79,
            13.77,
            13.76,
            13.75,
            13.73,
            13.72,
            13.71
           ]
          },
          {
           "line": {
            "width": 5
           },
           "marker": {
            "size": [
             7.827384698927,
             8.0479347938542,
             8.271495633983399,
             8.483905958896097,
             8.7054132338003,
             8.946702382126098,
             9.1984560560904,
             9.4593423451476,
             9.713402740962499,
             9.9673963721366,
             10.223800158564702,
             10.48313963682,
             10.742163492702,
             11.000651524699999,
             11.26241852278,
             11.533266754369999,
             11.811296375948,
             12.094533013570002,
             12.385127875768,
             12.685061003911,
             12.993203832137999,
             13.313013372022,
             13.645373051674,
             13.985957778107002,
             14.332932309438002,
             1468.8630181285
            ],
            "sizemode": "area",
            "sizeref": 2
           },
           "mode": "lines+markers",
           "name": "Africa",
           "text": "(Female(%), Male(%))",
           "type": "scatter",
           "x": [
            12.32,
            12.34,
            12.36,
            12.38,
            12.4,
            12.41,
            12.43,
            12.45,
            12.47,
            12.48,
            12.49,
            12.48,
            12.47,
            12.45,
            12.43,
            12.41,
            12.39,
            12.37,
            12.35,
            12.33,
            12.31,
            12.3,
            12.29,
            12.28,
            12.27,
            12.26
           ],
           "y": [
            12.5,
            12.52,
            12.54,
            12.56,
            12.58,
            12.59,
            12.59,
            12.6,
            12.6,
            12.59,
            12.59,
            12.58,
            12.56,
            12.53,
            12.51,
            12.48,
            12.45,
            12.42,
            12.39,
            12.36,
            12.34,
            12.32,
            12.31,
            12.3,
            12.29,
            12.28
           ]
          }
         ],
         "name": "2015"
        },
        {
         "data": [
          {
           "line": {
            "width": 5
           },
           "marker": {
            "size": [
             41.507048533637004,
             42.247305328355004,
             42.99837242127099,
             43.755529240514,
             44.497129753522,
             45.230261942216,
             45.969592620613,
             46.720652318023,
             47.478713310152,
             48.237024300765995,
             48.995617945636006,
             49.746234375214,
             50.499516955978,
             51.250989148154005,
             51.988569886658006,
             52.726336062742,
             53.401822579592995,
             54.012022863642,
             54.60789265178299,
             55.226972241962,
             55.883147587509015,
             56.58559077861101,
             57.278749379646,
             57.97327907222501,
             58.643200612560996,
             59.277430201086,
             5990.8680633706
            ],
            "sizemode": "area",
            "sizeref": 2
           },
           "mode": "lines+markers",
           "name": "Asia",
           "text": "(Female(%), Male(%))",
           "type": "scatter",
           "x": [
            13.15,
            13.18,
            13.21,
            13.25,
            13.28,
            13.32,
            13.36,
            13.41,
            13.46,
            13.51,
            13.56,
            13.61,
            13.65,
            13.7,
            13.73,
            13.77,
            13.79,
            13.78,
            13.76,
            13.75,
            13.76,
            13.79,
            13.81,
            13.83,
            13.85,
            13.88,
            13.9
           ],
           "y": [
            12.69,
            12.7,
            12.72,
            12.75,
            12.78,
            12.8,
            12.83,
            12.86,
            12.88,
            12.91,
            12.93,
            12.96,
            12.98,
            13,
            13.02,
            13.03,
            13.03,
            13.02,
            13,
            12.99,
            12.99,
            12.99,
            13,
            13,
            13,
            13,
            13.01
           ]
          },
          {
           "line": {
            "width": 5
           },
           "marker": {
            "size": [
             11.569720858558,
             11.631189460122002,
             11.69017512627,
             11.737069200834002,
             11.777361005205998,
             11.811418568808001,
             11.842781858480999,
             11.876011734311,
             11.908208589172,
             11.937853561178,
             11.969235636410998,
             11.998050562738001,
             12.019802374393999,
             12.036452518335,
             12.051977117267002,
             12.069455889980999,
             12.090660396644001,
             12.114958552561,
             12.138204154104999,
             12.159560423934002,
             12.178399440065002,
             12.193352833323997,
             12.210290326186,
             12.227646781589998,
             12.244954830549998,
             12.26342750833,
             1229.0001443546998
            ],
            "sizemode": "area",
            "sizeref": 2
           },
           "mode": "lines+markers",
           "name": "Europe",
           "text": "(Female(%), Male(%))",
           "type": "scatter",
           "x": [
            15.51,
            15.54,
            15.57,
            15.61,
            15.65,
            15.69,
            15.72,
            15.75,
            15.78,
            15.8,
            15.83,
            15.85,
            15.85,
            15.85,
            15.84,
            15.84,
            15.85,
            15.87,
            15.88,
            15.88,
            15.88,
            15.87,
            15.86,
            15.85,
            15.85,
            15.84,
            15.84
           ],
           "y": [
            13.14,
            13.16,
            13.19,
            13.22,
            13.26,
            13.29,
            13.32,
            13.35,
            13.37,
            13.39,
            13.41,
            13.42,
            13.42,
            13.41,
            13.4,
            13.39,
            13.37,
            13.34,
            13.31,
            13.28,
            13.25,
            13.23,
            13.21,
            13.19,
            13.18,
            13.16,
            13.16
           ]
          },
          {
           "line": {
            "width": 5
           },
           "marker": {
            "size": [
             0.07059487252018501,
             0.07229065158469299,
             0.07402553143406598,
             0.075808479220901,
             0.077650418185455,
             0.07957903219068299,
             0.081593470288486,
             0.08369878890943099,
             0.08589693480308601,
             0.08820047221923501,
             0.090623108445278,
             0.093125540499872,
             0.09567611743151401,
             0.09829023328753599,
             0.10099792717217,
             0.10378657234629003,
             0.10664998538745002,
             0.10955386664782997,
             0.11248195849502,
             0.11538501416971002,
             0.11828115080485999,
             0.12115084743011999,
             0.12399141619404,
             0.12680780583176002,
             0.12960617236997002,
             0.13242642204071,
             13.525065559465
            ],
            "sizemode": "area",
            "sizeref": 2
           },
           "mode": "lines+markers",
           "name": "Oceania",
           "text": "(Female(%), Male(%))",
           "type": "scatter",
           "x": [
            10.83,
            10.84,
            10.84,
            10.83,
            10.83,
            10.83,
            10.82,
            10.82,
            10.82,
            10.82,
            10.83,
            10.85,
            10.87,
            10.89,
            10.91,
            10.94,
            10.97,
            10.99,
            11,
            11.01,
            11.02,
            11.02,
            11.02,
            11.01,
            10.99,
            10.98,
            10.96
           ],
           "y": [
            11.02,
            11.02,
            11.01,
            11,
            10.99,
            10.98,
            10.96,
            10.95,
            10.94,
            10.93,
            10.94,
            10.95,
            10.96,
            10.98,
            11,
            11.02,
            11.05,
            11.07,
            11.1,
            11.11,
            11.11,
            11.11,
            11.1,
            11.08,
            11.06,
            11.03,
            11
           ]
          },
          {
           "line": {
            "width": 5
           },
           "marker": {
            "size": [
             10.435574998098001,
             10.591623238304997,
             10.754487838361,
             10.922767653035999,
             11.096432629956997,
             11.275918196658,
             11.485344435111001,
             11.733403218282996,
             11.99831867219,
             12.256932115892003,
             12.483046901423,
             12.685524488104999,
             12.885975826185,
             13.082967746048,
             13.276190222787,
             13.461832295846,
             13.620177279108,
             13.743075485068,
             13.849273317374998,
             13.958507316024003,
             14.088389256693,
             14.234866221311,
             14.378484816067004,
             14.519769148542997,
             14.659027098419,
             14.794548703989,
             1492.7693084292998
            ],
            "sizemode": "area",
            "sizeref": 2
           },
           "mode": "lines+markers",
           "name": "America",
           "text": "(Female(%), Male(%))",
           "type": "scatter",
           "x": [
            15.67,
            15.65,
            15.64,
            15.64,
            15.65,
            15.68,
            15.76,
            15.92,
            16.11,
            16.28,
            16.39,
            16.46,
            16.53,
            16.59,
            16.64,
            16.67,
            16.67,
            16.6,
            16.52,
            16.44,
            16.4,
            16.39,
            16.38,
            16.36,
            16.34,
            16.32,
            16.3
           ],
           "y": [
            13.42,
            13.42,
            13.42,
            13.43,
            13.44,
            13.46,
            13.51,
            13.59,
            13.67,
            13.75,
            13.8,
            13.83,
            13.85,
            13.88,
            13.9,
            13.91,
            13.9,
            13.87,
            13.83,
            13.79,
            13.77,
            13.76,
            13.75,
            13.73,
            13.72,
            13.71,
            13.7
           ]
          },
          {
           "line": {
            "width": 5
           },
           "marker": {
            "size": [
             7.827384698927,
             8.0479347938542,
             8.271495633983399,
             8.483905958896097,
             8.7054132338003,
             8.946702382126098,
             9.1984560560904,
             9.4593423451476,
             9.713402740962499,
             9.9673963721366,
             10.223800158564702,
             10.48313963682,
             10.742163492702,
             11.000651524699999,
             11.26241852278,
             11.533266754369999,
             11.811296375948,
             12.094533013570002,
             12.385127875768,
             12.685061003911,
             12.993203832137999,
             13.313013372022,
             13.645373051674,
             13.985957778107002,
             14.332932309438002,
             14.688630181285,
             1505.8018250971998
            ],
            "sizemode": "area",
            "sizeref": 2
           },
           "mode": "lines+markers",
           "name": "Africa",
           "text": "(Female(%), Male(%))",
           "type": "scatter",
           "x": [
            12.32,
            12.34,
            12.36,
            12.38,
            12.4,
            12.41,
            12.43,
            12.45,
            12.47,
            12.48,
            12.49,
            12.48,
            12.47,
            12.45,
            12.43,
            12.41,
            12.39,
            12.37,
            12.35,
            12.33,
            12.31,
            12.3,
            12.29,
            12.28,
            12.27,
            12.26,
            12.26
           ],
           "y": [
            12.5,
            12.52,
            12.54,
            12.56,
            12.58,
            12.59,
            12.59,
            12.6,
            12.6,
            12.59,
            12.59,
            12.58,
            12.56,
            12.53,
            12.51,
            12.48,
            12.45,
            12.42,
            12.39,
            12.36,
            12.34,
            12.32,
            12.31,
            12.3,
            12.29,
            12.28,
            12.28
           ]
          }
         ],
         "name": "2016"
        },
        {
         "data": [
          {
           "line": {
            "width": 5
           },
           "marker": {
            "size": [
             41.507048533637004,
             42.247305328355004,
             42.99837242127099,
             43.755529240514,
             44.497129753522,
             45.230261942216,
             45.969592620613,
             46.720652318023,
             47.478713310152,
             48.237024300765995,
             48.995617945636006,
             49.746234375214,
             50.499516955978,
             51.250989148154005,
             51.988569886658006,
             52.726336062742,
             53.401822579592995,
             54.012022863642,
             54.60789265178299,
             55.226972241962,
             55.883147587509015,
             56.58559077861101,
             57.278749379646,
             57.97327907222501,
             58.643200612560996,
             59.277430201086,
             59.908680633706,
             6054.4234585053
            ],
            "sizemode": "area",
            "sizeref": 2
           },
           "mode": "lines+markers",
           "name": "Asia",
           "text": "(Female(%), Male(%))",
           "type": "scatter",
           "x": [
            13.15,
            13.18,
            13.21,
            13.25,
            13.28,
            13.32,
            13.36,
            13.41,
            13.46,
            13.51,
            13.56,
            13.61,
            13.65,
            13.7,
            13.73,
            13.77,
            13.79,
            13.78,
            13.76,
            13.75,
            13.76,
            13.79,
            13.81,
            13.83,
            13.85,
            13.88,
            13.9,
            13.92
           ],
           "y": [
            12.69,
            12.7,
            12.72,
            12.75,
            12.78,
            12.8,
            12.83,
            12.86,
            12.88,
            12.91,
            12.93,
            12.96,
            12.98,
            13,
            13.02,
            13.03,
            13.03,
            13.02,
            13,
            12.99,
            12.99,
            12.99,
            13,
            13,
            13,
            13,
            13.01,
            13
           ]
          },
          {
           "line": {
            "width": 5
           },
           "marker": {
            "size": [
             11.569720858558,
             11.631189460122002,
             11.69017512627,
             11.737069200834002,
             11.777361005205998,
             11.811418568808001,
             11.842781858480999,
             11.876011734311,
             11.908208589172,
             11.937853561178,
             11.969235636410998,
             11.998050562738001,
             12.019802374393999,
             12.036452518335,
             12.051977117267002,
             12.069455889980999,
             12.090660396644001,
             12.114958552561,
             12.138204154104999,
             12.159560423934002,
             12.178399440065002,
             12.193352833323997,
             12.210290326186,
             12.227646781589998,
             12.244954830549998,
             12.26342750833,
             12.290001443546998,
             1230.4033787783
            ],
            "sizemode": "area",
            "sizeref": 2
           },
           "mode": "lines+markers",
           "name": "Europe",
           "text": "(Female(%), Male(%))",
           "type": "scatter",
           "x": [
            15.51,
            15.54,
            15.57,
            15.61,
            15.65,
            15.69,
            15.72,
            15.75,
            15.78,
            15.8,
            15.83,
            15.85,
            15.85,
            15.85,
            15.84,
            15.84,
            15.85,
            15.87,
            15.88,
            15.88,
            15.88,
            15.87,
            15.86,
            15.85,
            15.85,
            15.84,
            15.84,
            15.85
           ],
           "y": [
            13.14,
            13.16,
            13.19,
            13.22,
            13.26,
            13.29,
            13.32,
            13.35,
            13.37,
            13.39,
            13.41,
            13.42,
            13.42,
            13.41,
            13.4,
            13.39,
            13.37,
            13.34,
            13.31,
            13.28,
            13.25,
            13.23,
            13.21,
            13.19,
            13.18,
            13.16,
            13.16,
            13.15
           ]
          },
          {
           "line": {
            "width": 5
           },
           "marker": {
            "size": [
             0.07059487252018501,
             0.07229065158469299,
             0.07402553143406598,
             0.075808479220901,
             0.077650418185455,
             0.07957903219068299,
             0.081593470288486,
             0.08369878890943099,
             0.08589693480308601,
             0.08820047221923501,
             0.090623108445278,
             0.093125540499872,
             0.09567611743151401,
             0.09829023328753599,
             0.10099792717217,
             0.10378657234629003,
             0.10664998538745002,
             0.10955386664782997,
             0.11248195849502,
             0.11538501416971002,
             0.11828115080485999,
             0.12115084743011999,
             0.12399141619404,
             0.12680780583176002,
             0.12960617236997002,
             0.13242642204071,
             0.13525065559465,
             13.807075205732998
            ],
            "sizemode": "area",
            "sizeref": 2
           },
           "mode": "lines+markers",
           "name": "Oceania",
           "text": "(Female(%), Male(%))",
           "type": "scatter",
           "x": [
            10.83,
            10.84,
            10.84,
            10.83,
            10.83,
            10.83,
            10.82,
            10.82,
            10.82,
            10.82,
            10.83,
            10.85,
            10.87,
            10.89,
            10.91,
            10.94,
            10.97,
            10.99,
            11,
            11.01,
            11.02,
            11.02,
            11.02,
            11.01,
            10.99,
            10.98,
            10.96,
            10.94
           ],
           "y": [
            11.02,
            11.02,
            11.01,
            11,
            10.99,
            10.98,
            10.96,
            10.95,
            10.94,
            10.93,
            10.94,
            10.95,
            10.96,
            10.98,
            11,
            11.02,
            11.05,
            11.07,
            11.1,
            11.11,
            11.11,
            11.11,
            11.1,
            11.08,
            11.06,
            11.03,
            11,
            10.97
           ]
          },
          {
           "line": {
            "width": 5
           },
           "marker": {
            "size": [
             10.435574998098001,
             10.591623238304997,
             10.754487838361,
             10.922767653035999,
             11.096432629956997,
             11.275918196658,
             11.485344435111001,
             11.733403218282996,
             11.99831867219,
             12.256932115892003,
             12.483046901423,
             12.685524488104999,
             12.885975826185,
             13.082967746048,
             13.276190222787,
             13.461832295846,
             13.620177279108,
             13.743075485068,
             13.849273317374998,
             13.958507316024003,
             14.088389256693,
             14.234866221311,
             14.378484816067004,
             14.519769148542997,
             14.659027098419,
             14.794548703989,
             14.927693084292999,
             1506.019308213
            ],
            "sizemode": "area",
            "sizeref": 2
           },
           "mode": "lines+markers",
           "name": "America",
           "text": "(Female(%), Male(%))",
           "type": "scatter",
           "x": [
            15.67,
            15.65,
            15.64,
            15.64,
            15.65,
            15.68,
            15.76,
            15.92,
            16.11,
            16.28,
            16.39,
            16.46,
            16.53,
            16.59,
            16.64,
            16.67,
            16.67,
            16.6,
            16.52,
            16.44,
            16.4,
            16.39,
            16.38,
            16.36,
            16.34,
            16.32,
            16.3,
            16.29
           ],
           "y": [
            13.42,
            13.42,
            13.42,
            13.43,
            13.44,
            13.46,
            13.51,
            13.59,
            13.67,
            13.75,
            13.8,
            13.83,
            13.85,
            13.88,
            13.9,
            13.91,
            13.9,
            13.87,
            13.83,
            13.79,
            13.77,
            13.76,
            13.75,
            13.73,
            13.72,
            13.71,
            13.7,
            13.7
           ]
          },
          {
           "line": {
            "width": 5
           },
           "marker": {
            "size": [
             7.827384698927,
             8.0479347938542,
             8.271495633983399,
             8.483905958896097,
             8.7054132338003,
             8.946702382126098,
             9.1984560560904,
             9.4593423451476,
             9.713402740962499,
             9.9673963721366,
             10.223800158564702,
             10.48313963682,
             10.742163492702,
             11.000651524699999,
             11.26241852278,
             11.533266754369999,
             11.811296375948,
             12.094533013570002,
             12.385127875768,
             12.685061003911,
             12.993203832137999,
             13.313013372022,
             13.645373051674,
             13.985957778107002,
             14.332932309438002,
             14.688630181285,
             15.058018250971998,
             1544.1711523511
            ],
            "sizemode": "area",
            "sizeref": 2
           },
           "mode": "lines+markers",
           "name": "Africa",
           "text": "(Female(%), Male(%))",
           "type": "scatter",
           "x": [
            12.32,
            12.34,
            12.36,
            12.38,
            12.4,
            12.41,
            12.43,
            12.45,
            12.47,
            12.48,
            12.49,
            12.48,
            12.47,
            12.45,
            12.43,
            12.41,
            12.39,
            12.37,
            12.35,
            12.33,
            12.31,
            12.3,
            12.29,
            12.28,
            12.27,
            12.26,
            12.26,
            12.26
           ],
           "y": [
            12.5,
            12.52,
            12.54,
            12.56,
            12.58,
            12.59,
            12.59,
            12.6,
            12.6,
            12.59,
            12.59,
            12.58,
            12.56,
            12.53,
            12.51,
            12.48,
            12.45,
            12.42,
            12.39,
            12.36,
            12.34,
            12.32,
            12.31,
            12.3,
            12.29,
            12.28,
            12.28,
            12.29
           ]
          }
         ],
         "name": "2017"
        }
       ],
       "layout": {
        "font": {
         "color": "#000000"
        },
        "hovermode": "closest",
        "paper_bgcolor": "rgba(0,0,0,0)",
        "plot_bgcolor": "rgba(0,0,0,0)",
        "sliders": [
         {
          "active": 0,
          "currentvalue": {
           "font": {
            "size": 15
           },
           "prefix": "Year: ",
           "visible": true,
           "xanchor": "right"
          },
          "len": 0.9,
          "pad": {
           "b": 10,
           "t": 50
          },
          "steps": [
           {
            "args": [
             [
              "1990"
             ],
             {
              "frame": {
               "duration": 300,
               "redraw": true
              },
              "mode": "immediate",
              "transition": {
               "duration": 300
              }
             }
            ],
            "label": "1990",
            "method": "animate"
           },
           {
            "args": [
             [
              "1991"
             ],
             {
              "frame": {
               "duration": 300,
               "redraw": true
              },
              "mode": "immediate",
              "transition": {
               "duration": 300
              }
             }
            ],
            "label": "1991",
            "method": "animate"
           },
           {
            "args": [
             [
              "1992"
             ],
             {
              "frame": {
               "duration": 300,
               "redraw": true
              },
              "mode": "immediate",
              "transition": {
               "duration": 300
              }
             }
            ],
            "label": "1992",
            "method": "animate"
           },
           {
            "args": [
             [
              "1993"
             ],
             {
              "frame": {
               "duration": 300,
               "redraw": true
              },
              "mode": "immediate",
              "transition": {
               "duration": 300
              }
             }
            ],
            "label": "1993",
            "method": "animate"
           },
           {
            "args": [
             [
              "1994"
             ],
             {
              "frame": {
               "duration": 300,
               "redraw": true
              },
              "mode": "immediate",
              "transition": {
               "duration": 300
              }
             }
            ],
            "label": "1994",
            "method": "animate"
           },
           {
            "args": [
             [
              "1995"
             ],
             {
              "frame": {
               "duration": 300,
               "redraw": true
              },
              "mode": "immediate",
              "transition": {
               "duration": 300
              }
             }
            ],
            "label": "1995",
            "method": "animate"
           },
           {
            "args": [
             [
              "1996"
             ],
             {
              "frame": {
               "duration": 300,
               "redraw": true
              },
              "mode": "immediate",
              "transition": {
               "duration": 300
              }
             }
            ],
            "label": "1996",
            "method": "animate"
           },
           {
            "args": [
             [
              "1997"
             ],
             {
              "frame": {
               "duration": 300,
               "redraw": true
              },
              "mode": "immediate",
              "transition": {
               "duration": 300
              }
             }
            ],
            "label": "1997",
            "method": "animate"
           },
           {
            "args": [
             [
              "1998"
             ],
             {
              "frame": {
               "duration": 300,
               "redraw": true
              },
              "mode": "immediate",
              "transition": {
               "duration": 300
              }
             }
            ],
            "label": "1998",
            "method": "animate"
           },
           {
            "args": [
             [
              "1999"
             ],
             {
              "frame": {
               "duration": 300,
               "redraw": true
              },
              "mode": "immediate",
              "transition": {
               "duration": 300
              }
             }
            ],
            "label": "1999",
            "method": "animate"
           },
           {
            "args": [
             [
              "2000"
             ],
             {
              "frame": {
               "duration": 300,
               "redraw": true
              },
              "mode": "immediate",
              "transition": {
               "duration": 300
              }
             }
            ],
            "label": "2000",
            "method": "animate"
           },
           {
            "args": [
             [
              "2001"
             ],
             {
              "frame": {
               "duration": 300,
               "redraw": true
              },
              "mode": "immediate",
              "transition": {
               "duration": 300
              }
             }
            ],
            "label": "2001",
            "method": "animate"
           },
           {
            "args": [
             [
              "2002"
             ],
             {
              "frame": {
               "duration": 300,
               "redraw": true
              },
              "mode": "immediate",
              "transition": {
               "duration": 300
              }
             }
            ],
            "label": "2002",
            "method": "animate"
           },
           {
            "args": [
             [
              "2003"
             ],
             {
              "frame": {
               "duration": 300,
               "redraw": true
              },
              "mode": "immediate",
              "transition": {
               "duration": 300
              }
             }
            ],
            "label": "2003",
            "method": "animate"
           },
           {
            "args": [
             [
              "2004"
             ],
             {
              "frame": {
               "duration": 300,
               "redraw": true
              },
              "mode": "immediate",
              "transition": {
               "duration": 300
              }
             }
            ],
            "label": "2004",
            "method": "animate"
           },
           {
            "args": [
             [
              "2005"
             ],
             {
              "frame": {
               "duration": 300,
               "redraw": true
              },
              "mode": "immediate",
              "transition": {
               "duration": 300
              }
             }
            ],
            "label": "2005",
            "method": "animate"
           },
           {
            "args": [
             [
              "2006"
             ],
             {
              "frame": {
               "duration": 300,
               "redraw": true
              },
              "mode": "immediate",
              "transition": {
               "duration": 300
              }
             }
            ],
            "label": "2006",
            "method": "animate"
           },
           {
            "args": [
             [
              "2007"
             ],
             {
              "frame": {
               "duration": 300,
               "redraw": true
              },
              "mode": "immediate",
              "transition": {
               "duration": 300
              }
             }
            ],
            "label": "2007",
            "method": "animate"
           },
           {
            "args": [
             [
              "2008"
             ],
             {
              "frame": {
               "duration": 300,
               "redraw": true
              },
              "mode": "immediate",
              "transition": {
               "duration": 300
              }
             }
            ],
            "label": "2008",
            "method": "animate"
           },
           {
            "args": [
             [
              "2009"
             ],
             {
              "frame": {
               "duration": 300,
               "redraw": true
              },
              "mode": "immediate",
              "transition": {
               "duration": 300
              }
             }
            ],
            "label": "2009",
            "method": "animate"
           },
           {
            "args": [
             [
              "2010"
             ],
             {
              "frame": {
               "duration": 300,
               "redraw": true
              },
              "mode": "immediate",
              "transition": {
               "duration": 300
              }
             }
            ],
            "label": "2010",
            "method": "animate"
           },
           {
            "args": [
             [
              "2011"
             ],
             {
              "frame": {
               "duration": 300,
               "redraw": true
              },
              "mode": "immediate",
              "transition": {
               "duration": 300
              }
             }
            ],
            "label": "2011",
            "method": "animate"
           },
           {
            "args": [
             [
              "2012"
             ],
             {
              "frame": {
               "duration": 300,
               "redraw": true
              },
              "mode": "immediate",
              "transition": {
               "duration": 300
              }
             }
            ],
            "label": "2012",
            "method": "animate"
           },
           {
            "args": [
             [
              "2013"
             ],
             {
              "frame": {
               "duration": 300,
               "redraw": true
              },
              "mode": "immediate",
              "transition": {
               "duration": 300
              }
             }
            ],
            "label": "2013",
            "method": "animate"
           },
           {
            "args": [
             [
              "2014"
             ],
             {
              "frame": {
               "duration": 300,
               "redraw": true
              },
              "mode": "immediate",
              "transition": {
               "duration": 300
              }
             }
            ],
            "label": "2014",
            "method": "animate"
           },
           {
            "args": [
             [
              "2015"
             ],
             {
              "frame": {
               "duration": 300,
               "redraw": true
              },
              "mode": "immediate",
              "transition": {
               "duration": 300
              }
             }
            ],
            "label": "2015",
            "method": "animate"
           },
           {
            "args": [
             [
              "2016"
             ],
             {
              "frame": {
               "duration": 300,
               "redraw": true
              },
              "mode": "immediate",
              "transition": {
               "duration": 300
              }
             }
            ],
            "label": "2016",
            "method": "animate"
           },
           {
            "args": [
             [
              "2017"
             ],
             {
              "frame": {
               "duration": 300,
               "redraw": true
              },
              "mode": "immediate",
              "transition": {
               "duration": 300
              }
             }
            ],
            "label": "2017",
            "method": "animate"
           }
          ],
          "transition": {
           "duration": 300,
           "easing": "cubic-in-out"
          },
          "x": 0.1,
          "xanchor": "left",
          "y": 0,
          "yanchor": "top"
         }
        ],
        "title": "Share of gender of mental illness per continent(%)",
        "updatemenus": [
         {
          "buttons": [
           {
            "args": [
             null,
             {
              "frame": {
               "duration": 500,
               "redraw": true
              },
              "fromcurrent": true,
              "transition": {
               "duration": 300,
               "easing": "quadratic-in-out"
              }
             }
            ],
            "label": "Play",
            "method": "animate"
           },
           {
            "args": [
             [
              null
             ],
             {
              "frame": {
               "duration": 0,
               "redraw": true
              },
              "mode": "immediate",
              "transition": {
               "duration": 0
              }
             }
            ],
            "label": "Pause",
            "method": "animate"
           }
          ],
          "direction": "left",
          "pad": {
           "r": 10,
           "t": 87
          },
          "showactive": false,
          "type": "buttons",
          "x": 0.1,
          "xanchor": "right",
          "y": 0,
          "yanchor": "top"
         }
        ],
        "xaxis": {
         "range": [
          10,
          18
         ],
         "title": "Share of Female(%)"
        },
        "yaxis": {
         "range": [
          10,
          15
         ],
         "title": "Share of Male(%)"
        }
       }
      },
      "text/html": [
       "<div id=\"0d620acb-ef01-452b-927a-e904f5f36ab7\" style=\"height: 525px; width: 100%;\" class=\"plotly-graph-div\"></div><script type=\"text/javascript\">require([\"plotly\"], function(Plotly) { window.PLOTLYENV=window.PLOTLYENV || {};window.PLOTLYENV.BASE_URL=\"https://plot.ly\";\n",
       "        Plotly.plot(\n",
       "            '0d620acb-ef01-452b-927a-e904f5f36ab7',\n",
       "            [{\"line\": {\"width\": 5}, \"marker\": {\"size\": [4150.704853363701], \"sizemode\": \"area\", \"sizeref\": 2}, \"mode\": \"lines+markers\", \"name\": \"Asia\", \"text\": \"(Female(%), Male(%))\", \"x\": [13.15], \"y\": [12.69], \"type\": \"scatter\", \"uid\": \"2fa83c78-b3a5-47bc-90b9-002ba3e34a3d\"}, {\"line\": {\"width\": 5}, \"marker\": {\"size\": [1156.9720858558], \"sizemode\": \"area\", \"sizeref\": 2}, \"mode\": \"lines+markers\", \"name\": \"Europe\", \"text\": \"(Female(%), Male(%))\", \"x\": [15.51], \"y\": [13.14], \"type\": \"scatter\", \"uid\": \"25ed6365-4aa6-466d-bc77-0da0bbb50523\"}, {\"line\": {\"width\": 5}, \"marker\": {\"size\": [7.059487252018501], \"sizemode\": \"area\", \"sizeref\": 2}, \"mode\": \"lines+markers\", \"name\": \"Oceania\", \"text\": \"(Female(%), Male(%))\", \"x\": [10.83], \"y\": [11.02], \"type\": \"scatter\", \"uid\": \"b4e359bd-aa07-4e0b-8c8f-6db44001fe93\"}, {\"line\": {\"width\": 5}, \"marker\": {\"size\": [1043.5574998098], \"sizemode\": \"area\", \"sizeref\": 2}, \"mode\": \"lines+markers\", \"name\": \"America\", \"text\": \"(Female(%), Male(%))\", \"x\": [15.67], \"y\": [13.42], \"type\": \"scatter\", \"uid\": \"068f8344-feb8-4d86-b2ea-4263e9905484\"}, {\"line\": {\"width\": 5}, \"marker\": {\"size\": [782.7384698927], \"sizemode\": \"area\", \"sizeref\": 2}, \"mode\": \"lines+markers\", \"name\": \"Africa\", \"text\": \"(Female(%), Male(%))\", \"x\": [12.32], \"y\": [12.5], \"type\": \"scatter\", \"uid\": \"bbd50a76-aaa3-4af1-9482-57a8cbe566f4\"}],\n",
       "            {\"font\": {\"color\": \"#000000\"}, \"hovermode\": \"closest\", \"paper_bgcolor\": \"rgba(0,0,0,0)\", \"plot_bgcolor\": \"rgba(0,0,0,0)\", \"sliders\": [{\"active\": 0, \"currentvalue\": {\"font\": {\"size\": 15}, \"prefix\": \"Year: \", \"visible\": true, \"xanchor\": \"right\"}, \"len\": 0.9, \"pad\": {\"b\": 10, \"t\": 50}, \"steps\": [{\"args\": [[\"1990\"], {\"frame\": {\"duration\": 300, \"redraw\": true}, \"mode\": \"immediate\", \"transition\": {\"duration\": 300}}], \"label\": \"1990\", \"method\": \"animate\"}, {\"args\": [[\"1991\"], {\"frame\": {\"duration\": 300, \"redraw\": true}, \"mode\": \"immediate\", \"transition\": {\"duration\": 300}}], \"label\": \"1991\", \"method\": \"animate\"}, {\"args\": [[\"1992\"], {\"frame\": {\"duration\": 300, \"redraw\": true}, \"mode\": \"immediate\", \"transition\": {\"duration\": 300}}], \"label\": \"1992\", \"method\": \"animate\"}, {\"args\": [[\"1993\"], {\"frame\": {\"duration\": 300, \"redraw\": true}, \"mode\": \"immediate\", \"transition\": {\"duration\": 300}}], \"label\": \"1993\", \"method\": \"animate\"}, {\"args\": [[\"1994\"], {\"frame\": {\"duration\": 300, \"redraw\": true}, \"mode\": \"immediate\", \"transition\": {\"duration\": 300}}], \"label\": \"1994\", \"method\": \"animate\"}, {\"args\": [[\"1995\"], {\"frame\": {\"duration\": 300, \"redraw\": true}, \"mode\": \"immediate\", \"transition\": {\"duration\": 300}}], \"label\": \"1995\", \"method\": \"animate\"}, {\"args\": [[\"1996\"], {\"frame\": {\"duration\": 300, \"redraw\": true}, \"mode\": \"immediate\", \"transition\": {\"duration\": 300}}], \"label\": \"1996\", \"method\": \"animate\"}, {\"args\": [[\"1997\"], {\"frame\": {\"duration\": 300, \"redraw\": true}, \"mode\": \"immediate\", \"transition\": {\"duration\": 300}}], \"label\": \"1997\", \"method\": \"animate\"}, {\"args\": [[\"1998\"], {\"frame\": {\"duration\": 300, \"redraw\": true}, \"mode\": \"immediate\", \"transition\": {\"duration\": 300}}], \"label\": \"1998\", \"method\": \"animate\"}, {\"args\": [[\"1999\"], {\"frame\": {\"duration\": 300, \"redraw\": true}, \"mode\": \"immediate\", \"transition\": {\"duration\": 300}}], \"label\": \"1999\", \"method\": \"animate\"}, {\"args\": [[\"2000\"], {\"frame\": {\"duration\": 300, \"redraw\": true}, \"mode\": \"immediate\", \"transition\": {\"duration\": 300}}], \"label\": \"2000\", \"method\": \"animate\"}, {\"args\": [[\"2001\"], {\"frame\": {\"duration\": 300, \"redraw\": true}, \"mode\": \"immediate\", \"transition\": {\"duration\": 300}}], \"label\": \"2001\", \"method\": \"animate\"}, {\"args\": [[\"2002\"], {\"frame\": {\"duration\": 300, \"redraw\": true}, \"mode\": \"immediate\", \"transition\": {\"duration\": 300}}], \"label\": \"2002\", \"method\": \"animate\"}, {\"args\": [[\"2003\"], {\"frame\": {\"duration\": 300, \"redraw\": true}, \"mode\": \"immediate\", \"transition\": {\"duration\": 300}}], \"label\": \"2003\", \"method\": \"animate\"}, {\"args\": [[\"2004\"], {\"frame\": {\"duration\": 300, \"redraw\": true}, \"mode\": \"immediate\", \"transition\": {\"duration\": 300}}], \"label\": \"2004\", \"method\": \"animate\"}, {\"args\": [[\"2005\"], {\"frame\": {\"duration\": 300, \"redraw\": true}, \"mode\": \"immediate\", \"transition\": {\"duration\": 300}}], \"label\": \"2005\", \"method\": \"animate\"}, {\"args\": [[\"2006\"], {\"frame\": {\"duration\": 300, \"redraw\": true}, \"mode\": \"immediate\", \"transition\": {\"duration\": 300}}], \"label\": \"2006\", \"method\": \"animate\"}, {\"args\": [[\"2007\"], {\"frame\": {\"duration\": 300, \"redraw\": true}, \"mode\": \"immediate\", \"transition\": {\"duration\": 300}}], \"label\": \"2007\", \"method\": \"animate\"}, {\"args\": [[\"2008\"], {\"frame\": {\"duration\": 300, \"redraw\": true}, \"mode\": \"immediate\", \"transition\": {\"duration\": 300}}], \"label\": \"2008\", \"method\": \"animate\"}, {\"args\": [[\"2009\"], {\"frame\": {\"duration\": 300, \"redraw\": true}, \"mode\": \"immediate\", \"transition\": {\"duration\": 300}}], \"label\": \"2009\", \"method\": \"animate\"}, {\"args\": [[\"2010\"], {\"frame\": {\"duration\": 300, \"redraw\": true}, \"mode\": \"immediate\", \"transition\": {\"duration\": 300}}], \"label\": \"2010\", \"method\": \"animate\"}, {\"args\": [[\"2011\"], {\"frame\": {\"duration\": 300, \"redraw\": true}, \"mode\": \"immediate\", \"transition\": {\"duration\": 300}}], \"label\": \"2011\", \"method\": \"animate\"}, {\"args\": [[\"2012\"], {\"frame\": {\"duration\": 300, \"redraw\": true}, \"mode\": \"immediate\", \"transition\": {\"duration\": 300}}], \"label\": \"2012\", \"method\": \"animate\"}, {\"args\": [[\"2013\"], {\"frame\": {\"duration\": 300, \"redraw\": true}, \"mode\": \"immediate\", \"transition\": {\"duration\": 300}}], \"label\": \"2013\", \"method\": \"animate\"}, {\"args\": [[\"2014\"], {\"frame\": {\"duration\": 300, \"redraw\": true}, \"mode\": \"immediate\", \"transition\": {\"duration\": 300}}], \"label\": \"2014\", \"method\": \"animate\"}, {\"args\": [[\"2015\"], {\"frame\": {\"duration\": 300, \"redraw\": true}, \"mode\": \"immediate\", \"transition\": {\"duration\": 300}}], \"label\": \"2015\", \"method\": \"animate\"}, {\"args\": [[\"2016\"], {\"frame\": {\"duration\": 300, \"redraw\": true}, \"mode\": \"immediate\", \"transition\": {\"duration\": 300}}], \"label\": \"2016\", \"method\": \"animate\"}, {\"args\": [[\"2017\"], {\"frame\": {\"duration\": 300, \"redraw\": true}, \"mode\": \"immediate\", \"transition\": {\"duration\": 300}}], \"label\": \"2017\", \"method\": \"animate\"}], \"transition\": {\"duration\": 300, \"easing\": \"cubic-in-out\"}, \"x\": 0.1, \"xanchor\": \"left\", \"y\": 0, \"yanchor\": \"top\"}], \"title\": \"Share of gender of mental illness per continent(%)\", \"updatemenus\": [{\"buttons\": [{\"args\": [null, {\"frame\": {\"duration\": 500, \"redraw\": true}, \"fromcurrent\": true, \"transition\": {\"duration\": 300, \"easing\": \"quadratic-in-out\"}}], \"label\": \"Play\", \"method\": \"animate\"}, {\"args\": [[null], {\"frame\": {\"duration\": 0, \"redraw\": true}, \"mode\": \"immediate\", \"transition\": {\"duration\": 0}}], \"label\": \"Pause\", \"method\": \"animate\"}], \"direction\": \"left\", \"pad\": {\"r\": 10, \"t\": 87}, \"showactive\": false, \"type\": \"buttons\", \"x\": 0.1, \"xanchor\": \"right\", \"y\": 0, \"yanchor\": \"top\"}], \"xaxis\": {\"range\": [10, 18], \"title\": \"Share of Female(%)\"}, \"yaxis\": {\"range\": [10, 15], \"title\": \"Share of Male(%)\"}},\n",
       "            {\"showLink\": true, \"linkText\": \"Export to plot.ly\", \"plotlyServerURL\": \"https://plot.ly\"}\n",
       "        ).then(function () {return Plotly.addFrames('0d620acb-ef01-452b-927a-e904f5f36ab7',[{\"data\": [{\"line\": {\"width\": 5}, \"marker\": {\"size\": [4150.704853363701], \"sizemode\": \"area\", \"sizeref\": 2}, \"mode\": \"lines+markers\", \"name\": \"Asia\", \"text\": \"(Female(%), Male(%))\", \"x\": [13.15], \"y\": [12.69], \"type\": \"scatter\"}, {\"line\": {\"width\": 5}, \"marker\": {\"size\": [1156.9720858558], \"sizemode\": \"area\", \"sizeref\": 2}, \"mode\": \"lines+markers\", \"name\": \"Europe\", \"text\": \"(Female(%), Male(%))\", \"x\": [15.51], \"y\": [13.14], \"type\": \"scatter\"}, {\"line\": {\"width\": 5}, \"marker\": {\"size\": [7.059487252018501], \"sizemode\": \"area\", \"sizeref\": 2}, \"mode\": \"lines+markers\", \"name\": \"Oceania\", \"text\": \"(Female(%), Male(%))\", \"x\": [10.83], \"y\": [11.02], \"type\": \"scatter\"}, {\"line\": {\"width\": 5}, \"marker\": {\"size\": [1043.5574998098], \"sizemode\": \"area\", \"sizeref\": 2}, \"mode\": \"lines+markers\", \"name\": \"America\", \"text\": \"(Female(%), Male(%))\", \"x\": [15.67], \"y\": [13.42], \"type\": \"scatter\"}, {\"line\": {\"width\": 5}, \"marker\": {\"size\": [782.7384698927], \"sizemode\": \"area\", \"sizeref\": 2}, \"mode\": \"lines+markers\", \"name\": \"Africa\", \"text\": \"(Female(%), Male(%))\", \"x\": [12.32], \"y\": [12.5], \"type\": \"scatter\"}], \"name\": \"1990\"}, {\"data\": [{\"line\": {\"width\": 5}, \"marker\": {\"size\": [41.507048533637004, 4224.7305328355005], \"sizemode\": \"area\", \"sizeref\": 2}, \"mode\": \"lines+markers\", \"name\": \"Asia\", \"text\": \"(Female(%), Male(%))\", \"x\": [13.15, 13.18], \"y\": [12.69, 12.7], \"type\": \"scatter\"}, {\"line\": {\"width\": 5}, \"marker\": {\"size\": [11.569720858558, 1163.1189460122], \"sizemode\": \"area\", \"sizeref\": 2}, \"mode\": \"lines+markers\", \"name\": \"Europe\", \"text\": \"(Female(%), Male(%))\", \"x\": [15.51, 15.54], \"y\": [13.14, 13.16], \"type\": \"scatter\"}, {\"line\": {\"width\": 5}, \"marker\": {\"size\": [0.07059487252018501, 7.229065158469298], \"sizemode\": \"area\", \"sizeref\": 2}, \"mode\": \"lines+markers\", \"name\": \"Oceania\", \"text\": \"(Female(%), Male(%))\", \"x\": [10.83, 10.84], \"y\": [11.02, 11.02], \"type\": \"scatter\"}, {\"line\": {\"width\": 5}, \"marker\": {\"size\": [10.435574998098001, 1059.1623238304999], \"sizemode\": \"area\", \"sizeref\": 2}, \"mode\": \"lines+markers\", \"name\": \"America\", \"text\": \"(Female(%), Male(%))\", \"x\": [15.67, 15.65], \"y\": [13.42, 13.42], \"type\": \"scatter\"}, {\"line\": {\"width\": 5}, \"marker\": {\"size\": [7.827384698927, 804.7934793854199], \"sizemode\": \"area\", \"sizeref\": 2}, \"mode\": \"lines+markers\", \"name\": \"Africa\", \"text\": \"(Female(%), Male(%))\", \"x\": [12.32, 12.34], \"y\": [12.5, 12.52], \"type\": \"scatter\"}], \"name\": \"1991\"}, {\"data\": [{\"line\": {\"width\": 5}, \"marker\": {\"size\": [41.507048533637004, 42.247305328355004, 4299.8372421271], \"sizemode\": \"area\", \"sizeref\": 2}, \"mode\": \"lines+markers\", \"name\": \"Asia\", \"text\": \"(Female(%), Male(%))\", \"x\": [13.15, 13.18, 13.21], \"y\": [12.69, 12.7, 12.72], \"type\": \"scatter\"}, {\"line\": {\"width\": 5}, \"marker\": {\"size\": [11.569720858558, 11.631189460122002, 1169.017512627], \"sizemode\": \"area\", \"sizeref\": 2}, \"mode\": \"lines+markers\", \"name\": \"Europe\", \"text\": \"(Female(%), Male(%))\", \"x\": [15.51, 15.54, 15.57], \"y\": [13.14, 13.16, 13.19], \"type\": \"scatter\"}, {\"line\": {\"width\": 5}, \"marker\": {\"size\": [0.07059487252018501, 0.07229065158469299, 7.402553143406599], \"sizemode\": \"area\", \"sizeref\": 2}, \"mode\": \"lines+markers\", \"name\": \"Oceania\", \"text\": \"(Female(%), Male(%))\", \"x\": [10.83, 10.84, 10.84], \"y\": [11.02, 11.02, 11.01], \"type\": \"scatter\"}, {\"line\": {\"width\": 5}, \"marker\": {\"size\": [10.435574998098001, 10.591623238304997, 1075.4487838361], \"sizemode\": \"area\", \"sizeref\": 2}, \"mode\": \"lines+markers\", \"name\": \"America\", \"text\": \"(Female(%), Male(%))\", \"x\": [15.67, 15.65, 15.64], \"y\": [13.42, 13.42, 13.42], \"type\": \"scatter\"}, {\"line\": {\"width\": 5}, \"marker\": {\"size\": [7.827384698927, 8.0479347938542, 827.1495633983399], \"sizemode\": \"area\", \"sizeref\": 2}, \"mode\": \"lines+markers\", \"name\": \"Africa\", \"text\": \"(Female(%), Male(%))\", \"x\": [12.32, 12.34, 12.36], \"y\": [12.5, 12.52, 12.54], \"type\": \"scatter\"}], \"name\": \"1992\"}, {\"data\": [{\"line\": {\"width\": 5}, \"marker\": {\"size\": [41.507048533637004, 42.247305328355004, 42.99837242127099, 4375.5529240514], \"sizemode\": \"area\", \"sizeref\": 2}, \"mode\": \"lines+markers\", \"name\": \"Asia\", \"text\": \"(Female(%), Male(%))\", \"x\": [13.15, 13.18, 13.21, 13.25], \"y\": [12.69, 12.7, 12.72, 12.75], \"type\": \"scatter\"}, {\"line\": {\"width\": 5}, \"marker\": {\"size\": [11.569720858558, 11.631189460122002, 11.69017512627, 1173.7069200834], \"sizemode\": \"area\", \"sizeref\": 2}, \"mode\": \"lines+markers\", \"name\": \"Europe\", \"text\": \"(Female(%), Male(%))\", \"x\": [15.51, 15.54, 15.57, 15.61], \"y\": [13.14, 13.16, 13.19, 13.22], \"type\": \"scatter\"}, {\"line\": {\"width\": 5}, \"marker\": {\"size\": [0.07059487252018501, 0.07229065158469299, 0.07402553143406598, 7.5808479220901], \"sizemode\": \"area\", \"sizeref\": 2}, \"mode\": \"lines+markers\", \"name\": \"Oceania\", \"text\": \"(Female(%), Male(%))\", \"x\": [10.83, 10.84, 10.84, 10.83], \"y\": [11.02, 11.02, 11.01, 11.0], \"type\": \"scatter\"}, {\"line\": {\"width\": 5}, \"marker\": {\"size\": [10.435574998098001, 10.591623238304997, 10.754487838361, 1092.2767653036], \"sizemode\": \"area\", \"sizeref\": 2}, \"mode\": \"lines+markers\", \"name\": \"America\", \"text\": \"(Female(%), Male(%))\", \"x\": [15.67, 15.65, 15.64, 15.64], \"y\": [13.42, 13.42, 13.42, 13.43], \"type\": \"scatter\"}, {\"line\": {\"width\": 5}, \"marker\": {\"size\": [7.827384698927, 8.0479347938542, 8.271495633983399, 848.3905958896097], \"sizemode\": \"area\", \"sizeref\": 2}, \"mode\": \"lines+markers\", \"name\": \"Africa\", \"text\": \"(Female(%), Male(%))\", \"x\": [12.32, 12.34, 12.36, 12.38], \"y\": [12.5, 12.52, 12.54, 12.56], \"type\": \"scatter\"}], \"name\": \"1993\"}, {\"data\": [{\"line\": {\"width\": 5}, \"marker\": {\"size\": [41.507048533637004, 42.247305328355004, 42.99837242127099, 43.755529240514, 4449.7129753522], \"sizemode\": \"area\", \"sizeref\": 2}, \"mode\": \"lines+markers\", \"name\": \"Asia\", \"text\": \"(Female(%), Male(%))\", \"x\": [13.15, 13.18, 13.21, 13.25, 13.28], \"y\": [12.69, 12.7, 12.72, 12.75, 12.78], \"type\": \"scatter\"}, {\"line\": {\"width\": 5}, \"marker\": {\"size\": [11.569720858558, 11.631189460122002, 11.69017512627, 11.737069200834002, 1177.7361005205998], \"sizemode\": \"area\", \"sizeref\": 2}, \"mode\": \"lines+markers\", \"name\": \"Europe\", \"text\": \"(Female(%), Male(%))\", \"x\": [15.51, 15.54, 15.57, 15.61, 15.65], \"y\": [13.14, 13.16, 13.19, 13.22, 13.26], \"type\": \"scatter\"}, {\"line\": {\"width\": 5}, \"marker\": {\"size\": [0.07059487252018501, 0.07229065158469299, 0.07402553143406598, 0.075808479220901, 7.7650418185455], \"sizemode\": \"area\", \"sizeref\": 2}, \"mode\": \"lines+markers\", \"name\": \"Oceania\", \"text\": \"(Female(%), Male(%))\", \"x\": [10.83, 10.84, 10.84, 10.83, 10.83], \"y\": [11.02, 11.02, 11.01, 11.0, 10.99], \"type\": \"scatter\"}, {\"line\": {\"width\": 5}, \"marker\": {\"size\": [10.435574998098001, 10.591623238304997, 10.754487838361, 10.922767653035999, 1109.6432629956996], \"sizemode\": \"area\", \"sizeref\": 2}, \"mode\": \"lines+markers\", \"name\": \"America\", \"text\": \"(Female(%), Male(%))\", \"x\": [15.67, 15.65, 15.64, 15.64, 15.65], \"y\": [13.42, 13.42, 13.42, 13.43, 13.44], \"type\": \"scatter\"}, {\"line\": {\"width\": 5}, \"marker\": {\"size\": [7.827384698927, 8.0479347938542, 8.271495633983399, 8.483905958896097, 870.5413233800301], \"sizemode\": \"area\", \"sizeref\": 2}, \"mode\": \"lines+markers\", \"name\": \"Africa\", \"text\": \"(Female(%), Male(%))\", \"x\": [12.32, 12.34, 12.36, 12.38, 12.4], \"y\": [12.5, 12.52, 12.54, 12.56, 12.58], \"type\": \"scatter\"}], \"name\": \"1994\"}, {\"data\": [{\"line\": {\"width\": 5}, \"marker\": {\"size\": [41.507048533637004, 42.247305328355004, 42.99837242127099, 43.755529240514, 44.497129753522, 4523.0261942216], \"sizemode\": \"area\", \"sizeref\": 2}, \"mode\": \"lines+markers\", \"name\": \"Asia\", \"text\": \"(Female(%), Male(%))\", \"x\": [13.15, 13.18, 13.21, 13.25, 13.28, 13.32], \"y\": [12.69, 12.7, 12.72, 12.75, 12.78, 12.8], \"type\": \"scatter\"}, {\"line\": {\"width\": 5}, \"marker\": {\"size\": [11.569720858558, 11.631189460122002, 11.69017512627, 11.737069200834002, 11.777361005205998, 1181.1418568808], \"sizemode\": \"area\", \"sizeref\": 2}, \"mode\": \"lines+markers\", \"name\": \"Europe\", \"text\": \"(Female(%), Male(%))\", \"x\": [15.51, 15.54, 15.57, 15.61, 15.65, 15.69], \"y\": [13.14, 13.16, 13.19, 13.22, 13.26, 13.29], \"type\": \"scatter\"}, {\"line\": {\"width\": 5}, \"marker\": {\"size\": [0.07059487252018501, 0.07229065158469299, 0.07402553143406598, 0.075808479220901, 0.077650418185455, 7.9579032190682994], \"sizemode\": \"area\", \"sizeref\": 2}, \"mode\": \"lines+markers\", \"name\": \"Oceania\", \"text\": \"(Female(%), Male(%))\", \"x\": [10.83, 10.84, 10.84, 10.83, 10.83, 10.83], \"y\": [11.02, 11.02, 11.01, 11.0, 10.99, 10.98], \"type\": \"scatter\"}, {\"line\": {\"width\": 5}, \"marker\": {\"size\": [10.435574998098001, 10.591623238304997, 10.754487838361, 10.922767653035999, 11.096432629956997, 1127.5918196658001], \"sizemode\": \"area\", \"sizeref\": 2}, \"mode\": \"lines+markers\", \"name\": \"America\", \"text\": \"(Female(%), Male(%))\", \"x\": [15.67, 15.65, 15.64, 15.64, 15.65, 15.68], \"y\": [13.42, 13.42, 13.42, 13.43, 13.44, 13.46], \"type\": \"scatter\"}, {\"line\": {\"width\": 5}, \"marker\": {\"size\": [7.827384698927, 8.0479347938542, 8.271495633983399, 8.483905958896097, 8.7054132338003, 894.6702382126098], \"sizemode\": \"area\", \"sizeref\": 2}, \"mode\": \"lines+markers\", \"name\": \"Africa\", \"text\": \"(Female(%), Male(%))\", \"x\": [12.32, 12.34, 12.36, 12.38, 12.4, 12.41], \"y\": [12.5, 12.52, 12.54, 12.56, 12.58, 12.59], \"type\": \"scatter\"}], \"name\": \"1995\"}, {\"data\": [{\"line\": {\"width\": 5}, \"marker\": {\"size\": [41.507048533637004, 42.247305328355004, 42.99837242127099, 43.755529240514, 44.497129753522, 45.230261942216, 4596.9592620613], \"sizemode\": \"area\", \"sizeref\": 2}, \"mode\": \"lines+markers\", \"name\": \"Asia\", \"text\": \"(Female(%), Male(%))\", \"x\": [13.15, 13.18, 13.21, 13.25, 13.28, 13.32, 13.36], \"y\": [12.69, 12.7, 12.72, 12.75, 12.78, 12.8, 12.83], \"type\": \"scatter\"}, {\"line\": {\"width\": 5}, \"marker\": {\"size\": [11.569720858558, 11.631189460122002, 11.69017512627, 11.737069200834002, 11.777361005205998, 11.811418568808001, 1184.2781858480998], \"sizemode\": \"area\", \"sizeref\": 2}, \"mode\": \"lines+markers\", \"name\": \"Europe\", \"text\": \"(Female(%), Male(%))\", \"x\": [15.51, 15.54, 15.57, 15.61, 15.65, 15.69, 15.72], \"y\": [13.14, 13.16, 13.19, 13.22, 13.26, 13.29, 13.32], \"type\": \"scatter\"}, {\"line\": {\"width\": 5}, \"marker\": {\"size\": [0.07059487252018501, 0.07229065158469299, 0.07402553143406598, 0.075808479220901, 0.077650418185455, 0.07957903219068299, 8.1593470288486], \"sizemode\": \"area\", \"sizeref\": 2}, \"mode\": \"lines+markers\", \"name\": \"Oceania\", \"text\": \"(Female(%), Male(%))\", \"x\": [10.83, 10.84, 10.84, 10.83, 10.83, 10.83, 10.82], \"y\": [11.02, 11.02, 11.01, 11.0, 10.99, 10.98, 10.96], \"type\": \"scatter\"}, {\"line\": {\"width\": 5}, \"marker\": {\"size\": [10.435574998098001, 10.591623238304997, 10.754487838361, 10.922767653035999, 11.096432629956997, 11.275918196658, 1148.5344435111], \"sizemode\": \"area\", \"sizeref\": 2}, \"mode\": \"lines+markers\", \"name\": \"America\", \"text\": \"(Female(%), Male(%))\", \"x\": [15.67, 15.65, 15.64, 15.64, 15.65, 15.68, 15.76], \"y\": [13.42, 13.42, 13.42, 13.43, 13.44, 13.46, 13.51], \"type\": \"scatter\"}, {\"line\": {\"width\": 5}, \"marker\": {\"size\": [7.827384698927, 8.0479347938542, 8.271495633983399, 8.483905958896097, 8.7054132338003, 8.946702382126098, 919.8456056090399], \"sizemode\": \"area\", \"sizeref\": 2}, \"mode\": \"lines+markers\", \"name\": \"Africa\", \"text\": \"(Female(%), Male(%))\", \"x\": [12.32, 12.34, 12.36, 12.38, 12.4, 12.41, 12.43], \"y\": [12.5, 12.52, 12.54, 12.56, 12.58, 12.59, 12.59], \"type\": \"scatter\"}], \"name\": \"1996\"}, {\"data\": [{\"line\": {\"width\": 5}, \"marker\": {\"size\": [41.507048533637004, 42.247305328355004, 42.99837242127099, 43.755529240514, 44.497129753522, 45.230261942216, 45.969592620613, 4672.0652318023], \"sizemode\": \"area\", \"sizeref\": 2}, \"mode\": \"lines+markers\", \"name\": \"Asia\", \"text\": \"(Female(%), Male(%))\", \"x\": [13.15, 13.18, 13.21, 13.25, 13.28, 13.32, 13.36, 13.41], \"y\": [12.69, 12.7, 12.72, 12.75, 12.78, 12.8, 12.83, 12.86], \"type\": \"scatter\"}, {\"line\": {\"width\": 5}, \"marker\": {\"size\": [11.569720858558, 11.631189460122002, 11.69017512627, 11.737069200834002, 11.777361005205998, 11.811418568808001, 11.842781858480999, 1187.6011734311], \"sizemode\": \"area\", \"sizeref\": 2}, \"mode\": \"lines+markers\", \"name\": \"Europe\", \"text\": \"(Female(%), Male(%))\", \"x\": [15.51, 15.54, 15.57, 15.61, 15.65, 15.69, 15.72, 15.75], \"y\": [13.14, 13.16, 13.19, 13.22, 13.26, 13.29, 13.32, 13.35], \"type\": \"scatter\"}, {\"line\": {\"width\": 5}, \"marker\": {\"size\": [0.07059487252018501, 0.07229065158469299, 0.07402553143406598, 0.075808479220901, 0.077650418185455, 0.07957903219068299, 0.081593470288486, 8.369878890943099], \"sizemode\": \"area\", \"sizeref\": 2}, \"mode\": \"lines+markers\", \"name\": \"Oceania\", \"text\": \"(Female(%), Male(%))\", \"x\": [10.83, 10.84, 10.84, 10.83, 10.83, 10.83, 10.82, 10.82], \"y\": [11.02, 11.02, 11.01, 11.0, 10.99, 10.98, 10.96, 10.95], \"type\": \"scatter\"}, {\"line\": {\"width\": 5}, \"marker\": {\"size\": [10.435574998098001, 10.591623238304997, 10.754487838361, 10.922767653035999, 11.096432629956997, 11.275918196658, 11.485344435111001, 1173.3403218282997], \"sizemode\": \"area\", \"sizeref\": 2}, \"mode\": \"lines+markers\", \"name\": \"America\", \"text\": \"(Female(%), Male(%))\", \"x\": [15.67, 15.65, 15.64, 15.64, 15.65, 15.68, 15.76, 15.92], \"y\": [13.42, 13.42, 13.42, 13.43, 13.44, 13.46, 13.51, 13.59], \"type\": \"scatter\"}, {\"line\": {\"width\": 5}, \"marker\": {\"size\": [7.827384698927, 8.0479347938542, 8.271495633983399, 8.483905958896097, 8.7054132338003, 8.946702382126098, 9.1984560560904, 945.9342345147601], \"sizemode\": \"area\", \"sizeref\": 2}, \"mode\": \"lines+markers\", \"name\": \"Africa\", \"text\": \"(Female(%), Male(%))\", \"x\": [12.32, 12.34, 12.36, 12.38, 12.4, 12.41, 12.43, 12.45], \"y\": [12.5, 12.52, 12.54, 12.56, 12.58, 12.59, 12.59, 12.6], \"type\": \"scatter\"}], \"name\": \"1997\"}, {\"data\": [{\"line\": {\"width\": 5}, \"marker\": {\"size\": [41.507048533637004, 42.247305328355004, 42.99837242127099, 43.755529240514, 44.497129753522, 45.230261942216, 45.969592620613, 46.720652318023, 4747.8713310152], \"sizemode\": \"area\", \"sizeref\": 2}, \"mode\": \"lines+markers\", \"name\": \"Asia\", \"text\": \"(Female(%), Male(%))\", \"x\": [13.15, 13.18, 13.21, 13.25, 13.28, 13.32, 13.36, 13.41, 13.46], \"y\": [12.69, 12.7, 12.72, 12.75, 12.78, 12.8, 12.83, 12.86, 12.88], \"type\": \"scatter\"}, {\"line\": {\"width\": 5}, \"marker\": {\"size\": [11.569720858558, 11.631189460122002, 11.69017512627, 11.737069200834002, 11.777361005205998, 11.811418568808001, 11.842781858480999, 11.876011734311, 1190.8208589172], \"sizemode\": \"area\", \"sizeref\": 2}, \"mode\": \"lines+markers\", \"name\": \"Europe\", \"text\": \"(Female(%), Male(%))\", \"x\": [15.51, 15.54, 15.57, 15.61, 15.65, 15.69, 15.72, 15.75, 15.78], \"y\": [13.14, 13.16, 13.19, 13.22, 13.26, 13.29, 13.32, 13.35, 13.37], \"type\": \"scatter\"}, {\"line\": {\"width\": 5}, \"marker\": {\"size\": [0.07059487252018501, 0.07229065158469299, 0.07402553143406598, 0.075808479220901, 0.077650418185455, 0.07957903219068299, 0.081593470288486, 0.08369878890943099, 8.5896934803086], \"sizemode\": \"area\", \"sizeref\": 2}, \"mode\": \"lines+markers\", \"name\": \"Oceania\", \"text\": \"(Female(%), Male(%))\", \"x\": [10.83, 10.84, 10.84, 10.83, 10.83, 10.83, 10.82, 10.82, 10.82], \"y\": [11.02, 11.02, 11.01, 11.0, 10.99, 10.98, 10.96, 10.95, 10.94], \"type\": \"scatter\"}, {\"line\": {\"width\": 5}, \"marker\": {\"size\": [10.435574998098001, 10.591623238304997, 10.754487838361, 10.922767653035999, 11.096432629956997, 11.275918196658, 11.485344435111001, 11.733403218282996, 1199.831867219], \"sizemode\": \"area\", \"sizeref\": 2}, \"mode\": \"lines+markers\", \"name\": \"America\", \"text\": \"(Female(%), Male(%))\", \"x\": [15.67, 15.65, 15.64, 15.64, 15.65, 15.68, 15.76, 15.92, 16.11], \"y\": [13.42, 13.42, 13.42, 13.43, 13.44, 13.46, 13.51, 13.59, 13.67], \"type\": \"scatter\"}, {\"line\": {\"width\": 5}, \"marker\": {\"size\": [7.827384698927, 8.0479347938542, 8.271495633983399, 8.483905958896097, 8.7054132338003, 8.946702382126098, 9.1984560560904, 9.4593423451476, 971.3402740962499], \"sizemode\": \"area\", \"sizeref\": 2}, \"mode\": \"lines+markers\", \"name\": \"Africa\", \"text\": \"(Female(%), Male(%))\", \"x\": [12.32, 12.34, 12.36, 12.38, 12.4, 12.41, 12.43, 12.45, 12.47], \"y\": [12.5, 12.52, 12.54, 12.56, 12.58, 12.59, 12.59, 12.6, 12.6], \"type\": \"scatter\"}], \"name\": \"1998\"}, {\"data\": [{\"line\": {\"width\": 5}, \"marker\": {\"size\": [41.507048533637004, 42.247305328355004, 42.99837242127099, 43.755529240514, 44.497129753522, 45.230261942216, 45.969592620613, 46.720652318023, 47.478713310152, 4823.7024300766], \"sizemode\": \"area\", \"sizeref\": 2}, \"mode\": \"lines+markers\", \"name\": \"Asia\", \"text\": \"(Female(%), Male(%))\", \"x\": [13.15, 13.18, 13.21, 13.25, 13.28, 13.32, 13.36, 13.41, 13.46, 13.51], \"y\": [12.69, 12.7, 12.72, 12.75, 12.78, 12.8, 12.83, 12.86, 12.88, 12.91], \"type\": \"scatter\"}, {\"line\": {\"width\": 5}, \"marker\": {\"size\": [11.569720858558, 11.631189460122002, 11.69017512627, 11.737069200834002, 11.777361005205998, 11.811418568808001, 11.842781858480999, 11.876011734311, 11.908208589172, 1193.7853561178001], \"sizemode\": \"area\", \"sizeref\": 2}, \"mode\": \"lines+markers\", \"name\": \"Europe\", \"text\": \"(Female(%), Male(%))\", \"x\": [15.51, 15.54, 15.57, 15.61, 15.65, 15.69, 15.72, 15.75, 15.78, 15.8], \"y\": [13.14, 13.16, 13.19, 13.22, 13.26, 13.29, 13.32, 13.35, 13.37, 13.39], \"type\": \"scatter\"}, {\"line\": {\"width\": 5}, \"marker\": {\"size\": [0.07059487252018501, 0.07229065158469299, 0.07402553143406598, 0.075808479220901, 0.077650418185455, 0.07957903219068299, 0.081593470288486, 0.08369878890943099, 0.08589693480308601, 8.8200472219235], \"sizemode\": \"area\", \"sizeref\": 2}, \"mode\": \"lines+markers\", \"name\": \"Oceania\", \"text\": \"(Female(%), Male(%))\", \"x\": [10.83, 10.84, 10.84, 10.83, 10.83, 10.83, 10.82, 10.82, 10.82, 10.82], \"y\": [11.02, 11.02, 11.01, 11.0, 10.99, 10.98, 10.96, 10.95, 10.94, 10.93], \"type\": \"scatter\"}, {\"line\": {\"width\": 5}, \"marker\": {\"size\": [10.435574998098001, 10.591623238304997, 10.754487838361, 10.922767653035999, 11.096432629956997, 11.275918196658, 11.485344435111001, 11.733403218282996, 11.99831867219, 1225.6932115892002], \"sizemode\": \"area\", \"sizeref\": 2}, \"mode\": \"lines+markers\", \"name\": \"America\", \"text\": \"(Female(%), Male(%))\", \"x\": [15.67, 15.65, 15.64, 15.64, 15.65, 15.68, 15.76, 15.92, 16.11, 16.28], \"y\": [13.42, 13.42, 13.42, 13.43, 13.44, 13.46, 13.51, 13.59, 13.67, 13.75], \"type\": \"scatter\"}, {\"line\": {\"width\": 5}, \"marker\": {\"size\": [7.827384698927, 8.0479347938542, 8.271495633983399, 8.483905958896097, 8.7054132338003, 8.946702382126098, 9.1984560560904, 9.4593423451476, 9.713402740962499, 996.73963721366], \"sizemode\": \"area\", \"sizeref\": 2}, \"mode\": \"lines+markers\", \"name\": \"Africa\", \"text\": \"(Female(%), Male(%))\", \"x\": [12.32, 12.34, 12.36, 12.38, 12.4, 12.41, 12.43, 12.45, 12.47, 12.48], \"y\": [12.5, 12.52, 12.54, 12.56, 12.58, 12.59, 12.59, 12.6, 12.6, 12.59], \"type\": \"scatter\"}], \"name\": \"1999\"}, {\"data\": [{\"line\": {\"width\": 5}, \"marker\": {\"size\": [41.507048533637004, 42.247305328355004, 42.99837242127099, 43.755529240514, 44.497129753522, 45.230261942216, 45.969592620613, 46.720652318023, 47.478713310152, 48.237024300765995, 4899.5617945636], \"sizemode\": \"area\", \"sizeref\": 2}, \"mode\": \"lines+markers\", \"name\": \"Asia\", \"text\": \"(Female(%), Male(%))\", \"x\": [13.15, 13.18, 13.21, 13.25, 13.28, 13.32, 13.36, 13.41, 13.46, 13.51, 13.56], \"y\": [12.69, 12.7, 12.72, 12.75, 12.78, 12.8, 12.83, 12.86, 12.88, 12.91, 12.93], \"type\": \"scatter\"}, {\"line\": {\"width\": 5}, \"marker\": {\"size\": [11.569720858558, 11.631189460122002, 11.69017512627, 11.737069200834002, 11.777361005205998, 11.811418568808001, 11.842781858480999, 11.876011734311, 11.908208589172, 11.937853561178, 1196.9235636410997], \"sizemode\": \"area\", \"sizeref\": 2}, \"mode\": \"lines+markers\", \"name\": \"Europe\", \"text\": \"(Female(%), Male(%))\", \"x\": [15.51, 15.54, 15.57, 15.61, 15.65, 15.69, 15.72, 15.75, 15.78, 15.8, 15.83], \"y\": [13.14, 13.16, 13.19, 13.22, 13.26, 13.29, 13.32, 13.35, 13.37, 13.39, 13.41], \"type\": \"scatter\"}, {\"line\": {\"width\": 5}, \"marker\": {\"size\": [0.07059487252018501, 0.07229065158469299, 0.07402553143406598, 0.075808479220901, 0.077650418185455, 0.07957903219068299, 0.081593470288486, 0.08369878890943099, 0.08589693480308601, 0.08820047221923501, 9.062310844527799], \"sizemode\": \"area\", \"sizeref\": 2}, \"mode\": \"lines+markers\", \"name\": \"Oceania\", \"text\": \"(Female(%), Male(%))\", \"x\": [10.83, 10.84, 10.84, 10.83, 10.83, 10.83, 10.82, 10.82, 10.82, 10.82, 10.83], \"y\": [11.02, 11.02, 11.01, 11.0, 10.99, 10.98, 10.96, 10.95, 10.94, 10.93, 10.94], \"type\": \"scatter\"}, {\"line\": {\"width\": 5}, \"marker\": {\"size\": [10.435574998098001, 10.591623238304997, 10.754487838361, 10.922767653035999, 11.096432629956997, 11.275918196658, 11.485344435111001, 11.733403218282996, 11.99831867219, 12.256932115892003, 1248.3046901423], \"sizemode\": \"area\", \"sizeref\": 2}, \"mode\": \"lines+markers\", \"name\": \"America\", \"text\": \"(Female(%), Male(%))\", \"x\": [15.67, 15.65, 15.64, 15.64, 15.65, 15.68, 15.76, 15.92, 16.11, 16.28, 16.39], \"y\": [13.42, 13.42, 13.42, 13.43, 13.44, 13.46, 13.51, 13.59, 13.67, 13.75, 13.8], \"type\": \"scatter\"}, {\"line\": {\"width\": 5}, \"marker\": {\"size\": [7.827384698927, 8.0479347938542, 8.271495633983399, 8.483905958896097, 8.7054132338003, 8.946702382126098, 9.1984560560904, 9.4593423451476, 9.713402740962499, 9.9673963721366, 1022.3800158564702], \"sizemode\": \"area\", \"sizeref\": 2}, \"mode\": \"lines+markers\", \"name\": \"Africa\", \"text\": \"(Female(%), Male(%))\", \"x\": [12.32, 12.34, 12.36, 12.38, 12.4, 12.41, 12.43, 12.45, 12.47, 12.48, 12.49], \"y\": [12.5, 12.52, 12.54, 12.56, 12.58, 12.59, 12.59, 12.6, 12.6, 12.59, 12.59], \"type\": \"scatter\"}], \"name\": \"2000\"}, {\"data\": [{\"line\": {\"width\": 5}, \"marker\": {\"size\": [41.507048533637004, 42.247305328355004, 42.99837242127099, 43.755529240514, 44.497129753522, 45.230261942216, 45.969592620613, 46.720652318023, 47.478713310152, 48.237024300765995, 48.995617945636006, 4974.6234375214], \"sizemode\": \"area\", \"sizeref\": 2}, \"mode\": \"lines+markers\", \"name\": \"Asia\", \"text\": \"(Female(%), Male(%))\", \"x\": [13.15, 13.18, 13.21, 13.25, 13.28, 13.32, 13.36, 13.41, 13.46, 13.51, 13.56, 13.61], \"y\": [12.69, 12.7, 12.72, 12.75, 12.78, 12.8, 12.83, 12.86, 12.88, 12.91, 12.93, 12.96], \"type\": \"scatter\"}, {\"line\": {\"width\": 5}, \"marker\": {\"size\": [11.569720858558, 11.631189460122002, 11.69017512627, 11.737069200834002, 11.777361005205998, 11.811418568808001, 11.842781858480999, 11.876011734311, 11.908208589172, 11.937853561178, 11.969235636410998, 1199.8050562738001], \"sizemode\": \"area\", \"sizeref\": 2}, \"mode\": \"lines+markers\", \"name\": \"Europe\", \"text\": \"(Female(%), Male(%))\", \"x\": [15.51, 15.54, 15.57, 15.61, 15.65, 15.69, 15.72, 15.75, 15.78, 15.8, 15.83, 15.85], \"y\": [13.14, 13.16, 13.19, 13.22, 13.26, 13.29, 13.32, 13.35, 13.37, 13.39, 13.41, 13.42], \"type\": \"scatter\"}, {\"line\": {\"width\": 5}, \"marker\": {\"size\": [0.07059487252018501, 0.07229065158469299, 0.07402553143406598, 0.075808479220901, 0.077650418185455, 0.07957903219068299, 0.081593470288486, 0.08369878890943099, 0.08589693480308601, 0.08820047221923501, 0.090623108445278, 9.3125540499872], \"sizemode\": \"area\", \"sizeref\": 2}, \"mode\": \"lines+markers\", \"name\": \"Oceania\", \"text\": \"(Female(%), Male(%))\", \"x\": [10.83, 10.84, 10.84, 10.83, 10.83, 10.83, 10.82, 10.82, 10.82, 10.82, 10.83, 10.85], \"y\": [11.02, 11.02, 11.01, 11.0, 10.99, 10.98, 10.96, 10.95, 10.94, 10.93, 10.94, 10.95], \"type\": \"scatter\"}, {\"line\": {\"width\": 5}, \"marker\": {\"size\": [10.435574998098001, 10.591623238304997, 10.754487838361, 10.922767653035999, 11.096432629956997, 11.275918196658, 11.485344435111001, 11.733403218282996, 11.99831867219, 12.256932115892003, 12.483046901423, 1268.5524488105], \"sizemode\": \"area\", \"sizeref\": 2}, \"mode\": \"lines+markers\", \"name\": \"America\", \"text\": \"(Female(%), Male(%))\", \"x\": [15.67, 15.65, 15.64, 15.64, 15.65, 15.68, 15.76, 15.92, 16.11, 16.28, 16.39, 16.46], \"y\": [13.42, 13.42, 13.42, 13.43, 13.44, 13.46, 13.51, 13.59, 13.67, 13.75, 13.8, 13.83], \"type\": \"scatter\"}, {\"line\": {\"width\": 5}, \"marker\": {\"size\": [7.827384698927, 8.0479347938542, 8.271495633983399, 8.483905958896097, 8.7054132338003, 8.946702382126098, 9.1984560560904, 9.4593423451476, 9.713402740962499, 9.9673963721366, 10.223800158564702, 1048.3139636820001], \"sizemode\": \"area\", \"sizeref\": 2}, \"mode\": \"lines+markers\", \"name\": \"Africa\", \"text\": \"(Female(%), Male(%))\", \"x\": [12.32, 12.34, 12.36, 12.38, 12.4, 12.41, 12.43, 12.45, 12.47, 12.48, 12.49, 12.48], \"y\": [12.5, 12.52, 12.54, 12.56, 12.58, 12.59, 12.59, 12.6, 12.6, 12.59, 12.59, 12.58], \"type\": \"scatter\"}], \"name\": \"2001\"}, {\"data\": [{\"line\": {\"width\": 5}, \"marker\": {\"size\": [41.507048533637004, 42.247305328355004, 42.99837242127099, 43.755529240514, 44.497129753522, 45.230261942216, 45.969592620613, 46.720652318023, 47.478713310152, 48.237024300765995, 48.995617945636006, 49.746234375214, 5049.9516955978], \"sizemode\": \"area\", \"sizeref\": 2}, \"mode\": \"lines+markers\", \"name\": \"Asia\", \"text\": \"(Female(%), Male(%))\", \"x\": [13.15, 13.18, 13.21, 13.25, 13.28, 13.32, 13.36, 13.41, 13.46, 13.51, 13.56, 13.61, 13.65], \"y\": [12.69, 12.7, 12.72, 12.75, 12.78, 12.8, 12.83, 12.86, 12.88, 12.91, 12.93, 12.96, 12.98], \"type\": \"scatter\"}, {\"line\": {\"width\": 5}, \"marker\": {\"size\": [11.569720858558, 11.631189460122002, 11.69017512627, 11.737069200834002, 11.777361005205998, 11.811418568808001, 11.842781858480999, 11.876011734311, 11.908208589172, 11.937853561178, 11.969235636410998, 11.998050562738001, 1201.9802374394], \"sizemode\": \"area\", \"sizeref\": 2}, \"mode\": \"lines+markers\", \"name\": \"Europe\", \"text\": \"(Female(%), Male(%))\", \"x\": [15.51, 15.54, 15.57, 15.61, 15.65, 15.69, 15.72, 15.75, 15.78, 15.8, 15.83, 15.85, 15.85], \"y\": [13.14, 13.16, 13.19, 13.22, 13.26, 13.29, 13.32, 13.35, 13.37, 13.39, 13.41, 13.42, 13.42], \"type\": \"scatter\"}, {\"line\": {\"width\": 5}, \"marker\": {\"size\": [0.07059487252018501, 0.07229065158469299, 0.07402553143406598, 0.075808479220901, 0.077650418185455, 0.07957903219068299, 0.081593470288486, 0.08369878890943099, 0.08589693480308601, 0.08820047221923501, 0.090623108445278, 0.093125540499872, 9.567611743151401], \"sizemode\": \"area\", \"sizeref\": 2}, \"mode\": \"lines+markers\", \"name\": \"Oceania\", \"text\": \"(Female(%), Male(%))\", \"x\": [10.83, 10.84, 10.84, 10.83, 10.83, 10.83, 10.82, 10.82, 10.82, 10.82, 10.83, 10.85, 10.87], \"y\": [11.02, 11.02, 11.01, 11.0, 10.99, 10.98, 10.96, 10.95, 10.94, 10.93, 10.94, 10.95, 10.96], \"type\": \"scatter\"}, {\"line\": {\"width\": 5}, \"marker\": {\"size\": [10.435574998098001, 10.591623238304997, 10.754487838361, 10.922767653035999, 11.096432629956997, 11.275918196658, 11.485344435111001, 11.733403218282996, 11.99831867219, 12.256932115892003, 12.483046901423, 12.685524488104999, 1288.5975826185], \"sizemode\": \"area\", \"sizeref\": 2}, \"mode\": \"lines+markers\", \"name\": \"America\", \"text\": \"(Female(%), Male(%))\", \"x\": [15.67, 15.65, 15.64, 15.64, 15.65, 15.68, 15.76, 15.92, 16.11, 16.28, 16.39, 16.46, 16.53], \"y\": [13.42, 13.42, 13.42, 13.43, 13.44, 13.46, 13.51, 13.59, 13.67, 13.75, 13.8, 13.83, 13.85], \"type\": \"scatter\"}, {\"line\": {\"width\": 5}, \"marker\": {\"size\": [7.827384698927, 8.0479347938542, 8.271495633983399, 8.483905958896097, 8.7054132338003, 8.946702382126098, 9.1984560560904, 9.4593423451476, 9.713402740962499, 9.9673963721366, 10.223800158564702, 10.48313963682, 1074.2163492702], \"sizemode\": \"area\", \"sizeref\": 2}, \"mode\": \"lines+markers\", \"name\": \"Africa\", \"text\": \"(Female(%), Male(%))\", \"x\": [12.32, 12.34, 12.36, 12.38, 12.4, 12.41, 12.43, 12.45, 12.47, 12.48, 12.49, 12.48, 12.47], \"y\": [12.5, 12.52, 12.54, 12.56, 12.58, 12.59, 12.59, 12.6, 12.6, 12.59, 12.59, 12.58, 12.56], \"type\": \"scatter\"}], \"name\": \"2002\"}, {\"data\": [{\"line\": {\"width\": 5}, \"marker\": {\"size\": [41.507048533637004, 42.247305328355004, 42.99837242127099, 43.755529240514, 44.497129753522, 45.230261942216, 45.969592620613, 46.720652318023, 47.478713310152, 48.237024300765995, 48.995617945636006, 49.746234375214, 50.499516955978, 5125.0989148154], \"sizemode\": \"area\", \"sizeref\": 2}, \"mode\": \"lines+markers\", \"name\": \"Asia\", \"text\": \"(Female(%), Male(%))\", \"x\": [13.15, 13.18, 13.21, 13.25, 13.28, 13.32, 13.36, 13.41, 13.46, 13.51, 13.56, 13.61, 13.65, 13.7], \"y\": [12.69, 12.7, 12.72, 12.75, 12.78, 12.8, 12.83, 12.86, 12.88, 12.91, 12.93, 12.96, 12.98, 13.0], \"type\": \"scatter\"}, {\"line\": {\"width\": 5}, \"marker\": {\"size\": [11.569720858558, 11.631189460122002, 11.69017512627, 11.737069200834002, 11.777361005205998, 11.811418568808001, 11.842781858480999, 11.876011734311, 11.908208589172, 11.937853561178, 11.969235636410998, 11.998050562738001, 12.019802374393999, 1203.6452518335], \"sizemode\": \"area\", \"sizeref\": 2}, \"mode\": \"lines+markers\", \"name\": \"Europe\", \"text\": \"(Female(%), Male(%))\", \"x\": [15.51, 15.54, 15.57, 15.61, 15.65, 15.69, 15.72, 15.75, 15.78, 15.8, 15.83, 15.85, 15.85, 15.85], \"y\": [13.14, 13.16, 13.19, 13.22, 13.26, 13.29, 13.32, 13.35, 13.37, 13.39, 13.41, 13.42, 13.42, 13.41], \"type\": \"scatter\"}, {\"line\": {\"width\": 5}, \"marker\": {\"size\": [0.07059487252018501, 0.07229065158469299, 0.07402553143406598, 0.075808479220901, 0.077650418185455, 0.07957903219068299, 0.081593470288486, 0.08369878890943099, 0.08589693480308601, 0.08820047221923501, 0.090623108445278, 0.093125540499872, 0.09567611743151401, 9.829023328753598], \"sizemode\": \"area\", \"sizeref\": 2}, \"mode\": \"lines+markers\", \"name\": \"Oceania\", \"text\": \"(Female(%), Male(%))\", \"x\": [10.83, 10.84, 10.84, 10.83, 10.83, 10.83, 10.82, 10.82, 10.82, 10.82, 10.83, 10.85, 10.87, 10.89], \"y\": [11.02, 11.02, 11.01, 11.0, 10.99, 10.98, 10.96, 10.95, 10.94, 10.93, 10.94, 10.95, 10.96, 10.98], \"type\": \"scatter\"}, {\"line\": {\"width\": 5}, \"marker\": {\"size\": [10.435574998098001, 10.591623238304997, 10.754487838361, 10.922767653035999, 11.096432629956997, 11.275918196658, 11.485344435111001, 11.733403218282996, 11.99831867219, 12.256932115892003, 12.483046901423, 12.685524488104999, 12.885975826185, 1308.2967746048], \"sizemode\": \"area\", \"sizeref\": 2}, \"mode\": \"lines+markers\", \"name\": \"America\", \"text\": \"(Female(%), Male(%))\", \"x\": [15.67, 15.65, 15.64, 15.64, 15.65, 15.68, 15.76, 15.92, 16.11, 16.28, 16.39, 16.46, 16.53, 16.59], \"y\": [13.42, 13.42, 13.42, 13.43, 13.44, 13.46, 13.51, 13.59, 13.67, 13.75, 13.8, 13.83, 13.85, 13.88], \"type\": \"scatter\"}, {\"line\": {\"width\": 5}, \"marker\": {\"size\": [7.827384698927, 8.0479347938542, 8.271495633983399, 8.483905958896097, 8.7054132338003, 8.946702382126098, 9.1984560560904, 9.4593423451476, 9.713402740962499, 9.9673963721366, 10.223800158564702, 10.48313963682, 10.742163492702, 1100.06515247], \"sizemode\": \"area\", \"sizeref\": 2}, \"mode\": \"lines+markers\", \"name\": \"Africa\", \"text\": \"(Female(%), Male(%))\", \"x\": [12.32, 12.34, 12.36, 12.38, 12.4, 12.41, 12.43, 12.45, 12.47, 12.48, 12.49, 12.48, 12.47, 12.45], \"y\": [12.5, 12.52, 12.54, 12.56, 12.58, 12.59, 12.59, 12.6, 12.6, 12.59, 12.59, 12.58, 12.56, 12.53], \"type\": \"scatter\"}], \"name\": \"2003\"}, {\"data\": [{\"line\": {\"width\": 5}, \"marker\": {\"size\": [41.507048533637004, 42.247305328355004, 42.99837242127099, 43.755529240514, 44.497129753522, 45.230261942216, 45.969592620613, 46.720652318023, 47.478713310152, 48.237024300765995, 48.995617945636006, 49.746234375214, 50.499516955978, 51.250989148154005, 5198.856988665801], \"sizemode\": \"area\", \"sizeref\": 2}, \"mode\": \"lines+markers\", \"name\": \"Asia\", \"text\": \"(Female(%), Male(%))\", \"x\": [13.15, 13.18, 13.21, 13.25, 13.28, 13.32, 13.36, 13.41, 13.46, 13.51, 13.56, 13.61, 13.65, 13.7, 13.73], \"y\": [12.69, 12.7, 12.72, 12.75, 12.78, 12.8, 12.83, 12.86, 12.88, 12.91, 12.93, 12.96, 12.98, 13.0, 13.02], \"type\": \"scatter\"}, {\"line\": {\"width\": 5}, \"marker\": {\"size\": [11.569720858558, 11.631189460122002, 11.69017512627, 11.737069200834002, 11.777361005205998, 11.811418568808001, 11.842781858480999, 11.876011734311, 11.908208589172, 11.937853561178, 11.969235636410998, 11.998050562738001, 12.019802374393999, 12.036452518335, 1205.1977117267002], \"sizemode\": \"area\", \"sizeref\": 2}, \"mode\": \"lines+markers\", \"name\": \"Europe\", \"text\": \"(Female(%), Male(%))\", \"x\": [15.51, 15.54, 15.57, 15.61, 15.65, 15.69, 15.72, 15.75, 15.78, 15.8, 15.83, 15.85, 15.85, 15.85, 15.84], \"y\": [13.14, 13.16, 13.19, 13.22, 13.26, 13.29, 13.32, 13.35, 13.37, 13.39, 13.41, 13.42, 13.42, 13.41, 13.4], \"type\": \"scatter\"}, {\"line\": {\"width\": 5}, \"marker\": {\"size\": [0.07059487252018501, 0.07229065158469299, 0.07402553143406598, 0.075808479220901, 0.077650418185455, 0.07957903219068299, 0.081593470288486, 0.08369878890943099, 0.08589693480308601, 0.08820047221923501, 0.090623108445278, 0.093125540499872, 0.09567611743151401, 0.09829023328753599, 10.099792717217], \"sizemode\": \"area\", \"sizeref\": 2}, \"mode\": \"lines+markers\", \"name\": \"Oceania\", \"text\": \"(Female(%), Male(%))\", \"x\": [10.83, 10.84, 10.84, 10.83, 10.83, 10.83, 10.82, 10.82, 10.82, 10.82, 10.83, 10.85, 10.87, 10.89, 10.91], \"y\": [11.02, 11.02, 11.01, 11.0, 10.99, 10.98, 10.96, 10.95, 10.94, 10.93, 10.94, 10.95, 10.96, 10.98, 11.0], \"type\": \"scatter\"}, {\"line\": {\"width\": 5}, \"marker\": {\"size\": [10.435574998098001, 10.591623238304997, 10.754487838361, 10.922767653035999, 11.096432629956997, 11.275918196658, 11.485344435111001, 11.733403218282996, 11.99831867219, 12.256932115892003, 12.483046901423, 12.685524488104999, 12.885975826185, 13.082967746048, 1327.6190222787], \"sizemode\": \"area\", \"sizeref\": 2}, \"mode\": \"lines+markers\", \"name\": \"America\", \"text\": \"(Female(%), Male(%))\", \"x\": [15.67, 15.65, 15.64, 15.64, 15.65, 15.68, 15.76, 15.92, 16.11, 16.28, 16.39, 16.46, 16.53, 16.59, 16.64], \"y\": [13.42, 13.42, 13.42, 13.43, 13.44, 13.46, 13.51, 13.59, 13.67, 13.75, 13.8, 13.83, 13.85, 13.88, 13.9], \"type\": \"scatter\"}, {\"line\": {\"width\": 5}, \"marker\": {\"size\": [7.827384698927, 8.0479347938542, 8.271495633983399, 8.483905958896097, 8.7054132338003, 8.946702382126098, 9.1984560560904, 9.4593423451476, 9.713402740962499, 9.9673963721366, 10.223800158564702, 10.48313963682, 10.742163492702, 11.000651524699999, 1126.2418522780001], \"sizemode\": \"area\", \"sizeref\": 2}, \"mode\": \"lines+markers\", \"name\": \"Africa\", \"text\": \"(Female(%), Male(%))\", \"x\": [12.32, 12.34, 12.36, 12.38, 12.4, 12.41, 12.43, 12.45, 12.47, 12.48, 12.49, 12.48, 12.47, 12.45, 12.43], \"y\": [12.5, 12.52, 12.54, 12.56, 12.58, 12.59, 12.59, 12.6, 12.6, 12.59, 12.59, 12.58, 12.56, 12.53, 12.51], \"type\": \"scatter\"}], \"name\": \"2004\"}, {\"data\": [{\"line\": {\"width\": 5}, \"marker\": {\"size\": [41.507048533637004, 42.247305328355004, 42.99837242127099, 43.755529240514, 44.497129753522, 45.230261942216, 45.969592620613, 46.720652318023, 47.478713310152, 48.237024300765995, 48.995617945636006, 49.746234375214, 50.499516955978, 51.250989148154005, 51.988569886658006, 5272.6336062742], \"sizemode\": \"area\", \"sizeref\": 2}, \"mode\": \"lines+markers\", \"name\": \"Asia\", \"text\": \"(Female(%), Male(%))\", \"x\": [13.15, 13.18, 13.21, 13.25, 13.28, 13.32, 13.36, 13.41, 13.46, 13.51, 13.56, 13.61, 13.65, 13.7, 13.73, 13.77], \"y\": [12.69, 12.7, 12.72, 12.75, 12.78, 12.8, 12.83, 12.86, 12.88, 12.91, 12.93, 12.96, 12.98, 13.0, 13.02, 13.03], \"type\": \"scatter\"}, {\"line\": {\"width\": 5}, \"marker\": {\"size\": [11.569720858558, 11.631189460122002, 11.69017512627, 11.737069200834002, 11.777361005205998, 11.811418568808001, 11.842781858480999, 11.876011734311, 11.908208589172, 11.937853561178, 11.969235636410998, 11.998050562738001, 12.019802374393999, 12.036452518335, 12.051977117267002, 1206.9455889980998], \"sizemode\": \"area\", \"sizeref\": 2}, \"mode\": \"lines+markers\", \"name\": \"Europe\", \"text\": \"(Female(%), Male(%))\", \"x\": [15.51, 15.54, 15.57, 15.61, 15.65, 15.69, 15.72, 15.75, 15.78, 15.8, 15.83, 15.85, 15.85, 15.85, 15.84, 15.84], \"y\": [13.14, 13.16, 13.19, 13.22, 13.26, 13.29, 13.32, 13.35, 13.37, 13.39, 13.41, 13.42, 13.42, 13.41, 13.4, 13.39], \"type\": \"scatter\"}, {\"line\": {\"width\": 5}, \"marker\": {\"size\": [0.07059487252018501, 0.07229065158469299, 0.07402553143406598, 0.075808479220901, 0.077650418185455, 0.07957903219068299, 0.081593470288486, 0.08369878890943099, 0.08589693480308601, 0.08820047221923501, 0.090623108445278, 0.093125540499872, 0.09567611743151401, 0.09829023328753599, 0.10099792717217, 10.378657234629003], \"sizemode\": \"area\", \"sizeref\": 2}, \"mode\": \"lines+markers\", \"name\": \"Oceania\", \"text\": \"(Female(%), Male(%))\", \"x\": [10.83, 10.84, 10.84, 10.83, 10.83, 10.83, 10.82, 10.82, 10.82, 10.82, 10.83, 10.85, 10.87, 10.89, 10.91, 10.94], \"y\": [11.02, 11.02, 11.01, 11.0, 10.99, 10.98, 10.96, 10.95, 10.94, 10.93, 10.94, 10.95, 10.96, 10.98, 11.0, 11.02], \"type\": \"scatter\"}, {\"line\": {\"width\": 5}, \"marker\": {\"size\": [10.435574998098001, 10.591623238304997, 10.754487838361, 10.922767653035999, 11.096432629956997, 11.275918196658, 11.485344435111001, 11.733403218282996, 11.99831867219, 12.256932115892003, 12.483046901423, 12.685524488104999, 12.885975826185, 13.082967746048, 13.276190222787, 1346.1832295846], \"sizemode\": \"area\", \"sizeref\": 2}, \"mode\": \"lines+markers\", \"name\": \"America\", \"text\": \"(Female(%), Male(%))\", \"x\": [15.67, 15.65, 15.64, 15.64, 15.65, 15.68, 15.76, 15.92, 16.11, 16.28, 16.39, 16.46, 16.53, 16.59, 16.64, 16.67], \"y\": [13.42, 13.42, 13.42, 13.43, 13.44, 13.46, 13.51, 13.59, 13.67, 13.75, 13.8, 13.83, 13.85, 13.88, 13.9, 13.91], \"type\": \"scatter\"}, {\"line\": {\"width\": 5}, \"marker\": {\"size\": [7.827384698927, 8.0479347938542, 8.271495633983399, 8.483905958896097, 8.7054132338003, 8.946702382126098, 9.1984560560904, 9.4593423451476, 9.713402740962499, 9.9673963721366, 10.223800158564702, 10.48313963682, 10.742163492702, 11.000651524699999, 11.26241852278, 1153.326675437], \"sizemode\": \"area\", \"sizeref\": 2}, \"mode\": \"lines+markers\", \"name\": \"Africa\", \"text\": \"(Female(%), Male(%))\", \"x\": [12.32, 12.34, 12.36, 12.38, 12.4, 12.41, 12.43, 12.45, 12.47, 12.48, 12.49, 12.48, 12.47, 12.45, 12.43, 12.41], \"y\": [12.5, 12.52, 12.54, 12.56, 12.58, 12.59, 12.59, 12.6, 12.6, 12.59, 12.59, 12.58, 12.56, 12.53, 12.51, 12.48], \"type\": \"scatter\"}], \"name\": \"2005\"}, {\"data\": [{\"line\": {\"width\": 5}, \"marker\": {\"size\": [41.507048533637004, 42.247305328355004, 42.99837242127099, 43.755529240514, 44.497129753522, 45.230261942216, 45.969592620613, 46.720652318023, 47.478713310152, 48.237024300765995, 48.995617945636006, 49.746234375214, 50.499516955978, 51.250989148154005, 51.988569886658006, 52.726336062742, 5340.1822579593], \"sizemode\": \"area\", \"sizeref\": 2}, \"mode\": \"lines+markers\", \"name\": \"Asia\", \"text\": \"(Female(%), Male(%))\", \"x\": [13.15, 13.18, 13.21, 13.25, 13.28, 13.32, 13.36, 13.41, 13.46, 13.51, 13.56, 13.61, 13.65, 13.7, 13.73, 13.77, 13.79], \"y\": [12.69, 12.7, 12.72, 12.75, 12.78, 12.8, 12.83, 12.86, 12.88, 12.91, 12.93, 12.96, 12.98, 13.0, 13.02, 13.03, 13.03], \"type\": \"scatter\"}, {\"line\": {\"width\": 5}, \"marker\": {\"size\": [11.569720858558, 11.631189460122002, 11.69017512627, 11.737069200834002, 11.777361005205998, 11.811418568808001, 11.842781858480999, 11.876011734311, 11.908208589172, 11.937853561178, 11.969235636410998, 11.998050562738001, 12.019802374393999, 12.036452518335, 12.051977117267002, 12.069455889980999, 1209.0660396644], \"sizemode\": \"area\", \"sizeref\": 2}, \"mode\": \"lines+markers\", \"name\": \"Europe\", \"text\": \"(Female(%), Male(%))\", \"x\": [15.51, 15.54, 15.57, 15.61, 15.65, 15.69, 15.72, 15.75, 15.78, 15.8, 15.83, 15.85, 15.85, 15.85, 15.84, 15.84, 15.85], \"y\": [13.14, 13.16, 13.19, 13.22, 13.26, 13.29, 13.32, 13.35, 13.37, 13.39, 13.41, 13.42, 13.42, 13.41, 13.4, 13.39, 13.37], \"type\": \"scatter\"}, {\"line\": {\"width\": 5}, \"marker\": {\"size\": [0.07059487252018501, 0.07229065158469299, 0.07402553143406598, 0.075808479220901, 0.077650418185455, 0.07957903219068299, 0.081593470288486, 0.08369878890943099, 0.08589693480308601, 0.08820047221923501, 0.090623108445278, 0.093125540499872, 0.09567611743151401, 0.09829023328753599, 0.10099792717217, 0.10378657234629003, 10.664998538745001], \"sizemode\": \"area\", \"sizeref\": 2}, \"mode\": \"lines+markers\", \"name\": \"Oceania\", \"text\": \"(Female(%), Male(%))\", \"x\": [10.83, 10.84, 10.84, 10.83, 10.83, 10.83, 10.82, 10.82, 10.82, 10.82, 10.83, 10.85, 10.87, 10.89, 10.91, 10.94, 10.97], \"y\": [11.02, 11.02, 11.01, 11.0, 10.99, 10.98, 10.96, 10.95, 10.94, 10.93, 10.94, 10.95, 10.96, 10.98, 11.0, 11.02, 11.05], \"type\": \"scatter\"}, {\"line\": {\"width\": 5}, \"marker\": {\"size\": [10.435574998098001, 10.591623238304997, 10.754487838361, 10.922767653035999, 11.096432629956997, 11.275918196658, 11.485344435111001, 11.733403218282996, 11.99831867219, 12.256932115892003, 12.483046901423, 12.685524488104999, 12.885975826185, 13.082967746048, 13.276190222787, 13.461832295846, 1362.0177279108], \"sizemode\": \"area\", \"sizeref\": 2}, \"mode\": \"lines+markers\", \"name\": \"America\", \"text\": \"(Female(%), Male(%))\", \"x\": [15.67, 15.65, 15.64, 15.64, 15.65, 15.68, 15.76, 15.92, 16.11, 16.28, 16.39, 16.46, 16.53, 16.59, 16.64, 16.67, 16.67], \"y\": [13.42, 13.42, 13.42, 13.43, 13.44, 13.46, 13.51, 13.59, 13.67, 13.75, 13.8, 13.83, 13.85, 13.88, 13.9, 13.91, 13.9], \"type\": \"scatter\"}, {\"line\": {\"width\": 5}, \"marker\": {\"size\": [7.827384698927, 8.0479347938542, 8.271495633983399, 8.483905958896097, 8.7054132338003, 8.946702382126098, 9.1984560560904, 9.4593423451476, 9.713402740962499, 9.9673963721366, 10.223800158564702, 10.48313963682, 10.742163492702, 11.000651524699999, 11.26241852278, 11.533266754369999, 1181.1296375948], \"sizemode\": \"area\", \"sizeref\": 2}, \"mode\": \"lines+markers\", \"name\": \"Africa\", \"text\": \"(Female(%), Male(%))\", \"x\": [12.32, 12.34, 12.36, 12.38, 12.4, 12.41, 12.43, 12.45, 12.47, 12.48, 12.49, 12.48, 12.47, 12.45, 12.43, 12.41, 12.39], \"y\": [12.5, 12.52, 12.54, 12.56, 12.58, 12.59, 12.59, 12.6, 12.6, 12.59, 12.59, 12.58, 12.56, 12.53, 12.51, 12.48, 12.45], \"type\": \"scatter\"}], \"name\": \"2006\"}, {\"data\": [{\"line\": {\"width\": 5}, \"marker\": {\"size\": [41.507048533637004, 42.247305328355004, 42.99837242127099, 43.755529240514, 44.497129753522, 45.230261942216, 45.969592620613, 46.720652318023, 47.478713310152, 48.237024300765995, 48.995617945636006, 49.746234375214, 50.499516955978, 51.250989148154005, 51.988569886658006, 52.726336062742, 53.401822579592995, 5401.2022863642005], \"sizemode\": \"area\", \"sizeref\": 2}, \"mode\": \"lines+markers\", \"name\": \"Asia\", \"text\": \"(Female(%), Male(%))\", \"x\": [13.15, 13.18, 13.21, 13.25, 13.28, 13.32, 13.36, 13.41, 13.46, 13.51, 13.56, 13.61, 13.65, 13.7, 13.73, 13.77, 13.79, 13.78], \"y\": [12.69, 12.7, 12.72, 12.75, 12.78, 12.8, 12.83, 12.86, 12.88, 12.91, 12.93, 12.96, 12.98, 13.0, 13.02, 13.03, 13.03, 13.02], \"type\": \"scatter\"}, {\"line\": {\"width\": 5}, \"marker\": {\"size\": [11.569720858558, 11.631189460122002, 11.69017512627, 11.737069200834002, 11.777361005205998, 11.811418568808001, 11.842781858480999, 11.876011734311, 11.908208589172, 11.937853561178, 11.969235636410998, 11.998050562738001, 12.019802374393999, 12.036452518335, 12.051977117267002, 12.069455889980999, 12.090660396644001, 1211.4958552561], \"sizemode\": \"area\", \"sizeref\": 2}, \"mode\": \"lines+markers\", \"name\": \"Europe\", \"text\": \"(Female(%), Male(%))\", \"x\": [15.51, 15.54, 15.57, 15.61, 15.65, 15.69, 15.72, 15.75, 15.78, 15.8, 15.83, 15.85, 15.85, 15.85, 15.84, 15.84, 15.85, 15.87], \"y\": [13.14, 13.16, 13.19, 13.22, 13.26, 13.29, 13.32, 13.35, 13.37, 13.39, 13.41, 13.42, 13.42, 13.41, 13.4, 13.39, 13.37, 13.34], \"type\": \"scatter\"}, {\"line\": {\"width\": 5}, \"marker\": {\"size\": [0.07059487252018501, 0.07229065158469299, 0.07402553143406598, 0.075808479220901, 0.077650418185455, 0.07957903219068299, 0.081593470288486, 0.08369878890943099, 0.08589693480308601, 0.08820047221923501, 0.090623108445278, 0.093125540499872, 0.09567611743151401, 0.09829023328753599, 0.10099792717217, 0.10378657234629003, 0.10664998538745002, 10.955386664782997], \"sizemode\": \"area\", \"sizeref\": 2}, \"mode\": \"lines+markers\", \"name\": \"Oceania\", \"text\": \"(Female(%), Male(%))\", \"x\": [10.83, 10.84, 10.84, 10.83, 10.83, 10.83, 10.82, 10.82, 10.82, 10.82, 10.83, 10.85, 10.87, 10.89, 10.91, 10.94, 10.97, 10.99], \"y\": [11.02, 11.02, 11.01, 11.0, 10.99, 10.98, 10.96, 10.95, 10.94, 10.93, 10.94, 10.95, 10.96, 10.98, 11.0, 11.02, 11.05, 11.07], \"type\": \"scatter\"}, {\"line\": {\"width\": 5}, \"marker\": {\"size\": [10.435574998098001, 10.591623238304997, 10.754487838361, 10.922767653035999, 11.096432629956997, 11.275918196658, 11.485344435111001, 11.733403218282996, 11.99831867219, 12.256932115892003, 12.483046901423, 12.685524488104999, 12.885975826185, 13.082967746048, 13.276190222787, 13.461832295846, 13.620177279108, 1374.3075485068], \"sizemode\": \"area\", \"sizeref\": 2}, \"mode\": \"lines+markers\", \"name\": \"America\", \"text\": \"(Female(%), Male(%))\", \"x\": [15.67, 15.65, 15.64, 15.64, 15.65, 15.68, 15.76, 15.92, 16.11, 16.28, 16.39, 16.46, 16.53, 16.59, 16.64, 16.67, 16.67, 16.6], \"y\": [13.42, 13.42, 13.42, 13.43, 13.44, 13.46, 13.51, 13.59, 13.67, 13.75, 13.8, 13.83, 13.85, 13.88, 13.9, 13.91, 13.9, 13.87], \"type\": \"scatter\"}, {\"line\": {\"width\": 5}, \"marker\": {\"size\": [7.827384698927, 8.0479347938542, 8.271495633983399, 8.483905958896097, 8.7054132338003, 8.946702382126098, 9.1984560560904, 9.4593423451476, 9.713402740962499, 9.9673963721366, 10.223800158564702, 10.48313963682, 10.742163492702, 11.000651524699999, 11.26241852278, 11.533266754369999, 11.811296375948, 1209.453301357], \"sizemode\": \"area\", \"sizeref\": 2}, \"mode\": \"lines+markers\", \"name\": \"Africa\", \"text\": \"(Female(%), Male(%))\", \"x\": [12.32, 12.34, 12.36, 12.38, 12.4, 12.41, 12.43, 12.45, 12.47, 12.48, 12.49, 12.48, 12.47, 12.45, 12.43, 12.41, 12.39, 12.37], \"y\": [12.5, 12.52, 12.54, 12.56, 12.58, 12.59, 12.59, 12.6, 12.6, 12.59, 12.59, 12.58, 12.56, 12.53, 12.51, 12.48, 12.45, 12.42], \"type\": \"scatter\"}], \"name\": \"2007\"}, {\"data\": [{\"line\": {\"width\": 5}, \"marker\": {\"size\": [41.507048533637004, 42.247305328355004, 42.99837242127099, 43.755529240514, 44.497129753522, 45.230261942216, 45.969592620613, 46.720652318023, 47.478713310152, 48.237024300765995, 48.995617945636006, 49.746234375214, 50.499516955978, 51.250989148154005, 51.988569886658006, 52.726336062742, 53.401822579592995, 54.012022863642, 5460.789265178299], \"sizemode\": \"area\", \"sizeref\": 2}, \"mode\": \"lines+markers\", \"name\": \"Asia\", \"text\": \"(Female(%), Male(%))\", \"x\": [13.15, 13.18, 13.21, 13.25, 13.28, 13.32, 13.36, 13.41, 13.46, 13.51, 13.56, 13.61, 13.65, 13.7, 13.73, 13.77, 13.79, 13.78, 13.76], \"y\": [12.69, 12.7, 12.72, 12.75, 12.78, 12.8, 12.83, 12.86, 12.88, 12.91, 12.93, 12.96, 12.98, 13.0, 13.02, 13.03, 13.03, 13.02, 13.0], \"type\": \"scatter\"}, {\"line\": {\"width\": 5}, \"marker\": {\"size\": [11.569720858558, 11.631189460122002, 11.69017512627, 11.737069200834002, 11.777361005205998, 11.811418568808001, 11.842781858480999, 11.876011734311, 11.908208589172, 11.937853561178, 11.969235636410998, 11.998050562738001, 12.019802374393999, 12.036452518335, 12.051977117267002, 12.069455889980999, 12.090660396644001, 12.114958552561, 1213.8204154105], \"sizemode\": \"area\", \"sizeref\": 2}, \"mode\": \"lines+markers\", \"name\": \"Europe\", \"text\": \"(Female(%), Male(%))\", \"x\": [15.51, 15.54, 15.57, 15.61, 15.65, 15.69, 15.72, 15.75, 15.78, 15.8, 15.83, 15.85, 15.85, 15.85, 15.84, 15.84, 15.85, 15.87, 15.88], \"y\": [13.14, 13.16, 13.19, 13.22, 13.26, 13.29, 13.32, 13.35, 13.37, 13.39, 13.41, 13.42, 13.42, 13.41, 13.4, 13.39, 13.37, 13.34, 13.31], \"type\": \"scatter\"}, {\"line\": {\"width\": 5}, \"marker\": {\"size\": [0.07059487252018501, 0.07229065158469299, 0.07402553143406598, 0.075808479220901, 0.077650418185455, 0.07957903219068299, 0.081593470288486, 0.08369878890943099, 0.08589693480308601, 0.08820047221923501, 0.090623108445278, 0.093125540499872, 0.09567611743151401, 0.09829023328753599, 0.10099792717217, 0.10378657234629003, 0.10664998538745002, 0.10955386664782997, 11.248195849502], \"sizemode\": \"area\", \"sizeref\": 2}, \"mode\": \"lines+markers\", \"name\": \"Oceania\", \"text\": \"(Female(%), Male(%))\", \"x\": [10.83, 10.84, 10.84, 10.83, 10.83, 10.83, 10.82, 10.82, 10.82, 10.82, 10.83, 10.85, 10.87, 10.89, 10.91, 10.94, 10.97, 10.99, 11.0], \"y\": [11.02, 11.02, 11.01, 11.0, 10.99, 10.98, 10.96, 10.95, 10.94, 10.93, 10.94, 10.95, 10.96, 10.98, 11.0, 11.02, 11.05, 11.07, 11.1], \"type\": \"scatter\"}, {\"line\": {\"width\": 5}, \"marker\": {\"size\": [10.435574998098001, 10.591623238304997, 10.754487838361, 10.922767653035999, 11.096432629956997, 11.275918196658, 11.485344435111001, 11.733403218282996, 11.99831867219, 12.256932115892003, 12.483046901423, 12.685524488104999, 12.885975826185, 13.082967746048, 13.276190222787, 13.461832295846, 13.620177279108, 13.743075485068, 1384.9273317374998], \"sizemode\": \"area\", \"sizeref\": 2}, \"mode\": \"lines+markers\", \"name\": \"America\", \"text\": \"(Female(%), Male(%))\", \"x\": [15.67, 15.65, 15.64, 15.64, 15.65, 15.68, 15.76, 15.92, 16.11, 16.28, 16.39, 16.46, 16.53, 16.59, 16.64, 16.67, 16.67, 16.6, 16.52], \"y\": [13.42, 13.42, 13.42, 13.43, 13.44, 13.46, 13.51, 13.59, 13.67, 13.75, 13.8, 13.83, 13.85, 13.88, 13.9, 13.91, 13.9, 13.87, 13.83], \"type\": \"scatter\"}, {\"line\": {\"width\": 5}, \"marker\": {\"size\": [7.827384698927, 8.0479347938542, 8.271495633983399, 8.483905958896097, 8.7054132338003, 8.946702382126098, 9.1984560560904, 9.4593423451476, 9.713402740962499, 9.9673963721366, 10.223800158564702, 10.48313963682, 10.742163492702, 11.000651524699999, 11.26241852278, 11.533266754369999, 11.811296375948, 12.094533013570002, 1238.5127875768], \"sizemode\": \"area\", \"sizeref\": 2}, \"mode\": \"lines+markers\", \"name\": \"Africa\", \"text\": \"(Female(%), Male(%))\", \"x\": [12.32, 12.34, 12.36, 12.38, 12.4, 12.41, 12.43, 12.45, 12.47, 12.48, 12.49, 12.48, 12.47, 12.45, 12.43, 12.41, 12.39, 12.37, 12.35], \"y\": [12.5, 12.52, 12.54, 12.56, 12.58, 12.59, 12.59, 12.6, 12.6, 12.59, 12.59, 12.58, 12.56, 12.53, 12.51, 12.48, 12.45, 12.42, 12.39], \"type\": \"scatter\"}], \"name\": \"2008\"}, {\"data\": [{\"line\": {\"width\": 5}, \"marker\": {\"size\": [41.507048533637004, 42.247305328355004, 42.99837242127099, 43.755529240514, 44.497129753522, 45.230261942216, 45.969592620613, 46.720652318023, 47.478713310152, 48.237024300765995, 48.995617945636006, 49.746234375214, 50.499516955978, 51.250989148154005, 51.988569886658006, 52.726336062742, 53.401822579592995, 54.012022863642, 54.60789265178299, 5522.6972241962], \"sizemode\": \"area\", \"sizeref\": 2}, \"mode\": \"lines+markers\", \"name\": \"Asia\", \"text\": \"(Female(%), Male(%))\", \"x\": [13.15, 13.18, 13.21, 13.25, 13.28, 13.32, 13.36, 13.41, 13.46, 13.51, 13.56, 13.61, 13.65, 13.7, 13.73, 13.77, 13.79, 13.78, 13.76, 13.75], \"y\": [12.69, 12.7, 12.72, 12.75, 12.78, 12.8, 12.83, 12.86, 12.88, 12.91, 12.93, 12.96, 12.98, 13.0, 13.02, 13.03, 13.03, 13.02, 13.0, 12.99], \"type\": \"scatter\"}, {\"line\": {\"width\": 5}, \"marker\": {\"size\": [11.569720858558, 11.631189460122002, 11.69017512627, 11.737069200834002, 11.777361005205998, 11.811418568808001, 11.842781858480999, 11.876011734311, 11.908208589172, 11.937853561178, 11.969235636410998, 11.998050562738001, 12.019802374393999, 12.036452518335, 12.051977117267002, 12.069455889980999, 12.090660396644001, 12.114958552561, 12.138204154104999, 1215.9560423934001], \"sizemode\": \"area\", \"sizeref\": 2}, \"mode\": \"lines+markers\", \"name\": \"Europe\", \"text\": \"(Female(%), Male(%))\", \"x\": [15.51, 15.54, 15.57, 15.61, 15.65, 15.69, 15.72, 15.75, 15.78, 15.8, 15.83, 15.85, 15.85, 15.85, 15.84, 15.84, 15.85, 15.87, 15.88, 15.88], \"y\": [13.14, 13.16, 13.19, 13.22, 13.26, 13.29, 13.32, 13.35, 13.37, 13.39, 13.41, 13.42, 13.42, 13.41, 13.4, 13.39, 13.37, 13.34, 13.31, 13.28], \"type\": \"scatter\"}, {\"line\": {\"width\": 5}, \"marker\": {\"size\": [0.07059487252018501, 0.07229065158469299, 0.07402553143406598, 0.075808479220901, 0.077650418185455, 0.07957903219068299, 0.081593470288486, 0.08369878890943099, 0.08589693480308601, 0.08820047221923501, 0.090623108445278, 0.093125540499872, 0.09567611743151401, 0.09829023328753599, 0.10099792717217, 0.10378657234629003, 0.10664998538745002, 0.10955386664782997, 0.11248195849502, 11.538501416971002], \"sizemode\": \"area\", \"sizeref\": 2}, \"mode\": \"lines+markers\", \"name\": \"Oceania\", \"text\": \"(Female(%), Male(%))\", \"x\": [10.83, 10.84, 10.84, 10.83, 10.83, 10.83, 10.82, 10.82, 10.82, 10.82, 10.83, 10.85, 10.87, 10.89, 10.91, 10.94, 10.97, 10.99, 11.0, 11.01], \"y\": [11.02, 11.02, 11.01, 11.0, 10.99, 10.98, 10.96, 10.95, 10.94, 10.93, 10.94, 10.95, 10.96, 10.98, 11.0, 11.02, 11.05, 11.07, 11.1, 11.11], \"type\": \"scatter\"}, {\"line\": {\"width\": 5}, \"marker\": {\"size\": [10.435574998098001, 10.591623238304997, 10.754487838361, 10.922767653035999, 11.096432629956997, 11.275918196658, 11.485344435111001, 11.733403218282996, 11.99831867219, 12.256932115892003, 12.483046901423, 12.685524488104999, 12.885975826185, 13.082967746048, 13.276190222787, 13.461832295846, 13.620177279108, 13.743075485068, 13.849273317374998, 1395.8507316024002], \"sizemode\": \"area\", \"sizeref\": 2}, \"mode\": \"lines+markers\", \"name\": \"America\", \"text\": \"(Female(%), Male(%))\", \"x\": [15.67, 15.65, 15.64, 15.64, 15.65, 15.68, 15.76, 15.92, 16.11, 16.28, 16.39, 16.46, 16.53, 16.59, 16.64, 16.67, 16.67, 16.6, 16.52, 16.44], \"y\": [13.42, 13.42, 13.42, 13.43, 13.44, 13.46, 13.51, 13.59, 13.67, 13.75, 13.8, 13.83, 13.85, 13.88, 13.9, 13.91, 13.9, 13.87, 13.83, 13.79], \"type\": \"scatter\"}, {\"line\": {\"width\": 5}, \"marker\": {\"size\": [7.827384698927, 8.0479347938542, 8.271495633983399, 8.483905958896097, 8.7054132338003, 8.946702382126098, 9.1984560560904, 9.4593423451476, 9.713402740962499, 9.9673963721366, 10.223800158564702, 10.48313963682, 10.742163492702, 11.000651524699999, 11.26241852278, 11.533266754369999, 11.811296375948, 12.094533013570002, 12.385127875768, 1268.5061003911], \"sizemode\": \"area\", \"sizeref\": 2}, \"mode\": \"lines+markers\", \"name\": \"Africa\", \"text\": \"(Female(%), Male(%))\", \"x\": [12.32, 12.34, 12.36, 12.38, 12.4, 12.41, 12.43, 12.45, 12.47, 12.48, 12.49, 12.48, 12.47, 12.45, 12.43, 12.41, 12.39, 12.37, 12.35, 12.33], \"y\": [12.5, 12.52, 12.54, 12.56, 12.58, 12.59, 12.59, 12.6, 12.6, 12.59, 12.59, 12.58, 12.56, 12.53, 12.51, 12.48, 12.45, 12.42, 12.39, 12.36], \"type\": \"scatter\"}], \"name\": \"2009\"}, {\"data\": [{\"line\": {\"width\": 5}, \"marker\": {\"size\": [41.507048533637004, 42.247305328355004, 42.99837242127099, 43.755529240514, 44.497129753522, 45.230261942216, 45.969592620613, 46.720652318023, 47.478713310152, 48.237024300765995, 48.995617945636006, 49.746234375214, 50.499516955978, 51.250989148154005, 51.988569886658006, 52.726336062742, 53.401822579592995, 54.012022863642, 54.60789265178299, 55.226972241962, 5588.314758750901], \"sizemode\": \"area\", \"sizeref\": 2}, \"mode\": \"lines+markers\", \"name\": \"Asia\", \"text\": \"(Female(%), Male(%))\", \"x\": [13.15, 13.18, 13.21, 13.25, 13.28, 13.32, 13.36, 13.41, 13.46, 13.51, 13.56, 13.61, 13.65, 13.7, 13.73, 13.77, 13.79, 13.78, 13.76, 13.75, 13.76], \"y\": [12.69, 12.7, 12.72, 12.75, 12.78, 12.8, 12.83, 12.86, 12.88, 12.91, 12.93, 12.96, 12.98, 13.0, 13.02, 13.03, 13.03, 13.02, 13.0, 12.99, 12.99], \"type\": \"scatter\"}, {\"line\": {\"width\": 5}, \"marker\": {\"size\": [11.569720858558, 11.631189460122002, 11.69017512627, 11.737069200834002, 11.777361005205998, 11.811418568808001, 11.842781858480999, 11.876011734311, 11.908208589172, 11.937853561178, 11.969235636410998, 11.998050562738001, 12.019802374393999, 12.036452518335, 12.051977117267002, 12.069455889980999, 12.090660396644001, 12.114958552561, 12.138204154104999, 12.159560423934002, 1217.8399440065002], \"sizemode\": \"area\", \"sizeref\": 2}, \"mode\": \"lines+markers\", \"name\": \"Europe\", \"text\": \"(Female(%), Male(%))\", \"x\": [15.51, 15.54, 15.57, 15.61, 15.65, 15.69, 15.72, 15.75, 15.78, 15.8, 15.83, 15.85, 15.85, 15.85, 15.84, 15.84, 15.85, 15.87, 15.88, 15.88, 15.88], \"y\": [13.14, 13.16, 13.19, 13.22, 13.26, 13.29, 13.32, 13.35, 13.37, 13.39, 13.41, 13.42, 13.42, 13.41, 13.4, 13.39, 13.37, 13.34, 13.31, 13.28, 13.25], \"type\": \"scatter\"}, {\"line\": {\"width\": 5}, \"marker\": {\"size\": [0.07059487252018501, 0.07229065158469299, 0.07402553143406598, 0.075808479220901, 0.077650418185455, 0.07957903219068299, 0.081593470288486, 0.08369878890943099, 0.08589693480308601, 0.08820047221923501, 0.090623108445278, 0.093125540499872, 0.09567611743151401, 0.09829023328753599, 0.10099792717217, 0.10378657234629003, 0.10664998538745002, 0.10955386664782997, 0.11248195849502, 0.11538501416971002, 11.828115080485999], \"sizemode\": \"area\", \"sizeref\": 2}, \"mode\": \"lines+markers\", \"name\": \"Oceania\", \"text\": \"(Female(%), Male(%))\", \"x\": [10.83, 10.84, 10.84, 10.83, 10.83, 10.83, 10.82, 10.82, 10.82, 10.82, 10.83, 10.85, 10.87, 10.89, 10.91, 10.94, 10.97, 10.99, 11.0, 11.01, 11.02], \"y\": [11.02, 11.02, 11.01, 11.0, 10.99, 10.98, 10.96, 10.95, 10.94, 10.93, 10.94, 10.95, 10.96, 10.98, 11.0, 11.02, 11.05, 11.07, 11.1, 11.11, 11.11], \"type\": \"scatter\"}, {\"line\": {\"width\": 5}, \"marker\": {\"size\": [10.435574998098001, 10.591623238304997, 10.754487838361, 10.922767653035999, 11.096432629956997, 11.275918196658, 11.485344435111001, 11.733403218282996, 11.99831867219, 12.256932115892003, 12.483046901423, 12.685524488104999, 12.885975826185, 13.082967746048, 13.276190222787, 13.461832295846, 13.620177279108, 13.743075485068, 13.849273317374998, 13.958507316024003, 1408.8389256693], \"sizemode\": \"area\", \"sizeref\": 2}, \"mode\": \"lines+markers\", \"name\": \"America\", \"text\": \"(Female(%), Male(%))\", \"x\": [15.67, 15.65, 15.64, 15.64, 15.65, 15.68, 15.76, 15.92, 16.11, 16.28, 16.39, 16.46, 16.53, 16.59, 16.64, 16.67, 16.67, 16.6, 16.52, 16.44, 16.4], \"y\": [13.42, 13.42, 13.42, 13.43, 13.44, 13.46, 13.51, 13.59, 13.67, 13.75, 13.8, 13.83, 13.85, 13.88, 13.9, 13.91, 13.9, 13.87, 13.83, 13.79, 13.77], \"type\": \"scatter\"}, {\"line\": {\"width\": 5}, \"marker\": {\"size\": [7.827384698927, 8.0479347938542, 8.271495633983399, 8.483905958896097, 8.7054132338003, 8.946702382126098, 9.1984560560904, 9.4593423451476, 9.713402740962499, 9.9673963721366, 10.223800158564702, 10.48313963682, 10.742163492702, 11.000651524699999, 11.26241852278, 11.533266754369999, 11.811296375948, 12.094533013570002, 12.385127875768, 12.685061003911, 1299.3203832138], \"sizemode\": \"area\", \"sizeref\": 2}, \"mode\": \"lines+markers\", \"name\": \"Africa\", \"text\": \"(Female(%), Male(%))\", \"x\": [12.32, 12.34, 12.36, 12.38, 12.4, 12.41, 12.43, 12.45, 12.47, 12.48, 12.49, 12.48, 12.47, 12.45, 12.43, 12.41, 12.39, 12.37, 12.35, 12.33, 12.31], \"y\": [12.5, 12.52, 12.54, 12.56, 12.58, 12.59, 12.59, 12.6, 12.6, 12.59, 12.59, 12.58, 12.56, 12.53, 12.51, 12.48, 12.45, 12.42, 12.39, 12.36, 12.34], \"type\": \"scatter\"}], \"name\": \"2010\"}, {\"data\": [{\"line\": {\"width\": 5}, \"marker\": {\"size\": [41.507048533637004, 42.247305328355004, 42.99837242127099, 43.755529240514, 44.497129753522, 45.230261942216, 45.969592620613, 46.720652318023, 47.478713310152, 48.237024300765995, 48.995617945636006, 49.746234375214, 50.499516955978, 51.250989148154005, 51.988569886658006, 52.726336062742, 53.401822579592995, 54.012022863642, 54.60789265178299, 55.226972241962, 55.883147587509015, 5658.5590778611], \"sizemode\": \"area\", \"sizeref\": 2}, \"mode\": \"lines+markers\", \"name\": \"Asia\", \"text\": \"(Female(%), Male(%))\", \"x\": [13.15, 13.18, 13.21, 13.25, 13.28, 13.32, 13.36, 13.41, 13.46, 13.51, 13.56, 13.61, 13.65, 13.7, 13.73, 13.77, 13.79, 13.78, 13.76, 13.75, 13.76, 13.79], \"y\": [12.69, 12.7, 12.72, 12.75, 12.78, 12.8, 12.83, 12.86, 12.88, 12.91, 12.93, 12.96, 12.98, 13.0, 13.02, 13.03, 13.03, 13.02, 13.0, 12.99, 12.99, 12.99], \"type\": \"scatter\"}, {\"line\": {\"width\": 5}, \"marker\": {\"size\": [11.569720858558, 11.631189460122002, 11.69017512627, 11.737069200834002, 11.777361005205998, 11.811418568808001, 11.842781858480999, 11.876011734311, 11.908208589172, 11.937853561178, 11.969235636410998, 11.998050562738001, 12.019802374393999, 12.036452518335, 12.051977117267002, 12.069455889980999, 12.090660396644001, 12.114958552561, 12.138204154104999, 12.159560423934002, 12.178399440065002, 1219.3352833323997], \"sizemode\": \"area\", \"sizeref\": 2}, \"mode\": \"lines+markers\", \"name\": \"Europe\", \"text\": \"(Female(%), Male(%))\", \"x\": [15.51, 15.54, 15.57, 15.61, 15.65, 15.69, 15.72, 15.75, 15.78, 15.8, 15.83, 15.85, 15.85, 15.85, 15.84, 15.84, 15.85, 15.87, 15.88, 15.88, 15.88, 15.87], \"y\": [13.14, 13.16, 13.19, 13.22, 13.26, 13.29, 13.32, 13.35, 13.37, 13.39, 13.41, 13.42, 13.42, 13.41, 13.4, 13.39, 13.37, 13.34, 13.31, 13.28, 13.25, 13.23], \"type\": \"scatter\"}, {\"line\": {\"width\": 5}, \"marker\": {\"size\": [0.07059487252018501, 0.07229065158469299, 0.07402553143406598, 0.075808479220901, 0.077650418185455, 0.07957903219068299, 0.081593470288486, 0.08369878890943099, 0.08589693480308601, 0.08820047221923501, 0.090623108445278, 0.093125540499872, 0.09567611743151401, 0.09829023328753599, 0.10099792717217, 0.10378657234629003, 0.10664998538745002, 0.10955386664782997, 0.11248195849502, 0.11538501416971002, 0.11828115080485999, 12.115084743011998], \"sizemode\": \"area\", \"sizeref\": 2}, \"mode\": \"lines+markers\", \"name\": \"Oceania\", \"text\": \"(Female(%), Male(%))\", \"x\": [10.83, 10.84, 10.84, 10.83, 10.83, 10.83, 10.82, 10.82, 10.82, 10.82, 10.83, 10.85, 10.87, 10.89, 10.91, 10.94, 10.97, 10.99, 11.0, 11.01, 11.02, 11.02], \"y\": [11.02, 11.02, 11.01, 11.0, 10.99, 10.98, 10.96, 10.95, 10.94, 10.93, 10.94, 10.95, 10.96, 10.98, 11.0, 11.02, 11.05, 11.07, 11.1, 11.11, 11.11, 11.11], \"type\": \"scatter\"}, {\"line\": {\"width\": 5}, \"marker\": {\"size\": [10.435574998098001, 10.591623238304997, 10.754487838361, 10.922767653035999, 11.096432629956997, 11.275918196658, 11.485344435111001, 11.733403218282996, 11.99831867219, 12.256932115892003, 12.483046901423, 12.685524488104999, 12.885975826185, 13.082967746048, 13.276190222787, 13.461832295846, 13.620177279108, 13.743075485068, 13.849273317374998, 13.958507316024003, 14.088389256693, 1423.4866221311], \"sizemode\": \"area\", \"sizeref\": 2}, \"mode\": \"lines+markers\", \"name\": \"America\", \"text\": \"(Female(%), Male(%))\", \"x\": [15.67, 15.65, 15.64, 15.64, 15.65, 15.68, 15.76, 15.92, 16.11, 16.28, 16.39, 16.46, 16.53, 16.59, 16.64, 16.67, 16.67, 16.6, 16.52, 16.44, 16.4, 16.39], \"y\": [13.42, 13.42, 13.42, 13.43, 13.44, 13.46, 13.51, 13.59, 13.67, 13.75, 13.8, 13.83, 13.85, 13.88, 13.9, 13.91, 13.9, 13.87, 13.83, 13.79, 13.77, 13.76], \"type\": \"scatter\"}, {\"line\": {\"width\": 5}, \"marker\": {\"size\": [7.827384698927, 8.0479347938542, 8.271495633983399, 8.483905958896097, 8.7054132338003, 8.946702382126098, 9.1984560560904, 9.4593423451476, 9.713402740962499, 9.9673963721366, 10.223800158564702, 10.48313963682, 10.742163492702, 11.000651524699999, 11.26241852278, 11.533266754369999, 11.811296375948, 12.094533013570002, 12.385127875768, 12.685061003911, 12.993203832137999, 1331.3013372022], \"sizemode\": \"area\", \"sizeref\": 2}, \"mode\": \"lines+markers\", \"name\": \"Africa\", \"text\": \"(Female(%), Male(%))\", \"x\": [12.32, 12.34, 12.36, 12.38, 12.4, 12.41, 12.43, 12.45, 12.47, 12.48, 12.49, 12.48, 12.47, 12.45, 12.43, 12.41, 12.39, 12.37, 12.35, 12.33, 12.31, 12.3], \"y\": [12.5, 12.52, 12.54, 12.56, 12.58, 12.59, 12.59, 12.6, 12.6, 12.59, 12.59, 12.58, 12.56, 12.53, 12.51, 12.48, 12.45, 12.42, 12.39, 12.36, 12.34, 12.32], \"type\": \"scatter\"}], \"name\": \"2011\"}, {\"data\": [{\"line\": {\"width\": 5}, \"marker\": {\"size\": [41.507048533637004, 42.247305328355004, 42.99837242127099, 43.755529240514, 44.497129753522, 45.230261942216, 45.969592620613, 46.720652318023, 47.478713310152, 48.237024300765995, 48.995617945636006, 49.746234375214, 50.499516955978, 51.250989148154005, 51.988569886658006, 52.726336062742, 53.401822579592995, 54.012022863642, 54.60789265178299, 55.226972241962, 55.883147587509015, 56.58559077861101, 5727.874937964601], \"sizemode\": \"area\", \"sizeref\": 2}, \"mode\": \"lines+markers\", \"name\": \"Asia\", \"text\": \"(Female(%), Male(%))\", \"x\": [13.15, 13.18, 13.21, 13.25, 13.28, 13.32, 13.36, 13.41, 13.46, 13.51, 13.56, 13.61, 13.65, 13.7, 13.73, 13.77, 13.79, 13.78, 13.76, 13.75, 13.76, 13.79, 13.81], \"y\": [12.69, 12.7, 12.72, 12.75, 12.78, 12.8, 12.83, 12.86, 12.88, 12.91, 12.93, 12.96, 12.98, 13.0, 13.02, 13.03, 13.03, 13.02, 13.0, 12.99, 12.99, 12.99, 13.0], \"type\": \"scatter\"}, {\"line\": {\"width\": 5}, \"marker\": {\"size\": [11.569720858558, 11.631189460122002, 11.69017512627, 11.737069200834002, 11.777361005205998, 11.811418568808001, 11.842781858480999, 11.876011734311, 11.908208589172, 11.937853561178, 11.969235636410998, 11.998050562738001, 12.019802374393999, 12.036452518335, 12.051977117267002, 12.069455889980999, 12.090660396644001, 12.114958552561, 12.138204154104999, 12.159560423934002, 12.178399440065002, 12.193352833323997, 1221.0290326186], \"sizemode\": \"area\", \"sizeref\": 2}, \"mode\": \"lines+markers\", \"name\": \"Europe\", \"text\": \"(Female(%), Male(%))\", \"x\": [15.51, 15.54, 15.57, 15.61, 15.65, 15.69, 15.72, 15.75, 15.78, 15.8, 15.83, 15.85, 15.85, 15.85, 15.84, 15.84, 15.85, 15.87, 15.88, 15.88, 15.88, 15.87, 15.86], \"y\": [13.14, 13.16, 13.19, 13.22, 13.26, 13.29, 13.32, 13.35, 13.37, 13.39, 13.41, 13.42, 13.42, 13.41, 13.4, 13.39, 13.37, 13.34, 13.31, 13.28, 13.25, 13.23, 13.21], \"type\": \"scatter\"}, {\"line\": {\"width\": 5}, \"marker\": {\"size\": [0.07059487252018501, 0.07229065158469299, 0.07402553143406598, 0.075808479220901, 0.077650418185455, 0.07957903219068299, 0.081593470288486, 0.08369878890943099, 0.08589693480308601, 0.08820047221923501, 0.090623108445278, 0.093125540499872, 0.09567611743151401, 0.09829023328753599, 0.10099792717217, 0.10378657234629003, 0.10664998538745002, 0.10955386664782997, 0.11248195849502, 0.11538501416971002, 0.11828115080485999, 0.12115084743011999, 12.399141619404], \"sizemode\": \"area\", \"sizeref\": 2}, \"mode\": \"lines+markers\", \"name\": \"Oceania\", \"text\": \"(Female(%), Male(%))\", \"x\": [10.83, 10.84, 10.84, 10.83, 10.83, 10.83, 10.82, 10.82, 10.82, 10.82, 10.83, 10.85, 10.87, 10.89, 10.91, 10.94, 10.97, 10.99, 11.0, 11.01, 11.02, 11.02, 11.02], \"y\": [11.02, 11.02, 11.01, 11.0, 10.99, 10.98, 10.96, 10.95, 10.94, 10.93, 10.94, 10.95, 10.96, 10.98, 11.0, 11.02, 11.05, 11.07, 11.1, 11.11, 11.11, 11.11, 11.1], \"type\": \"scatter\"}, {\"line\": {\"width\": 5}, \"marker\": {\"size\": [10.435574998098001, 10.591623238304997, 10.754487838361, 10.922767653035999, 11.096432629956997, 11.275918196658, 11.485344435111001, 11.733403218282996, 11.99831867219, 12.256932115892003, 12.483046901423, 12.685524488104999, 12.885975826185, 13.082967746048, 13.276190222787, 13.461832295846, 13.620177279108, 13.743075485068, 13.849273317374998, 13.958507316024003, 14.088389256693, 14.234866221311, 1437.8484816067005], \"sizemode\": \"area\", \"sizeref\": 2}, \"mode\": \"lines+markers\", \"name\": \"America\", \"text\": \"(Female(%), Male(%))\", \"x\": [15.67, 15.65, 15.64, 15.64, 15.65, 15.68, 15.76, 15.92, 16.11, 16.28, 16.39, 16.46, 16.53, 16.59, 16.64, 16.67, 16.67, 16.6, 16.52, 16.44, 16.4, 16.39, 16.38], \"y\": [13.42, 13.42, 13.42, 13.43, 13.44, 13.46, 13.51, 13.59, 13.67, 13.75, 13.8, 13.83, 13.85, 13.88, 13.9, 13.91, 13.9, 13.87, 13.83, 13.79, 13.77, 13.76, 13.75], \"type\": \"scatter\"}, {\"line\": {\"width\": 5}, \"marker\": {\"size\": [7.827384698927, 8.0479347938542, 8.271495633983399, 8.483905958896097, 8.7054132338003, 8.946702382126098, 9.1984560560904, 9.4593423451476, 9.713402740962499, 9.9673963721366, 10.223800158564702, 10.48313963682, 10.742163492702, 11.000651524699999, 11.26241852278, 11.533266754369999, 11.811296375948, 12.094533013570002, 12.385127875768, 12.685061003911, 12.993203832137999, 13.313013372022, 1364.5373051673998], \"sizemode\": \"area\", \"sizeref\": 2}, \"mode\": \"lines+markers\", \"name\": \"Africa\", \"text\": \"(Female(%), Male(%))\", \"x\": [12.32, 12.34, 12.36, 12.38, 12.4, 12.41, 12.43, 12.45, 12.47, 12.48, 12.49, 12.48, 12.47, 12.45, 12.43, 12.41, 12.39, 12.37, 12.35, 12.33, 12.31, 12.3, 12.29], \"y\": [12.5, 12.52, 12.54, 12.56, 12.58, 12.59, 12.59, 12.6, 12.6, 12.59, 12.59, 12.58, 12.56, 12.53, 12.51, 12.48, 12.45, 12.42, 12.39, 12.36, 12.34, 12.32, 12.31], \"type\": \"scatter\"}], \"name\": \"2012\"}, {\"data\": [{\"line\": {\"width\": 5}, \"marker\": {\"size\": [41.507048533637004, 42.247305328355004, 42.99837242127099, 43.755529240514, 44.497129753522, 45.230261942216, 45.969592620613, 46.720652318023, 47.478713310152, 48.237024300765995, 48.995617945636006, 49.746234375214, 50.499516955978, 51.250989148154005, 51.988569886658006, 52.726336062742, 53.401822579592995, 54.012022863642, 54.60789265178299, 55.226972241962, 55.883147587509015, 56.58559077861101, 57.278749379646, 5797.327907222501], \"sizemode\": \"area\", \"sizeref\": 2}, \"mode\": \"lines+markers\", \"name\": \"Asia\", \"text\": \"(Female(%), Male(%))\", \"x\": [13.15, 13.18, 13.21, 13.25, 13.28, 13.32, 13.36, 13.41, 13.46, 13.51, 13.56, 13.61, 13.65, 13.7, 13.73, 13.77, 13.79, 13.78, 13.76, 13.75, 13.76, 13.79, 13.81, 13.83], \"y\": [12.69, 12.7, 12.72, 12.75, 12.78, 12.8, 12.83, 12.86, 12.88, 12.91, 12.93, 12.96, 12.98, 13.0, 13.02, 13.03, 13.03, 13.02, 13.0, 12.99, 12.99, 12.99, 13.0, 13.0], \"type\": \"scatter\"}, {\"line\": {\"width\": 5}, \"marker\": {\"size\": [11.569720858558, 11.631189460122002, 11.69017512627, 11.737069200834002, 11.777361005205998, 11.811418568808001, 11.842781858480999, 11.876011734311, 11.908208589172, 11.937853561178, 11.969235636410998, 11.998050562738001, 12.019802374393999, 12.036452518335, 12.051977117267002, 12.069455889980999, 12.090660396644001, 12.114958552561, 12.138204154104999, 12.159560423934002, 12.178399440065002, 12.193352833323997, 12.210290326186, 1222.764678159], \"sizemode\": \"area\", \"sizeref\": 2}, \"mode\": \"lines+markers\", \"name\": \"Europe\", \"text\": \"(Female(%), Male(%))\", \"x\": [15.51, 15.54, 15.57, 15.61, 15.65, 15.69, 15.72, 15.75, 15.78, 15.8, 15.83, 15.85, 15.85, 15.85, 15.84, 15.84, 15.85, 15.87, 15.88, 15.88, 15.88, 15.87, 15.86, 15.85], \"y\": [13.14, 13.16, 13.19, 13.22, 13.26, 13.29, 13.32, 13.35, 13.37, 13.39, 13.41, 13.42, 13.42, 13.41, 13.4, 13.39, 13.37, 13.34, 13.31, 13.28, 13.25, 13.23, 13.21, 13.19], \"type\": \"scatter\"}, {\"line\": {\"width\": 5}, \"marker\": {\"size\": [0.07059487252018501, 0.07229065158469299, 0.07402553143406598, 0.075808479220901, 0.077650418185455, 0.07957903219068299, 0.081593470288486, 0.08369878890943099, 0.08589693480308601, 0.08820047221923501, 0.090623108445278, 0.093125540499872, 0.09567611743151401, 0.09829023328753599, 0.10099792717217, 0.10378657234629003, 0.10664998538745002, 0.10955386664782997, 0.11248195849502, 0.11538501416971002, 0.11828115080485999, 0.12115084743011999, 0.12399141619404, 12.680780583176], \"sizemode\": \"area\", \"sizeref\": 2}, \"mode\": \"lines+markers\", \"name\": \"Oceania\", \"text\": \"(Female(%), Male(%))\", \"x\": [10.83, 10.84, 10.84, 10.83, 10.83, 10.83, 10.82, 10.82, 10.82, 10.82, 10.83, 10.85, 10.87, 10.89, 10.91, 10.94, 10.97, 10.99, 11.0, 11.01, 11.02, 11.02, 11.02, 11.01], \"y\": [11.02, 11.02, 11.01, 11.0, 10.99, 10.98, 10.96, 10.95, 10.94, 10.93, 10.94, 10.95, 10.96, 10.98, 11.0, 11.02, 11.05, 11.07, 11.1, 11.11, 11.11, 11.11, 11.1, 11.08], \"type\": \"scatter\"}, {\"line\": {\"width\": 5}, \"marker\": {\"size\": [10.435574998098001, 10.591623238304997, 10.754487838361, 10.922767653035999, 11.096432629956997, 11.275918196658, 11.485344435111001, 11.733403218282996, 11.99831867219, 12.256932115892003, 12.483046901423, 12.685524488104999, 12.885975826185, 13.082967746048, 13.276190222787, 13.461832295846, 13.620177279108, 13.743075485068, 13.849273317374998, 13.958507316024003, 14.088389256693, 14.234866221311, 14.378484816067004, 1451.9769148542998], \"sizemode\": \"area\", \"sizeref\": 2}, \"mode\": \"lines+markers\", \"name\": \"America\", \"text\": \"(Female(%), Male(%))\", \"x\": [15.67, 15.65, 15.64, 15.64, 15.65, 15.68, 15.76, 15.92, 16.11, 16.28, 16.39, 16.46, 16.53, 16.59, 16.64, 16.67, 16.67, 16.6, 16.52, 16.44, 16.4, 16.39, 16.38, 16.36], \"y\": [13.42, 13.42, 13.42, 13.43, 13.44, 13.46, 13.51, 13.59, 13.67, 13.75, 13.8, 13.83, 13.85, 13.88, 13.9, 13.91, 13.9, 13.87, 13.83, 13.79, 13.77, 13.76, 13.75, 13.73], \"type\": \"scatter\"}, {\"line\": {\"width\": 5}, \"marker\": {\"size\": [7.827384698927, 8.0479347938542, 8.271495633983399, 8.483905958896097, 8.7054132338003, 8.946702382126098, 9.1984560560904, 9.4593423451476, 9.713402740962499, 9.9673963721366, 10.223800158564702, 10.48313963682, 10.742163492702, 11.000651524699999, 11.26241852278, 11.533266754369999, 11.811296375948, 12.094533013570002, 12.385127875768, 12.685061003911, 12.993203832137999, 13.313013372022, 13.645373051674, 1398.5957778107002], \"sizemode\": \"area\", \"sizeref\": 2}, \"mode\": \"lines+markers\", \"name\": \"Africa\", \"text\": \"(Female(%), Male(%))\", \"x\": [12.32, 12.34, 12.36, 12.38, 12.4, 12.41, 12.43, 12.45, 12.47, 12.48, 12.49, 12.48, 12.47, 12.45, 12.43, 12.41, 12.39, 12.37, 12.35, 12.33, 12.31, 12.3, 12.29, 12.28], \"y\": [12.5, 12.52, 12.54, 12.56, 12.58, 12.59, 12.59, 12.6, 12.6, 12.59, 12.59, 12.58, 12.56, 12.53, 12.51, 12.48, 12.45, 12.42, 12.39, 12.36, 12.34, 12.32, 12.31, 12.3], \"type\": \"scatter\"}], \"name\": \"2013\"}, {\"data\": [{\"line\": {\"width\": 5}, \"marker\": {\"size\": [41.507048533637004, 42.247305328355004, 42.99837242127099, 43.755529240514, 44.497129753522, 45.230261942216, 45.969592620613, 46.720652318023, 47.478713310152, 48.237024300765995, 48.995617945636006, 49.746234375214, 50.499516955978, 51.250989148154005, 51.988569886658006, 52.726336062742, 53.401822579592995, 54.012022863642, 54.60789265178299, 55.226972241962, 55.883147587509015, 56.58559077861101, 57.278749379646, 57.97327907222501, 5864.3200612560995], \"sizemode\": \"area\", \"sizeref\": 2}, \"mode\": \"lines+markers\", \"name\": \"Asia\", \"text\": \"(Female(%), Male(%))\", \"x\": [13.15, 13.18, 13.21, 13.25, 13.28, 13.32, 13.36, 13.41, 13.46, 13.51, 13.56, 13.61, 13.65, 13.7, 13.73, 13.77, 13.79, 13.78, 13.76, 13.75, 13.76, 13.79, 13.81, 13.83, 13.85], \"y\": [12.69, 12.7, 12.72, 12.75, 12.78, 12.8, 12.83, 12.86, 12.88, 12.91, 12.93, 12.96, 12.98, 13.0, 13.02, 13.03, 13.03, 13.02, 13.0, 12.99, 12.99, 12.99, 13.0, 13.0, 13.0], \"type\": \"scatter\"}, {\"line\": {\"width\": 5}, \"marker\": {\"size\": [11.569720858558, 11.631189460122002, 11.69017512627, 11.737069200834002, 11.777361005205998, 11.811418568808001, 11.842781858480999, 11.876011734311, 11.908208589172, 11.937853561178, 11.969235636410998, 11.998050562738001, 12.019802374393999, 12.036452518335, 12.051977117267002, 12.069455889980999, 12.090660396644001, 12.114958552561, 12.138204154104999, 12.159560423934002, 12.178399440065002, 12.193352833323997, 12.210290326186, 12.227646781589998, 1224.4954830549998], \"sizemode\": \"area\", \"sizeref\": 2}, \"mode\": \"lines+markers\", \"name\": \"Europe\", \"text\": \"(Female(%), Male(%))\", \"x\": [15.51, 15.54, 15.57, 15.61, 15.65, 15.69, 15.72, 15.75, 15.78, 15.8, 15.83, 15.85, 15.85, 15.85, 15.84, 15.84, 15.85, 15.87, 15.88, 15.88, 15.88, 15.87, 15.86, 15.85, 15.85], \"y\": [13.14, 13.16, 13.19, 13.22, 13.26, 13.29, 13.32, 13.35, 13.37, 13.39, 13.41, 13.42, 13.42, 13.41, 13.4, 13.39, 13.37, 13.34, 13.31, 13.28, 13.25, 13.23, 13.21, 13.19, 13.18], \"type\": \"scatter\"}, {\"line\": {\"width\": 5}, \"marker\": {\"size\": [0.07059487252018501, 0.07229065158469299, 0.07402553143406598, 0.075808479220901, 0.077650418185455, 0.07957903219068299, 0.081593470288486, 0.08369878890943099, 0.08589693480308601, 0.08820047221923501, 0.090623108445278, 0.093125540499872, 0.09567611743151401, 0.09829023328753599, 0.10099792717217, 0.10378657234629003, 0.10664998538745002, 0.10955386664782997, 0.11248195849502, 0.11538501416971002, 0.11828115080485999, 0.12115084743011999, 0.12399141619404, 0.12680780583176002, 12.960617236997], \"sizemode\": \"area\", \"sizeref\": 2}, \"mode\": \"lines+markers\", \"name\": \"Oceania\", \"text\": \"(Female(%), Male(%))\", \"x\": [10.83, 10.84, 10.84, 10.83, 10.83, 10.83, 10.82, 10.82, 10.82, 10.82, 10.83, 10.85, 10.87, 10.89, 10.91, 10.94, 10.97, 10.99, 11.0, 11.01, 11.02, 11.02, 11.02, 11.01, 10.99], \"y\": [11.02, 11.02, 11.01, 11.0, 10.99, 10.98, 10.96, 10.95, 10.94, 10.93, 10.94, 10.95, 10.96, 10.98, 11.0, 11.02, 11.05, 11.07, 11.1, 11.11, 11.11, 11.11, 11.1, 11.08, 11.06], \"type\": \"scatter\"}, {\"line\": {\"width\": 5}, \"marker\": {\"size\": [10.435574998098001, 10.591623238304997, 10.754487838361, 10.922767653035999, 11.096432629956997, 11.275918196658, 11.485344435111001, 11.733403218282996, 11.99831867219, 12.256932115892003, 12.483046901423, 12.685524488104999, 12.885975826185, 13.082967746048, 13.276190222787, 13.461832295846, 13.620177279108, 13.743075485068, 13.849273317374998, 13.958507316024003, 14.088389256693, 14.234866221311, 14.378484816067004, 14.519769148542997, 1465.9027098418999], \"sizemode\": \"area\", \"sizeref\": 2}, \"mode\": \"lines+markers\", \"name\": \"America\", \"text\": \"(Female(%), Male(%))\", \"x\": [15.67, 15.65, 15.64, 15.64, 15.65, 15.68, 15.76, 15.92, 16.11, 16.28, 16.39, 16.46, 16.53, 16.59, 16.64, 16.67, 16.67, 16.6, 16.52, 16.44, 16.4, 16.39, 16.38, 16.36, 16.34], \"y\": [13.42, 13.42, 13.42, 13.43, 13.44, 13.46, 13.51, 13.59, 13.67, 13.75, 13.8, 13.83, 13.85, 13.88, 13.9, 13.91, 13.9, 13.87, 13.83, 13.79, 13.77, 13.76, 13.75, 13.73, 13.72], \"type\": \"scatter\"}, {\"line\": {\"width\": 5}, \"marker\": {\"size\": [7.827384698927, 8.0479347938542, 8.271495633983399, 8.483905958896097, 8.7054132338003, 8.946702382126098, 9.1984560560904, 9.4593423451476, 9.713402740962499, 9.9673963721366, 10.223800158564702, 10.48313963682, 10.742163492702, 11.000651524699999, 11.26241852278, 11.533266754369999, 11.811296375948, 12.094533013570002, 12.385127875768, 12.685061003911, 12.993203832137999, 13.313013372022, 13.645373051674, 13.985957778107002, 1433.2932309438002], \"sizemode\": \"area\", \"sizeref\": 2}, \"mode\": \"lines+markers\", \"name\": \"Africa\", \"text\": \"(Female(%), Male(%))\", \"x\": [12.32, 12.34, 12.36, 12.38, 12.4, 12.41, 12.43, 12.45, 12.47, 12.48, 12.49, 12.48, 12.47, 12.45, 12.43, 12.41, 12.39, 12.37, 12.35, 12.33, 12.31, 12.3, 12.29, 12.28, 12.27], \"y\": [12.5, 12.52, 12.54, 12.56, 12.58, 12.59, 12.59, 12.6, 12.6, 12.59, 12.59, 12.58, 12.56, 12.53, 12.51, 12.48, 12.45, 12.42, 12.39, 12.36, 12.34, 12.32, 12.31, 12.3, 12.29], \"type\": \"scatter\"}], \"name\": \"2014\"}, {\"data\": [{\"line\": {\"width\": 5}, \"marker\": {\"size\": [41.507048533637004, 42.247305328355004, 42.99837242127099, 43.755529240514, 44.497129753522, 45.230261942216, 45.969592620613, 46.720652318023, 47.478713310152, 48.237024300765995, 48.995617945636006, 49.746234375214, 50.499516955978, 51.250989148154005, 51.988569886658006, 52.726336062742, 53.401822579592995, 54.012022863642, 54.60789265178299, 55.226972241962, 55.883147587509015, 56.58559077861101, 57.278749379646, 57.97327907222501, 58.643200612560996, 5927.7430201086], \"sizemode\": \"area\", \"sizeref\": 2}, \"mode\": \"lines+markers\", \"name\": \"Asia\", \"text\": \"(Female(%), Male(%))\", \"x\": [13.15, 13.18, 13.21, 13.25, 13.28, 13.32, 13.36, 13.41, 13.46, 13.51, 13.56, 13.61, 13.65, 13.7, 13.73, 13.77, 13.79, 13.78, 13.76, 13.75, 13.76, 13.79, 13.81, 13.83, 13.85, 13.88], \"y\": [12.69, 12.7, 12.72, 12.75, 12.78, 12.8, 12.83, 12.86, 12.88, 12.91, 12.93, 12.96, 12.98, 13.0, 13.02, 13.03, 13.03, 13.02, 13.0, 12.99, 12.99, 12.99, 13.0, 13.0, 13.0, 13.0], \"type\": \"scatter\"}, {\"line\": {\"width\": 5}, \"marker\": {\"size\": [11.569720858558, 11.631189460122002, 11.69017512627, 11.737069200834002, 11.777361005205998, 11.811418568808001, 11.842781858480999, 11.876011734311, 11.908208589172, 11.937853561178, 11.969235636410998, 11.998050562738001, 12.019802374393999, 12.036452518335, 12.051977117267002, 12.069455889980999, 12.090660396644001, 12.114958552561, 12.138204154104999, 12.159560423934002, 12.178399440065002, 12.193352833323997, 12.210290326186, 12.227646781589998, 12.244954830549998, 1226.342750833], \"sizemode\": \"area\", \"sizeref\": 2}, \"mode\": \"lines+markers\", \"name\": \"Europe\", \"text\": \"(Female(%), Male(%))\", \"x\": [15.51, 15.54, 15.57, 15.61, 15.65, 15.69, 15.72, 15.75, 15.78, 15.8, 15.83, 15.85, 15.85, 15.85, 15.84, 15.84, 15.85, 15.87, 15.88, 15.88, 15.88, 15.87, 15.86, 15.85, 15.85, 15.84], \"y\": [13.14, 13.16, 13.19, 13.22, 13.26, 13.29, 13.32, 13.35, 13.37, 13.39, 13.41, 13.42, 13.42, 13.41, 13.4, 13.39, 13.37, 13.34, 13.31, 13.28, 13.25, 13.23, 13.21, 13.19, 13.18, 13.16], \"type\": \"scatter\"}, {\"line\": {\"width\": 5}, \"marker\": {\"size\": [0.07059487252018501, 0.07229065158469299, 0.07402553143406598, 0.075808479220901, 0.077650418185455, 0.07957903219068299, 0.081593470288486, 0.08369878890943099, 0.08589693480308601, 0.08820047221923501, 0.090623108445278, 0.093125540499872, 0.09567611743151401, 0.09829023328753599, 0.10099792717217, 0.10378657234629003, 0.10664998538745002, 0.10955386664782997, 0.11248195849502, 0.11538501416971002, 0.11828115080485999, 0.12115084743011999, 0.12399141619404, 0.12680780583176002, 0.12960617236997002, 13.242642204071002], \"sizemode\": \"area\", \"sizeref\": 2}, \"mode\": \"lines+markers\", \"name\": \"Oceania\", \"text\": \"(Female(%), Male(%))\", \"x\": [10.83, 10.84, 10.84, 10.83, 10.83, 10.83, 10.82, 10.82, 10.82, 10.82, 10.83, 10.85, 10.87, 10.89, 10.91, 10.94, 10.97, 10.99, 11.0, 11.01, 11.02, 11.02, 11.02, 11.01, 10.99, 10.98], \"y\": [11.02, 11.02, 11.01, 11.0, 10.99, 10.98, 10.96, 10.95, 10.94, 10.93, 10.94, 10.95, 10.96, 10.98, 11.0, 11.02, 11.05, 11.07, 11.1, 11.11, 11.11, 11.11, 11.1, 11.08, 11.06, 11.03], \"type\": \"scatter\"}, {\"line\": {\"width\": 5}, \"marker\": {\"size\": [10.435574998098001, 10.591623238304997, 10.754487838361, 10.922767653035999, 11.096432629956997, 11.275918196658, 11.485344435111001, 11.733403218282996, 11.99831867219, 12.256932115892003, 12.483046901423, 12.685524488104999, 12.885975826185, 13.082967746048, 13.276190222787, 13.461832295846, 13.620177279108, 13.743075485068, 13.849273317374998, 13.958507316024003, 14.088389256693, 14.234866221311, 14.378484816067004, 14.519769148542997, 14.659027098419, 1479.4548703988999], \"sizemode\": \"area\", \"sizeref\": 2}, \"mode\": \"lines+markers\", \"name\": \"America\", \"text\": \"(Female(%), Male(%))\", \"x\": [15.67, 15.65, 15.64, 15.64, 15.65, 15.68, 15.76, 15.92, 16.11, 16.28, 16.39, 16.46, 16.53, 16.59, 16.64, 16.67, 16.67, 16.6, 16.52, 16.44, 16.4, 16.39, 16.38, 16.36, 16.34, 16.32], \"y\": [13.42, 13.42, 13.42, 13.43, 13.44, 13.46, 13.51, 13.59, 13.67, 13.75, 13.8, 13.83, 13.85, 13.88, 13.9, 13.91, 13.9, 13.87, 13.83, 13.79, 13.77, 13.76, 13.75, 13.73, 13.72, 13.71], \"type\": \"scatter\"}, {\"line\": {\"width\": 5}, \"marker\": {\"size\": [7.827384698927, 8.0479347938542, 8.271495633983399, 8.483905958896097, 8.7054132338003, 8.946702382126098, 9.1984560560904, 9.4593423451476, 9.713402740962499, 9.9673963721366, 10.223800158564702, 10.48313963682, 10.742163492702, 11.000651524699999, 11.26241852278, 11.533266754369999, 11.811296375948, 12.094533013570002, 12.385127875768, 12.685061003911, 12.993203832137999, 13.313013372022, 13.645373051674, 13.985957778107002, 14.332932309438002, 1468.8630181285], \"sizemode\": \"area\", \"sizeref\": 2}, \"mode\": \"lines+markers\", \"name\": \"Africa\", \"text\": \"(Female(%), Male(%))\", \"x\": [12.32, 12.34, 12.36, 12.38, 12.4, 12.41, 12.43, 12.45, 12.47, 12.48, 12.49, 12.48, 12.47, 12.45, 12.43, 12.41, 12.39, 12.37, 12.35, 12.33, 12.31, 12.3, 12.29, 12.28, 12.27, 12.26], \"y\": [12.5, 12.52, 12.54, 12.56, 12.58, 12.59, 12.59, 12.6, 12.6, 12.59, 12.59, 12.58, 12.56, 12.53, 12.51, 12.48, 12.45, 12.42, 12.39, 12.36, 12.34, 12.32, 12.31, 12.3, 12.29, 12.28], \"type\": \"scatter\"}], \"name\": \"2015\"}, {\"data\": [{\"line\": {\"width\": 5}, \"marker\": {\"size\": [41.507048533637004, 42.247305328355004, 42.99837242127099, 43.755529240514, 44.497129753522, 45.230261942216, 45.969592620613, 46.720652318023, 47.478713310152, 48.237024300765995, 48.995617945636006, 49.746234375214, 50.499516955978, 51.250989148154005, 51.988569886658006, 52.726336062742, 53.401822579592995, 54.012022863642, 54.60789265178299, 55.226972241962, 55.883147587509015, 56.58559077861101, 57.278749379646, 57.97327907222501, 58.643200612560996, 59.277430201086, 5990.8680633706], \"sizemode\": \"area\", \"sizeref\": 2}, \"mode\": \"lines+markers\", \"name\": \"Asia\", \"text\": \"(Female(%), Male(%))\", \"x\": [13.15, 13.18, 13.21, 13.25, 13.28, 13.32, 13.36, 13.41, 13.46, 13.51, 13.56, 13.61, 13.65, 13.7, 13.73, 13.77, 13.79, 13.78, 13.76, 13.75, 13.76, 13.79, 13.81, 13.83, 13.85, 13.88, 13.9], \"y\": [12.69, 12.7, 12.72, 12.75, 12.78, 12.8, 12.83, 12.86, 12.88, 12.91, 12.93, 12.96, 12.98, 13.0, 13.02, 13.03, 13.03, 13.02, 13.0, 12.99, 12.99, 12.99, 13.0, 13.0, 13.0, 13.0, 13.01], \"type\": \"scatter\"}, {\"line\": {\"width\": 5}, \"marker\": {\"size\": [11.569720858558, 11.631189460122002, 11.69017512627, 11.737069200834002, 11.777361005205998, 11.811418568808001, 11.842781858480999, 11.876011734311, 11.908208589172, 11.937853561178, 11.969235636410998, 11.998050562738001, 12.019802374393999, 12.036452518335, 12.051977117267002, 12.069455889980999, 12.090660396644001, 12.114958552561, 12.138204154104999, 12.159560423934002, 12.178399440065002, 12.193352833323997, 12.210290326186, 12.227646781589998, 12.244954830549998, 12.26342750833, 1229.0001443546998], \"sizemode\": \"area\", \"sizeref\": 2}, \"mode\": \"lines+markers\", \"name\": \"Europe\", \"text\": \"(Female(%), Male(%))\", \"x\": [15.51, 15.54, 15.57, 15.61, 15.65, 15.69, 15.72, 15.75, 15.78, 15.8, 15.83, 15.85, 15.85, 15.85, 15.84, 15.84, 15.85, 15.87, 15.88, 15.88, 15.88, 15.87, 15.86, 15.85, 15.85, 15.84, 15.84], \"y\": [13.14, 13.16, 13.19, 13.22, 13.26, 13.29, 13.32, 13.35, 13.37, 13.39, 13.41, 13.42, 13.42, 13.41, 13.4, 13.39, 13.37, 13.34, 13.31, 13.28, 13.25, 13.23, 13.21, 13.19, 13.18, 13.16, 13.16], \"type\": \"scatter\"}, {\"line\": {\"width\": 5}, \"marker\": {\"size\": [0.07059487252018501, 0.07229065158469299, 0.07402553143406598, 0.075808479220901, 0.077650418185455, 0.07957903219068299, 0.081593470288486, 0.08369878890943099, 0.08589693480308601, 0.08820047221923501, 0.090623108445278, 0.093125540499872, 0.09567611743151401, 0.09829023328753599, 0.10099792717217, 0.10378657234629003, 0.10664998538745002, 0.10955386664782997, 0.11248195849502, 0.11538501416971002, 0.11828115080485999, 0.12115084743011999, 0.12399141619404, 0.12680780583176002, 0.12960617236997002, 0.13242642204071, 13.525065559465], \"sizemode\": \"area\", \"sizeref\": 2}, \"mode\": \"lines+markers\", \"name\": \"Oceania\", \"text\": \"(Female(%), Male(%))\", \"x\": [10.83, 10.84, 10.84, 10.83, 10.83, 10.83, 10.82, 10.82, 10.82, 10.82, 10.83, 10.85, 10.87, 10.89, 10.91, 10.94, 10.97, 10.99, 11.0, 11.01, 11.02, 11.02, 11.02, 11.01, 10.99, 10.98, 10.96], \"y\": [11.02, 11.02, 11.01, 11.0, 10.99, 10.98, 10.96, 10.95, 10.94, 10.93, 10.94, 10.95, 10.96, 10.98, 11.0, 11.02, 11.05, 11.07, 11.1, 11.11, 11.11, 11.11, 11.1, 11.08, 11.06, 11.03, 11.0], \"type\": \"scatter\"}, {\"line\": {\"width\": 5}, \"marker\": {\"size\": [10.435574998098001, 10.591623238304997, 10.754487838361, 10.922767653035999, 11.096432629956997, 11.275918196658, 11.485344435111001, 11.733403218282996, 11.99831867219, 12.256932115892003, 12.483046901423, 12.685524488104999, 12.885975826185, 13.082967746048, 13.276190222787, 13.461832295846, 13.620177279108, 13.743075485068, 13.849273317374998, 13.958507316024003, 14.088389256693, 14.234866221311, 14.378484816067004, 14.519769148542997, 14.659027098419, 14.794548703989, 1492.7693084292998], \"sizemode\": \"area\", \"sizeref\": 2}, \"mode\": \"lines+markers\", \"name\": \"America\", \"text\": \"(Female(%), Male(%))\", \"x\": [15.67, 15.65, 15.64, 15.64, 15.65, 15.68, 15.76, 15.92, 16.11, 16.28, 16.39, 16.46, 16.53, 16.59, 16.64, 16.67, 16.67, 16.6, 16.52, 16.44, 16.4, 16.39, 16.38, 16.36, 16.34, 16.32, 16.3], \"y\": [13.42, 13.42, 13.42, 13.43, 13.44, 13.46, 13.51, 13.59, 13.67, 13.75, 13.8, 13.83, 13.85, 13.88, 13.9, 13.91, 13.9, 13.87, 13.83, 13.79, 13.77, 13.76, 13.75, 13.73, 13.72, 13.71, 13.7], \"type\": \"scatter\"}, {\"line\": {\"width\": 5}, \"marker\": {\"size\": [7.827384698927, 8.0479347938542, 8.271495633983399, 8.483905958896097, 8.7054132338003, 8.946702382126098, 9.1984560560904, 9.4593423451476, 9.713402740962499, 9.9673963721366, 10.223800158564702, 10.48313963682, 10.742163492702, 11.000651524699999, 11.26241852278, 11.533266754369999, 11.811296375948, 12.094533013570002, 12.385127875768, 12.685061003911, 12.993203832137999, 13.313013372022, 13.645373051674, 13.985957778107002, 14.332932309438002, 14.688630181285, 1505.8018250971998], \"sizemode\": \"area\", \"sizeref\": 2}, \"mode\": \"lines+markers\", \"name\": \"Africa\", \"text\": \"(Female(%), Male(%))\", \"x\": [12.32, 12.34, 12.36, 12.38, 12.4, 12.41, 12.43, 12.45, 12.47, 12.48, 12.49, 12.48, 12.47, 12.45, 12.43, 12.41, 12.39, 12.37, 12.35, 12.33, 12.31, 12.3, 12.29, 12.28, 12.27, 12.26, 12.26], \"y\": [12.5, 12.52, 12.54, 12.56, 12.58, 12.59, 12.59, 12.6, 12.6, 12.59, 12.59, 12.58, 12.56, 12.53, 12.51, 12.48, 12.45, 12.42, 12.39, 12.36, 12.34, 12.32, 12.31, 12.3, 12.29, 12.28, 12.28], \"type\": \"scatter\"}], \"name\": \"2016\"}, {\"data\": [{\"line\": {\"width\": 5}, \"marker\": {\"size\": [41.507048533637004, 42.247305328355004, 42.99837242127099, 43.755529240514, 44.497129753522, 45.230261942216, 45.969592620613, 46.720652318023, 47.478713310152, 48.237024300765995, 48.995617945636006, 49.746234375214, 50.499516955978, 51.250989148154005, 51.988569886658006, 52.726336062742, 53.401822579592995, 54.012022863642, 54.60789265178299, 55.226972241962, 55.883147587509015, 56.58559077861101, 57.278749379646, 57.97327907222501, 58.643200612560996, 59.277430201086, 59.908680633706, 6054.4234585053], \"sizemode\": \"area\", \"sizeref\": 2}, \"mode\": \"lines+markers\", \"name\": \"Asia\", \"text\": \"(Female(%), Male(%))\", \"x\": [13.15, 13.18, 13.21, 13.25, 13.28, 13.32, 13.36, 13.41, 13.46, 13.51, 13.56, 13.61, 13.65, 13.7, 13.73, 13.77, 13.79, 13.78, 13.76, 13.75, 13.76, 13.79, 13.81, 13.83, 13.85, 13.88, 13.9, 13.92], \"y\": [12.69, 12.7, 12.72, 12.75, 12.78, 12.8, 12.83, 12.86, 12.88, 12.91, 12.93, 12.96, 12.98, 13.0, 13.02, 13.03, 13.03, 13.02, 13.0, 12.99, 12.99, 12.99, 13.0, 13.0, 13.0, 13.0, 13.01, 13.0], \"type\": \"scatter\"}, {\"line\": {\"width\": 5}, \"marker\": {\"size\": [11.569720858558, 11.631189460122002, 11.69017512627, 11.737069200834002, 11.777361005205998, 11.811418568808001, 11.842781858480999, 11.876011734311, 11.908208589172, 11.937853561178, 11.969235636410998, 11.998050562738001, 12.019802374393999, 12.036452518335, 12.051977117267002, 12.069455889980999, 12.090660396644001, 12.114958552561, 12.138204154104999, 12.159560423934002, 12.178399440065002, 12.193352833323997, 12.210290326186, 12.227646781589998, 12.244954830549998, 12.26342750833, 12.290001443546998, 1230.4033787783], \"sizemode\": \"area\", \"sizeref\": 2}, \"mode\": \"lines+markers\", \"name\": \"Europe\", \"text\": \"(Female(%), Male(%))\", \"x\": [15.51, 15.54, 15.57, 15.61, 15.65, 15.69, 15.72, 15.75, 15.78, 15.8, 15.83, 15.85, 15.85, 15.85, 15.84, 15.84, 15.85, 15.87, 15.88, 15.88, 15.88, 15.87, 15.86, 15.85, 15.85, 15.84, 15.84, 15.85], \"y\": [13.14, 13.16, 13.19, 13.22, 13.26, 13.29, 13.32, 13.35, 13.37, 13.39, 13.41, 13.42, 13.42, 13.41, 13.4, 13.39, 13.37, 13.34, 13.31, 13.28, 13.25, 13.23, 13.21, 13.19, 13.18, 13.16, 13.16, 13.15], \"type\": \"scatter\"}, {\"line\": {\"width\": 5}, \"marker\": {\"size\": [0.07059487252018501, 0.07229065158469299, 0.07402553143406598, 0.075808479220901, 0.077650418185455, 0.07957903219068299, 0.081593470288486, 0.08369878890943099, 0.08589693480308601, 0.08820047221923501, 0.090623108445278, 0.093125540499872, 0.09567611743151401, 0.09829023328753599, 0.10099792717217, 0.10378657234629003, 0.10664998538745002, 0.10955386664782997, 0.11248195849502, 0.11538501416971002, 0.11828115080485999, 0.12115084743011999, 0.12399141619404, 0.12680780583176002, 0.12960617236997002, 0.13242642204071, 0.13525065559465, 13.807075205732998], \"sizemode\": \"area\", \"sizeref\": 2}, \"mode\": \"lines+markers\", \"name\": \"Oceania\", \"text\": \"(Female(%), Male(%))\", \"x\": [10.83, 10.84, 10.84, 10.83, 10.83, 10.83, 10.82, 10.82, 10.82, 10.82, 10.83, 10.85, 10.87, 10.89, 10.91, 10.94, 10.97, 10.99, 11.0, 11.01, 11.02, 11.02, 11.02, 11.01, 10.99, 10.98, 10.96, 10.94], \"y\": [11.02, 11.02, 11.01, 11.0, 10.99, 10.98, 10.96, 10.95, 10.94, 10.93, 10.94, 10.95, 10.96, 10.98, 11.0, 11.02, 11.05, 11.07, 11.1, 11.11, 11.11, 11.11, 11.1, 11.08, 11.06, 11.03, 11.0, 10.97], \"type\": \"scatter\"}, {\"line\": {\"width\": 5}, \"marker\": {\"size\": [10.435574998098001, 10.591623238304997, 10.754487838361, 10.922767653035999, 11.096432629956997, 11.275918196658, 11.485344435111001, 11.733403218282996, 11.99831867219, 12.256932115892003, 12.483046901423, 12.685524488104999, 12.885975826185, 13.082967746048, 13.276190222787, 13.461832295846, 13.620177279108, 13.743075485068, 13.849273317374998, 13.958507316024003, 14.088389256693, 14.234866221311, 14.378484816067004, 14.519769148542997, 14.659027098419, 14.794548703989, 14.927693084292999, 1506.019308213], \"sizemode\": \"area\", \"sizeref\": 2}, \"mode\": \"lines+markers\", \"name\": \"America\", \"text\": \"(Female(%), Male(%))\", \"x\": [15.67, 15.65, 15.64, 15.64, 15.65, 15.68, 15.76, 15.92, 16.11, 16.28, 16.39, 16.46, 16.53, 16.59, 16.64, 16.67, 16.67, 16.6, 16.52, 16.44, 16.4, 16.39, 16.38, 16.36, 16.34, 16.32, 16.3, 16.29], \"y\": [13.42, 13.42, 13.42, 13.43, 13.44, 13.46, 13.51, 13.59, 13.67, 13.75, 13.8, 13.83, 13.85, 13.88, 13.9, 13.91, 13.9, 13.87, 13.83, 13.79, 13.77, 13.76, 13.75, 13.73, 13.72, 13.71, 13.7, 13.7], \"type\": \"scatter\"}, {\"line\": {\"width\": 5}, \"marker\": {\"size\": [7.827384698927, 8.0479347938542, 8.271495633983399, 8.483905958896097, 8.7054132338003, 8.946702382126098, 9.1984560560904, 9.4593423451476, 9.713402740962499, 9.9673963721366, 10.223800158564702, 10.48313963682, 10.742163492702, 11.000651524699999, 11.26241852278, 11.533266754369999, 11.811296375948, 12.094533013570002, 12.385127875768, 12.685061003911, 12.993203832137999, 13.313013372022, 13.645373051674, 13.985957778107002, 14.332932309438002, 14.688630181285, 15.058018250971998, 1544.1711523511], \"sizemode\": \"area\", \"sizeref\": 2}, \"mode\": \"lines+markers\", \"name\": \"Africa\", \"text\": \"(Female(%), Male(%))\", \"x\": [12.32, 12.34, 12.36, 12.38, 12.4, 12.41, 12.43, 12.45, 12.47, 12.48, 12.49, 12.48, 12.47, 12.45, 12.43, 12.41, 12.39, 12.37, 12.35, 12.33, 12.31, 12.3, 12.29, 12.28, 12.27, 12.26, 12.26, 12.26], \"y\": [12.5, 12.52, 12.54, 12.56, 12.58, 12.59, 12.59, 12.6, 12.6, 12.59, 12.59, 12.58, 12.56, 12.53, 12.51, 12.48, 12.45, 12.42, 12.39, 12.36, 12.34, 12.32, 12.31, 12.3, 12.29, 12.28, 12.28, 12.29], \"type\": \"scatter\"}], \"name\": \"2017\"}]);}).then(function(){Plotly.animate('0d620acb-ef01-452b-927a-e904f5f36ab7');})\n",
       "        });</script><script type=\"text/javascript\">window.addEventListener(\"resize\", function(){window._Plotly.Plots.resize(document.getElementById(\"0d620acb-ef01-452b-927a-e904f5f36ab7\"));});</script>"
      ],
      "text/vnd.plotly.v1+html": [
       "<div id=\"0d620acb-ef01-452b-927a-e904f5f36ab7\" style=\"height: 525px; width: 100%;\" class=\"plotly-graph-div\"></div><script type=\"text/javascript\">require([\"plotly\"], function(Plotly) { window.PLOTLYENV=window.PLOTLYENV || {};window.PLOTLYENV.BASE_URL=\"https://plot.ly\";\n",
       "        Plotly.plot(\n",
       "            '0d620acb-ef01-452b-927a-e904f5f36ab7',\n",
       "            [{\"line\": {\"width\": 5}, \"marker\": {\"size\": [4150.704853363701], \"sizemode\": \"area\", \"sizeref\": 2}, \"mode\": \"lines+markers\", \"name\": \"Asia\", \"text\": \"(Female(%), Male(%))\", \"x\": [13.15], \"y\": [12.69], \"type\": \"scatter\", \"uid\": \"2fa83c78-b3a5-47bc-90b9-002ba3e34a3d\"}, {\"line\": {\"width\": 5}, \"marker\": {\"size\": [1156.9720858558], \"sizemode\": \"area\", \"sizeref\": 2}, \"mode\": \"lines+markers\", \"name\": \"Europe\", \"text\": \"(Female(%), Male(%))\", \"x\": [15.51], \"y\": [13.14], \"type\": \"scatter\", \"uid\": \"25ed6365-4aa6-466d-bc77-0da0bbb50523\"}, {\"line\": {\"width\": 5}, \"marker\": {\"size\": [7.059487252018501], \"sizemode\": \"area\", \"sizeref\": 2}, \"mode\": \"lines+markers\", \"name\": \"Oceania\", \"text\": \"(Female(%), Male(%))\", \"x\": [10.83], \"y\": [11.02], \"type\": \"scatter\", \"uid\": \"b4e359bd-aa07-4e0b-8c8f-6db44001fe93\"}, {\"line\": {\"width\": 5}, \"marker\": {\"size\": [1043.5574998098], \"sizemode\": \"area\", \"sizeref\": 2}, \"mode\": \"lines+markers\", \"name\": \"America\", \"text\": \"(Female(%), Male(%))\", \"x\": [15.67], \"y\": [13.42], \"type\": \"scatter\", \"uid\": \"068f8344-feb8-4d86-b2ea-4263e9905484\"}, {\"line\": {\"width\": 5}, \"marker\": {\"size\": [782.7384698927], \"sizemode\": \"area\", \"sizeref\": 2}, \"mode\": \"lines+markers\", \"name\": \"Africa\", \"text\": \"(Female(%), Male(%))\", \"x\": [12.32], \"y\": [12.5], \"type\": \"scatter\", \"uid\": \"bbd50a76-aaa3-4af1-9482-57a8cbe566f4\"}],\n",
       "            {\"font\": {\"color\": \"#000000\"}, \"hovermode\": \"closest\", \"paper_bgcolor\": \"rgba(0,0,0,0)\", \"plot_bgcolor\": \"rgba(0,0,0,0)\", \"sliders\": [{\"active\": 0, \"currentvalue\": {\"font\": {\"size\": 15}, \"prefix\": \"Year: \", \"visible\": true, \"xanchor\": \"right\"}, \"len\": 0.9, \"pad\": {\"b\": 10, \"t\": 50}, \"steps\": [{\"args\": [[\"1990\"], {\"frame\": {\"duration\": 300, \"redraw\": true}, \"mode\": \"immediate\", \"transition\": {\"duration\": 300}}], \"label\": \"1990\", \"method\": \"animate\"}, {\"args\": [[\"1991\"], {\"frame\": {\"duration\": 300, \"redraw\": true}, \"mode\": \"immediate\", \"transition\": {\"duration\": 300}}], \"label\": \"1991\", \"method\": \"animate\"}, {\"args\": [[\"1992\"], {\"frame\": {\"duration\": 300, \"redraw\": true}, \"mode\": \"immediate\", \"transition\": {\"duration\": 300}}], \"label\": \"1992\", \"method\": \"animate\"}, {\"args\": [[\"1993\"], {\"frame\": {\"duration\": 300, \"redraw\": true}, \"mode\": \"immediate\", \"transition\": {\"duration\": 300}}], \"label\": \"1993\", \"method\": \"animate\"}, {\"args\": [[\"1994\"], {\"frame\": {\"duration\": 300, \"redraw\": true}, \"mode\": \"immediate\", \"transition\": {\"duration\": 300}}], \"label\": \"1994\", \"method\": \"animate\"}, {\"args\": [[\"1995\"], {\"frame\": {\"duration\": 300, \"redraw\": true}, \"mode\": \"immediate\", \"transition\": {\"duration\": 300}}], \"label\": \"1995\", \"method\": \"animate\"}, {\"args\": [[\"1996\"], {\"frame\": {\"duration\": 300, \"redraw\": true}, \"mode\": \"immediate\", \"transition\": {\"duration\": 300}}], \"label\": \"1996\", \"method\": \"animate\"}, {\"args\": [[\"1997\"], {\"frame\": {\"duration\": 300, \"redraw\": true}, \"mode\": \"immediate\", \"transition\": {\"duration\": 300}}], \"label\": \"1997\", \"method\": \"animate\"}, {\"args\": [[\"1998\"], {\"frame\": {\"duration\": 300, \"redraw\": true}, \"mode\": \"immediate\", \"transition\": {\"duration\": 300}}], \"label\": \"1998\", \"method\": \"animate\"}, {\"args\": [[\"1999\"], {\"frame\": {\"duration\": 300, \"redraw\": true}, \"mode\": \"immediate\", \"transition\": {\"duration\": 300}}], \"label\": \"1999\", \"method\": \"animate\"}, {\"args\": [[\"2000\"], {\"frame\": {\"duration\": 300, \"redraw\": true}, \"mode\": \"immediate\", \"transition\": {\"duration\": 300}}], \"label\": \"2000\", \"method\": \"animate\"}, {\"args\": [[\"2001\"], {\"frame\": {\"duration\": 300, \"redraw\": true}, \"mode\": \"immediate\", \"transition\": {\"duration\": 300}}], \"label\": \"2001\", \"method\": \"animate\"}, {\"args\": [[\"2002\"], {\"frame\": {\"duration\": 300, \"redraw\": true}, \"mode\": \"immediate\", \"transition\": {\"duration\": 300}}], \"label\": \"2002\", \"method\": \"animate\"}, {\"args\": [[\"2003\"], {\"frame\": {\"duration\": 300, \"redraw\": true}, \"mode\": \"immediate\", \"transition\": {\"duration\": 300}}], \"label\": \"2003\", \"method\": \"animate\"}, {\"args\": [[\"2004\"], {\"frame\": {\"duration\": 300, \"redraw\": true}, \"mode\": \"immediate\", \"transition\": {\"duration\": 300}}], \"label\": \"2004\", \"method\": \"animate\"}, {\"args\": [[\"2005\"], {\"frame\": {\"duration\": 300, \"redraw\": true}, \"mode\": \"immediate\", \"transition\": {\"duration\": 300}}], \"label\": \"2005\", \"method\": \"animate\"}, {\"args\": [[\"2006\"], {\"frame\": {\"duration\": 300, \"redraw\": true}, \"mode\": \"immediate\", \"transition\": {\"duration\": 300}}], \"label\": \"2006\", \"method\": \"animate\"}, {\"args\": [[\"2007\"], {\"frame\": {\"duration\": 300, \"redraw\": true}, \"mode\": \"immediate\", \"transition\": {\"duration\": 300}}], \"label\": \"2007\", \"method\": \"animate\"}, {\"args\": [[\"2008\"], {\"frame\": {\"duration\": 300, \"redraw\": true}, \"mode\": \"immediate\", \"transition\": {\"duration\": 300}}], \"label\": \"2008\", \"method\": \"animate\"}, {\"args\": [[\"2009\"], {\"frame\": {\"duration\": 300, \"redraw\": true}, \"mode\": \"immediate\", \"transition\": {\"duration\": 300}}], \"label\": \"2009\", \"method\": \"animate\"}, {\"args\": [[\"2010\"], {\"frame\": {\"duration\": 300, \"redraw\": true}, \"mode\": \"immediate\", \"transition\": {\"duration\": 300}}], \"label\": \"2010\", \"method\": \"animate\"}, {\"args\": [[\"2011\"], {\"frame\": {\"duration\": 300, \"redraw\": true}, \"mode\": \"immediate\", \"transition\": {\"duration\": 300}}], \"label\": \"2011\", \"method\": \"animate\"}, {\"args\": [[\"2012\"], {\"frame\": {\"duration\": 300, \"redraw\": true}, \"mode\": \"immediate\", \"transition\": {\"duration\": 300}}], \"label\": \"2012\", \"method\": \"animate\"}, {\"args\": [[\"2013\"], {\"frame\": {\"duration\": 300, \"redraw\": true}, \"mode\": \"immediate\", \"transition\": {\"duration\": 300}}], \"label\": \"2013\", \"method\": \"animate\"}, {\"args\": [[\"2014\"], {\"frame\": {\"duration\": 300, \"redraw\": true}, \"mode\": \"immediate\", \"transition\": {\"duration\": 300}}], \"label\": \"2014\", \"method\": \"animate\"}, {\"args\": [[\"2015\"], {\"frame\": {\"duration\": 300, \"redraw\": true}, \"mode\": \"immediate\", \"transition\": {\"duration\": 300}}], \"label\": \"2015\", \"method\": \"animate\"}, {\"args\": [[\"2016\"], {\"frame\": {\"duration\": 300, \"redraw\": true}, \"mode\": \"immediate\", \"transition\": {\"duration\": 300}}], \"label\": \"2016\", \"method\": \"animate\"}, {\"args\": [[\"2017\"], {\"frame\": {\"duration\": 300, \"redraw\": true}, \"mode\": \"immediate\", \"transition\": {\"duration\": 300}}], \"label\": \"2017\", \"method\": \"animate\"}], \"transition\": {\"duration\": 300, \"easing\": \"cubic-in-out\"}, \"x\": 0.1, \"xanchor\": \"left\", \"y\": 0, \"yanchor\": \"top\"}], \"title\": \"Share of gender of mental illness per continent(%)\", \"updatemenus\": [{\"buttons\": [{\"args\": [null, {\"frame\": {\"duration\": 500, \"redraw\": true}, \"fromcurrent\": true, \"transition\": {\"duration\": 300, \"easing\": \"quadratic-in-out\"}}], \"label\": \"Play\", \"method\": \"animate\"}, {\"args\": [[null], {\"frame\": {\"duration\": 0, \"redraw\": true}, \"mode\": \"immediate\", \"transition\": {\"duration\": 0}}], \"label\": \"Pause\", \"method\": \"animate\"}], \"direction\": \"left\", \"pad\": {\"r\": 10, \"t\": 87}, \"showactive\": false, \"type\": \"buttons\", \"x\": 0.1, \"xanchor\": \"right\", \"y\": 0, \"yanchor\": \"top\"}], \"xaxis\": {\"range\": [10, 18], \"title\": \"Share of Female(%)\"}, \"yaxis\": {\"range\": [10, 15], \"title\": \"Share of Male(%)\"}},\n",
       "            {\"showLink\": true, \"linkText\": \"Export to plot.ly\", \"plotlyServerURL\": \"https://plot.ly\"}\n",
       "        ).then(function () {return Plotly.addFrames('0d620acb-ef01-452b-927a-e904f5f36ab7',[{\"data\": [{\"line\": {\"width\": 5}, \"marker\": {\"size\": [4150.704853363701], \"sizemode\": \"area\", \"sizeref\": 2}, \"mode\": \"lines+markers\", \"name\": \"Asia\", \"text\": \"(Female(%), Male(%))\", \"x\": [13.15], \"y\": [12.69], \"type\": \"scatter\"}, {\"line\": {\"width\": 5}, \"marker\": {\"size\": [1156.9720858558], \"sizemode\": \"area\", \"sizeref\": 2}, \"mode\": \"lines+markers\", \"name\": \"Europe\", \"text\": \"(Female(%), Male(%))\", \"x\": [15.51], \"y\": [13.14], \"type\": \"scatter\"}, {\"line\": {\"width\": 5}, \"marker\": {\"size\": [7.059487252018501], \"sizemode\": \"area\", \"sizeref\": 2}, \"mode\": \"lines+markers\", \"name\": \"Oceania\", \"text\": \"(Female(%), Male(%))\", \"x\": [10.83], \"y\": [11.02], \"type\": \"scatter\"}, {\"line\": {\"width\": 5}, \"marker\": {\"size\": [1043.5574998098], \"sizemode\": \"area\", \"sizeref\": 2}, \"mode\": \"lines+markers\", \"name\": \"America\", \"text\": \"(Female(%), Male(%))\", \"x\": [15.67], \"y\": [13.42], \"type\": \"scatter\"}, {\"line\": {\"width\": 5}, \"marker\": {\"size\": [782.7384698927], \"sizemode\": \"area\", \"sizeref\": 2}, \"mode\": \"lines+markers\", \"name\": \"Africa\", \"text\": \"(Female(%), Male(%))\", \"x\": [12.32], \"y\": [12.5], \"type\": \"scatter\"}], \"name\": \"1990\"}, {\"data\": [{\"line\": {\"width\": 5}, \"marker\": {\"size\": [41.507048533637004, 4224.7305328355005], \"sizemode\": \"area\", \"sizeref\": 2}, \"mode\": \"lines+markers\", \"name\": \"Asia\", \"text\": \"(Female(%), Male(%))\", \"x\": [13.15, 13.18], \"y\": [12.69, 12.7], \"type\": \"scatter\"}, {\"line\": {\"width\": 5}, \"marker\": {\"size\": [11.569720858558, 1163.1189460122], \"sizemode\": \"area\", \"sizeref\": 2}, \"mode\": \"lines+markers\", \"name\": \"Europe\", \"text\": \"(Female(%), Male(%))\", \"x\": [15.51, 15.54], \"y\": [13.14, 13.16], \"type\": \"scatter\"}, {\"line\": {\"width\": 5}, \"marker\": {\"size\": [0.07059487252018501, 7.229065158469298], \"sizemode\": \"area\", \"sizeref\": 2}, \"mode\": \"lines+markers\", \"name\": \"Oceania\", \"text\": \"(Female(%), Male(%))\", \"x\": [10.83, 10.84], \"y\": [11.02, 11.02], \"type\": \"scatter\"}, {\"line\": {\"width\": 5}, \"marker\": {\"size\": [10.435574998098001, 1059.1623238304999], \"sizemode\": \"area\", \"sizeref\": 2}, \"mode\": \"lines+markers\", \"name\": \"America\", \"text\": \"(Female(%), Male(%))\", \"x\": [15.67, 15.65], \"y\": [13.42, 13.42], \"type\": \"scatter\"}, {\"line\": {\"width\": 5}, \"marker\": {\"size\": [7.827384698927, 804.7934793854199], \"sizemode\": \"area\", \"sizeref\": 2}, \"mode\": \"lines+markers\", \"name\": \"Africa\", \"text\": \"(Female(%), Male(%))\", \"x\": [12.32, 12.34], \"y\": [12.5, 12.52], \"type\": \"scatter\"}], \"name\": \"1991\"}, {\"data\": [{\"line\": {\"width\": 5}, \"marker\": {\"size\": [41.507048533637004, 42.247305328355004, 4299.8372421271], \"sizemode\": \"area\", \"sizeref\": 2}, \"mode\": \"lines+markers\", \"name\": \"Asia\", \"text\": \"(Female(%), Male(%))\", \"x\": [13.15, 13.18, 13.21], \"y\": [12.69, 12.7, 12.72], \"type\": \"scatter\"}, {\"line\": {\"width\": 5}, \"marker\": {\"size\": [11.569720858558, 11.631189460122002, 1169.017512627], \"sizemode\": \"area\", \"sizeref\": 2}, \"mode\": \"lines+markers\", \"name\": \"Europe\", \"text\": \"(Female(%), Male(%))\", \"x\": [15.51, 15.54, 15.57], \"y\": [13.14, 13.16, 13.19], \"type\": \"scatter\"}, {\"line\": {\"width\": 5}, \"marker\": {\"size\": [0.07059487252018501, 0.07229065158469299, 7.402553143406599], \"sizemode\": \"area\", \"sizeref\": 2}, \"mode\": \"lines+markers\", \"name\": \"Oceania\", \"text\": \"(Female(%), Male(%))\", \"x\": [10.83, 10.84, 10.84], \"y\": [11.02, 11.02, 11.01], \"type\": \"scatter\"}, {\"line\": {\"width\": 5}, \"marker\": {\"size\": [10.435574998098001, 10.591623238304997, 1075.4487838361], \"sizemode\": \"area\", \"sizeref\": 2}, \"mode\": \"lines+markers\", \"name\": \"America\", \"text\": \"(Female(%), Male(%))\", \"x\": [15.67, 15.65, 15.64], \"y\": [13.42, 13.42, 13.42], \"type\": \"scatter\"}, {\"line\": {\"width\": 5}, \"marker\": {\"size\": [7.827384698927, 8.0479347938542, 827.1495633983399], \"sizemode\": \"area\", \"sizeref\": 2}, \"mode\": \"lines+markers\", \"name\": \"Africa\", \"text\": \"(Female(%), Male(%))\", \"x\": [12.32, 12.34, 12.36], \"y\": [12.5, 12.52, 12.54], \"type\": \"scatter\"}], \"name\": \"1992\"}, {\"data\": [{\"line\": {\"width\": 5}, \"marker\": {\"size\": [41.507048533637004, 42.247305328355004, 42.99837242127099, 4375.5529240514], \"sizemode\": \"area\", \"sizeref\": 2}, \"mode\": \"lines+markers\", \"name\": \"Asia\", \"text\": \"(Female(%), Male(%))\", \"x\": [13.15, 13.18, 13.21, 13.25], \"y\": [12.69, 12.7, 12.72, 12.75], \"type\": \"scatter\"}, {\"line\": {\"width\": 5}, \"marker\": {\"size\": [11.569720858558, 11.631189460122002, 11.69017512627, 1173.7069200834], \"sizemode\": \"area\", \"sizeref\": 2}, \"mode\": \"lines+markers\", \"name\": \"Europe\", \"text\": \"(Female(%), Male(%))\", \"x\": [15.51, 15.54, 15.57, 15.61], \"y\": [13.14, 13.16, 13.19, 13.22], \"type\": \"scatter\"}, {\"line\": {\"width\": 5}, \"marker\": {\"size\": [0.07059487252018501, 0.07229065158469299, 0.07402553143406598, 7.5808479220901], \"sizemode\": \"area\", \"sizeref\": 2}, \"mode\": \"lines+markers\", \"name\": \"Oceania\", \"text\": \"(Female(%), Male(%))\", \"x\": [10.83, 10.84, 10.84, 10.83], \"y\": [11.02, 11.02, 11.01, 11.0], \"type\": \"scatter\"}, {\"line\": {\"width\": 5}, \"marker\": {\"size\": [10.435574998098001, 10.591623238304997, 10.754487838361, 1092.2767653036], \"sizemode\": \"area\", \"sizeref\": 2}, \"mode\": \"lines+markers\", \"name\": \"America\", \"text\": \"(Female(%), Male(%))\", \"x\": [15.67, 15.65, 15.64, 15.64], \"y\": [13.42, 13.42, 13.42, 13.43], \"type\": \"scatter\"}, {\"line\": {\"width\": 5}, \"marker\": {\"size\": [7.827384698927, 8.0479347938542, 8.271495633983399, 848.3905958896097], \"sizemode\": \"area\", \"sizeref\": 2}, \"mode\": \"lines+markers\", \"name\": \"Africa\", \"text\": \"(Female(%), Male(%))\", \"x\": [12.32, 12.34, 12.36, 12.38], \"y\": [12.5, 12.52, 12.54, 12.56], \"type\": \"scatter\"}], \"name\": \"1993\"}, {\"data\": [{\"line\": {\"width\": 5}, \"marker\": {\"size\": [41.507048533637004, 42.247305328355004, 42.99837242127099, 43.755529240514, 4449.7129753522], \"sizemode\": \"area\", \"sizeref\": 2}, \"mode\": \"lines+markers\", \"name\": \"Asia\", \"text\": \"(Female(%), Male(%))\", \"x\": [13.15, 13.18, 13.21, 13.25, 13.28], \"y\": [12.69, 12.7, 12.72, 12.75, 12.78], \"type\": \"scatter\"}, {\"line\": {\"width\": 5}, \"marker\": {\"size\": [11.569720858558, 11.631189460122002, 11.69017512627, 11.737069200834002, 1177.7361005205998], \"sizemode\": \"area\", \"sizeref\": 2}, \"mode\": \"lines+markers\", \"name\": \"Europe\", \"text\": \"(Female(%), Male(%))\", \"x\": [15.51, 15.54, 15.57, 15.61, 15.65], \"y\": [13.14, 13.16, 13.19, 13.22, 13.26], \"type\": \"scatter\"}, {\"line\": {\"width\": 5}, \"marker\": {\"size\": [0.07059487252018501, 0.07229065158469299, 0.07402553143406598, 0.075808479220901, 7.7650418185455], \"sizemode\": \"area\", \"sizeref\": 2}, \"mode\": \"lines+markers\", \"name\": \"Oceania\", \"text\": \"(Female(%), Male(%))\", \"x\": [10.83, 10.84, 10.84, 10.83, 10.83], \"y\": [11.02, 11.02, 11.01, 11.0, 10.99], \"type\": \"scatter\"}, {\"line\": {\"width\": 5}, \"marker\": {\"size\": [10.435574998098001, 10.591623238304997, 10.754487838361, 10.922767653035999, 1109.6432629956996], \"sizemode\": \"area\", \"sizeref\": 2}, \"mode\": \"lines+markers\", \"name\": \"America\", \"text\": \"(Female(%), Male(%))\", \"x\": [15.67, 15.65, 15.64, 15.64, 15.65], \"y\": [13.42, 13.42, 13.42, 13.43, 13.44], \"type\": \"scatter\"}, {\"line\": {\"width\": 5}, \"marker\": {\"size\": [7.827384698927, 8.0479347938542, 8.271495633983399, 8.483905958896097, 870.5413233800301], \"sizemode\": \"area\", \"sizeref\": 2}, \"mode\": \"lines+markers\", \"name\": \"Africa\", \"text\": \"(Female(%), Male(%))\", \"x\": [12.32, 12.34, 12.36, 12.38, 12.4], \"y\": [12.5, 12.52, 12.54, 12.56, 12.58], \"type\": \"scatter\"}], \"name\": \"1994\"}, {\"data\": [{\"line\": {\"width\": 5}, \"marker\": {\"size\": [41.507048533637004, 42.247305328355004, 42.99837242127099, 43.755529240514, 44.497129753522, 4523.0261942216], \"sizemode\": \"area\", \"sizeref\": 2}, \"mode\": \"lines+markers\", \"name\": \"Asia\", \"text\": \"(Female(%), Male(%))\", \"x\": [13.15, 13.18, 13.21, 13.25, 13.28, 13.32], \"y\": [12.69, 12.7, 12.72, 12.75, 12.78, 12.8], \"type\": \"scatter\"}, {\"line\": {\"width\": 5}, \"marker\": {\"size\": [11.569720858558, 11.631189460122002, 11.69017512627, 11.737069200834002, 11.777361005205998, 1181.1418568808], \"sizemode\": \"area\", \"sizeref\": 2}, \"mode\": \"lines+markers\", \"name\": \"Europe\", \"text\": \"(Female(%), Male(%))\", \"x\": [15.51, 15.54, 15.57, 15.61, 15.65, 15.69], \"y\": [13.14, 13.16, 13.19, 13.22, 13.26, 13.29], \"type\": \"scatter\"}, {\"line\": {\"width\": 5}, \"marker\": {\"size\": [0.07059487252018501, 0.07229065158469299, 0.07402553143406598, 0.075808479220901, 0.077650418185455, 7.9579032190682994], \"sizemode\": \"area\", \"sizeref\": 2}, \"mode\": \"lines+markers\", \"name\": \"Oceania\", \"text\": \"(Female(%), Male(%))\", \"x\": [10.83, 10.84, 10.84, 10.83, 10.83, 10.83], \"y\": [11.02, 11.02, 11.01, 11.0, 10.99, 10.98], \"type\": \"scatter\"}, {\"line\": {\"width\": 5}, \"marker\": {\"size\": [10.435574998098001, 10.591623238304997, 10.754487838361, 10.922767653035999, 11.096432629956997, 1127.5918196658001], \"sizemode\": \"area\", \"sizeref\": 2}, \"mode\": \"lines+markers\", \"name\": \"America\", \"text\": \"(Female(%), Male(%))\", \"x\": [15.67, 15.65, 15.64, 15.64, 15.65, 15.68], \"y\": [13.42, 13.42, 13.42, 13.43, 13.44, 13.46], \"type\": \"scatter\"}, {\"line\": {\"width\": 5}, \"marker\": {\"size\": [7.827384698927, 8.0479347938542, 8.271495633983399, 8.483905958896097, 8.7054132338003, 894.6702382126098], \"sizemode\": \"area\", \"sizeref\": 2}, \"mode\": \"lines+markers\", \"name\": \"Africa\", \"text\": \"(Female(%), Male(%))\", \"x\": [12.32, 12.34, 12.36, 12.38, 12.4, 12.41], \"y\": [12.5, 12.52, 12.54, 12.56, 12.58, 12.59], \"type\": \"scatter\"}], \"name\": \"1995\"}, {\"data\": [{\"line\": {\"width\": 5}, \"marker\": {\"size\": [41.507048533637004, 42.247305328355004, 42.99837242127099, 43.755529240514, 44.497129753522, 45.230261942216, 4596.9592620613], \"sizemode\": \"area\", \"sizeref\": 2}, \"mode\": \"lines+markers\", \"name\": \"Asia\", \"text\": \"(Female(%), Male(%))\", \"x\": [13.15, 13.18, 13.21, 13.25, 13.28, 13.32, 13.36], \"y\": [12.69, 12.7, 12.72, 12.75, 12.78, 12.8, 12.83], \"type\": \"scatter\"}, {\"line\": {\"width\": 5}, \"marker\": {\"size\": [11.569720858558, 11.631189460122002, 11.69017512627, 11.737069200834002, 11.777361005205998, 11.811418568808001, 1184.2781858480998], \"sizemode\": \"area\", \"sizeref\": 2}, \"mode\": \"lines+markers\", \"name\": \"Europe\", \"text\": \"(Female(%), Male(%))\", \"x\": [15.51, 15.54, 15.57, 15.61, 15.65, 15.69, 15.72], \"y\": [13.14, 13.16, 13.19, 13.22, 13.26, 13.29, 13.32], \"type\": \"scatter\"}, {\"line\": {\"width\": 5}, \"marker\": {\"size\": [0.07059487252018501, 0.07229065158469299, 0.07402553143406598, 0.075808479220901, 0.077650418185455, 0.07957903219068299, 8.1593470288486], \"sizemode\": \"area\", \"sizeref\": 2}, \"mode\": \"lines+markers\", \"name\": \"Oceania\", \"text\": \"(Female(%), Male(%))\", \"x\": [10.83, 10.84, 10.84, 10.83, 10.83, 10.83, 10.82], \"y\": [11.02, 11.02, 11.01, 11.0, 10.99, 10.98, 10.96], \"type\": \"scatter\"}, {\"line\": {\"width\": 5}, \"marker\": {\"size\": [10.435574998098001, 10.591623238304997, 10.754487838361, 10.922767653035999, 11.096432629956997, 11.275918196658, 1148.5344435111], \"sizemode\": \"area\", \"sizeref\": 2}, \"mode\": \"lines+markers\", \"name\": \"America\", \"text\": \"(Female(%), Male(%))\", \"x\": [15.67, 15.65, 15.64, 15.64, 15.65, 15.68, 15.76], \"y\": [13.42, 13.42, 13.42, 13.43, 13.44, 13.46, 13.51], \"type\": \"scatter\"}, {\"line\": {\"width\": 5}, \"marker\": {\"size\": [7.827384698927, 8.0479347938542, 8.271495633983399, 8.483905958896097, 8.7054132338003, 8.946702382126098, 919.8456056090399], \"sizemode\": \"area\", \"sizeref\": 2}, \"mode\": \"lines+markers\", \"name\": \"Africa\", \"text\": \"(Female(%), Male(%))\", \"x\": [12.32, 12.34, 12.36, 12.38, 12.4, 12.41, 12.43], \"y\": [12.5, 12.52, 12.54, 12.56, 12.58, 12.59, 12.59], \"type\": \"scatter\"}], \"name\": \"1996\"}, {\"data\": [{\"line\": {\"width\": 5}, \"marker\": {\"size\": [41.507048533637004, 42.247305328355004, 42.99837242127099, 43.755529240514, 44.497129753522, 45.230261942216, 45.969592620613, 4672.0652318023], \"sizemode\": \"area\", \"sizeref\": 2}, \"mode\": \"lines+markers\", \"name\": \"Asia\", \"text\": \"(Female(%), Male(%))\", \"x\": [13.15, 13.18, 13.21, 13.25, 13.28, 13.32, 13.36, 13.41], \"y\": [12.69, 12.7, 12.72, 12.75, 12.78, 12.8, 12.83, 12.86], \"type\": \"scatter\"}, {\"line\": {\"width\": 5}, \"marker\": {\"size\": [11.569720858558, 11.631189460122002, 11.69017512627, 11.737069200834002, 11.777361005205998, 11.811418568808001, 11.842781858480999, 1187.6011734311], \"sizemode\": \"area\", \"sizeref\": 2}, \"mode\": \"lines+markers\", \"name\": \"Europe\", \"text\": \"(Female(%), Male(%))\", \"x\": [15.51, 15.54, 15.57, 15.61, 15.65, 15.69, 15.72, 15.75], \"y\": [13.14, 13.16, 13.19, 13.22, 13.26, 13.29, 13.32, 13.35], \"type\": \"scatter\"}, {\"line\": {\"width\": 5}, \"marker\": {\"size\": [0.07059487252018501, 0.07229065158469299, 0.07402553143406598, 0.075808479220901, 0.077650418185455, 0.07957903219068299, 0.081593470288486, 8.369878890943099], \"sizemode\": \"area\", \"sizeref\": 2}, \"mode\": \"lines+markers\", \"name\": \"Oceania\", \"text\": \"(Female(%), Male(%))\", \"x\": [10.83, 10.84, 10.84, 10.83, 10.83, 10.83, 10.82, 10.82], \"y\": [11.02, 11.02, 11.01, 11.0, 10.99, 10.98, 10.96, 10.95], \"type\": \"scatter\"}, {\"line\": {\"width\": 5}, \"marker\": {\"size\": [10.435574998098001, 10.591623238304997, 10.754487838361, 10.922767653035999, 11.096432629956997, 11.275918196658, 11.485344435111001, 1173.3403218282997], \"sizemode\": \"area\", \"sizeref\": 2}, \"mode\": \"lines+markers\", \"name\": \"America\", \"text\": \"(Female(%), Male(%))\", \"x\": [15.67, 15.65, 15.64, 15.64, 15.65, 15.68, 15.76, 15.92], \"y\": [13.42, 13.42, 13.42, 13.43, 13.44, 13.46, 13.51, 13.59], \"type\": \"scatter\"}, {\"line\": {\"width\": 5}, \"marker\": {\"size\": [7.827384698927, 8.0479347938542, 8.271495633983399, 8.483905958896097, 8.7054132338003, 8.946702382126098, 9.1984560560904, 945.9342345147601], \"sizemode\": \"area\", \"sizeref\": 2}, \"mode\": \"lines+markers\", \"name\": \"Africa\", \"text\": \"(Female(%), Male(%))\", \"x\": [12.32, 12.34, 12.36, 12.38, 12.4, 12.41, 12.43, 12.45], \"y\": [12.5, 12.52, 12.54, 12.56, 12.58, 12.59, 12.59, 12.6], \"type\": \"scatter\"}], \"name\": \"1997\"}, {\"data\": [{\"line\": {\"width\": 5}, \"marker\": {\"size\": [41.507048533637004, 42.247305328355004, 42.99837242127099, 43.755529240514, 44.497129753522, 45.230261942216, 45.969592620613, 46.720652318023, 4747.8713310152], \"sizemode\": \"area\", \"sizeref\": 2}, \"mode\": \"lines+markers\", \"name\": \"Asia\", \"text\": \"(Female(%), Male(%))\", \"x\": [13.15, 13.18, 13.21, 13.25, 13.28, 13.32, 13.36, 13.41, 13.46], \"y\": [12.69, 12.7, 12.72, 12.75, 12.78, 12.8, 12.83, 12.86, 12.88], \"type\": \"scatter\"}, {\"line\": {\"width\": 5}, \"marker\": {\"size\": [11.569720858558, 11.631189460122002, 11.69017512627, 11.737069200834002, 11.777361005205998, 11.811418568808001, 11.842781858480999, 11.876011734311, 1190.8208589172], \"sizemode\": \"area\", \"sizeref\": 2}, \"mode\": \"lines+markers\", \"name\": \"Europe\", \"text\": \"(Female(%), Male(%))\", \"x\": [15.51, 15.54, 15.57, 15.61, 15.65, 15.69, 15.72, 15.75, 15.78], \"y\": [13.14, 13.16, 13.19, 13.22, 13.26, 13.29, 13.32, 13.35, 13.37], \"type\": \"scatter\"}, {\"line\": {\"width\": 5}, \"marker\": {\"size\": [0.07059487252018501, 0.07229065158469299, 0.07402553143406598, 0.075808479220901, 0.077650418185455, 0.07957903219068299, 0.081593470288486, 0.08369878890943099, 8.5896934803086], \"sizemode\": \"area\", \"sizeref\": 2}, \"mode\": \"lines+markers\", \"name\": \"Oceania\", \"text\": \"(Female(%), Male(%))\", \"x\": [10.83, 10.84, 10.84, 10.83, 10.83, 10.83, 10.82, 10.82, 10.82], \"y\": [11.02, 11.02, 11.01, 11.0, 10.99, 10.98, 10.96, 10.95, 10.94], \"type\": \"scatter\"}, {\"line\": {\"width\": 5}, \"marker\": {\"size\": [10.435574998098001, 10.591623238304997, 10.754487838361, 10.922767653035999, 11.096432629956997, 11.275918196658, 11.485344435111001, 11.733403218282996, 1199.831867219], \"sizemode\": \"area\", \"sizeref\": 2}, \"mode\": \"lines+markers\", \"name\": \"America\", \"text\": \"(Female(%), Male(%))\", \"x\": [15.67, 15.65, 15.64, 15.64, 15.65, 15.68, 15.76, 15.92, 16.11], \"y\": [13.42, 13.42, 13.42, 13.43, 13.44, 13.46, 13.51, 13.59, 13.67], \"type\": \"scatter\"}, {\"line\": {\"width\": 5}, \"marker\": {\"size\": [7.827384698927, 8.0479347938542, 8.271495633983399, 8.483905958896097, 8.7054132338003, 8.946702382126098, 9.1984560560904, 9.4593423451476, 971.3402740962499], \"sizemode\": \"area\", \"sizeref\": 2}, \"mode\": \"lines+markers\", \"name\": \"Africa\", \"text\": \"(Female(%), Male(%))\", \"x\": [12.32, 12.34, 12.36, 12.38, 12.4, 12.41, 12.43, 12.45, 12.47], \"y\": [12.5, 12.52, 12.54, 12.56, 12.58, 12.59, 12.59, 12.6, 12.6], \"type\": \"scatter\"}], \"name\": \"1998\"}, {\"data\": [{\"line\": {\"width\": 5}, \"marker\": {\"size\": [41.507048533637004, 42.247305328355004, 42.99837242127099, 43.755529240514, 44.497129753522, 45.230261942216, 45.969592620613, 46.720652318023, 47.478713310152, 4823.7024300766], \"sizemode\": \"area\", \"sizeref\": 2}, \"mode\": \"lines+markers\", \"name\": \"Asia\", \"text\": \"(Female(%), Male(%))\", \"x\": [13.15, 13.18, 13.21, 13.25, 13.28, 13.32, 13.36, 13.41, 13.46, 13.51], \"y\": [12.69, 12.7, 12.72, 12.75, 12.78, 12.8, 12.83, 12.86, 12.88, 12.91], \"type\": \"scatter\"}, {\"line\": {\"width\": 5}, \"marker\": {\"size\": [11.569720858558, 11.631189460122002, 11.69017512627, 11.737069200834002, 11.777361005205998, 11.811418568808001, 11.842781858480999, 11.876011734311, 11.908208589172, 1193.7853561178001], \"sizemode\": \"area\", \"sizeref\": 2}, \"mode\": \"lines+markers\", \"name\": \"Europe\", \"text\": \"(Female(%), Male(%))\", \"x\": [15.51, 15.54, 15.57, 15.61, 15.65, 15.69, 15.72, 15.75, 15.78, 15.8], \"y\": [13.14, 13.16, 13.19, 13.22, 13.26, 13.29, 13.32, 13.35, 13.37, 13.39], \"type\": \"scatter\"}, {\"line\": {\"width\": 5}, \"marker\": {\"size\": [0.07059487252018501, 0.07229065158469299, 0.07402553143406598, 0.075808479220901, 0.077650418185455, 0.07957903219068299, 0.081593470288486, 0.08369878890943099, 0.08589693480308601, 8.8200472219235], \"sizemode\": \"area\", \"sizeref\": 2}, \"mode\": \"lines+markers\", \"name\": \"Oceania\", \"text\": \"(Female(%), Male(%))\", \"x\": [10.83, 10.84, 10.84, 10.83, 10.83, 10.83, 10.82, 10.82, 10.82, 10.82], \"y\": [11.02, 11.02, 11.01, 11.0, 10.99, 10.98, 10.96, 10.95, 10.94, 10.93], \"type\": \"scatter\"}, {\"line\": {\"width\": 5}, \"marker\": {\"size\": [10.435574998098001, 10.591623238304997, 10.754487838361, 10.922767653035999, 11.096432629956997, 11.275918196658, 11.485344435111001, 11.733403218282996, 11.99831867219, 1225.6932115892002], \"sizemode\": \"area\", \"sizeref\": 2}, \"mode\": \"lines+markers\", \"name\": \"America\", \"text\": \"(Female(%), Male(%))\", \"x\": [15.67, 15.65, 15.64, 15.64, 15.65, 15.68, 15.76, 15.92, 16.11, 16.28], \"y\": [13.42, 13.42, 13.42, 13.43, 13.44, 13.46, 13.51, 13.59, 13.67, 13.75], \"type\": \"scatter\"}, {\"line\": {\"width\": 5}, \"marker\": {\"size\": [7.827384698927, 8.0479347938542, 8.271495633983399, 8.483905958896097, 8.7054132338003, 8.946702382126098, 9.1984560560904, 9.4593423451476, 9.713402740962499, 996.73963721366], \"sizemode\": \"area\", \"sizeref\": 2}, \"mode\": \"lines+markers\", \"name\": \"Africa\", \"text\": \"(Female(%), Male(%))\", \"x\": [12.32, 12.34, 12.36, 12.38, 12.4, 12.41, 12.43, 12.45, 12.47, 12.48], \"y\": [12.5, 12.52, 12.54, 12.56, 12.58, 12.59, 12.59, 12.6, 12.6, 12.59], \"type\": \"scatter\"}], \"name\": \"1999\"}, {\"data\": [{\"line\": {\"width\": 5}, \"marker\": {\"size\": [41.507048533637004, 42.247305328355004, 42.99837242127099, 43.755529240514, 44.497129753522, 45.230261942216, 45.969592620613, 46.720652318023, 47.478713310152, 48.237024300765995, 4899.5617945636], \"sizemode\": \"area\", \"sizeref\": 2}, \"mode\": \"lines+markers\", \"name\": \"Asia\", \"text\": \"(Female(%), Male(%))\", \"x\": [13.15, 13.18, 13.21, 13.25, 13.28, 13.32, 13.36, 13.41, 13.46, 13.51, 13.56], \"y\": [12.69, 12.7, 12.72, 12.75, 12.78, 12.8, 12.83, 12.86, 12.88, 12.91, 12.93], \"type\": \"scatter\"}, {\"line\": {\"width\": 5}, \"marker\": {\"size\": [11.569720858558, 11.631189460122002, 11.69017512627, 11.737069200834002, 11.777361005205998, 11.811418568808001, 11.842781858480999, 11.876011734311, 11.908208589172, 11.937853561178, 1196.9235636410997], \"sizemode\": \"area\", \"sizeref\": 2}, \"mode\": \"lines+markers\", \"name\": \"Europe\", \"text\": \"(Female(%), Male(%))\", \"x\": [15.51, 15.54, 15.57, 15.61, 15.65, 15.69, 15.72, 15.75, 15.78, 15.8, 15.83], \"y\": [13.14, 13.16, 13.19, 13.22, 13.26, 13.29, 13.32, 13.35, 13.37, 13.39, 13.41], \"type\": \"scatter\"}, {\"line\": {\"width\": 5}, \"marker\": {\"size\": [0.07059487252018501, 0.07229065158469299, 0.07402553143406598, 0.075808479220901, 0.077650418185455, 0.07957903219068299, 0.081593470288486, 0.08369878890943099, 0.08589693480308601, 0.08820047221923501, 9.062310844527799], \"sizemode\": \"area\", \"sizeref\": 2}, \"mode\": \"lines+markers\", \"name\": \"Oceania\", \"text\": \"(Female(%), Male(%))\", \"x\": [10.83, 10.84, 10.84, 10.83, 10.83, 10.83, 10.82, 10.82, 10.82, 10.82, 10.83], \"y\": [11.02, 11.02, 11.01, 11.0, 10.99, 10.98, 10.96, 10.95, 10.94, 10.93, 10.94], \"type\": \"scatter\"}, {\"line\": {\"width\": 5}, \"marker\": {\"size\": [10.435574998098001, 10.591623238304997, 10.754487838361, 10.922767653035999, 11.096432629956997, 11.275918196658, 11.485344435111001, 11.733403218282996, 11.99831867219, 12.256932115892003, 1248.3046901423], \"sizemode\": \"area\", \"sizeref\": 2}, \"mode\": \"lines+markers\", \"name\": \"America\", \"text\": \"(Female(%), Male(%))\", \"x\": [15.67, 15.65, 15.64, 15.64, 15.65, 15.68, 15.76, 15.92, 16.11, 16.28, 16.39], \"y\": [13.42, 13.42, 13.42, 13.43, 13.44, 13.46, 13.51, 13.59, 13.67, 13.75, 13.8], \"type\": \"scatter\"}, {\"line\": {\"width\": 5}, \"marker\": {\"size\": [7.827384698927, 8.0479347938542, 8.271495633983399, 8.483905958896097, 8.7054132338003, 8.946702382126098, 9.1984560560904, 9.4593423451476, 9.713402740962499, 9.9673963721366, 1022.3800158564702], \"sizemode\": \"area\", \"sizeref\": 2}, \"mode\": \"lines+markers\", \"name\": \"Africa\", \"text\": \"(Female(%), Male(%))\", \"x\": [12.32, 12.34, 12.36, 12.38, 12.4, 12.41, 12.43, 12.45, 12.47, 12.48, 12.49], \"y\": [12.5, 12.52, 12.54, 12.56, 12.58, 12.59, 12.59, 12.6, 12.6, 12.59, 12.59], \"type\": \"scatter\"}], \"name\": \"2000\"}, {\"data\": [{\"line\": {\"width\": 5}, \"marker\": {\"size\": [41.507048533637004, 42.247305328355004, 42.99837242127099, 43.755529240514, 44.497129753522, 45.230261942216, 45.969592620613, 46.720652318023, 47.478713310152, 48.237024300765995, 48.995617945636006, 4974.6234375214], \"sizemode\": \"area\", \"sizeref\": 2}, \"mode\": \"lines+markers\", \"name\": \"Asia\", \"text\": \"(Female(%), Male(%))\", \"x\": [13.15, 13.18, 13.21, 13.25, 13.28, 13.32, 13.36, 13.41, 13.46, 13.51, 13.56, 13.61], \"y\": [12.69, 12.7, 12.72, 12.75, 12.78, 12.8, 12.83, 12.86, 12.88, 12.91, 12.93, 12.96], \"type\": \"scatter\"}, {\"line\": {\"width\": 5}, \"marker\": {\"size\": [11.569720858558, 11.631189460122002, 11.69017512627, 11.737069200834002, 11.777361005205998, 11.811418568808001, 11.842781858480999, 11.876011734311, 11.908208589172, 11.937853561178, 11.969235636410998, 1199.8050562738001], \"sizemode\": \"area\", \"sizeref\": 2}, \"mode\": \"lines+markers\", \"name\": \"Europe\", \"text\": \"(Female(%), Male(%))\", \"x\": [15.51, 15.54, 15.57, 15.61, 15.65, 15.69, 15.72, 15.75, 15.78, 15.8, 15.83, 15.85], \"y\": [13.14, 13.16, 13.19, 13.22, 13.26, 13.29, 13.32, 13.35, 13.37, 13.39, 13.41, 13.42], \"type\": \"scatter\"}, {\"line\": {\"width\": 5}, \"marker\": {\"size\": [0.07059487252018501, 0.07229065158469299, 0.07402553143406598, 0.075808479220901, 0.077650418185455, 0.07957903219068299, 0.081593470288486, 0.08369878890943099, 0.08589693480308601, 0.08820047221923501, 0.090623108445278, 9.3125540499872], \"sizemode\": \"area\", \"sizeref\": 2}, \"mode\": \"lines+markers\", \"name\": \"Oceania\", \"text\": \"(Female(%), Male(%))\", \"x\": [10.83, 10.84, 10.84, 10.83, 10.83, 10.83, 10.82, 10.82, 10.82, 10.82, 10.83, 10.85], \"y\": [11.02, 11.02, 11.01, 11.0, 10.99, 10.98, 10.96, 10.95, 10.94, 10.93, 10.94, 10.95], \"type\": \"scatter\"}, {\"line\": {\"width\": 5}, \"marker\": {\"size\": [10.435574998098001, 10.591623238304997, 10.754487838361, 10.922767653035999, 11.096432629956997, 11.275918196658, 11.485344435111001, 11.733403218282996, 11.99831867219, 12.256932115892003, 12.483046901423, 1268.5524488105], \"sizemode\": \"area\", \"sizeref\": 2}, \"mode\": \"lines+markers\", \"name\": \"America\", \"text\": \"(Female(%), Male(%))\", \"x\": [15.67, 15.65, 15.64, 15.64, 15.65, 15.68, 15.76, 15.92, 16.11, 16.28, 16.39, 16.46], \"y\": [13.42, 13.42, 13.42, 13.43, 13.44, 13.46, 13.51, 13.59, 13.67, 13.75, 13.8, 13.83], \"type\": \"scatter\"}, {\"line\": {\"width\": 5}, \"marker\": {\"size\": [7.827384698927, 8.0479347938542, 8.271495633983399, 8.483905958896097, 8.7054132338003, 8.946702382126098, 9.1984560560904, 9.4593423451476, 9.713402740962499, 9.9673963721366, 10.223800158564702, 1048.3139636820001], \"sizemode\": \"area\", \"sizeref\": 2}, \"mode\": \"lines+markers\", \"name\": \"Africa\", \"text\": \"(Female(%), Male(%))\", \"x\": [12.32, 12.34, 12.36, 12.38, 12.4, 12.41, 12.43, 12.45, 12.47, 12.48, 12.49, 12.48], \"y\": [12.5, 12.52, 12.54, 12.56, 12.58, 12.59, 12.59, 12.6, 12.6, 12.59, 12.59, 12.58], \"type\": \"scatter\"}], \"name\": \"2001\"}, {\"data\": [{\"line\": {\"width\": 5}, \"marker\": {\"size\": [41.507048533637004, 42.247305328355004, 42.99837242127099, 43.755529240514, 44.497129753522, 45.230261942216, 45.969592620613, 46.720652318023, 47.478713310152, 48.237024300765995, 48.995617945636006, 49.746234375214, 5049.9516955978], \"sizemode\": \"area\", \"sizeref\": 2}, \"mode\": \"lines+markers\", \"name\": \"Asia\", \"text\": \"(Female(%), Male(%))\", \"x\": [13.15, 13.18, 13.21, 13.25, 13.28, 13.32, 13.36, 13.41, 13.46, 13.51, 13.56, 13.61, 13.65], \"y\": [12.69, 12.7, 12.72, 12.75, 12.78, 12.8, 12.83, 12.86, 12.88, 12.91, 12.93, 12.96, 12.98], \"type\": \"scatter\"}, {\"line\": {\"width\": 5}, \"marker\": {\"size\": [11.569720858558, 11.631189460122002, 11.69017512627, 11.737069200834002, 11.777361005205998, 11.811418568808001, 11.842781858480999, 11.876011734311, 11.908208589172, 11.937853561178, 11.969235636410998, 11.998050562738001, 1201.9802374394], \"sizemode\": \"area\", \"sizeref\": 2}, \"mode\": \"lines+markers\", \"name\": \"Europe\", \"text\": \"(Female(%), Male(%))\", \"x\": [15.51, 15.54, 15.57, 15.61, 15.65, 15.69, 15.72, 15.75, 15.78, 15.8, 15.83, 15.85, 15.85], \"y\": [13.14, 13.16, 13.19, 13.22, 13.26, 13.29, 13.32, 13.35, 13.37, 13.39, 13.41, 13.42, 13.42], \"type\": \"scatter\"}, {\"line\": {\"width\": 5}, \"marker\": {\"size\": [0.07059487252018501, 0.07229065158469299, 0.07402553143406598, 0.075808479220901, 0.077650418185455, 0.07957903219068299, 0.081593470288486, 0.08369878890943099, 0.08589693480308601, 0.08820047221923501, 0.090623108445278, 0.093125540499872, 9.567611743151401], \"sizemode\": \"area\", \"sizeref\": 2}, \"mode\": \"lines+markers\", \"name\": \"Oceania\", \"text\": \"(Female(%), Male(%))\", \"x\": [10.83, 10.84, 10.84, 10.83, 10.83, 10.83, 10.82, 10.82, 10.82, 10.82, 10.83, 10.85, 10.87], \"y\": [11.02, 11.02, 11.01, 11.0, 10.99, 10.98, 10.96, 10.95, 10.94, 10.93, 10.94, 10.95, 10.96], \"type\": \"scatter\"}, {\"line\": {\"width\": 5}, \"marker\": {\"size\": [10.435574998098001, 10.591623238304997, 10.754487838361, 10.922767653035999, 11.096432629956997, 11.275918196658, 11.485344435111001, 11.733403218282996, 11.99831867219, 12.256932115892003, 12.483046901423, 12.685524488104999, 1288.5975826185], \"sizemode\": \"area\", \"sizeref\": 2}, \"mode\": \"lines+markers\", \"name\": \"America\", \"text\": \"(Female(%), Male(%))\", \"x\": [15.67, 15.65, 15.64, 15.64, 15.65, 15.68, 15.76, 15.92, 16.11, 16.28, 16.39, 16.46, 16.53], \"y\": [13.42, 13.42, 13.42, 13.43, 13.44, 13.46, 13.51, 13.59, 13.67, 13.75, 13.8, 13.83, 13.85], \"type\": \"scatter\"}, {\"line\": {\"width\": 5}, \"marker\": {\"size\": [7.827384698927, 8.0479347938542, 8.271495633983399, 8.483905958896097, 8.7054132338003, 8.946702382126098, 9.1984560560904, 9.4593423451476, 9.713402740962499, 9.9673963721366, 10.223800158564702, 10.48313963682, 1074.2163492702], \"sizemode\": \"area\", \"sizeref\": 2}, \"mode\": \"lines+markers\", \"name\": \"Africa\", \"text\": \"(Female(%), Male(%))\", \"x\": [12.32, 12.34, 12.36, 12.38, 12.4, 12.41, 12.43, 12.45, 12.47, 12.48, 12.49, 12.48, 12.47], \"y\": [12.5, 12.52, 12.54, 12.56, 12.58, 12.59, 12.59, 12.6, 12.6, 12.59, 12.59, 12.58, 12.56], \"type\": \"scatter\"}], \"name\": \"2002\"}, {\"data\": [{\"line\": {\"width\": 5}, \"marker\": {\"size\": [41.507048533637004, 42.247305328355004, 42.99837242127099, 43.755529240514, 44.497129753522, 45.230261942216, 45.969592620613, 46.720652318023, 47.478713310152, 48.237024300765995, 48.995617945636006, 49.746234375214, 50.499516955978, 5125.0989148154], \"sizemode\": \"area\", \"sizeref\": 2}, \"mode\": \"lines+markers\", \"name\": \"Asia\", \"text\": \"(Female(%), Male(%))\", \"x\": [13.15, 13.18, 13.21, 13.25, 13.28, 13.32, 13.36, 13.41, 13.46, 13.51, 13.56, 13.61, 13.65, 13.7], \"y\": [12.69, 12.7, 12.72, 12.75, 12.78, 12.8, 12.83, 12.86, 12.88, 12.91, 12.93, 12.96, 12.98, 13.0], \"type\": \"scatter\"}, {\"line\": {\"width\": 5}, \"marker\": {\"size\": [11.569720858558, 11.631189460122002, 11.69017512627, 11.737069200834002, 11.777361005205998, 11.811418568808001, 11.842781858480999, 11.876011734311, 11.908208589172, 11.937853561178, 11.969235636410998, 11.998050562738001, 12.019802374393999, 1203.6452518335], \"sizemode\": \"area\", \"sizeref\": 2}, \"mode\": \"lines+markers\", \"name\": \"Europe\", \"text\": \"(Female(%), Male(%))\", \"x\": [15.51, 15.54, 15.57, 15.61, 15.65, 15.69, 15.72, 15.75, 15.78, 15.8, 15.83, 15.85, 15.85, 15.85], \"y\": [13.14, 13.16, 13.19, 13.22, 13.26, 13.29, 13.32, 13.35, 13.37, 13.39, 13.41, 13.42, 13.42, 13.41], \"type\": \"scatter\"}, {\"line\": {\"width\": 5}, \"marker\": {\"size\": [0.07059487252018501, 0.07229065158469299, 0.07402553143406598, 0.075808479220901, 0.077650418185455, 0.07957903219068299, 0.081593470288486, 0.08369878890943099, 0.08589693480308601, 0.08820047221923501, 0.090623108445278, 0.093125540499872, 0.09567611743151401, 9.829023328753598], \"sizemode\": \"area\", \"sizeref\": 2}, \"mode\": \"lines+markers\", \"name\": \"Oceania\", \"text\": \"(Female(%), Male(%))\", \"x\": [10.83, 10.84, 10.84, 10.83, 10.83, 10.83, 10.82, 10.82, 10.82, 10.82, 10.83, 10.85, 10.87, 10.89], \"y\": [11.02, 11.02, 11.01, 11.0, 10.99, 10.98, 10.96, 10.95, 10.94, 10.93, 10.94, 10.95, 10.96, 10.98], \"type\": \"scatter\"}, {\"line\": {\"width\": 5}, \"marker\": {\"size\": [10.435574998098001, 10.591623238304997, 10.754487838361, 10.922767653035999, 11.096432629956997, 11.275918196658, 11.485344435111001, 11.733403218282996, 11.99831867219, 12.256932115892003, 12.483046901423, 12.685524488104999, 12.885975826185, 1308.2967746048], \"sizemode\": \"area\", \"sizeref\": 2}, \"mode\": \"lines+markers\", \"name\": \"America\", \"text\": \"(Female(%), Male(%))\", \"x\": [15.67, 15.65, 15.64, 15.64, 15.65, 15.68, 15.76, 15.92, 16.11, 16.28, 16.39, 16.46, 16.53, 16.59], \"y\": [13.42, 13.42, 13.42, 13.43, 13.44, 13.46, 13.51, 13.59, 13.67, 13.75, 13.8, 13.83, 13.85, 13.88], \"type\": \"scatter\"}, {\"line\": {\"width\": 5}, \"marker\": {\"size\": [7.827384698927, 8.0479347938542, 8.271495633983399, 8.483905958896097, 8.7054132338003, 8.946702382126098, 9.1984560560904, 9.4593423451476, 9.713402740962499, 9.9673963721366, 10.223800158564702, 10.48313963682, 10.742163492702, 1100.06515247], \"sizemode\": \"area\", \"sizeref\": 2}, \"mode\": \"lines+markers\", \"name\": \"Africa\", \"text\": \"(Female(%), Male(%))\", \"x\": [12.32, 12.34, 12.36, 12.38, 12.4, 12.41, 12.43, 12.45, 12.47, 12.48, 12.49, 12.48, 12.47, 12.45], \"y\": [12.5, 12.52, 12.54, 12.56, 12.58, 12.59, 12.59, 12.6, 12.6, 12.59, 12.59, 12.58, 12.56, 12.53], \"type\": \"scatter\"}], \"name\": \"2003\"}, {\"data\": [{\"line\": {\"width\": 5}, \"marker\": {\"size\": [41.507048533637004, 42.247305328355004, 42.99837242127099, 43.755529240514, 44.497129753522, 45.230261942216, 45.969592620613, 46.720652318023, 47.478713310152, 48.237024300765995, 48.995617945636006, 49.746234375214, 50.499516955978, 51.250989148154005, 5198.856988665801], \"sizemode\": \"area\", \"sizeref\": 2}, \"mode\": \"lines+markers\", \"name\": \"Asia\", \"text\": \"(Female(%), Male(%))\", \"x\": [13.15, 13.18, 13.21, 13.25, 13.28, 13.32, 13.36, 13.41, 13.46, 13.51, 13.56, 13.61, 13.65, 13.7, 13.73], \"y\": [12.69, 12.7, 12.72, 12.75, 12.78, 12.8, 12.83, 12.86, 12.88, 12.91, 12.93, 12.96, 12.98, 13.0, 13.02], \"type\": \"scatter\"}, {\"line\": {\"width\": 5}, \"marker\": {\"size\": [11.569720858558, 11.631189460122002, 11.69017512627, 11.737069200834002, 11.777361005205998, 11.811418568808001, 11.842781858480999, 11.876011734311, 11.908208589172, 11.937853561178, 11.969235636410998, 11.998050562738001, 12.019802374393999, 12.036452518335, 1205.1977117267002], \"sizemode\": \"area\", \"sizeref\": 2}, \"mode\": \"lines+markers\", \"name\": \"Europe\", \"text\": \"(Female(%), Male(%))\", \"x\": [15.51, 15.54, 15.57, 15.61, 15.65, 15.69, 15.72, 15.75, 15.78, 15.8, 15.83, 15.85, 15.85, 15.85, 15.84], \"y\": [13.14, 13.16, 13.19, 13.22, 13.26, 13.29, 13.32, 13.35, 13.37, 13.39, 13.41, 13.42, 13.42, 13.41, 13.4], \"type\": \"scatter\"}, {\"line\": {\"width\": 5}, \"marker\": {\"size\": [0.07059487252018501, 0.07229065158469299, 0.07402553143406598, 0.075808479220901, 0.077650418185455, 0.07957903219068299, 0.081593470288486, 0.08369878890943099, 0.08589693480308601, 0.08820047221923501, 0.090623108445278, 0.093125540499872, 0.09567611743151401, 0.09829023328753599, 10.099792717217], \"sizemode\": \"area\", \"sizeref\": 2}, \"mode\": \"lines+markers\", \"name\": \"Oceania\", \"text\": \"(Female(%), Male(%))\", \"x\": [10.83, 10.84, 10.84, 10.83, 10.83, 10.83, 10.82, 10.82, 10.82, 10.82, 10.83, 10.85, 10.87, 10.89, 10.91], \"y\": [11.02, 11.02, 11.01, 11.0, 10.99, 10.98, 10.96, 10.95, 10.94, 10.93, 10.94, 10.95, 10.96, 10.98, 11.0], \"type\": \"scatter\"}, {\"line\": {\"width\": 5}, \"marker\": {\"size\": [10.435574998098001, 10.591623238304997, 10.754487838361, 10.922767653035999, 11.096432629956997, 11.275918196658, 11.485344435111001, 11.733403218282996, 11.99831867219, 12.256932115892003, 12.483046901423, 12.685524488104999, 12.885975826185, 13.082967746048, 1327.6190222787], \"sizemode\": \"area\", \"sizeref\": 2}, \"mode\": \"lines+markers\", \"name\": \"America\", \"text\": \"(Female(%), Male(%))\", \"x\": [15.67, 15.65, 15.64, 15.64, 15.65, 15.68, 15.76, 15.92, 16.11, 16.28, 16.39, 16.46, 16.53, 16.59, 16.64], \"y\": [13.42, 13.42, 13.42, 13.43, 13.44, 13.46, 13.51, 13.59, 13.67, 13.75, 13.8, 13.83, 13.85, 13.88, 13.9], \"type\": \"scatter\"}, {\"line\": {\"width\": 5}, \"marker\": {\"size\": [7.827384698927, 8.0479347938542, 8.271495633983399, 8.483905958896097, 8.7054132338003, 8.946702382126098, 9.1984560560904, 9.4593423451476, 9.713402740962499, 9.9673963721366, 10.223800158564702, 10.48313963682, 10.742163492702, 11.000651524699999, 1126.2418522780001], \"sizemode\": \"area\", \"sizeref\": 2}, \"mode\": \"lines+markers\", \"name\": \"Africa\", \"text\": \"(Female(%), Male(%))\", \"x\": [12.32, 12.34, 12.36, 12.38, 12.4, 12.41, 12.43, 12.45, 12.47, 12.48, 12.49, 12.48, 12.47, 12.45, 12.43], \"y\": [12.5, 12.52, 12.54, 12.56, 12.58, 12.59, 12.59, 12.6, 12.6, 12.59, 12.59, 12.58, 12.56, 12.53, 12.51], \"type\": \"scatter\"}], \"name\": \"2004\"}, {\"data\": [{\"line\": {\"width\": 5}, \"marker\": {\"size\": [41.507048533637004, 42.247305328355004, 42.99837242127099, 43.755529240514, 44.497129753522, 45.230261942216, 45.969592620613, 46.720652318023, 47.478713310152, 48.237024300765995, 48.995617945636006, 49.746234375214, 50.499516955978, 51.250989148154005, 51.988569886658006, 5272.6336062742], \"sizemode\": \"area\", \"sizeref\": 2}, \"mode\": \"lines+markers\", \"name\": \"Asia\", \"text\": \"(Female(%), Male(%))\", \"x\": [13.15, 13.18, 13.21, 13.25, 13.28, 13.32, 13.36, 13.41, 13.46, 13.51, 13.56, 13.61, 13.65, 13.7, 13.73, 13.77], \"y\": [12.69, 12.7, 12.72, 12.75, 12.78, 12.8, 12.83, 12.86, 12.88, 12.91, 12.93, 12.96, 12.98, 13.0, 13.02, 13.03], \"type\": \"scatter\"}, {\"line\": {\"width\": 5}, \"marker\": {\"size\": [11.569720858558, 11.631189460122002, 11.69017512627, 11.737069200834002, 11.777361005205998, 11.811418568808001, 11.842781858480999, 11.876011734311, 11.908208589172, 11.937853561178, 11.969235636410998, 11.998050562738001, 12.019802374393999, 12.036452518335, 12.051977117267002, 1206.9455889980998], \"sizemode\": \"area\", \"sizeref\": 2}, \"mode\": \"lines+markers\", \"name\": \"Europe\", \"text\": \"(Female(%), Male(%))\", \"x\": [15.51, 15.54, 15.57, 15.61, 15.65, 15.69, 15.72, 15.75, 15.78, 15.8, 15.83, 15.85, 15.85, 15.85, 15.84, 15.84], \"y\": [13.14, 13.16, 13.19, 13.22, 13.26, 13.29, 13.32, 13.35, 13.37, 13.39, 13.41, 13.42, 13.42, 13.41, 13.4, 13.39], \"type\": \"scatter\"}, {\"line\": {\"width\": 5}, \"marker\": {\"size\": [0.07059487252018501, 0.07229065158469299, 0.07402553143406598, 0.075808479220901, 0.077650418185455, 0.07957903219068299, 0.081593470288486, 0.08369878890943099, 0.08589693480308601, 0.08820047221923501, 0.090623108445278, 0.093125540499872, 0.09567611743151401, 0.09829023328753599, 0.10099792717217, 10.378657234629003], \"sizemode\": \"area\", \"sizeref\": 2}, \"mode\": \"lines+markers\", \"name\": \"Oceania\", \"text\": \"(Female(%), Male(%))\", \"x\": [10.83, 10.84, 10.84, 10.83, 10.83, 10.83, 10.82, 10.82, 10.82, 10.82, 10.83, 10.85, 10.87, 10.89, 10.91, 10.94], \"y\": [11.02, 11.02, 11.01, 11.0, 10.99, 10.98, 10.96, 10.95, 10.94, 10.93, 10.94, 10.95, 10.96, 10.98, 11.0, 11.02], \"type\": \"scatter\"}, {\"line\": {\"width\": 5}, \"marker\": {\"size\": [10.435574998098001, 10.591623238304997, 10.754487838361, 10.922767653035999, 11.096432629956997, 11.275918196658, 11.485344435111001, 11.733403218282996, 11.99831867219, 12.256932115892003, 12.483046901423, 12.685524488104999, 12.885975826185, 13.082967746048, 13.276190222787, 1346.1832295846], \"sizemode\": \"area\", \"sizeref\": 2}, \"mode\": \"lines+markers\", \"name\": \"America\", \"text\": \"(Female(%), Male(%))\", \"x\": [15.67, 15.65, 15.64, 15.64, 15.65, 15.68, 15.76, 15.92, 16.11, 16.28, 16.39, 16.46, 16.53, 16.59, 16.64, 16.67], \"y\": [13.42, 13.42, 13.42, 13.43, 13.44, 13.46, 13.51, 13.59, 13.67, 13.75, 13.8, 13.83, 13.85, 13.88, 13.9, 13.91], \"type\": \"scatter\"}, {\"line\": {\"width\": 5}, \"marker\": {\"size\": [7.827384698927, 8.0479347938542, 8.271495633983399, 8.483905958896097, 8.7054132338003, 8.946702382126098, 9.1984560560904, 9.4593423451476, 9.713402740962499, 9.9673963721366, 10.223800158564702, 10.48313963682, 10.742163492702, 11.000651524699999, 11.26241852278, 1153.326675437], \"sizemode\": \"area\", \"sizeref\": 2}, \"mode\": \"lines+markers\", \"name\": \"Africa\", \"text\": \"(Female(%), Male(%))\", \"x\": [12.32, 12.34, 12.36, 12.38, 12.4, 12.41, 12.43, 12.45, 12.47, 12.48, 12.49, 12.48, 12.47, 12.45, 12.43, 12.41], \"y\": [12.5, 12.52, 12.54, 12.56, 12.58, 12.59, 12.59, 12.6, 12.6, 12.59, 12.59, 12.58, 12.56, 12.53, 12.51, 12.48], \"type\": \"scatter\"}], \"name\": \"2005\"}, {\"data\": [{\"line\": {\"width\": 5}, \"marker\": {\"size\": [41.507048533637004, 42.247305328355004, 42.99837242127099, 43.755529240514, 44.497129753522, 45.230261942216, 45.969592620613, 46.720652318023, 47.478713310152, 48.237024300765995, 48.995617945636006, 49.746234375214, 50.499516955978, 51.250989148154005, 51.988569886658006, 52.726336062742, 5340.1822579593], \"sizemode\": \"area\", \"sizeref\": 2}, \"mode\": \"lines+markers\", \"name\": \"Asia\", \"text\": \"(Female(%), Male(%))\", \"x\": [13.15, 13.18, 13.21, 13.25, 13.28, 13.32, 13.36, 13.41, 13.46, 13.51, 13.56, 13.61, 13.65, 13.7, 13.73, 13.77, 13.79], \"y\": [12.69, 12.7, 12.72, 12.75, 12.78, 12.8, 12.83, 12.86, 12.88, 12.91, 12.93, 12.96, 12.98, 13.0, 13.02, 13.03, 13.03], \"type\": \"scatter\"}, {\"line\": {\"width\": 5}, \"marker\": {\"size\": [11.569720858558, 11.631189460122002, 11.69017512627, 11.737069200834002, 11.777361005205998, 11.811418568808001, 11.842781858480999, 11.876011734311, 11.908208589172, 11.937853561178, 11.969235636410998, 11.998050562738001, 12.019802374393999, 12.036452518335, 12.051977117267002, 12.069455889980999, 1209.0660396644], \"sizemode\": \"area\", \"sizeref\": 2}, \"mode\": \"lines+markers\", \"name\": \"Europe\", \"text\": \"(Female(%), Male(%))\", \"x\": [15.51, 15.54, 15.57, 15.61, 15.65, 15.69, 15.72, 15.75, 15.78, 15.8, 15.83, 15.85, 15.85, 15.85, 15.84, 15.84, 15.85], \"y\": [13.14, 13.16, 13.19, 13.22, 13.26, 13.29, 13.32, 13.35, 13.37, 13.39, 13.41, 13.42, 13.42, 13.41, 13.4, 13.39, 13.37], \"type\": \"scatter\"}, {\"line\": {\"width\": 5}, \"marker\": {\"size\": [0.07059487252018501, 0.07229065158469299, 0.07402553143406598, 0.075808479220901, 0.077650418185455, 0.07957903219068299, 0.081593470288486, 0.08369878890943099, 0.08589693480308601, 0.08820047221923501, 0.090623108445278, 0.093125540499872, 0.09567611743151401, 0.09829023328753599, 0.10099792717217, 0.10378657234629003, 10.664998538745001], \"sizemode\": \"area\", \"sizeref\": 2}, \"mode\": \"lines+markers\", \"name\": \"Oceania\", \"text\": \"(Female(%), Male(%))\", \"x\": [10.83, 10.84, 10.84, 10.83, 10.83, 10.83, 10.82, 10.82, 10.82, 10.82, 10.83, 10.85, 10.87, 10.89, 10.91, 10.94, 10.97], \"y\": [11.02, 11.02, 11.01, 11.0, 10.99, 10.98, 10.96, 10.95, 10.94, 10.93, 10.94, 10.95, 10.96, 10.98, 11.0, 11.02, 11.05], \"type\": \"scatter\"}, {\"line\": {\"width\": 5}, \"marker\": {\"size\": [10.435574998098001, 10.591623238304997, 10.754487838361, 10.922767653035999, 11.096432629956997, 11.275918196658, 11.485344435111001, 11.733403218282996, 11.99831867219, 12.256932115892003, 12.483046901423, 12.685524488104999, 12.885975826185, 13.082967746048, 13.276190222787, 13.461832295846, 1362.0177279108], \"sizemode\": \"area\", \"sizeref\": 2}, \"mode\": \"lines+markers\", \"name\": \"America\", \"text\": \"(Female(%), Male(%))\", \"x\": [15.67, 15.65, 15.64, 15.64, 15.65, 15.68, 15.76, 15.92, 16.11, 16.28, 16.39, 16.46, 16.53, 16.59, 16.64, 16.67, 16.67], \"y\": [13.42, 13.42, 13.42, 13.43, 13.44, 13.46, 13.51, 13.59, 13.67, 13.75, 13.8, 13.83, 13.85, 13.88, 13.9, 13.91, 13.9], \"type\": \"scatter\"}, {\"line\": {\"width\": 5}, \"marker\": {\"size\": [7.827384698927, 8.0479347938542, 8.271495633983399, 8.483905958896097, 8.7054132338003, 8.946702382126098, 9.1984560560904, 9.4593423451476, 9.713402740962499, 9.9673963721366, 10.223800158564702, 10.48313963682, 10.742163492702, 11.000651524699999, 11.26241852278, 11.533266754369999, 1181.1296375948], \"sizemode\": \"area\", \"sizeref\": 2}, \"mode\": \"lines+markers\", \"name\": \"Africa\", \"text\": \"(Female(%), Male(%))\", \"x\": [12.32, 12.34, 12.36, 12.38, 12.4, 12.41, 12.43, 12.45, 12.47, 12.48, 12.49, 12.48, 12.47, 12.45, 12.43, 12.41, 12.39], \"y\": [12.5, 12.52, 12.54, 12.56, 12.58, 12.59, 12.59, 12.6, 12.6, 12.59, 12.59, 12.58, 12.56, 12.53, 12.51, 12.48, 12.45], \"type\": \"scatter\"}], \"name\": \"2006\"}, {\"data\": [{\"line\": {\"width\": 5}, \"marker\": {\"size\": [41.507048533637004, 42.247305328355004, 42.99837242127099, 43.755529240514, 44.497129753522, 45.230261942216, 45.969592620613, 46.720652318023, 47.478713310152, 48.237024300765995, 48.995617945636006, 49.746234375214, 50.499516955978, 51.250989148154005, 51.988569886658006, 52.726336062742, 53.401822579592995, 5401.2022863642005], \"sizemode\": \"area\", \"sizeref\": 2}, \"mode\": \"lines+markers\", \"name\": \"Asia\", \"text\": \"(Female(%), Male(%))\", \"x\": [13.15, 13.18, 13.21, 13.25, 13.28, 13.32, 13.36, 13.41, 13.46, 13.51, 13.56, 13.61, 13.65, 13.7, 13.73, 13.77, 13.79, 13.78], \"y\": [12.69, 12.7, 12.72, 12.75, 12.78, 12.8, 12.83, 12.86, 12.88, 12.91, 12.93, 12.96, 12.98, 13.0, 13.02, 13.03, 13.03, 13.02], \"type\": \"scatter\"}, {\"line\": {\"width\": 5}, \"marker\": {\"size\": [11.569720858558, 11.631189460122002, 11.69017512627, 11.737069200834002, 11.777361005205998, 11.811418568808001, 11.842781858480999, 11.876011734311, 11.908208589172, 11.937853561178, 11.969235636410998, 11.998050562738001, 12.019802374393999, 12.036452518335, 12.051977117267002, 12.069455889980999, 12.090660396644001, 1211.4958552561], \"sizemode\": \"area\", \"sizeref\": 2}, \"mode\": \"lines+markers\", \"name\": \"Europe\", \"text\": \"(Female(%), Male(%))\", \"x\": [15.51, 15.54, 15.57, 15.61, 15.65, 15.69, 15.72, 15.75, 15.78, 15.8, 15.83, 15.85, 15.85, 15.85, 15.84, 15.84, 15.85, 15.87], \"y\": [13.14, 13.16, 13.19, 13.22, 13.26, 13.29, 13.32, 13.35, 13.37, 13.39, 13.41, 13.42, 13.42, 13.41, 13.4, 13.39, 13.37, 13.34], \"type\": \"scatter\"}, {\"line\": {\"width\": 5}, \"marker\": {\"size\": [0.07059487252018501, 0.07229065158469299, 0.07402553143406598, 0.075808479220901, 0.077650418185455, 0.07957903219068299, 0.081593470288486, 0.08369878890943099, 0.08589693480308601, 0.08820047221923501, 0.090623108445278, 0.093125540499872, 0.09567611743151401, 0.09829023328753599, 0.10099792717217, 0.10378657234629003, 0.10664998538745002, 10.955386664782997], \"sizemode\": \"area\", \"sizeref\": 2}, \"mode\": \"lines+markers\", \"name\": \"Oceania\", \"text\": \"(Female(%), Male(%))\", \"x\": [10.83, 10.84, 10.84, 10.83, 10.83, 10.83, 10.82, 10.82, 10.82, 10.82, 10.83, 10.85, 10.87, 10.89, 10.91, 10.94, 10.97, 10.99], \"y\": [11.02, 11.02, 11.01, 11.0, 10.99, 10.98, 10.96, 10.95, 10.94, 10.93, 10.94, 10.95, 10.96, 10.98, 11.0, 11.02, 11.05, 11.07], \"type\": \"scatter\"}, {\"line\": {\"width\": 5}, \"marker\": {\"size\": [10.435574998098001, 10.591623238304997, 10.754487838361, 10.922767653035999, 11.096432629956997, 11.275918196658, 11.485344435111001, 11.733403218282996, 11.99831867219, 12.256932115892003, 12.483046901423, 12.685524488104999, 12.885975826185, 13.082967746048, 13.276190222787, 13.461832295846, 13.620177279108, 1374.3075485068], \"sizemode\": \"area\", \"sizeref\": 2}, \"mode\": \"lines+markers\", \"name\": \"America\", \"text\": \"(Female(%), Male(%))\", \"x\": [15.67, 15.65, 15.64, 15.64, 15.65, 15.68, 15.76, 15.92, 16.11, 16.28, 16.39, 16.46, 16.53, 16.59, 16.64, 16.67, 16.67, 16.6], \"y\": [13.42, 13.42, 13.42, 13.43, 13.44, 13.46, 13.51, 13.59, 13.67, 13.75, 13.8, 13.83, 13.85, 13.88, 13.9, 13.91, 13.9, 13.87], \"type\": \"scatter\"}, {\"line\": {\"width\": 5}, \"marker\": {\"size\": [7.827384698927, 8.0479347938542, 8.271495633983399, 8.483905958896097, 8.7054132338003, 8.946702382126098, 9.1984560560904, 9.4593423451476, 9.713402740962499, 9.9673963721366, 10.223800158564702, 10.48313963682, 10.742163492702, 11.000651524699999, 11.26241852278, 11.533266754369999, 11.811296375948, 1209.453301357], \"sizemode\": \"area\", \"sizeref\": 2}, \"mode\": \"lines+markers\", \"name\": \"Africa\", \"text\": \"(Female(%), Male(%))\", \"x\": [12.32, 12.34, 12.36, 12.38, 12.4, 12.41, 12.43, 12.45, 12.47, 12.48, 12.49, 12.48, 12.47, 12.45, 12.43, 12.41, 12.39, 12.37], \"y\": [12.5, 12.52, 12.54, 12.56, 12.58, 12.59, 12.59, 12.6, 12.6, 12.59, 12.59, 12.58, 12.56, 12.53, 12.51, 12.48, 12.45, 12.42], \"type\": \"scatter\"}], \"name\": \"2007\"}, {\"data\": [{\"line\": {\"width\": 5}, \"marker\": {\"size\": [41.507048533637004, 42.247305328355004, 42.99837242127099, 43.755529240514, 44.497129753522, 45.230261942216, 45.969592620613, 46.720652318023, 47.478713310152, 48.237024300765995, 48.995617945636006, 49.746234375214, 50.499516955978, 51.250989148154005, 51.988569886658006, 52.726336062742, 53.401822579592995, 54.012022863642, 5460.789265178299], \"sizemode\": \"area\", \"sizeref\": 2}, \"mode\": \"lines+markers\", \"name\": \"Asia\", \"text\": \"(Female(%), Male(%))\", \"x\": [13.15, 13.18, 13.21, 13.25, 13.28, 13.32, 13.36, 13.41, 13.46, 13.51, 13.56, 13.61, 13.65, 13.7, 13.73, 13.77, 13.79, 13.78, 13.76], \"y\": [12.69, 12.7, 12.72, 12.75, 12.78, 12.8, 12.83, 12.86, 12.88, 12.91, 12.93, 12.96, 12.98, 13.0, 13.02, 13.03, 13.03, 13.02, 13.0], \"type\": \"scatter\"}, {\"line\": {\"width\": 5}, \"marker\": {\"size\": [11.569720858558, 11.631189460122002, 11.69017512627, 11.737069200834002, 11.777361005205998, 11.811418568808001, 11.842781858480999, 11.876011734311, 11.908208589172, 11.937853561178, 11.969235636410998, 11.998050562738001, 12.019802374393999, 12.036452518335, 12.051977117267002, 12.069455889980999, 12.090660396644001, 12.114958552561, 1213.8204154105], \"sizemode\": \"area\", \"sizeref\": 2}, \"mode\": \"lines+markers\", \"name\": \"Europe\", \"text\": \"(Female(%), Male(%))\", \"x\": [15.51, 15.54, 15.57, 15.61, 15.65, 15.69, 15.72, 15.75, 15.78, 15.8, 15.83, 15.85, 15.85, 15.85, 15.84, 15.84, 15.85, 15.87, 15.88], \"y\": [13.14, 13.16, 13.19, 13.22, 13.26, 13.29, 13.32, 13.35, 13.37, 13.39, 13.41, 13.42, 13.42, 13.41, 13.4, 13.39, 13.37, 13.34, 13.31], \"type\": \"scatter\"}, {\"line\": {\"width\": 5}, \"marker\": {\"size\": [0.07059487252018501, 0.07229065158469299, 0.07402553143406598, 0.075808479220901, 0.077650418185455, 0.07957903219068299, 0.081593470288486, 0.08369878890943099, 0.08589693480308601, 0.08820047221923501, 0.090623108445278, 0.093125540499872, 0.09567611743151401, 0.09829023328753599, 0.10099792717217, 0.10378657234629003, 0.10664998538745002, 0.10955386664782997, 11.248195849502], \"sizemode\": \"area\", \"sizeref\": 2}, \"mode\": \"lines+markers\", \"name\": \"Oceania\", \"text\": \"(Female(%), Male(%))\", \"x\": [10.83, 10.84, 10.84, 10.83, 10.83, 10.83, 10.82, 10.82, 10.82, 10.82, 10.83, 10.85, 10.87, 10.89, 10.91, 10.94, 10.97, 10.99, 11.0], \"y\": [11.02, 11.02, 11.01, 11.0, 10.99, 10.98, 10.96, 10.95, 10.94, 10.93, 10.94, 10.95, 10.96, 10.98, 11.0, 11.02, 11.05, 11.07, 11.1], \"type\": \"scatter\"}, {\"line\": {\"width\": 5}, \"marker\": {\"size\": [10.435574998098001, 10.591623238304997, 10.754487838361, 10.922767653035999, 11.096432629956997, 11.275918196658, 11.485344435111001, 11.733403218282996, 11.99831867219, 12.256932115892003, 12.483046901423, 12.685524488104999, 12.885975826185, 13.082967746048, 13.276190222787, 13.461832295846, 13.620177279108, 13.743075485068, 1384.9273317374998], \"sizemode\": \"area\", \"sizeref\": 2}, \"mode\": \"lines+markers\", \"name\": \"America\", \"text\": \"(Female(%), Male(%))\", \"x\": [15.67, 15.65, 15.64, 15.64, 15.65, 15.68, 15.76, 15.92, 16.11, 16.28, 16.39, 16.46, 16.53, 16.59, 16.64, 16.67, 16.67, 16.6, 16.52], \"y\": [13.42, 13.42, 13.42, 13.43, 13.44, 13.46, 13.51, 13.59, 13.67, 13.75, 13.8, 13.83, 13.85, 13.88, 13.9, 13.91, 13.9, 13.87, 13.83], \"type\": \"scatter\"}, {\"line\": {\"width\": 5}, \"marker\": {\"size\": [7.827384698927, 8.0479347938542, 8.271495633983399, 8.483905958896097, 8.7054132338003, 8.946702382126098, 9.1984560560904, 9.4593423451476, 9.713402740962499, 9.9673963721366, 10.223800158564702, 10.48313963682, 10.742163492702, 11.000651524699999, 11.26241852278, 11.533266754369999, 11.811296375948, 12.094533013570002, 1238.5127875768], \"sizemode\": \"area\", \"sizeref\": 2}, \"mode\": \"lines+markers\", \"name\": \"Africa\", \"text\": \"(Female(%), Male(%))\", \"x\": [12.32, 12.34, 12.36, 12.38, 12.4, 12.41, 12.43, 12.45, 12.47, 12.48, 12.49, 12.48, 12.47, 12.45, 12.43, 12.41, 12.39, 12.37, 12.35], \"y\": [12.5, 12.52, 12.54, 12.56, 12.58, 12.59, 12.59, 12.6, 12.6, 12.59, 12.59, 12.58, 12.56, 12.53, 12.51, 12.48, 12.45, 12.42, 12.39], \"type\": \"scatter\"}], \"name\": \"2008\"}, {\"data\": [{\"line\": {\"width\": 5}, \"marker\": {\"size\": [41.507048533637004, 42.247305328355004, 42.99837242127099, 43.755529240514, 44.497129753522, 45.230261942216, 45.969592620613, 46.720652318023, 47.478713310152, 48.237024300765995, 48.995617945636006, 49.746234375214, 50.499516955978, 51.250989148154005, 51.988569886658006, 52.726336062742, 53.401822579592995, 54.012022863642, 54.60789265178299, 5522.6972241962], \"sizemode\": \"area\", \"sizeref\": 2}, \"mode\": \"lines+markers\", \"name\": \"Asia\", \"text\": \"(Female(%), Male(%))\", \"x\": [13.15, 13.18, 13.21, 13.25, 13.28, 13.32, 13.36, 13.41, 13.46, 13.51, 13.56, 13.61, 13.65, 13.7, 13.73, 13.77, 13.79, 13.78, 13.76, 13.75], \"y\": [12.69, 12.7, 12.72, 12.75, 12.78, 12.8, 12.83, 12.86, 12.88, 12.91, 12.93, 12.96, 12.98, 13.0, 13.02, 13.03, 13.03, 13.02, 13.0, 12.99], \"type\": \"scatter\"}, {\"line\": {\"width\": 5}, \"marker\": {\"size\": [11.569720858558, 11.631189460122002, 11.69017512627, 11.737069200834002, 11.777361005205998, 11.811418568808001, 11.842781858480999, 11.876011734311, 11.908208589172, 11.937853561178, 11.969235636410998, 11.998050562738001, 12.019802374393999, 12.036452518335, 12.051977117267002, 12.069455889980999, 12.090660396644001, 12.114958552561, 12.138204154104999, 1215.9560423934001], \"sizemode\": \"area\", \"sizeref\": 2}, \"mode\": \"lines+markers\", \"name\": \"Europe\", \"text\": \"(Female(%), Male(%))\", \"x\": [15.51, 15.54, 15.57, 15.61, 15.65, 15.69, 15.72, 15.75, 15.78, 15.8, 15.83, 15.85, 15.85, 15.85, 15.84, 15.84, 15.85, 15.87, 15.88, 15.88], \"y\": [13.14, 13.16, 13.19, 13.22, 13.26, 13.29, 13.32, 13.35, 13.37, 13.39, 13.41, 13.42, 13.42, 13.41, 13.4, 13.39, 13.37, 13.34, 13.31, 13.28], \"type\": \"scatter\"}, {\"line\": {\"width\": 5}, \"marker\": {\"size\": [0.07059487252018501, 0.07229065158469299, 0.07402553143406598, 0.075808479220901, 0.077650418185455, 0.07957903219068299, 0.081593470288486, 0.08369878890943099, 0.08589693480308601, 0.08820047221923501, 0.090623108445278, 0.093125540499872, 0.09567611743151401, 0.09829023328753599, 0.10099792717217, 0.10378657234629003, 0.10664998538745002, 0.10955386664782997, 0.11248195849502, 11.538501416971002], \"sizemode\": \"area\", \"sizeref\": 2}, \"mode\": \"lines+markers\", \"name\": \"Oceania\", \"text\": \"(Female(%), Male(%))\", \"x\": [10.83, 10.84, 10.84, 10.83, 10.83, 10.83, 10.82, 10.82, 10.82, 10.82, 10.83, 10.85, 10.87, 10.89, 10.91, 10.94, 10.97, 10.99, 11.0, 11.01], \"y\": [11.02, 11.02, 11.01, 11.0, 10.99, 10.98, 10.96, 10.95, 10.94, 10.93, 10.94, 10.95, 10.96, 10.98, 11.0, 11.02, 11.05, 11.07, 11.1, 11.11], \"type\": \"scatter\"}, {\"line\": {\"width\": 5}, \"marker\": {\"size\": [10.435574998098001, 10.591623238304997, 10.754487838361, 10.922767653035999, 11.096432629956997, 11.275918196658, 11.485344435111001, 11.733403218282996, 11.99831867219, 12.256932115892003, 12.483046901423, 12.685524488104999, 12.885975826185, 13.082967746048, 13.276190222787, 13.461832295846, 13.620177279108, 13.743075485068, 13.849273317374998, 1395.8507316024002], \"sizemode\": \"area\", \"sizeref\": 2}, \"mode\": \"lines+markers\", \"name\": \"America\", \"text\": \"(Female(%), Male(%))\", \"x\": [15.67, 15.65, 15.64, 15.64, 15.65, 15.68, 15.76, 15.92, 16.11, 16.28, 16.39, 16.46, 16.53, 16.59, 16.64, 16.67, 16.67, 16.6, 16.52, 16.44], \"y\": [13.42, 13.42, 13.42, 13.43, 13.44, 13.46, 13.51, 13.59, 13.67, 13.75, 13.8, 13.83, 13.85, 13.88, 13.9, 13.91, 13.9, 13.87, 13.83, 13.79], \"type\": \"scatter\"}, {\"line\": {\"width\": 5}, \"marker\": {\"size\": [7.827384698927, 8.0479347938542, 8.271495633983399, 8.483905958896097, 8.7054132338003, 8.946702382126098, 9.1984560560904, 9.4593423451476, 9.713402740962499, 9.9673963721366, 10.223800158564702, 10.48313963682, 10.742163492702, 11.000651524699999, 11.26241852278, 11.533266754369999, 11.811296375948, 12.094533013570002, 12.385127875768, 1268.5061003911], \"sizemode\": \"area\", \"sizeref\": 2}, \"mode\": \"lines+markers\", \"name\": \"Africa\", \"text\": \"(Female(%), Male(%))\", \"x\": [12.32, 12.34, 12.36, 12.38, 12.4, 12.41, 12.43, 12.45, 12.47, 12.48, 12.49, 12.48, 12.47, 12.45, 12.43, 12.41, 12.39, 12.37, 12.35, 12.33], \"y\": [12.5, 12.52, 12.54, 12.56, 12.58, 12.59, 12.59, 12.6, 12.6, 12.59, 12.59, 12.58, 12.56, 12.53, 12.51, 12.48, 12.45, 12.42, 12.39, 12.36], \"type\": \"scatter\"}], \"name\": \"2009\"}, {\"data\": [{\"line\": {\"width\": 5}, \"marker\": {\"size\": [41.507048533637004, 42.247305328355004, 42.99837242127099, 43.755529240514, 44.497129753522, 45.230261942216, 45.969592620613, 46.720652318023, 47.478713310152, 48.237024300765995, 48.995617945636006, 49.746234375214, 50.499516955978, 51.250989148154005, 51.988569886658006, 52.726336062742, 53.401822579592995, 54.012022863642, 54.60789265178299, 55.226972241962, 5588.314758750901], \"sizemode\": \"area\", \"sizeref\": 2}, \"mode\": \"lines+markers\", \"name\": \"Asia\", \"text\": \"(Female(%), Male(%))\", \"x\": [13.15, 13.18, 13.21, 13.25, 13.28, 13.32, 13.36, 13.41, 13.46, 13.51, 13.56, 13.61, 13.65, 13.7, 13.73, 13.77, 13.79, 13.78, 13.76, 13.75, 13.76], \"y\": [12.69, 12.7, 12.72, 12.75, 12.78, 12.8, 12.83, 12.86, 12.88, 12.91, 12.93, 12.96, 12.98, 13.0, 13.02, 13.03, 13.03, 13.02, 13.0, 12.99, 12.99], \"type\": \"scatter\"}, {\"line\": {\"width\": 5}, \"marker\": {\"size\": [11.569720858558, 11.631189460122002, 11.69017512627, 11.737069200834002, 11.777361005205998, 11.811418568808001, 11.842781858480999, 11.876011734311, 11.908208589172, 11.937853561178, 11.969235636410998, 11.998050562738001, 12.019802374393999, 12.036452518335, 12.051977117267002, 12.069455889980999, 12.090660396644001, 12.114958552561, 12.138204154104999, 12.159560423934002, 1217.8399440065002], \"sizemode\": \"area\", \"sizeref\": 2}, \"mode\": \"lines+markers\", \"name\": \"Europe\", \"text\": \"(Female(%), Male(%))\", \"x\": [15.51, 15.54, 15.57, 15.61, 15.65, 15.69, 15.72, 15.75, 15.78, 15.8, 15.83, 15.85, 15.85, 15.85, 15.84, 15.84, 15.85, 15.87, 15.88, 15.88, 15.88], \"y\": [13.14, 13.16, 13.19, 13.22, 13.26, 13.29, 13.32, 13.35, 13.37, 13.39, 13.41, 13.42, 13.42, 13.41, 13.4, 13.39, 13.37, 13.34, 13.31, 13.28, 13.25], \"type\": \"scatter\"}, {\"line\": {\"width\": 5}, \"marker\": {\"size\": [0.07059487252018501, 0.07229065158469299, 0.07402553143406598, 0.075808479220901, 0.077650418185455, 0.07957903219068299, 0.081593470288486, 0.08369878890943099, 0.08589693480308601, 0.08820047221923501, 0.090623108445278, 0.093125540499872, 0.09567611743151401, 0.09829023328753599, 0.10099792717217, 0.10378657234629003, 0.10664998538745002, 0.10955386664782997, 0.11248195849502, 0.11538501416971002, 11.828115080485999], \"sizemode\": \"area\", \"sizeref\": 2}, \"mode\": \"lines+markers\", \"name\": \"Oceania\", \"text\": \"(Female(%), Male(%))\", \"x\": [10.83, 10.84, 10.84, 10.83, 10.83, 10.83, 10.82, 10.82, 10.82, 10.82, 10.83, 10.85, 10.87, 10.89, 10.91, 10.94, 10.97, 10.99, 11.0, 11.01, 11.02], \"y\": [11.02, 11.02, 11.01, 11.0, 10.99, 10.98, 10.96, 10.95, 10.94, 10.93, 10.94, 10.95, 10.96, 10.98, 11.0, 11.02, 11.05, 11.07, 11.1, 11.11, 11.11], \"type\": \"scatter\"}, {\"line\": {\"width\": 5}, \"marker\": {\"size\": [10.435574998098001, 10.591623238304997, 10.754487838361, 10.922767653035999, 11.096432629956997, 11.275918196658, 11.485344435111001, 11.733403218282996, 11.99831867219, 12.256932115892003, 12.483046901423, 12.685524488104999, 12.885975826185, 13.082967746048, 13.276190222787, 13.461832295846, 13.620177279108, 13.743075485068, 13.849273317374998, 13.958507316024003, 1408.8389256693], \"sizemode\": \"area\", \"sizeref\": 2}, \"mode\": \"lines+markers\", \"name\": \"America\", \"text\": \"(Female(%), Male(%))\", \"x\": [15.67, 15.65, 15.64, 15.64, 15.65, 15.68, 15.76, 15.92, 16.11, 16.28, 16.39, 16.46, 16.53, 16.59, 16.64, 16.67, 16.67, 16.6, 16.52, 16.44, 16.4], \"y\": [13.42, 13.42, 13.42, 13.43, 13.44, 13.46, 13.51, 13.59, 13.67, 13.75, 13.8, 13.83, 13.85, 13.88, 13.9, 13.91, 13.9, 13.87, 13.83, 13.79, 13.77], \"type\": \"scatter\"}, {\"line\": {\"width\": 5}, \"marker\": {\"size\": [7.827384698927, 8.0479347938542, 8.271495633983399, 8.483905958896097, 8.7054132338003, 8.946702382126098, 9.1984560560904, 9.4593423451476, 9.713402740962499, 9.9673963721366, 10.223800158564702, 10.48313963682, 10.742163492702, 11.000651524699999, 11.26241852278, 11.533266754369999, 11.811296375948, 12.094533013570002, 12.385127875768, 12.685061003911, 1299.3203832138], \"sizemode\": \"area\", \"sizeref\": 2}, \"mode\": \"lines+markers\", \"name\": \"Africa\", \"text\": \"(Female(%), Male(%))\", \"x\": [12.32, 12.34, 12.36, 12.38, 12.4, 12.41, 12.43, 12.45, 12.47, 12.48, 12.49, 12.48, 12.47, 12.45, 12.43, 12.41, 12.39, 12.37, 12.35, 12.33, 12.31], \"y\": [12.5, 12.52, 12.54, 12.56, 12.58, 12.59, 12.59, 12.6, 12.6, 12.59, 12.59, 12.58, 12.56, 12.53, 12.51, 12.48, 12.45, 12.42, 12.39, 12.36, 12.34], \"type\": \"scatter\"}], \"name\": \"2010\"}, {\"data\": [{\"line\": {\"width\": 5}, \"marker\": {\"size\": [41.507048533637004, 42.247305328355004, 42.99837242127099, 43.755529240514, 44.497129753522, 45.230261942216, 45.969592620613, 46.720652318023, 47.478713310152, 48.237024300765995, 48.995617945636006, 49.746234375214, 50.499516955978, 51.250989148154005, 51.988569886658006, 52.726336062742, 53.401822579592995, 54.012022863642, 54.60789265178299, 55.226972241962, 55.883147587509015, 5658.5590778611], \"sizemode\": \"area\", \"sizeref\": 2}, \"mode\": \"lines+markers\", \"name\": \"Asia\", \"text\": \"(Female(%), Male(%))\", \"x\": [13.15, 13.18, 13.21, 13.25, 13.28, 13.32, 13.36, 13.41, 13.46, 13.51, 13.56, 13.61, 13.65, 13.7, 13.73, 13.77, 13.79, 13.78, 13.76, 13.75, 13.76, 13.79], \"y\": [12.69, 12.7, 12.72, 12.75, 12.78, 12.8, 12.83, 12.86, 12.88, 12.91, 12.93, 12.96, 12.98, 13.0, 13.02, 13.03, 13.03, 13.02, 13.0, 12.99, 12.99, 12.99], \"type\": \"scatter\"}, {\"line\": {\"width\": 5}, \"marker\": {\"size\": [11.569720858558, 11.631189460122002, 11.69017512627, 11.737069200834002, 11.777361005205998, 11.811418568808001, 11.842781858480999, 11.876011734311, 11.908208589172, 11.937853561178, 11.969235636410998, 11.998050562738001, 12.019802374393999, 12.036452518335, 12.051977117267002, 12.069455889980999, 12.090660396644001, 12.114958552561, 12.138204154104999, 12.159560423934002, 12.178399440065002, 1219.3352833323997], \"sizemode\": \"area\", \"sizeref\": 2}, \"mode\": \"lines+markers\", \"name\": \"Europe\", \"text\": \"(Female(%), Male(%))\", \"x\": [15.51, 15.54, 15.57, 15.61, 15.65, 15.69, 15.72, 15.75, 15.78, 15.8, 15.83, 15.85, 15.85, 15.85, 15.84, 15.84, 15.85, 15.87, 15.88, 15.88, 15.88, 15.87], \"y\": [13.14, 13.16, 13.19, 13.22, 13.26, 13.29, 13.32, 13.35, 13.37, 13.39, 13.41, 13.42, 13.42, 13.41, 13.4, 13.39, 13.37, 13.34, 13.31, 13.28, 13.25, 13.23], \"type\": \"scatter\"}, {\"line\": {\"width\": 5}, \"marker\": {\"size\": [0.07059487252018501, 0.07229065158469299, 0.07402553143406598, 0.075808479220901, 0.077650418185455, 0.07957903219068299, 0.081593470288486, 0.08369878890943099, 0.08589693480308601, 0.08820047221923501, 0.090623108445278, 0.093125540499872, 0.09567611743151401, 0.09829023328753599, 0.10099792717217, 0.10378657234629003, 0.10664998538745002, 0.10955386664782997, 0.11248195849502, 0.11538501416971002, 0.11828115080485999, 12.115084743011998], \"sizemode\": \"area\", \"sizeref\": 2}, \"mode\": \"lines+markers\", \"name\": \"Oceania\", \"text\": \"(Female(%), Male(%))\", \"x\": [10.83, 10.84, 10.84, 10.83, 10.83, 10.83, 10.82, 10.82, 10.82, 10.82, 10.83, 10.85, 10.87, 10.89, 10.91, 10.94, 10.97, 10.99, 11.0, 11.01, 11.02, 11.02], \"y\": [11.02, 11.02, 11.01, 11.0, 10.99, 10.98, 10.96, 10.95, 10.94, 10.93, 10.94, 10.95, 10.96, 10.98, 11.0, 11.02, 11.05, 11.07, 11.1, 11.11, 11.11, 11.11], \"type\": \"scatter\"}, {\"line\": {\"width\": 5}, \"marker\": {\"size\": [10.435574998098001, 10.591623238304997, 10.754487838361, 10.922767653035999, 11.096432629956997, 11.275918196658, 11.485344435111001, 11.733403218282996, 11.99831867219, 12.256932115892003, 12.483046901423, 12.685524488104999, 12.885975826185, 13.082967746048, 13.276190222787, 13.461832295846, 13.620177279108, 13.743075485068, 13.849273317374998, 13.958507316024003, 14.088389256693, 1423.4866221311], \"sizemode\": \"area\", \"sizeref\": 2}, \"mode\": \"lines+markers\", \"name\": \"America\", \"text\": \"(Female(%), Male(%))\", \"x\": [15.67, 15.65, 15.64, 15.64, 15.65, 15.68, 15.76, 15.92, 16.11, 16.28, 16.39, 16.46, 16.53, 16.59, 16.64, 16.67, 16.67, 16.6, 16.52, 16.44, 16.4, 16.39], \"y\": [13.42, 13.42, 13.42, 13.43, 13.44, 13.46, 13.51, 13.59, 13.67, 13.75, 13.8, 13.83, 13.85, 13.88, 13.9, 13.91, 13.9, 13.87, 13.83, 13.79, 13.77, 13.76], \"type\": \"scatter\"}, {\"line\": {\"width\": 5}, \"marker\": {\"size\": [7.827384698927, 8.0479347938542, 8.271495633983399, 8.483905958896097, 8.7054132338003, 8.946702382126098, 9.1984560560904, 9.4593423451476, 9.713402740962499, 9.9673963721366, 10.223800158564702, 10.48313963682, 10.742163492702, 11.000651524699999, 11.26241852278, 11.533266754369999, 11.811296375948, 12.094533013570002, 12.385127875768, 12.685061003911, 12.993203832137999, 1331.3013372022], \"sizemode\": \"area\", \"sizeref\": 2}, \"mode\": \"lines+markers\", \"name\": \"Africa\", \"text\": \"(Female(%), Male(%))\", \"x\": [12.32, 12.34, 12.36, 12.38, 12.4, 12.41, 12.43, 12.45, 12.47, 12.48, 12.49, 12.48, 12.47, 12.45, 12.43, 12.41, 12.39, 12.37, 12.35, 12.33, 12.31, 12.3], \"y\": [12.5, 12.52, 12.54, 12.56, 12.58, 12.59, 12.59, 12.6, 12.6, 12.59, 12.59, 12.58, 12.56, 12.53, 12.51, 12.48, 12.45, 12.42, 12.39, 12.36, 12.34, 12.32], \"type\": \"scatter\"}], \"name\": \"2011\"}, {\"data\": [{\"line\": {\"width\": 5}, \"marker\": {\"size\": [41.507048533637004, 42.247305328355004, 42.99837242127099, 43.755529240514, 44.497129753522, 45.230261942216, 45.969592620613, 46.720652318023, 47.478713310152, 48.237024300765995, 48.995617945636006, 49.746234375214, 50.499516955978, 51.250989148154005, 51.988569886658006, 52.726336062742, 53.401822579592995, 54.012022863642, 54.60789265178299, 55.226972241962, 55.883147587509015, 56.58559077861101, 5727.874937964601], \"sizemode\": \"area\", \"sizeref\": 2}, \"mode\": \"lines+markers\", \"name\": \"Asia\", \"text\": \"(Female(%), Male(%))\", \"x\": [13.15, 13.18, 13.21, 13.25, 13.28, 13.32, 13.36, 13.41, 13.46, 13.51, 13.56, 13.61, 13.65, 13.7, 13.73, 13.77, 13.79, 13.78, 13.76, 13.75, 13.76, 13.79, 13.81], \"y\": [12.69, 12.7, 12.72, 12.75, 12.78, 12.8, 12.83, 12.86, 12.88, 12.91, 12.93, 12.96, 12.98, 13.0, 13.02, 13.03, 13.03, 13.02, 13.0, 12.99, 12.99, 12.99, 13.0], \"type\": \"scatter\"}, {\"line\": {\"width\": 5}, \"marker\": {\"size\": [11.569720858558, 11.631189460122002, 11.69017512627, 11.737069200834002, 11.777361005205998, 11.811418568808001, 11.842781858480999, 11.876011734311, 11.908208589172, 11.937853561178, 11.969235636410998, 11.998050562738001, 12.019802374393999, 12.036452518335, 12.051977117267002, 12.069455889980999, 12.090660396644001, 12.114958552561, 12.138204154104999, 12.159560423934002, 12.178399440065002, 12.193352833323997, 1221.0290326186], \"sizemode\": \"area\", \"sizeref\": 2}, \"mode\": \"lines+markers\", \"name\": \"Europe\", \"text\": \"(Female(%), Male(%))\", \"x\": [15.51, 15.54, 15.57, 15.61, 15.65, 15.69, 15.72, 15.75, 15.78, 15.8, 15.83, 15.85, 15.85, 15.85, 15.84, 15.84, 15.85, 15.87, 15.88, 15.88, 15.88, 15.87, 15.86], \"y\": [13.14, 13.16, 13.19, 13.22, 13.26, 13.29, 13.32, 13.35, 13.37, 13.39, 13.41, 13.42, 13.42, 13.41, 13.4, 13.39, 13.37, 13.34, 13.31, 13.28, 13.25, 13.23, 13.21], \"type\": \"scatter\"}, {\"line\": {\"width\": 5}, \"marker\": {\"size\": [0.07059487252018501, 0.07229065158469299, 0.07402553143406598, 0.075808479220901, 0.077650418185455, 0.07957903219068299, 0.081593470288486, 0.08369878890943099, 0.08589693480308601, 0.08820047221923501, 0.090623108445278, 0.093125540499872, 0.09567611743151401, 0.09829023328753599, 0.10099792717217, 0.10378657234629003, 0.10664998538745002, 0.10955386664782997, 0.11248195849502, 0.11538501416971002, 0.11828115080485999, 0.12115084743011999, 12.399141619404], \"sizemode\": \"area\", \"sizeref\": 2}, \"mode\": \"lines+markers\", \"name\": \"Oceania\", \"text\": \"(Female(%), Male(%))\", \"x\": [10.83, 10.84, 10.84, 10.83, 10.83, 10.83, 10.82, 10.82, 10.82, 10.82, 10.83, 10.85, 10.87, 10.89, 10.91, 10.94, 10.97, 10.99, 11.0, 11.01, 11.02, 11.02, 11.02], \"y\": [11.02, 11.02, 11.01, 11.0, 10.99, 10.98, 10.96, 10.95, 10.94, 10.93, 10.94, 10.95, 10.96, 10.98, 11.0, 11.02, 11.05, 11.07, 11.1, 11.11, 11.11, 11.11, 11.1], \"type\": \"scatter\"}, {\"line\": {\"width\": 5}, \"marker\": {\"size\": [10.435574998098001, 10.591623238304997, 10.754487838361, 10.922767653035999, 11.096432629956997, 11.275918196658, 11.485344435111001, 11.733403218282996, 11.99831867219, 12.256932115892003, 12.483046901423, 12.685524488104999, 12.885975826185, 13.082967746048, 13.276190222787, 13.461832295846, 13.620177279108, 13.743075485068, 13.849273317374998, 13.958507316024003, 14.088389256693, 14.234866221311, 1437.8484816067005], \"sizemode\": \"area\", \"sizeref\": 2}, \"mode\": \"lines+markers\", \"name\": \"America\", \"text\": \"(Female(%), Male(%))\", \"x\": [15.67, 15.65, 15.64, 15.64, 15.65, 15.68, 15.76, 15.92, 16.11, 16.28, 16.39, 16.46, 16.53, 16.59, 16.64, 16.67, 16.67, 16.6, 16.52, 16.44, 16.4, 16.39, 16.38], \"y\": [13.42, 13.42, 13.42, 13.43, 13.44, 13.46, 13.51, 13.59, 13.67, 13.75, 13.8, 13.83, 13.85, 13.88, 13.9, 13.91, 13.9, 13.87, 13.83, 13.79, 13.77, 13.76, 13.75], \"type\": \"scatter\"}, {\"line\": {\"width\": 5}, \"marker\": {\"size\": [7.827384698927, 8.0479347938542, 8.271495633983399, 8.483905958896097, 8.7054132338003, 8.946702382126098, 9.1984560560904, 9.4593423451476, 9.713402740962499, 9.9673963721366, 10.223800158564702, 10.48313963682, 10.742163492702, 11.000651524699999, 11.26241852278, 11.533266754369999, 11.811296375948, 12.094533013570002, 12.385127875768, 12.685061003911, 12.993203832137999, 13.313013372022, 1364.5373051673998], \"sizemode\": \"area\", \"sizeref\": 2}, \"mode\": \"lines+markers\", \"name\": \"Africa\", \"text\": \"(Female(%), Male(%))\", \"x\": [12.32, 12.34, 12.36, 12.38, 12.4, 12.41, 12.43, 12.45, 12.47, 12.48, 12.49, 12.48, 12.47, 12.45, 12.43, 12.41, 12.39, 12.37, 12.35, 12.33, 12.31, 12.3, 12.29], \"y\": [12.5, 12.52, 12.54, 12.56, 12.58, 12.59, 12.59, 12.6, 12.6, 12.59, 12.59, 12.58, 12.56, 12.53, 12.51, 12.48, 12.45, 12.42, 12.39, 12.36, 12.34, 12.32, 12.31], \"type\": \"scatter\"}], \"name\": \"2012\"}, {\"data\": [{\"line\": {\"width\": 5}, \"marker\": {\"size\": [41.507048533637004, 42.247305328355004, 42.99837242127099, 43.755529240514, 44.497129753522, 45.230261942216, 45.969592620613, 46.720652318023, 47.478713310152, 48.237024300765995, 48.995617945636006, 49.746234375214, 50.499516955978, 51.250989148154005, 51.988569886658006, 52.726336062742, 53.401822579592995, 54.012022863642, 54.60789265178299, 55.226972241962, 55.883147587509015, 56.58559077861101, 57.278749379646, 5797.327907222501], \"sizemode\": \"area\", \"sizeref\": 2}, \"mode\": \"lines+markers\", \"name\": \"Asia\", \"text\": \"(Female(%), Male(%))\", \"x\": [13.15, 13.18, 13.21, 13.25, 13.28, 13.32, 13.36, 13.41, 13.46, 13.51, 13.56, 13.61, 13.65, 13.7, 13.73, 13.77, 13.79, 13.78, 13.76, 13.75, 13.76, 13.79, 13.81, 13.83], \"y\": [12.69, 12.7, 12.72, 12.75, 12.78, 12.8, 12.83, 12.86, 12.88, 12.91, 12.93, 12.96, 12.98, 13.0, 13.02, 13.03, 13.03, 13.02, 13.0, 12.99, 12.99, 12.99, 13.0, 13.0], \"type\": \"scatter\"}, {\"line\": {\"width\": 5}, \"marker\": {\"size\": [11.569720858558, 11.631189460122002, 11.69017512627, 11.737069200834002, 11.777361005205998, 11.811418568808001, 11.842781858480999, 11.876011734311, 11.908208589172, 11.937853561178, 11.969235636410998, 11.998050562738001, 12.019802374393999, 12.036452518335, 12.051977117267002, 12.069455889980999, 12.090660396644001, 12.114958552561, 12.138204154104999, 12.159560423934002, 12.178399440065002, 12.193352833323997, 12.210290326186, 1222.764678159], \"sizemode\": \"area\", \"sizeref\": 2}, \"mode\": \"lines+markers\", \"name\": \"Europe\", \"text\": \"(Female(%), Male(%))\", \"x\": [15.51, 15.54, 15.57, 15.61, 15.65, 15.69, 15.72, 15.75, 15.78, 15.8, 15.83, 15.85, 15.85, 15.85, 15.84, 15.84, 15.85, 15.87, 15.88, 15.88, 15.88, 15.87, 15.86, 15.85], \"y\": [13.14, 13.16, 13.19, 13.22, 13.26, 13.29, 13.32, 13.35, 13.37, 13.39, 13.41, 13.42, 13.42, 13.41, 13.4, 13.39, 13.37, 13.34, 13.31, 13.28, 13.25, 13.23, 13.21, 13.19], \"type\": \"scatter\"}, {\"line\": {\"width\": 5}, \"marker\": {\"size\": [0.07059487252018501, 0.07229065158469299, 0.07402553143406598, 0.075808479220901, 0.077650418185455, 0.07957903219068299, 0.081593470288486, 0.08369878890943099, 0.08589693480308601, 0.08820047221923501, 0.090623108445278, 0.093125540499872, 0.09567611743151401, 0.09829023328753599, 0.10099792717217, 0.10378657234629003, 0.10664998538745002, 0.10955386664782997, 0.11248195849502, 0.11538501416971002, 0.11828115080485999, 0.12115084743011999, 0.12399141619404, 12.680780583176], \"sizemode\": \"area\", \"sizeref\": 2}, \"mode\": \"lines+markers\", \"name\": \"Oceania\", \"text\": \"(Female(%), Male(%))\", \"x\": [10.83, 10.84, 10.84, 10.83, 10.83, 10.83, 10.82, 10.82, 10.82, 10.82, 10.83, 10.85, 10.87, 10.89, 10.91, 10.94, 10.97, 10.99, 11.0, 11.01, 11.02, 11.02, 11.02, 11.01], \"y\": [11.02, 11.02, 11.01, 11.0, 10.99, 10.98, 10.96, 10.95, 10.94, 10.93, 10.94, 10.95, 10.96, 10.98, 11.0, 11.02, 11.05, 11.07, 11.1, 11.11, 11.11, 11.11, 11.1, 11.08], \"type\": \"scatter\"}, {\"line\": {\"width\": 5}, \"marker\": {\"size\": [10.435574998098001, 10.591623238304997, 10.754487838361, 10.922767653035999, 11.096432629956997, 11.275918196658, 11.485344435111001, 11.733403218282996, 11.99831867219, 12.256932115892003, 12.483046901423, 12.685524488104999, 12.885975826185, 13.082967746048, 13.276190222787, 13.461832295846, 13.620177279108, 13.743075485068, 13.849273317374998, 13.958507316024003, 14.088389256693, 14.234866221311, 14.378484816067004, 1451.9769148542998], \"sizemode\": \"area\", \"sizeref\": 2}, \"mode\": \"lines+markers\", \"name\": \"America\", \"text\": \"(Female(%), Male(%))\", \"x\": [15.67, 15.65, 15.64, 15.64, 15.65, 15.68, 15.76, 15.92, 16.11, 16.28, 16.39, 16.46, 16.53, 16.59, 16.64, 16.67, 16.67, 16.6, 16.52, 16.44, 16.4, 16.39, 16.38, 16.36], \"y\": [13.42, 13.42, 13.42, 13.43, 13.44, 13.46, 13.51, 13.59, 13.67, 13.75, 13.8, 13.83, 13.85, 13.88, 13.9, 13.91, 13.9, 13.87, 13.83, 13.79, 13.77, 13.76, 13.75, 13.73], \"type\": \"scatter\"}, {\"line\": {\"width\": 5}, \"marker\": {\"size\": [7.827384698927, 8.0479347938542, 8.271495633983399, 8.483905958896097, 8.7054132338003, 8.946702382126098, 9.1984560560904, 9.4593423451476, 9.713402740962499, 9.9673963721366, 10.223800158564702, 10.48313963682, 10.742163492702, 11.000651524699999, 11.26241852278, 11.533266754369999, 11.811296375948, 12.094533013570002, 12.385127875768, 12.685061003911, 12.993203832137999, 13.313013372022, 13.645373051674, 1398.5957778107002], \"sizemode\": \"area\", \"sizeref\": 2}, \"mode\": \"lines+markers\", \"name\": \"Africa\", \"text\": \"(Female(%), Male(%))\", \"x\": [12.32, 12.34, 12.36, 12.38, 12.4, 12.41, 12.43, 12.45, 12.47, 12.48, 12.49, 12.48, 12.47, 12.45, 12.43, 12.41, 12.39, 12.37, 12.35, 12.33, 12.31, 12.3, 12.29, 12.28], \"y\": [12.5, 12.52, 12.54, 12.56, 12.58, 12.59, 12.59, 12.6, 12.6, 12.59, 12.59, 12.58, 12.56, 12.53, 12.51, 12.48, 12.45, 12.42, 12.39, 12.36, 12.34, 12.32, 12.31, 12.3], \"type\": \"scatter\"}], \"name\": \"2013\"}, {\"data\": [{\"line\": {\"width\": 5}, \"marker\": {\"size\": [41.507048533637004, 42.247305328355004, 42.99837242127099, 43.755529240514, 44.497129753522, 45.230261942216, 45.969592620613, 46.720652318023, 47.478713310152, 48.237024300765995, 48.995617945636006, 49.746234375214, 50.499516955978, 51.250989148154005, 51.988569886658006, 52.726336062742, 53.401822579592995, 54.012022863642, 54.60789265178299, 55.226972241962, 55.883147587509015, 56.58559077861101, 57.278749379646, 57.97327907222501, 5864.3200612560995], \"sizemode\": \"area\", \"sizeref\": 2}, \"mode\": \"lines+markers\", \"name\": \"Asia\", \"text\": \"(Female(%), Male(%))\", \"x\": [13.15, 13.18, 13.21, 13.25, 13.28, 13.32, 13.36, 13.41, 13.46, 13.51, 13.56, 13.61, 13.65, 13.7, 13.73, 13.77, 13.79, 13.78, 13.76, 13.75, 13.76, 13.79, 13.81, 13.83, 13.85], \"y\": [12.69, 12.7, 12.72, 12.75, 12.78, 12.8, 12.83, 12.86, 12.88, 12.91, 12.93, 12.96, 12.98, 13.0, 13.02, 13.03, 13.03, 13.02, 13.0, 12.99, 12.99, 12.99, 13.0, 13.0, 13.0], \"type\": \"scatter\"}, {\"line\": {\"width\": 5}, \"marker\": {\"size\": [11.569720858558, 11.631189460122002, 11.69017512627, 11.737069200834002, 11.777361005205998, 11.811418568808001, 11.842781858480999, 11.876011734311, 11.908208589172, 11.937853561178, 11.969235636410998, 11.998050562738001, 12.019802374393999, 12.036452518335, 12.051977117267002, 12.069455889980999, 12.090660396644001, 12.114958552561, 12.138204154104999, 12.159560423934002, 12.178399440065002, 12.193352833323997, 12.210290326186, 12.227646781589998, 1224.4954830549998], \"sizemode\": \"area\", \"sizeref\": 2}, \"mode\": \"lines+markers\", \"name\": \"Europe\", \"text\": \"(Female(%), Male(%))\", \"x\": [15.51, 15.54, 15.57, 15.61, 15.65, 15.69, 15.72, 15.75, 15.78, 15.8, 15.83, 15.85, 15.85, 15.85, 15.84, 15.84, 15.85, 15.87, 15.88, 15.88, 15.88, 15.87, 15.86, 15.85, 15.85], \"y\": [13.14, 13.16, 13.19, 13.22, 13.26, 13.29, 13.32, 13.35, 13.37, 13.39, 13.41, 13.42, 13.42, 13.41, 13.4, 13.39, 13.37, 13.34, 13.31, 13.28, 13.25, 13.23, 13.21, 13.19, 13.18], \"type\": \"scatter\"}, {\"line\": {\"width\": 5}, \"marker\": {\"size\": [0.07059487252018501, 0.07229065158469299, 0.07402553143406598, 0.075808479220901, 0.077650418185455, 0.07957903219068299, 0.081593470288486, 0.08369878890943099, 0.08589693480308601, 0.08820047221923501, 0.090623108445278, 0.093125540499872, 0.09567611743151401, 0.09829023328753599, 0.10099792717217, 0.10378657234629003, 0.10664998538745002, 0.10955386664782997, 0.11248195849502, 0.11538501416971002, 0.11828115080485999, 0.12115084743011999, 0.12399141619404, 0.12680780583176002, 12.960617236997], \"sizemode\": \"area\", \"sizeref\": 2}, \"mode\": \"lines+markers\", \"name\": \"Oceania\", \"text\": \"(Female(%), Male(%))\", \"x\": [10.83, 10.84, 10.84, 10.83, 10.83, 10.83, 10.82, 10.82, 10.82, 10.82, 10.83, 10.85, 10.87, 10.89, 10.91, 10.94, 10.97, 10.99, 11.0, 11.01, 11.02, 11.02, 11.02, 11.01, 10.99], \"y\": [11.02, 11.02, 11.01, 11.0, 10.99, 10.98, 10.96, 10.95, 10.94, 10.93, 10.94, 10.95, 10.96, 10.98, 11.0, 11.02, 11.05, 11.07, 11.1, 11.11, 11.11, 11.11, 11.1, 11.08, 11.06], \"type\": \"scatter\"}, {\"line\": {\"width\": 5}, \"marker\": {\"size\": [10.435574998098001, 10.591623238304997, 10.754487838361, 10.922767653035999, 11.096432629956997, 11.275918196658, 11.485344435111001, 11.733403218282996, 11.99831867219, 12.256932115892003, 12.483046901423, 12.685524488104999, 12.885975826185, 13.082967746048, 13.276190222787, 13.461832295846, 13.620177279108, 13.743075485068, 13.849273317374998, 13.958507316024003, 14.088389256693, 14.234866221311, 14.378484816067004, 14.519769148542997, 1465.9027098418999], \"sizemode\": \"area\", \"sizeref\": 2}, \"mode\": \"lines+markers\", \"name\": \"America\", \"text\": \"(Female(%), Male(%))\", \"x\": [15.67, 15.65, 15.64, 15.64, 15.65, 15.68, 15.76, 15.92, 16.11, 16.28, 16.39, 16.46, 16.53, 16.59, 16.64, 16.67, 16.67, 16.6, 16.52, 16.44, 16.4, 16.39, 16.38, 16.36, 16.34], \"y\": [13.42, 13.42, 13.42, 13.43, 13.44, 13.46, 13.51, 13.59, 13.67, 13.75, 13.8, 13.83, 13.85, 13.88, 13.9, 13.91, 13.9, 13.87, 13.83, 13.79, 13.77, 13.76, 13.75, 13.73, 13.72], \"type\": \"scatter\"}, {\"line\": {\"width\": 5}, \"marker\": {\"size\": [7.827384698927, 8.0479347938542, 8.271495633983399, 8.483905958896097, 8.7054132338003, 8.946702382126098, 9.1984560560904, 9.4593423451476, 9.713402740962499, 9.9673963721366, 10.223800158564702, 10.48313963682, 10.742163492702, 11.000651524699999, 11.26241852278, 11.533266754369999, 11.811296375948, 12.094533013570002, 12.385127875768, 12.685061003911, 12.993203832137999, 13.313013372022, 13.645373051674, 13.985957778107002, 1433.2932309438002], \"sizemode\": \"area\", \"sizeref\": 2}, \"mode\": \"lines+markers\", \"name\": \"Africa\", \"text\": \"(Female(%), Male(%))\", \"x\": [12.32, 12.34, 12.36, 12.38, 12.4, 12.41, 12.43, 12.45, 12.47, 12.48, 12.49, 12.48, 12.47, 12.45, 12.43, 12.41, 12.39, 12.37, 12.35, 12.33, 12.31, 12.3, 12.29, 12.28, 12.27], \"y\": [12.5, 12.52, 12.54, 12.56, 12.58, 12.59, 12.59, 12.6, 12.6, 12.59, 12.59, 12.58, 12.56, 12.53, 12.51, 12.48, 12.45, 12.42, 12.39, 12.36, 12.34, 12.32, 12.31, 12.3, 12.29], \"type\": \"scatter\"}], \"name\": \"2014\"}, {\"data\": [{\"line\": {\"width\": 5}, \"marker\": {\"size\": [41.507048533637004, 42.247305328355004, 42.99837242127099, 43.755529240514, 44.497129753522, 45.230261942216, 45.969592620613, 46.720652318023, 47.478713310152, 48.237024300765995, 48.995617945636006, 49.746234375214, 50.499516955978, 51.250989148154005, 51.988569886658006, 52.726336062742, 53.401822579592995, 54.012022863642, 54.60789265178299, 55.226972241962, 55.883147587509015, 56.58559077861101, 57.278749379646, 57.97327907222501, 58.643200612560996, 5927.7430201086], \"sizemode\": \"area\", \"sizeref\": 2}, \"mode\": \"lines+markers\", \"name\": \"Asia\", \"text\": \"(Female(%), Male(%))\", \"x\": [13.15, 13.18, 13.21, 13.25, 13.28, 13.32, 13.36, 13.41, 13.46, 13.51, 13.56, 13.61, 13.65, 13.7, 13.73, 13.77, 13.79, 13.78, 13.76, 13.75, 13.76, 13.79, 13.81, 13.83, 13.85, 13.88], \"y\": [12.69, 12.7, 12.72, 12.75, 12.78, 12.8, 12.83, 12.86, 12.88, 12.91, 12.93, 12.96, 12.98, 13.0, 13.02, 13.03, 13.03, 13.02, 13.0, 12.99, 12.99, 12.99, 13.0, 13.0, 13.0, 13.0], \"type\": \"scatter\"}, {\"line\": {\"width\": 5}, \"marker\": {\"size\": [11.569720858558, 11.631189460122002, 11.69017512627, 11.737069200834002, 11.777361005205998, 11.811418568808001, 11.842781858480999, 11.876011734311, 11.908208589172, 11.937853561178, 11.969235636410998, 11.998050562738001, 12.019802374393999, 12.036452518335, 12.051977117267002, 12.069455889980999, 12.090660396644001, 12.114958552561, 12.138204154104999, 12.159560423934002, 12.178399440065002, 12.193352833323997, 12.210290326186, 12.227646781589998, 12.244954830549998, 1226.342750833], \"sizemode\": \"area\", \"sizeref\": 2}, \"mode\": \"lines+markers\", \"name\": \"Europe\", \"text\": \"(Female(%), Male(%))\", \"x\": [15.51, 15.54, 15.57, 15.61, 15.65, 15.69, 15.72, 15.75, 15.78, 15.8, 15.83, 15.85, 15.85, 15.85, 15.84, 15.84, 15.85, 15.87, 15.88, 15.88, 15.88, 15.87, 15.86, 15.85, 15.85, 15.84], \"y\": [13.14, 13.16, 13.19, 13.22, 13.26, 13.29, 13.32, 13.35, 13.37, 13.39, 13.41, 13.42, 13.42, 13.41, 13.4, 13.39, 13.37, 13.34, 13.31, 13.28, 13.25, 13.23, 13.21, 13.19, 13.18, 13.16], \"type\": \"scatter\"}, {\"line\": {\"width\": 5}, \"marker\": {\"size\": [0.07059487252018501, 0.07229065158469299, 0.07402553143406598, 0.075808479220901, 0.077650418185455, 0.07957903219068299, 0.081593470288486, 0.08369878890943099, 0.08589693480308601, 0.08820047221923501, 0.090623108445278, 0.093125540499872, 0.09567611743151401, 0.09829023328753599, 0.10099792717217, 0.10378657234629003, 0.10664998538745002, 0.10955386664782997, 0.11248195849502, 0.11538501416971002, 0.11828115080485999, 0.12115084743011999, 0.12399141619404, 0.12680780583176002, 0.12960617236997002, 13.242642204071002], \"sizemode\": \"area\", \"sizeref\": 2}, \"mode\": \"lines+markers\", \"name\": \"Oceania\", \"text\": \"(Female(%), Male(%))\", \"x\": [10.83, 10.84, 10.84, 10.83, 10.83, 10.83, 10.82, 10.82, 10.82, 10.82, 10.83, 10.85, 10.87, 10.89, 10.91, 10.94, 10.97, 10.99, 11.0, 11.01, 11.02, 11.02, 11.02, 11.01, 10.99, 10.98], \"y\": [11.02, 11.02, 11.01, 11.0, 10.99, 10.98, 10.96, 10.95, 10.94, 10.93, 10.94, 10.95, 10.96, 10.98, 11.0, 11.02, 11.05, 11.07, 11.1, 11.11, 11.11, 11.11, 11.1, 11.08, 11.06, 11.03], \"type\": \"scatter\"}, {\"line\": {\"width\": 5}, \"marker\": {\"size\": [10.435574998098001, 10.591623238304997, 10.754487838361, 10.922767653035999, 11.096432629956997, 11.275918196658, 11.485344435111001, 11.733403218282996, 11.99831867219, 12.256932115892003, 12.483046901423, 12.685524488104999, 12.885975826185, 13.082967746048, 13.276190222787, 13.461832295846, 13.620177279108, 13.743075485068, 13.849273317374998, 13.958507316024003, 14.088389256693, 14.234866221311, 14.378484816067004, 14.519769148542997, 14.659027098419, 1479.4548703988999], \"sizemode\": \"area\", \"sizeref\": 2}, \"mode\": \"lines+markers\", \"name\": \"America\", \"text\": \"(Female(%), Male(%))\", \"x\": [15.67, 15.65, 15.64, 15.64, 15.65, 15.68, 15.76, 15.92, 16.11, 16.28, 16.39, 16.46, 16.53, 16.59, 16.64, 16.67, 16.67, 16.6, 16.52, 16.44, 16.4, 16.39, 16.38, 16.36, 16.34, 16.32], \"y\": [13.42, 13.42, 13.42, 13.43, 13.44, 13.46, 13.51, 13.59, 13.67, 13.75, 13.8, 13.83, 13.85, 13.88, 13.9, 13.91, 13.9, 13.87, 13.83, 13.79, 13.77, 13.76, 13.75, 13.73, 13.72, 13.71], \"type\": \"scatter\"}, {\"line\": {\"width\": 5}, \"marker\": {\"size\": [7.827384698927, 8.0479347938542, 8.271495633983399, 8.483905958896097, 8.7054132338003, 8.946702382126098, 9.1984560560904, 9.4593423451476, 9.713402740962499, 9.9673963721366, 10.223800158564702, 10.48313963682, 10.742163492702, 11.000651524699999, 11.26241852278, 11.533266754369999, 11.811296375948, 12.094533013570002, 12.385127875768, 12.685061003911, 12.993203832137999, 13.313013372022, 13.645373051674, 13.985957778107002, 14.332932309438002, 1468.8630181285], \"sizemode\": \"area\", \"sizeref\": 2}, \"mode\": \"lines+markers\", \"name\": \"Africa\", \"text\": \"(Female(%), Male(%))\", \"x\": [12.32, 12.34, 12.36, 12.38, 12.4, 12.41, 12.43, 12.45, 12.47, 12.48, 12.49, 12.48, 12.47, 12.45, 12.43, 12.41, 12.39, 12.37, 12.35, 12.33, 12.31, 12.3, 12.29, 12.28, 12.27, 12.26], \"y\": [12.5, 12.52, 12.54, 12.56, 12.58, 12.59, 12.59, 12.6, 12.6, 12.59, 12.59, 12.58, 12.56, 12.53, 12.51, 12.48, 12.45, 12.42, 12.39, 12.36, 12.34, 12.32, 12.31, 12.3, 12.29, 12.28], \"type\": \"scatter\"}], \"name\": \"2015\"}, {\"data\": [{\"line\": {\"width\": 5}, \"marker\": {\"size\": [41.507048533637004, 42.247305328355004, 42.99837242127099, 43.755529240514, 44.497129753522, 45.230261942216, 45.969592620613, 46.720652318023, 47.478713310152, 48.237024300765995, 48.995617945636006, 49.746234375214, 50.499516955978, 51.250989148154005, 51.988569886658006, 52.726336062742, 53.401822579592995, 54.012022863642, 54.60789265178299, 55.226972241962, 55.883147587509015, 56.58559077861101, 57.278749379646, 57.97327907222501, 58.643200612560996, 59.277430201086, 5990.8680633706], \"sizemode\": \"area\", \"sizeref\": 2}, \"mode\": \"lines+markers\", \"name\": \"Asia\", \"text\": \"(Female(%), Male(%))\", \"x\": [13.15, 13.18, 13.21, 13.25, 13.28, 13.32, 13.36, 13.41, 13.46, 13.51, 13.56, 13.61, 13.65, 13.7, 13.73, 13.77, 13.79, 13.78, 13.76, 13.75, 13.76, 13.79, 13.81, 13.83, 13.85, 13.88, 13.9], \"y\": [12.69, 12.7, 12.72, 12.75, 12.78, 12.8, 12.83, 12.86, 12.88, 12.91, 12.93, 12.96, 12.98, 13.0, 13.02, 13.03, 13.03, 13.02, 13.0, 12.99, 12.99, 12.99, 13.0, 13.0, 13.0, 13.0, 13.01], \"type\": \"scatter\"}, {\"line\": {\"width\": 5}, \"marker\": {\"size\": [11.569720858558, 11.631189460122002, 11.69017512627, 11.737069200834002, 11.777361005205998, 11.811418568808001, 11.842781858480999, 11.876011734311, 11.908208589172, 11.937853561178, 11.969235636410998, 11.998050562738001, 12.019802374393999, 12.036452518335, 12.051977117267002, 12.069455889980999, 12.090660396644001, 12.114958552561, 12.138204154104999, 12.159560423934002, 12.178399440065002, 12.193352833323997, 12.210290326186, 12.227646781589998, 12.244954830549998, 12.26342750833, 1229.0001443546998], \"sizemode\": \"area\", \"sizeref\": 2}, \"mode\": \"lines+markers\", \"name\": \"Europe\", \"text\": \"(Female(%), Male(%))\", \"x\": [15.51, 15.54, 15.57, 15.61, 15.65, 15.69, 15.72, 15.75, 15.78, 15.8, 15.83, 15.85, 15.85, 15.85, 15.84, 15.84, 15.85, 15.87, 15.88, 15.88, 15.88, 15.87, 15.86, 15.85, 15.85, 15.84, 15.84], \"y\": [13.14, 13.16, 13.19, 13.22, 13.26, 13.29, 13.32, 13.35, 13.37, 13.39, 13.41, 13.42, 13.42, 13.41, 13.4, 13.39, 13.37, 13.34, 13.31, 13.28, 13.25, 13.23, 13.21, 13.19, 13.18, 13.16, 13.16], \"type\": \"scatter\"}, {\"line\": {\"width\": 5}, \"marker\": {\"size\": [0.07059487252018501, 0.07229065158469299, 0.07402553143406598, 0.075808479220901, 0.077650418185455, 0.07957903219068299, 0.081593470288486, 0.08369878890943099, 0.08589693480308601, 0.08820047221923501, 0.090623108445278, 0.093125540499872, 0.09567611743151401, 0.09829023328753599, 0.10099792717217, 0.10378657234629003, 0.10664998538745002, 0.10955386664782997, 0.11248195849502, 0.11538501416971002, 0.11828115080485999, 0.12115084743011999, 0.12399141619404, 0.12680780583176002, 0.12960617236997002, 0.13242642204071, 13.525065559465], \"sizemode\": \"area\", \"sizeref\": 2}, \"mode\": \"lines+markers\", \"name\": \"Oceania\", \"text\": \"(Female(%), Male(%))\", \"x\": [10.83, 10.84, 10.84, 10.83, 10.83, 10.83, 10.82, 10.82, 10.82, 10.82, 10.83, 10.85, 10.87, 10.89, 10.91, 10.94, 10.97, 10.99, 11.0, 11.01, 11.02, 11.02, 11.02, 11.01, 10.99, 10.98, 10.96], \"y\": [11.02, 11.02, 11.01, 11.0, 10.99, 10.98, 10.96, 10.95, 10.94, 10.93, 10.94, 10.95, 10.96, 10.98, 11.0, 11.02, 11.05, 11.07, 11.1, 11.11, 11.11, 11.11, 11.1, 11.08, 11.06, 11.03, 11.0], \"type\": \"scatter\"}, {\"line\": {\"width\": 5}, \"marker\": {\"size\": [10.435574998098001, 10.591623238304997, 10.754487838361, 10.922767653035999, 11.096432629956997, 11.275918196658, 11.485344435111001, 11.733403218282996, 11.99831867219, 12.256932115892003, 12.483046901423, 12.685524488104999, 12.885975826185, 13.082967746048, 13.276190222787, 13.461832295846, 13.620177279108, 13.743075485068, 13.849273317374998, 13.958507316024003, 14.088389256693, 14.234866221311, 14.378484816067004, 14.519769148542997, 14.659027098419, 14.794548703989, 1492.7693084292998], \"sizemode\": \"area\", \"sizeref\": 2}, \"mode\": \"lines+markers\", \"name\": \"America\", \"text\": \"(Female(%), Male(%))\", \"x\": [15.67, 15.65, 15.64, 15.64, 15.65, 15.68, 15.76, 15.92, 16.11, 16.28, 16.39, 16.46, 16.53, 16.59, 16.64, 16.67, 16.67, 16.6, 16.52, 16.44, 16.4, 16.39, 16.38, 16.36, 16.34, 16.32, 16.3], \"y\": [13.42, 13.42, 13.42, 13.43, 13.44, 13.46, 13.51, 13.59, 13.67, 13.75, 13.8, 13.83, 13.85, 13.88, 13.9, 13.91, 13.9, 13.87, 13.83, 13.79, 13.77, 13.76, 13.75, 13.73, 13.72, 13.71, 13.7], \"type\": \"scatter\"}, {\"line\": {\"width\": 5}, \"marker\": {\"size\": [7.827384698927, 8.0479347938542, 8.271495633983399, 8.483905958896097, 8.7054132338003, 8.946702382126098, 9.1984560560904, 9.4593423451476, 9.713402740962499, 9.9673963721366, 10.223800158564702, 10.48313963682, 10.742163492702, 11.000651524699999, 11.26241852278, 11.533266754369999, 11.811296375948, 12.094533013570002, 12.385127875768, 12.685061003911, 12.993203832137999, 13.313013372022, 13.645373051674, 13.985957778107002, 14.332932309438002, 14.688630181285, 1505.8018250971998], \"sizemode\": \"area\", \"sizeref\": 2}, \"mode\": \"lines+markers\", \"name\": \"Africa\", \"text\": \"(Female(%), Male(%))\", \"x\": [12.32, 12.34, 12.36, 12.38, 12.4, 12.41, 12.43, 12.45, 12.47, 12.48, 12.49, 12.48, 12.47, 12.45, 12.43, 12.41, 12.39, 12.37, 12.35, 12.33, 12.31, 12.3, 12.29, 12.28, 12.27, 12.26, 12.26], \"y\": [12.5, 12.52, 12.54, 12.56, 12.58, 12.59, 12.59, 12.6, 12.6, 12.59, 12.59, 12.58, 12.56, 12.53, 12.51, 12.48, 12.45, 12.42, 12.39, 12.36, 12.34, 12.32, 12.31, 12.3, 12.29, 12.28, 12.28], \"type\": \"scatter\"}], \"name\": \"2016\"}, {\"data\": [{\"line\": {\"width\": 5}, \"marker\": {\"size\": [41.507048533637004, 42.247305328355004, 42.99837242127099, 43.755529240514, 44.497129753522, 45.230261942216, 45.969592620613, 46.720652318023, 47.478713310152, 48.237024300765995, 48.995617945636006, 49.746234375214, 50.499516955978, 51.250989148154005, 51.988569886658006, 52.726336062742, 53.401822579592995, 54.012022863642, 54.60789265178299, 55.226972241962, 55.883147587509015, 56.58559077861101, 57.278749379646, 57.97327907222501, 58.643200612560996, 59.277430201086, 59.908680633706, 6054.4234585053], \"sizemode\": \"area\", \"sizeref\": 2}, \"mode\": \"lines+markers\", \"name\": \"Asia\", \"text\": \"(Female(%), Male(%))\", \"x\": [13.15, 13.18, 13.21, 13.25, 13.28, 13.32, 13.36, 13.41, 13.46, 13.51, 13.56, 13.61, 13.65, 13.7, 13.73, 13.77, 13.79, 13.78, 13.76, 13.75, 13.76, 13.79, 13.81, 13.83, 13.85, 13.88, 13.9, 13.92], \"y\": [12.69, 12.7, 12.72, 12.75, 12.78, 12.8, 12.83, 12.86, 12.88, 12.91, 12.93, 12.96, 12.98, 13.0, 13.02, 13.03, 13.03, 13.02, 13.0, 12.99, 12.99, 12.99, 13.0, 13.0, 13.0, 13.0, 13.01, 13.0], \"type\": \"scatter\"}, {\"line\": {\"width\": 5}, \"marker\": {\"size\": [11.569720858558, 11.631189460122002, 11.69017512627, 11.737069200834002, 11.777361005205998, 11.811418568808001, 11.842781858480999, 11.876011734311, 11.908208589172, 11.937853561178, 11.969235636410998, 11.998050562738001, 12.019802374393999, 12.036452518335, 12.051977117267002, 12.069455889980999, 12.090660396644001, 12.114958552561, 12.138204154104999, 12.159560423934002, 12.178399440065002, 12.193352833323997, 12.210290326186, 12.227646781589998, 12.244954830549998, 12.26342750833, 12.290001443546998, 1230.4033787783], \"sizemode\": \"area\", \"sizeref\": 2}, \"mode\": \"lines+markers\", \"name\": \"Europe\", \"text\": \"(Female(%), Male(%))\", \"x\": [15.51, 15.54, 15.57, 15.61, 15.65, 15.69, 15.72, 15.75, 15.78, 15.8, 15.83, 15.85, 15.85, 15.85, 15.84, 15.84, 15.85, 15.87, 15.88, 15.88, 15.88, 15.87, 15.86, 15.85, 15.85, 15.84, 15.84, 15.85], \"y\": [13.14, 13.16, 13.19, 13.22, 13.26, 13.29, 13.32, 13.35, 13.37, 13.39, 13.41, 13.42, 13.42, 13.41, 13.4, 13.39, 13.37, 13.34, 13.31, 13.28, 13.25, 13.23, 13.21, 13.19, 13.18, 13.16, 13.16, 13.15], \"type\": \"scatter\"}, {\"line\": {\"width\": 5}, \"marker\": {\"size\": [0.07059487252018501, 0.07229065158469299, 0.07402553143406598, 0.075808479220901, 0.077650418185455, 0.07957903219068299, 0.081593470288486, 0.08369878890943099, 0.08589693480308601, 0.08820047221923501, 0.090623108445278, 0.093125540499872, 0.09567611743151401, 0.09829023328753599, 0.10099792717217, 0.10378657234629003, 0.10664998538745002, 0.10955386664782997, 0.11248195849502, 0.11538501416971002, 0.11828115080485999, 0.12115084743011999, 0.12399141619404, 0.12680780583176002, 0.12960617236997002, 0.13242642204071, 0.13525065559465, 13.807075205732998], \"sizemode\": \"area\", \"sizeref\": 2}, \"mode\": \"lines+markers\", \"name\": \"Oceania\", \"text\": \"(Female(%), Male(%))\", \"x\": [10.83, 10.84, 10.84, 10.83, 10.83, 10.83, 10.82, 10.82, 10.82, 10.82, 10.83, 10.85, 10.87, 10.89, 10.91, 10.94, 10.97, 10.99, 11.0, 11.01, 11.02, 11.02, 11.02, 11.01, 10.99, 10.98, 10.96, 10.94], \"y\": [11.02, 11.02, 11.01, 11.0, 10.99, 10.98, 10.96, 10.95, 10.94, 10.93, 10.94, 10.95, 10.96, 10.98, 11.0, 11.02, 11.05, 11.07, 11.1, 11.11, 11.11, 11.11, 11.1, 11.08, 11.06, 11.03, 11.0, 10.97], \"type\": \"scatter\"}, {\"line\": {\"width\": 5}, \"marker\": {\"size\": [10.435574998098001, 10.591623238304997, 10.754487838361, 10.922767653035999, 11.096432629956997, 11.275918196658, 11.485344435111001, 11.733403218282996, 11.99831867219, 12.256932115892003, 12.483046901423, 12.685524488104999, 12.885975826185, 13.082967746048, 13.276190222787, 13.461832295846, 13.620177279108, 13.743075485068, 13.849273317374998, 13.958507316024003, 14.088389256693, 14.234866221311, 14.378484816067004, 14.519769148542997, 14.659027098419, 14.794548703989, 14.927693084292999, 1506.019308213], \"sizemode\": \"area\", \"sizeref\": 2}, \"mode\": \"lines+markers\", \"name\": \"America\", \"text\": \"(Female(%), Male(%))\", \"x\": [15.67, 15.65, 15.64, 15.64, 15.65, 15.68, 15.76, 15.92, 16.11, 16.28, 16.39, 16.46, 16.53, 16.59, 16.64, 16.67, 16.67, 16.6, 16.52, 16.44, 16.4, 16.39, 16.38, 16.36, 16.34, 16.32, 16.3, 16.29], \"y\": [13.42, 13.42, 13.42, 13.43, 13.44, 13.46, 13.51, 13.59, 13.67, 13.75, 13.8, 13.83, 13.85, 13.88, 13.9, 13.91, 13.9, 13.87, 13.83, 13.79, 13.77, 13.76, 13.75, 13.73, 13.72, 13.71, 13.7, 13.7], \"type\": \"scatter\"}, {\"line\": {\"width\": 5}, \"marker\": {\"size\": [7.827384698927, 8.0479347938542, 8.271495633983399, 8.483905958896097, 8.7054132338003, 8.946702382126098, 9.1984560560904, 9.4593423451476, 9.713402740962499, 9.9673963721366, 10.223800158564702, 10.48313963682, 10.742163492702, 11.000651524699999, 11.26241852278, 11.533266754369999, 11.811296375948, 12.094533013570002, 12.385127875768, 12.685061003911, 12.993203832137999, 13.313013372022, 13.645373051674, 13.985957778107002, 14.332932309438002, 14.688630181285, 15.058018250971998, 1544.1711523511], \"sizemode\": \"area\", \"sizeref\": 2}, \"mode\": \"lines+markers\", \"name\": \"Africa\", \"text\": \"(Female(%), Male(%))\", \"x\": [12.32, 12.34, 12.36, 12.38, 12.4, 12.41, 12.43, 12.45, 12.47, 12.48, 12.49, 12.48, 12.47, 12.45, 12.43, 12.41, 12.39, 12.37, 12.35, 12.33, 12.31, 12.3, 12.29, 12.28, 12.27, 12.26, 12.26, 12.26], \"y\": [12.5, 12.52, 12.54, 12.56, 12.58, 12.59, 12.59, 12.6, 12.6, 12.59, 12.59, 12.58, 12.56, 12.53, 12.51, 12.48, 12.45, 12.42, 12.39, 12.36, 12.34, 12.32, 12.31, 12.3, 12.29, 12.28, 12.28, 12.29], \"type\": \"scatter\"}], \"name\": \"2017\"}]);}).then(function(){Plotly.animate('0d620acb-ef01-452b-927a-e904f5f36ab7');})\n",
       "        });</script><script type=\"text/javascript\">window.addEventListener(\"resize\", function(){window._Plotly.Plots.resize(document.getElementById(\"0d620acb-ef01-452b-927a-e904f5f36ab7\"));});</script>"
      ]
     },
     "metadata": {},
     "output_type": "display_data"
    }
   ],
   "source": [
    "iplot(fig_gender, validate=True)"
   ]
  },
  {
   "cell_type": "code",
   "execution_count": 512,
   "metadata": {},
   "outputs": [],
   "source": [
    "html_str = plot(fig_gender, include_plotlyjs=False, output_type='div')\n",
    "save_html(html_str, \"share_gender_continent\")"
   ]
  },
  {
   "cell_type": "markdown",
   "metadata": {},
   "source": [
    "#### Bar plot"
   ]
  },
  {
   "cell_type": "code",
   "execution_count": 416,
   "metadata": {},
   "outputs": [],
   "source": [
    "def per_gender_location(year, df, causes, locations = countries):\n",
    "    dff = df[(df.year == year) & (df.age == 'All Ages') & (df.location.isin(locations)) & (df.cause.isin(causes))]\n",
    "    df_g = dff.groupby(['location', 'cause', 'sex'])['val'].mean().unstack().reset_index()\n",
    "\n",
    "    grs = df_g.groupby('location')\n",
    "    per_location = pd.DataFrame()\n",
    "    for loc in locations:\n",
    "        g = grs.get_group(loc)\n",
    "        g['Female_perc'] = g.Female / g.Female.sum() * 100\n",
    "        g['Male_perc'] = g.Male / g.Male.sum() * 100\n",
    "        per_location = pd.concat([per_location, g])\n",
    "    return per_location\n",
    "\n",
    "def make_gender_data(df, cause):\n",
    "    df_sex = df[df.cause == cause]\n",
    "    data_dicts = []\n",
    "    for sex in ['Male', 'Female']:\n",
    "        data_dict = go.Bar(\n",
    "            x = df_sex.location.unique().tolist(),\n",
    "            y = [round(elem, 2) for elem in list(df_sex[sex + '_perc'])],\n",
    "            name = sex,\n",
    "            legendgroup = sex,\n",
    "            text='%'\n",
    "        )\n",
    "\n",
    "        data_dicts.append(data_dict)\n",
    "    return data_dicts"
   ]
  },
  {
   "cell_type": "code",
   "execution_count": 508,
   "metadata": {},
   "outputs": [
    {
     "name": "stdout",
     "output_type": "stream",
     "text": [
      "['Australia', 'China', 'France', 'Russian Federation', 'United States', 'Global']\n"
     ]
    }
   ],
   "source": [
    "subplot_titles = []\n",
    "locations = countries.copy()\n",
    "locations.extend(glob)\n",
    "causes = level_2.copy()\n",
    "causes.remove(\"Other mental disorders\")\n",
    "for i, cause in enumerate(causes):\n",
    "    subplot_titles.append(\"{}\".format(cause))\n",
    "print(locations)"
   ]
  },
  {
   "cell_type": "code",
   "execution_count": 509,
   "metadata": {},
   "outputs": [
    {
     "name": "stdout",
     "output_type": "stream",
     "text": [
      "This is the format of your plot grid:\n",
      "[ (1,1) x1,y1 ]  [ (1,2) x2,y2 ]  [ (1,3) x3,y3 ]\n",
      "[ (2,1) x4,y4 ]  [ (2,2) x5,y5 ]  [ (2,3) x6,y6 ]\n",
      "[ (3,1) x7,y7 ]  [ (3,2) x8,y8 ]  [ (3,3) x9,y9 ]\n",
      "\n"
     ]
    },
    {
     "name": "stderr",
     "output_type": "stream",
     "text": [
      "/home/yawen/anaconda3/envs/ML/lib/python3.6/site-packages/ipykernel_launcher.py:9: SettingWithCopyWarning:\n",
      "\n",
      "\n",
      "A value is trying to be set on a copy of a slice from a DataFrame.\n",
      "Try using .loc[row_indexer,col_indexer] = value instead\n",
      "\n",
      "See the caveats in the documentation: http://pandas.pydata.org/pandas-docs/stable/indexing.html#indexing-view-versus-copy\n",
      "\n",
      "/home/yawen/anaconda3/envs/ML/lib/python3.6/site-packages/ipykernel_launcher.py:10: SettingWithCopyWarning:\n",
      "\n",
      "\n",
      "A value is trying to be set on a copy of a slice from a DataFrame.\n",
      "Try using .loc[row_indexer,col_indexer] = value instead\n",
      "\n",
      "See the caveats in the documentation: http://pandas.pydata.org/pandas-docs/stable/indexing.html#indexing-view-versus-copy\n",
      "\n"
     ]
    }
   ],
   "source": [
    "fig = tools.make_subplots(rows=3, cols=3, subplot_titles= subplot_titles)\n",
    "df = per_gender_location(2017, prevalence_number.copy(), causes, locations)\n",
    "\n",
    "for i, cause in enumerate(causes):\n",
    "    traces =  make_gender_data(df, cause)\n",
    "#     print(traces)\n",
    "    for trace in traces:\n",
    "        fig.append_trace(trace, int(i/3) + 1, i%3 + 1,)\n",
    "        fig['layout']['yaxis{}'.format(i+1)].update(title='Share per location (%)')\n",
    "#         print(i%5, int(i/5))\n",
    "        \n",
    "fig['layout'].update(height=1000, width=1200, title= 'Mental Disorder by Gender in 2016 over countries', \n",
    "                     barmode = \"group\", )"
   ]
  },
  {
   "cell_type": "code",
   "execution_count": 510,
   "metadata": {},
   "outputs": [
    {
     "data": {
      "application/vnd.plotly.v1+json": {
       "config": {
        "linkText": "Export to plot.ly",
        "plotlyServerURL": "https://plot.ly",
        "showLink": true
       },
       "data": [
        {
         "legendgroup": "Male",
         "name": "Male",
         "text": "%",
         "type": "bar",
         "uid": "6bbc8cb0-b151-4308-a2db-26854a501342",
         "x": [
          "Australia",
          "China",
          "France",
          "Russian Federation",
          "United States",
          "Global"
         ],
         "xaxis": "x",
         "y": [
          24.81,
          32.03,
          28.08,
          34.4,
          26.54,
          25.13
         ],
         "yaxis": "y"
        },
        {
         "legendgroup": "Female",
         "name": "Female",
         "text": "%",
         "type": "bar",
         "uid": "a7cbe662-1f10-48bc-9b06-f9085d2e6e2a",
         "x": [
          "Australia",
          "China",
          "France",
          "Russian Federation",
          "United States",
          "Global"
         ],
         "xaxis": "x",
         "y": [
          30.8,
          44.23,
          32.69,
          46.38,
          34.17,
          33.74
         ],
         "yaxis": "y"
        },
        {
         "legendgroup": "Male",
         "name": "Male",
         "text": "%",
         "type": "bar",
         "uid": "b17b5af7-9d86-4bfb-af68-65c411871b39",
         "x": [
          "Australia",
          "China",
          "France",
          "Russian Federation",
          "United States",
          "Global"
         ],
         "xaxis": "x2",
         "y": [
          6.85,
          3.87,
          7.15,
          6.85,
          4.72,
          5.33
         ],
         "yaxis": "y2"
        },
        {
         "legendgroup": "Female",
         "name": "Female",
         "text": "%",
         "type": "bar",
         "uid": "38acbaad-5da6-4e5e-929c-62635eecbf99",
         "x": [
          "Australia",
          "China",
          "France",
          "Russian Federation",
          "United States",
          "Global"
         ],
         "xaxis": "x2",
         "y": [
          6.55,
          3.14,
          5.8,
          6.57,
          3.7,
          4.95
         ],
         "yaxis": "y2"
        },
        {
         "legendgroup": "Male",
         "name": "Male",
         "text": "%",
         "type": "bar",
         "uid": "a9304231-7d9b-45c9-838e-cfa88e3b0639",
         "x": [
          "Australia",
          "China",
          "France",
          "Russian Federation",
          "United States",
          "Global"
         ],
         "xaxis": "x3",
         "y": [
          31.3,
          25.11,
          34.19,
          25.13,
          34.74,
          25.81
         ],
         "yaxis": "y3"
        },
        {
         "legendgroup": "Female",
         "name": "Female",
         "text": "%",
         "type": "bar",
         "uid": "1cdce83f-549e-4727-8c8a-f495669e58fa",
         "x": [
          "Australia",
          "China",
          "France",
          "Russian Federation",
          "United States",
          "Global"
         ],
         "xaxis": "x3",
         "y": [
          43.41,
          35.38,
          48.86,
          31.28,
          47.05,
          37.32
         ],
         "yaxis": "y3"
        },
        {
         "legendgroup": "Male",
         "name": "Male",
         "text": "%",
         "type": "bar",
         "uid": "87d2c70b-5bae-4aa2-ae68-009c4073f6cb",
         "x": [
          "Australia",
          "China",
          "France",
          "Russian Federation",
          "United States",
          "Global"
         ],
         "xaxis": "x4",
         "y": [
          2.95,
          1.05,
          1.89,
          1.51,
          1.89,
          1.19
         ],
         "yaxis": "y4"
        },
        {
         "legendgroup": "Female",
         "name": "Female",
         "text": "%",
         "type": "bar",
         "uid": "8371c8f9-5ce0-455c-ab6b-61465f9da83d",
         "x": [
          "Australia",
          "China",
          "France",
          "Russian Federation",
          "United States",
          "Global"
         ],
         "xaxis": "x4",
         "y": [
          6.38,
          1.78,
          3.59,
          2.26,
          3.32,
          2.28
         ],
         "yaxis": "y4"
        },
        {
         "legendgroup": "Male",
         "name": "Male",
         "text": "%",
         "type": "bar",
         "uid": "b076cb56-8c93-46e9-9928-6993d6efb775",
         "x": [
          "Australia",
          "China",
          "France",
          "Russian Federation",
          "United States",
          "Global"
         ],
         "xaxis": "x5",
         "y": [
          6.02,
          6.08,
          7.27,
          6.48,
          8.03,
          5.78
         ],
         "yaxis": "y5"
        },
        {
         "legendgroup": "Female",
         "name": "Female",
         "text": "%",
         "type": "bar",
         "uid": "134d8643-122e-4158-8178-12255b614809",
         "x": [
          "Australia",
          "China",
          "France",
          "Russian Federation",
          "United States",
          "Global"
         ],
         "xaxis": "x5",
         "y": [
          1.4,
          1.26,
          1.16,
          1.84,
          1.41,
          1.57
         ],
         "yaxis": "y5"
        },
        {
         "legendgroup": "Male",
         "name": "Male",
         "text": "%",
         "type": "bar",
         "uid": "a0550c26-bd3f-4309-83ba-a911617ef3da",
         "x": [
          "Australia",
          "China",
          "France",
          "Russian Federation",
          "United States",
          "Global"
         ],
         "xaxis": "x6",
         "y": [
          19.08,
          18.22,
          10.19,
          12.44,
          10.83,
          12.62
         ],
         "yaxis": "y6"
        },
        {
         "legendgroup": "Female",
         "name": "Female",
         "text": "%",
         "type": "bar",
         "uid": "17a8b4d2-35fe-4518-9f54-501a6ecffc53",
         "x": [
          "Australia",
          "China",
          "France",
          "Russian Federation",
          "United States",
          "Global"
         ],
         "xaxis": "x6",
         "y": [
          6,
          6.1,
          2.24,
          3.83,
          3.09,
          4.52
         ],
         "yaxis": "y6"
        },
        {
         "legendgroup": "Male",
         "name": "Male",
         "text": "%",
         "type": "bar",
         "uid": "66e3a3bd-4722-4a69-b86d-e88c7febce4e",
         "x": [
          "Australia",
          "China",
          "France",
          "Russian Federation",
          "United States",
          "Global"
         ],
         "xaxis": "x7",
         "y": [
          5.16,
          5.22,
          6.06,
          7.14,
          6.65,
          8.45
         ],
         "yaxis": "y7"
        },
        {
         "legendgroup": "Female",
         "name": "Female",
         "text": "%",
         "type": "bar",
         "uid": "82a4e457-a39b-4e78-a331-4aad17cbfc76",
         "x": [
          "Australia",
          "China",
          "France",
          "Russian Federation",
          "United States",
          "Global"
         ],
         "xaxis": "x7",
         "y": [
          2.12,
          1.91,
          1.88,
          3.19,
          3.01,
          3.89
         ],
         "yaxis": "y7"
        },
        {
         "legendgroup": "Male",
         "name": "Male",
         "text": "%",
         "type": "bar",
         "uid": "c735e01a-316f-4a72-85bf-c6f9751e9022",
         "x": [
          "Australia",
          "China",
          "France",
          "Russian Federation",
          "United States",
          "Global"
         ],
         "xaxis": "x8",
         "y": [
          1.11,
          4.23,
          2.7,
          3.63,
          3.87,
          13.22
         ],
         "yaxis": "y8"
        },
        {
         "legendgroup": "Female",
         "name": "Female",
         "text": "%",
         "type": "bar",
         "uid": "446d3ce0-593f-4470-987b-fdce65a3fdbb",
         "x": [
          "Australia",
          "China",
          "France",
          "Russian Federation",
          "United States",
          "Global"
         ],
         "xaxis": "x8",
         "y": [
          1.26,
          2.56,
          2.26,
          2.57,
          2.27,
          9.7
         ],
         "yaxis": "y8"
        },
        {
         "legendgroup": "Male",
         "name": "Male",
         "text": "%",
         "type": "bar",
         "uid": "145a3ec8-3bef-4890-b4e5-97f057cbc412",
         "x": [
          "Australia",
          "China",
          "France",
          "Russian Federation",
          "United States",
          "Global"
         ],
         "xaxis": "x9",
         "y": [
          2.73,
          4.18,
          2.48,
          2.41,
          2.74,
          2.47
         ],
         "yaxis": "y9"
        },
        {
         "legendgroup": "Female",
         "name": "Female",
         "text": "%",
         "type": "bar",
         "uid": "56241844-2a17-4f2a-ac56-d20918aadf51",
         "x": [
          "Australia",
          "China",
          "France",
          "Russian Federation",
          "United States",
          "Global"
         ],
         "xaxis": "x9",
         "y": [
          2.09,
          3.62,
          1.53,
          2.08,
          1.98,
          2.02
         ],
         "yaxis": "y9"
        }
       ],
       "layout": {
        "annotations": [
         {
          "font": {
           "size": 16
          },
          "showarrow": false,
          "text": "Depressive disorders",
          "x": 0.14444444444444446,
          "xanchor": "center",
          "xref": "paper",
          "y": 1,
          "yanchor": "bottom",
          "yref": "paper"
         },
         {
          "font": {
           "size": 16
          },
          "showarrow": false,
          "text": "Bipolar disorder",
          "x": 0.5,
          "xanchor": "center",
          "xref": "paper",
          "y": 1,
          "yanchor": "bottom",
          "yref": "paper"
         },
         {
          "font": {
           "size": 16
          },
          "showarrow": false,
          "text": "Anxiety disorders",
          "x": 0.8555555555555556,
          "xanchor": "center",
          "xref": "paper",
          "y": 1,
          "yanchor": "bottom",
          "yref": "paper"
         },
         {
          "font": {
           "size": 16
          },
          "showarrow": false,
          "text": "Eating disorders",
          "x": 0.14444444444444446,
          "xanchor": "center",
          "xref": "paper",
          "y": 0.6111111111111112,
          "yanchor": "bottom",
          "yref": "paper"
         },
         {
          "font": {
           "size": 16
          },
          "showarrow": false,
          "text": "Autism spectrum disorders",
          "x": 0.5,
          "xanchor": "center",
          "xref": "paper",
          "y": 0.6111111111111112,
          "yanchor": "bottom",
          "yref": "paper"
         },
         {
          "font": {
           "size": 16
          },
          "showarrow": false,
          "text": "Attention-deficit/hyperactivity disorder",
          "x": 0.8555555555555556,
          "xanchor": "center",
          "xref": "paper",
          "y": 0.6111111111111112,
          "yanchor": "bottom",
          "yref": "paper"
         },
         {
          "font": {
           "size": 16
          },
          "showarrow": false,
          "text": "Conduct disorder",
          "x": 0.14444444444444446,
          "xanchor": "center",
          "xref": "paper",
          "y": 0.22222222222222224,
          "yanchor": "bottom",
          "yref": "paper"
         },
         {
          "font": {
           "size": 16
          },
          "showarrow": false,
          "text": "Idiopathic developmental intellectual disability",
          "x": 0.5,
          "xanchor": "center",
          "xref": "paper",
          "y": 0.22222222222222224,
          "yanchor": "bottom",
          "yref": "paper"
         },
         {
          "font": {
           "size": 16
          },
          "showarrow": false,
          "text": "Schizophrenia",
          "x": 0.8555555555555556,
          "xanchor": "center",
          "xref": "paper",
          "y": 0.22222222222222224,
          "yanchor": "bottom",
          "yref": "paper"
         }
        ],
        "barmode": "group",
        "height": 1000,
        "title": "Mental Disorder by Gender in 2016 over countries",
        "width": 1200,
        "xaxis": {
         "anchor": "y",
         "domain": [
          0,
          0.2888888888888889
         ]
        },
        "xaxis2": {
         "anchor": "y2",
         "domain": [
          0.35555555555555557,
          0.6444444444444445
         ]
        },
        "xaxis3": {
         "anchor": "y3",
         "domain": [
          0.7111111111111111,
          1
         ]
        },
        "xaxis4": {
         "anchor": "y4",
         "domain": [
          0,
          0.2888888888888889
         ]
        },
        "xaxis5": {
         "anchor": "y5",
         "domain": [
          0.35555555555555557,
          0.6444444444444445
         ]
        },
        "xaxis6": {
         "anchor": "y6",
         "domain": [
          0.7111111111111111,
          1
         ]
        },
        "xaxis7": {
         "anchor": "y7",
         "domain": [
          0,
          0.2888888888888889
         ]
        },
        "xaxis8": {
         "anchor": "y8",
         "domain": [
          0.35555555555555557,
          0.6444444444444445
         ]
        },
        "xaxis9": {
         "anchor": "y9",
         "domain": [
          0.7111111111111111,
          1
         ]
        },
        "yaxis": {
         "anchor": "x",
         "domain": [
          0.7777777777777778,
          1
         ],
         "title": "Share per location (%)"
        },
        "yaxis2": {
         "anchor": "x2",
         "domain": [
          0.7777777777777778,
          1
         ],
         "title": "Share per location (%)"
        },
        "yaxis3": {
         "anchor": "x3",
         "domain": [
          0.7777777777777778,
          1
         ],
         "title": "Share per location (%)"
        },
        "yaxis4": {
         "anchor": "x4",
         "domain": [
          0.3888888888888889,
          0.6111111111111112
         ],
         "title": "Share per location (%)"
        },
        "yaxis5": {
         "anchor": "x5",
         "domain": [
          0.3888888888888889,
          0.6111111111111112
         ],
         "title": "Share per location (%)"
        },
        "yaxis6": {
         "anchor": "x6",
         "domain": [
          0.3888888888888889,
          0.6111111111111112
         ],
         "title": "Share per location (%)"
        },
        "yaxis7": {
         "anchor": "x7",
         "domain": [
          0,
          0.22222222222222224
         ],
         "title": "Share per location (%)"
        },
        "yaxis8": {
         "anchor": "x8",
         "domain": [
          0,
          0.22222222222222224
         ],
         "title": "Share per location (%)"
        },
        "yaxis9": {
         "anchor": "x9",
         "domain": [
          0,
          0.22222222222222224
         ],
         "title": "Share per location (%)"
        }
       }
      },
      "text/html": [
       "<div id=\"1fc21618-6a0d-4899-ab98-c029ae246311\" style=\"height: 1000px; width: 1200px;\" class=\"plotly-graph-div\"></div><script type=\"text/javascript\">require([\"plotly\"], function(Plotly) { window.PLOTLYENV=window.PLOTLYENV || {};window.PLOTLYENV.BASE_URL=\"https://plot.ly\";Plotly.newPlot(\"1fc21618-6a0d-4899-ab98-c029ae246311\", [{\"legendgroup\": \"Male\", \"name\": \"Male\", \"text\": \"%\", \"x\": [\"Australia\", \"China\", \"France\", \"Russian Federation\", \"United States\", \"Global\"], \"y\": [24.81, 32.03, 28.08, 34.4, 26.54, 25.13], \"type\": \"bar\", \"uid\": \"6bbc8cb0-b151-4308-a2db-26854a501342\", \"xaxis\": \"x\", \"yaxis\": \"y\"}, {\"legendgroup\": \"Female\", \"name\": \"Female\", \"text\": \"%\", \"x\": [\"Australia\", \"China\", \"France\", \"Russian Federation\", \"United States\", \"Global\"], \"y\": [30.8, 44.23, 32.69, 46.38, 34.17, 33.74], \"type\": \"bar\", \"uid\": \"a7cbe662-1f10-48bc-9b06-f9085d2e6e2a\", \"xaxis\": \"x\", \"yaxis\": \"y\"}, {\"legendgroup\": \"Male\", \"name\": \"Male\", \"text\": \"%\", \"x\": [\"Australia\", \"China\", \"France\", \"Russian Federation\", \"United States\", \"Global\"], \"y\": [6.85, 3.87, 7.15, 6.85, 4.72, 5.33], \"type\": \"bar\", \"uid\": \"b17b5af7-9d86-4bfb-af68-65c411871b39\", \"xaxis\": \"x2\", \"yaxis\": \"y2\"}, {\"legendgroup\": \"Female\", \"name\": \"Female\", \"text\": \"%\", \"x\": [\"Australia\", \"China\", \"France\", \"Russian Federation\", \"United States\", \"Global\"], \"y\": [6.55, 3.14, 5.8, 6.57, 3.7, 4.95], \"type\": \"bar\", \"uid\": \"38acbaad-5da6-4e5e-929c-62635eecbf99\", \"xaxis\": \"x2\", \"yaxis\": \"y2\"}, {\"legendgroup\": \"Male\", \"name\": \"Male\", \"text\": \"%\", \"x\": [\"Australia\", \"China\", \"France\", \"Russian Federation\", \"United States\", \"Global\"], \"y\": [31.3, 25.11, 34.19, 25.13, 34.74, 25.81], \"type\": \"bar\", \"uid\": \"a9304231-7d9b-45c9-838e-cfa88e3b0639\", \"xaxis\": \"x3\", \"yaxis\": \"y3\"}, {\"legendgroup\": \"Female\", \"name\": \"Female\", \"text\": \"%\", \"x\": [\"Australia\", \"China\", \"France\", \"Russian Federation\", \"United States\", \"Global\"], \"y\": [43.41, 35.38, 48.86, 31.28, 47.05, 37.32], \"type\": \"bar\", \"uid\": \"1cdce83f-549e-4727-8c8a-f495669e58fa\", \"xaxis\": \"x3\", \"yaxis\": \"y3\"}, {\"legendgroup\": \"Male\", \"name\": \"Male\", \"text\": \"%\", \"x\": [\"Australia\", \"China\", \"France\", \"Russian Federation\", \"United States\", \"Global\"], \"y\": [2.95, 1.05, 1.89, 1.51, 1.89, 1.19], \"type\": \"bar\", \"uid\": \"87d2c70b-5bae-4aa2-ae68-009c4073f6cb\", \"xaxis\": \"x4\", \"yaxis\": \"y4\"}, {\"legendgroup\": \"Female\", \"name\": \"Female\", \"text\": \"%\", \"x\": [\"Australia\", \"China\", \"France\", \"Russian Federation\", \"United States\", \"Global\"], \"y\": [6.38, 1.78, 3.59, 2.26, 3.32, 2.28], \"type\": \"bar\", \"uid\": \"8371c8f9-5ce0-455c-ab6b-61465f9da83d\", \"xaxis\": \"x4\", \"yaxis\": \"y4\"}, {\"legendgroup\": \"Male\", \"name\": \"Male\", \"text\": \"%\", \"x\": [\"Australia\", \"China\", \"France\", \"Russian Federation\", \"United States\", \"Global\"], \"y\": [6.02, 6.08, 7.27, 6.48, 8.03, 5.78], \"type\": \"bar\", \"uid\": \"b076cb56-8c93-46e9-9928-6993d6efb775\", \"xaxis\": \"x5\", \"yaxis\": \"y5\"}, {\"legendgroup\": \"Female\", \"name\": \"Female\", \"text\": \"%\", \"x\": [\"Australia\", \"China\", \"France\", \"Russian Federation\", \"United States\", \"Global\"], \"y\": [1.4, 1.26, 1.16, 1.84, 1.41, 1.57], \"type\": \"bar\", \"uid\": \"134d8643-122e-4158-8178-12255b614809\", \"xaxis\": \"x5\", \"yaxis\": \"y5\"}, {\"legendgroup\": \"Male\", \"name\": \"Male\", \"text\": \"%\", \"x\": [\"Australia\", \"China\", \"France\", \"Russian Federation\", \"United States\", \"Global\"], \"y\": [19.08, 18.22, 10.19, 12.44, 10.83, 12.62], \"type\": \"bar\", \"uid\": \"a0550c26-bd3f-4309-83ba-a911617ef3da\", \"xaxis\": \"x6\", \"yaxis\": \"y6\"}, {\"legendgroup\": \"Female\", \"name\": \"Female\", \"text\": \"%\", \"x\": [\"Australia\", \"China\", \"France\", \"Russian Federation\", \"United States\", \"Global\"], \"y\": [6.0, 6.1, 2.24, 3.83, 3.09, 4.52], \"type\": \"bar\", \"uid\": \"17a8b4d2-35fe-4518-9f54-501a6ecffc53\", \"xaxis\": \"x6\", \"yaxis\": \"y6\"}, {\"legendgroup\": \"Male\", \"name\": \"Male\", \"text\": \"%\", \"x\": [\"Australia\", \"China\", \"France\", \"Russian Federation\", \"United States\", \"Global\"], \"y\": [5.16, 5.22, 6.06, 7.14, 6.65, 8.45], \"type\": \"bar\", \"uid\": \"66e3a3bd-4722-4a69-b86d-e88c7febce4e\", \"xaxis\": \"x7\", \"yaxis\": \"y7\"}, {\"legendgroup\": \"Female\", \"name\": \"Female\", \"text\": \"%\", \"x\": [\"Australia\", \"China\", \"France\", \"Russian Federation\", \"United States\", \"Global\"], \"y\": [2.12, 1.91, 1.88, 3.19, 3.01, 3.89], \"type\": \"bar\", \"uid\": \"82a4e457-a39b-4e78-a331-4aad17cbfc76\", \"xaxis\": \"x7\", \"yaxis\": \"y7\"}, {\"legendgroup\": \"Male\", \"name\": \"Male\", \"text\": \"%\", \"x\": [\"Australia\", \"China\", \"France\", \"Russian Federation\", \"United States\", \"Global\"], \"y\": [1.11, 4.23, 2.7, 3.63, 3.87, 13.22], \"type\": \"bar\", \"uid\": \"c735e01a-316f-4a72-85bf-c6f9751e9022\", \"xaxis\": \"x8\", \"yaxis\": \"y8\"}, {\"legendgroup\": \"Female\", \"name\": \"Female\", \"text\": \"%\", \"x\": [\"Australia\", \"China\", \"France\", \"Russian Federation\", \"United States\", \"Global\"], \"y\": [1.26, 2.56, 2.26, 2.57, 2.27, 9.7], \"type\": \"bar\", \"uid\": \"446d3ce0-593f-4470-987b-fdce65a3fdbb\", \"xaxis\": \"x8\", \"yaxis\": \"y8\"}, {\"legendgroup\": \"Male\", \"name\": \"Male\", \"text\": \"%\", \"x\": [\"Australia\", \"China\", \"France\", \"Russian Federation\", \"United States\", \"Global\"], \"y\": [2.73, 4.18, 2.48, 2.41, 2.74, 2.47], \"type\": \"bar\", \"uid\": \"145a3ec8-3bef-4890-b4e5-97f057cbc412\", \"xaxis\": \"x9\", \"yaxis\": \"y9\"}, {\"legendgroup\": \"Female\", \"name\": \"Female\", \"text\": \"%\", \"x\": [\"Australia\", \"China\", \"France\", \"Russian Federation\", \"United States\", \"Global\"], \"y\": [2.09, 3.62, 1.53, 2.08, 1.98, 2.02], \"type\": \"bar\", \"uid\": \"56241844-2a17-4f2a-ac56-d20918aadf51\", \"xaxis\": \"x9\", \"yaxis\": \"y9\"}], {\"annotations\": [{\"font\": {\"size\": 16}, \"showarrow\": false, \"text\": \"Depressive disorders\", \"x\": 0.14444444444444446, \"xanchor\": \"center\", \"xref\": \"paper\", \"y\": 1.0, \"yanchor\": \"bottom\", \"yref\": \"paper\"}, {\"font\": {\"size\": 16}, \"showarrow\": false, \"text\": \"Bipolar disorder\", \"x\": 0.5, \"xanchor\": \"center\", \"xref\": \"paper\", \"y\": 1.0, \"yanchor\": \"bottom\", \"yref\": \"paper\"}, {\"font\": {\"size\": 16}, \"showarrow\": false, \"text\": \"Anxiety disorders\", \"x\": 0.8555555555555556, \"xanchor\": \"center\", \"xref\": \"paper\", \"y\": 1.0, \"yanchor\": \"bottom\", \"yref\": \"paper\"}, {\"font\": {\"size\": 16}, \"showarrow\": false, \"text\": \"Eating disorders\", \"x\": 0.14444444444444446, \"xanchor\": \"center\", \"xref\": \"paper\", \"y\": 0.6111111111111112, \"yanchor\": \"bottom\", \"yref\": \"paper\"}, {\"font\": {\"size\": 16}, \"showarrow\": false, \"text\": \"Autism spectrum disorders\", \"x\": 0.5, \"xanchor\": \"center\", \"xref\": \"paper\", \"y\": 0.6111111111111112, \"yanchor\": \"bottom\", \"yref\": \"paper\"}, {\"font\": {\"size\": 16}, \"showarrow\": false, \"text\": \"Attention-deficit/hyperactivity disorder\", \"x\": 0.8555555555555556, \"xanchor\": \"center\", \"xref\": \"paper\", \"y\": 0.6111111111111112, \"yanchor\": \"bottom\", \"yref\": \"paper\"}, {\"font\": {\"size\": 16}, \"showarrow\": false, \"text\": \"Conduct disorder\", \"x\": 0.14444444444444446, \"xanchor\": \"center\", \"xref\": \"paper\", \"y\": 0.22222222222222224, \"yanchor\": \"bottom\", \"yref\": \"paper\"}, {\"font\": {\"size\": 16}, \"showarrow\": false, \"text\": \"Idiopathic developmental intellectual disability\", \"x\": 0.5, \"xanchor\": \"center\", \"xref\": \"paper\", \"y\": 0.22222222222222224, \"yanchor\": \"bottom\", \"yref\": \"paper\"}, {\"font\": {\"size\": 16}, \"showarrow\": false, \"text\": \"Schizophrenia\", \"x\": 0.8555555555555556, \"xanchor\": \"center\", \"xref\": \"paper\", \"y\": 0.22222222222222224, \"yanchor\": \"bottom\", \"yref\": \"paper\"}], \"xaxis\": {\"anchor\": \"y\", \"domain\": [0.0, 0.2888888888888889]}, \"yaxis\": {\"anchor\": \"x\", \"domain\": [0.7777777777777778, 1.0], \"title\": \"Share per location (%)\"}, \"xaxis2\": {\"anchor\": \"y2\", \"domain\": [0.35555555555555557, 0.6444444444444445]}, \"yaxis2\": {\"anchor\": \"x2\", \"domain\": [0.7777777777777778, 1.0], \"title\": \"Share per location (%)\"}, \"xaxis3\": {\"anchor\": \"y3\", \"domain\": [0.7111111111111111, 1.0]}, \"yaxis3\": {\"anchor\": \"x3\", \"domain\": [0.7777777777777778, 1.0], \"title\": \"Share per location (%)\"}, \"xaxis4\": {\"anchor\": \"y4\", \"domain\": [0.0, 0.2888888888888889]}, \"yaxis4\": {\"anchor\": \"x4\", \"domain\": [0.3888888888888889, 0.6111111111111112], \"title\": \"Share per location (%)\"}, \"xaxis5\": {\"anchor\": \"y5\", \"domain\": [0.35555555555555557, 0.6444444444444445]}, \"yaxis5\": {\"anchor\": \"x5\", \"domain\": [0.3888888888888889, 0.6111111111111112], \"title\": \"Share per location (%)\"}, \"xaxis6\": {\"anchor\": \"y6\", \"domain\": [0.7111111111111111, 1.0]}, \"yaxis6\": {\"anchor\": \"x6\", \"domain\": [0.3888888888888889, 0.6111111111111112], \"title\": \"Share per location (%)\"}, \"xaxis7\": {\"anchor\": \"y7\", \"domain\": [0.0, 0.2888888888888889]}, \"yaxis7\": {\"anchor\": \"x7\", \"domain\": [0.0, 0.22222222222222224], \"title\": \"Share per location (%)\"}, \"xaxis8\": {\"anchor\": \"y8\", \"domain\": [0.35555555555555557, 0.6444444444444445]}, \"yaxis8\": {\"anchor\": \"x8\", \"domain\": [0.0, 0.22222222222222224], \"title\": \"Share per location (%)\"}, \"xaxis9\": {\"anchor\": \"y9\", \"domain\": [0.7111111111111111, 1.0]}, \"yaxis9\": {\"anchor\": \"x9\", \"domain\": [0.0, 0.22222222222222224], \"title\": \"Share per location (%)\"}, \"height\": 1000, \"width\": 1200, \"title\": \"Mental Disorder by Gender in 2016 over countries\", \"barmode\": \"group\"}, {\"showLink\": true, \"linkText\": \"Export to plot.ly\", \"plotlyServerURL\": \"https://plot.ly\"})});</script>"
      ],
      "text/vnd.plotly.v1+html": [
       "<div id=\"1fc21618-6a0d-4899-ab98-c029ae246311\" style=\"height: 1000px; width: 1200px;\" class=\"plotly-graph-div\"></div><script type=\"text/javascript\">require([\"plotly\"], function(Plotly) { window.PLOTLYENV=window.PLOTLYENV || {};window.PLOTLYENV.BASE_URL=\"https://plot.ly\";Plotly.newPlot(\"1fc21618-6a0d-4899-ab98-c029ae246311\", [{\"legendgroup\": \"Male\", \"name\": \"Male\", \"text\": \"%\", \"x\": [\"Australia\", \"China\", \"France\", \"Russian Federation\", \"United States\", \"Global\"], \"y\": [24.81, 32.03, 28.08, 34.4, 26.54, 25.13], \"type\": \"bar\", \"uid\": \"6bbc8cb0-b151-4308-a2db-26854a501342\", \"xaxis\": \"x\", \"yaxis\": \"y\"}, {\"legendgroup\": \"Female\", \"name\": \"Female\", \"text\": \"%\", \"x\": [\"Australia\", \"China\", \"France\", \"Russian Federation\", \"United States\", \"Global\"], \"y\": [30.8, 44.23, 32.69, 46.38, 34.17, 33.74], \"type\": \"bar\", \"uid\": \"a7cbe662-1f10-48bc-9b06-f9085d2e6e2a\", \"xaxis\": \"x\", \"yaxis\": \"y\"}, {\"legendgroup\": \"Male\", \"name\": \"Male\", \"text\": \"%\", \"x\": [\"Australia\", \"China\", \"France\", \"Russian Federation\", \"United States\", \"Global\"], \"y\": [6.85, 3.87, 7.15, 6.85, 4.72, 5.33], \"type\": \"bar\", \"uid\": \"b17b5af7-9d86-4bfb-af68-65c411871b39\", \"xaxis\": \"x2\", \"yaxis\": \"y2\"}, {\"legendgroup\": \"Female\", \"name\": \"Female\", \"text\": \"%\", \"x\": [\"Australia\", \"China\", \"France\", \"Russian Federation\", \"United States\", \"Global\"], \"y\": [6.55, 3.14, 5.8, 6.57, 3.7, 4.95], \"type\": \"bar\", \"uid\": \"38acbaad-5da6-4e5e-929c-62635eecbf99\", \"xaxis\": \"x2\", \"yaxis\": \"y2\"}, {\"legendgroup\": \"Male\", \"name\": \"Male\", \"text\": \"%\", \"x\": [\"Australia\", \"China\", \"France\", \"Russian Federation\", \"United States\", \"Global\"], \"y\": [31.3, 25.11, 34.19, 25.13, 34.74, 25.81], \"type\": \"bar\", \"uid\": \"a9304231-7d9b-45c9-838e-cfa88e3b0639\", \"xaxis\": \"x3\", \"yaxis\": \"y3\"}, {\"legendgroup\": \"Female\", \"name\": \"Female\", \"text\": \"%\", \"x\": [\"Australia\", \"China\", \"France\", \"Russian Federation\", \"United States\", \"Global\"], \"y\": [43.41, 35.38, 48.86, 31.28, 47.05, 37.32], \"type\": \"bar\", \"uid\": \"1cdce83f-549e-4727-8c8a-f495669e58fa\", \"xaxis\": \"x3\", \"yaxis\": \"y3\"}, {\"legendgroup\": \"Male\", \"name\": \"Male\", \"text\": \"%\", \"x\": [\"Australia\", \"China\", \"France\", \"Russian Federation\", \"United States\", \"Global\"], \"y\": [2.95, 1.05, 1.89, 1.51, 1.89, 1.19], \"type\": \"bar\", \"uid\": \"87d2c70b-5bae-4aa2-ae68-009c4073f6cb\", \"xaxis\": \"x4\", \"yaxis\": \"y4\"}, {\"legendgroup\": \"Female\", \"name\": \"Female\", \"text\": \"%\", \"x\": [\"Australia\", \"China\", \"France\", \"Russian Federation\", \"United States\", \"Global\"], \"y\": [6.38, 1.78, 3.59, 2.26, 3.32, 2.28], \"type\": \"bar\", \"uid\": \"8371c8f9-5ce0-455c-ab6b-61465f9da83d\", \"xaxis\": \"x4\", \"yaxis\": \"y4\"}, {\"legendgroup\": \"Male\", \"name\": \"Male\", \"text\": \"%\", \"x\": [\"Australia\", \"China\", \"France\", \"Russian Federation\", \"United States\", \"Global\"], \"y\": [6.02, 6.08, 7.27, 6.48, 8.03, 5.78], \"type\": \"bar\", \"uid\": \"b076cb56-8c93-46e9-9928-6993d6efb775\", \"xaxis\": \"x5\", \"yaxis\": \"y5\"}, {\"legendgroup\": \"Female\", \"name\": \"Female\", \"text\": \"%\", \"x\": [\"Australia\", \"China\", \"France\", \"Russian Federation\", \"United States\", \"Global\"], \"y\": [1.4, 1.26, 1.16, 1.84, 1.41, 1.57], \"type\": \"bar\", \"uid\": \"134d8643-122e-4158-8178-12255b614809\", \"xaxis\": \"x5\", \"yaxis\": \"y5\"}, {\"legendgroup\": \"Male\", \"name\": \"Male\", \"text\": \"%\", \"x\": [\"Australia\", \"China\", \"France\", \"Russian Federation\", \"United States\", \"Global\"], \"y\": [19.08, 18.22, 10.19, 12.44, 10.83, 12.62], \"type\": \"bar\", \"uid\": \"a0550c26-bd3f-4309-83ba-a911617ef3da\", \"xaxis\": \"x6\", \"yaxis\": \"y6\"}, {\"legendgroup\": \"Female\", \"name\": \"Female\", \"text\": \"%\", \"x\": [\"Australia\", \"China\", \"France\", \"Russian Federation\", \"United States\", \"Global\"], \"y\": [6.0, 6.1, 2.24, 3.83, 3.09, 4.52], \"type\": \"bar\", \"uid\": \"17a8b4d2-35fe-4518-9f54-501a6ecffc53\", \"xaxis\": \"x6\", \"yaxis\": \"y6\"}, {\"legendgroup\": \"Male\", \"name\": \"Male\", \"text\": \"%\", \"x\": [\"Australia\", \"China\", \"France\", \"Russian Federation\", \"United States\", \"Global\"], \"y\": [5.16, 5.22, 6.06, 7.14, 6.65, 8.45], \"type\": \"bar\", \"uid\": \"66e3a3bd-4722-4a69-b86d-e88c7febce4e\", \"xaxis\": \"x7\", \"yaxis\": \"y7\"}, {\"legendgroup\": \"Female\", \"name\": \"Female\", \"text\": \"%\", \"x\": [\"Australia\", \"China\", \"France\", \"Russian Federation\", \"United States\", \"Global\"], \"y\": [2.12, 1.91, 1.88, 3.19, 3.01, 3.89], \"type\": \"bar\", \"uid\": \"82a4e457-a39b-4e78-a331-4aad17cbfc76\", \"xaxis\": \"x7\", \"yaxis\": \"y7\"}, {\"legendgroup\": \"Male\", \"name\": \"Male\", \"text\": \"%\", \"x\": [\"Australia\", \"China\", \"France\", \"Russian Federation\", \"United States\", \"Global\"], \"y\": [1.11, 4.23, 2.7, 3.63, 3.87, 13.22], \"type\": \"bar\", \"uid\": \"c735e01a-316f-4a72-85bf-c6f9751e9022\", \"xaxis\": \"x8\", \"yaxis\": \"y8\"}, {\"legendgroup\": \"Female\", \"name\": \"Female\", \"text\": \"%\", \"x\": [\"Australia\", \"China\", \"France\", \"Russian Federation\", \"United States\", \"Global\"], \"y\": [1.26, 2.56, 2.26, 2.57, 2.27, 9.7], \"type\": \"bar\", \"uid\": \"446d3ce0-593f-4470-987b-fdce65a3fdbb\", \"xaxis\": \"x8\", \"yaxis\": \"y8\"}, {\"legendgroup\": \"Male\", \"name\": \"Male\", \"text\": \"%\", \"x\": [\"Australia\", \"China\", \"France\", \"Russian Federation\", \"United States\", \"Global\"], \"y\": [2.73, 4.18, 2.48, 2.41, 2.74, 2.47], \"type\": \"bar\", \"uid\": \"145a3ec8-3bef-4890-b4e5-97f057cbc412\", \"xaxis\": \"x9\", \"yaxis\": \"y9\"}, {\"legendgroup\": \"Female\", \"name\": \"Female\", \"text\": \"%\", \"x\": [\"Australia\", \"China\", \"France\", \"Russian Federation\", \"United States\", \"Global\"], \"y\": [2.09, 3.62, 1.53, 2.08, 1.98, 2.02], \"type\": \"bar\", \"uid\": \"56241844-2a17-4f2a-ac56-d20918aadf51\", \"xaxis\": \"x9\", \"yaxis\": \"y9\"}], {\"annotations\": [{\"font\": {\"size\": 16}, \"showarrow\": false, \"text\": \"Depressive disorders\", \"x\": 0.14444444444444446, \"xanchor\": \"center\", \"xref\": \"paper\", \"y\": 1.0, \"yanchor\": \"bottom\", \"yref\": \"paper\"}, {\"font\": {\"size\": 16}, \"showarrow\": false, \"text\": \"Bipolar disorder\", \"x\": 0.5, \"xanchor\": \"center\", \"xref\": \"paper\", \"y\": 1.0, \"yanchor\": \"bottom\", \"yref\": \"paper\"}, {\"font\": {\"size\": 16}, \"showarrow\": false, \"text\": \"Anxiety disorders\", \"x\": 0.8555555555555556, \"xanchor\": \"center\", \"xref\": \"paper\", \"y\": 1.0, \"yanchor\": \"bottom\", \"yref\": \"paper\"}, {\"font\": {\"size\": 16}, \"showarrow\": false, \"text\": \"Eating disorders\", \"x\": 0.14444444444444446, \"xanchor\": \"center\", \"xref\": \"paper\", \"y\": 0.6111111111111112, \"yanchor\": \"bottom\", \"yref\": \"paper\"}, {\"font\": {\"size\": 16}, \"showarrow\": false, \"text\": \"Autism spectrum disorders\", \"x\": 0.5, \"xanchor\": \"center\", \"xref\": \"paper\", \"y\": 0.6111111111111112, \"yanchor\": \"bottom\", \"yref\": \"paper\"}, {\"font\": {\"size\": 16}, \"showarrow\": false, \"text\": \"Attention-deficit/hyperactivity disorder\", \"x\": 0.8555555555555556, \"xanchor\": \"center\", \"xref\": \"paper\", \"y\": 0.6111111111111112, \"yanchor\": \"bottom\", \"yref\": \"paper\"}, {\"font\": {\"size\": 16}, \"showarrow\": false, \"text\": \"Conduct disorder\", \"x\": 0.14444444444444446, \"xanchor\": \"center\", \"xref\": \"paper\", \"y\": 0.22222222222222224, \"yanchor\": \"bottom\", \"yref\": \"paper\"}, {\"font\": {\"size\": 16}, \"showarrow\": false, \"text\": \"Idiopathic developmental intellectual disability\", \"x\": 0.5, \"xanchor\": \"center\", \"xref\": \"paper\", \"y\": 0.22222222222222224, \"yanchor\": \"bottom\", \"yref\": \"paper\"}, {\"font\": {\"size\": 16}, \"showarrow\": false, \"text\": \"Schizophrenia\", \"x\": 0.8555555555555556, \"xanchor\": \"center\", \"xref\": \"paper\", \"y\": 0.22222222222222224, \"yanchor\": \"bottom\", \"yref\": \"paper\"}], \"xaxis\": {\"anchor\": \"y\", \"domain\": [0.0, 0.2888888888888889]}, \"yaxis\": {\"anchor\": \"x\", \"domain\": [0.7777777777777778, 1.0], \"title\": \"Share per location (%)\"}, \"xaxis2\": {\"anchor\": \"y2\", \"domain\": [0.35555555555555557, 0.6444444444444445]}, \"yaxis2\": {\"anchor\": \"x2\", \"domain\": [0.7777777777777778, 1.0], \"title\": \"Share per location (%)\"}, \"xaxis3\": {\"anchor\": \"y3\", \"domain\": [0.7111111111111111, 1.0]}, \"yaxis3\": {\"anchor\": \"x3\", \"domain\": [0.7777777777777778, 1.0], \"title\": \"Share per location (%)\"}, \"xaxis4\": {\"anchor\": \"y4\", \"domain\": [0.0, 0.2888888888888889]}, \"yaxis4\": {\"anchor\": \"x4\", \"domain\": [0.3888888888888889, 0.6111111111111112], \"title\": \"Share per location (%)\"}, \"xaxis5\": {\"anchor\": \"y5\", \"domain\": [0.35555555555555557, 0.6444444444444445]}, \"yaxis5\": {\"anchor\": \"x5\", \"domain\": [0.3888888888888889, 0.6111111111111112], \"title\": \"Share per location (%)\"}, \"xaxis6\": {\"anchor\": \"y6\", \"domain\": [0.7111111111111111, 1.0]}, \"yaxis6\": {\"anchor\": \"x6\", \"domain\": [0.3888888888888889, 0.6111111111111112], \"title\": \"Share per location (%)\"}, \"xaxis7\": {\"anchor\": \"y7\", \"domain\": [0.0, 0.2888888888888889]}, \"yaxis7\": {\"anchor\": \"x7\", \"domain\": [0.0, 0.22222222222222224], \"title\": \"Share per location (%)\"}, \"xaxis8\": {\"anchor\": \"y8\", \"domain\": [0.35555555555555557, 0.6444444444444445]}, \"yaxis8\": {\"anchor\": \"x8\", \"domain\": [0.0, 0.22222222222222224], \"title\": \"Share per location (%)\"}, \"xaxis9\": {\"anchor\": \"y9\", \"domain\": [0.7111111111111111, 1.0]}, \"yaxis9\": {\"anchor\": \"x9\", \"domain\": [0.0, 0.22222222222222224], \"title\": \"Share per location (%)\"}, \"height\": 1000, \"width\": 1200, \"title\": \"Mental Disorder by Gender in 2016 over countries\", \"barmode\": \"group\"}, {\"showLink\": true, \"linkText\": \"Export to plot.ly\", \"plotlyServerURL\": \"https://plot.ly\"})});</script>"
      ]
     },
     "metadata": {},
     "output_type": "display_data"
    }
   ],
   "source": [
    "fig_gender_per_country = fig\n",
    "iplot(fig_gender_per_country, validate=False)"
   ]
  },
  {
   "cell_type": "code",
   "execution_count": 513,
   "metadata": {},
   "outputs": [],
   "source": [
    "html_str = plot(fig_gender_per_country, include_plotlyjs=False, output_type='div')\n",
    "save_html(html_str, \"prevalence_gender_share_per_country\")"
   ]
  },
  {
   "cell_type": "markdown",
   "metadata": {},
   "source": [
    "#### Pie Plot - Global"
   ]
  },
  {
   "cell_type": "code",
   "execution_count": 514,
   "metadata": {},
   "outputs": [],
   "source": [
    "def per_gender_global(year, df, causes=level_2):\n",
    "    dff = df[(df.year == year) & (df.age == 'All Ages') & (df.location == \"Global\") & (df.cause.isin(causes))]\n",
    "    df_g = dff.groupby(['cause', 'location', 'sex'])['val'].sum().unstack().reset_index()\n",
    "      \n",
    "    data_dicts = []\n",
    "    x = [[0, 0.48], [0.52, 1]]\n",
    "    for i, sex in enumerate(['Male', 'Female']):\n",
    "        data_dict = {\n",
    "          \"values\": list(df_g[sex]),\n",
    "          \"labels\": df_g.cause.unique().tolist(),\n",
    "          \"domain\": {\"x\": x[i]},\n",
    "          \"name\": sex,\n",
    "          \"hoverinfo\":\"label+percent+name\",\n",
    "          \"hole\": .4,\n",
    "          \"type\": \"pie\",\n",
    "          \"text\":[sex],\n",
    "          \"textposition\":\"inside\",\n",
    "        }\n",
    "#         print(data_dict['domain'])\n",
    "        data_dicts.append(data_dict)\n",
    "    return data_dicts"
   ]
  },
  {
   "cell_type": "code",
   "execution_count": 515,
   "metadata": {},
   "outputs": [],
   "source": [
    "def make_plot_global(sliders_dict, figure, years, df):\n",
    "    years = sorted(years)\n",
    "    for year in years:\n",
    "        data_dict = per_gender_global(year, df, causes)\n",
    "\n",
    "        # Only append first year\n",
    "        if year == years[0]:\n",
    "            figure['data'] = data_dict\n",
    "\n",
    "        # Make frames\n",
    "        frame = {'data': data_dict, 'name': str(year)}\n",
    "        figure['frames'].append(frame)\n",
    "\n",
    "        # Slider step\n",
    "        slider_step = {'args': [\n",
    "            [str(year)],\n",
    "            {'frame': {'duration': 300, 'redraw': True},\n",
    "             'mode': 'immediate',\n",
    "           'transition': {'duration': 300}}\n",
    "         ],\n",
    "         'label': str(year),\n",
    "         'method': 'animate'}\n",
    "        sliders_dict['steps'].append(slider_step)\n",
    "\n",
    "    figure['layout']['sliders'] = [sliders_dict]\n",
    "    figure['layout']['paper_bgcolor']='rgba(0,0,0,0)'\n",
    "    figure['layout']['plot_bgcolor']='rgba(0,0,0,0)'\n",
    "    figure['layout']['annotations'] = [\n",
    "                {\n",
    "                    \"font\": {\n",
    "                        \"size\": 15\n",
    "                    },\n",
    "                    \"showarrow\": False,\n",
    "                    \"text\": \"Male\",\n",
    "                    \"x\": 0.22,\n",
    "                    \"y\": 0.5\n",
    "                },\n",
    "                {\n",
    "                    \"font\": {\n",
    "                        \"size\": 15\n",
    "                    },\n",
    "                    \"showarrow\": False,\n",
    "                    \"text\": \"Female\",\n",
    "                    \"x\": 0.79,\n",
    "                    \"y\": 0.5\n",
    "                }\n",
    "            ]\n",
    "    \n",
    "\n",
    "    return figure"
   ]
  },
  {
   "cell_type": "code",
   "execution_count": 498,
   "metadata": {},
   "outputs": [],
   "source": [
    "sliders = make_sliders()\n",
    "df = prevalence_number\n",
    "locations = continents\n",
    "figure = make_figure_black('Share of gender per Mental Illness Globally (%)')\n",
    "fig_gender_global = make_plot_global(sliders, figure, years, df, locations)"
   ]
  },
  {
   "cell_type": "code",
   "execution_count": 499,
   "metadata": {},
   "outputs": [
    {
     "data": {
      "application/vnd.plotly.v1+json": {
       "config": {
        "linkText": "Export to plot.ly",
        "plotlyServerURL": "https://plot.ly",
        "showLink": true
       },
       "data": [
        {
         "domain": {
          "x": [
           0,
           0.48
          ]
         },
         "hole": 0.4,
         "hoverinfo": "label+percent+name",
         "labels": [
          "Anxiety disorders",
          "Attention-deficit/hyperactivity disorder",
          "Autism spectrum disorders",
          "Bipolar disorder",
          "Conduct disorder",
          "Depressive disorders",
          "Eating disorders",
          "Idiopathic developmental intellectual disability",
          "Other mental disorders",
          "Schizophrenia"
         ],
         "name": "Male",
         "text": [
          "Male"
         ],
         "textposition": "inside",
         "type": "pie",
         "uid": "14f319eb-345c-4675-aaa5-d3c610a3ece6",
         "values": [
          70615119.4681,
          40580128.2919,
          17341012.3752,
          14050188.0223,
          28443091.8848,
          64933249.9446,
          2946824.46012,
          48072237.0961,
          55196740.3806,
          6263530.90125
         ]
        },
        {
         "domain": {
          "x": [
           0.52,
           1
          ]
         },
         "hole": 0.4,
         "hoverinfo": "label+percent+name",
         "labels": [
          "Anxiety disorders",
          "Attention-deficit/hyperactivity disorder",
          "Autism spectrum disorders",
          "Bipolar disorder",
          "Conduct disorder",
          "Depressive disorders",
          "Eating disorders",
          "Idiopathic developmental intellectual disability",
          "Other mental disorders",
          "Schizophrenia"
         ],
         "name": "Female",
         "text": [
          "Female"
         ],
         "textposition": "inside",
         "type": "pie",
         "uid": "d58fdbb5-4d1c-4610-b63c-16a737c19eca",
         "values": [
          119203793.735,
          16510460.8488,
          5387252.72345,
          15392039.8196,
          15403699.5364,
          104772294.817,
          6702901.13776,
          42218160.5143,
          36848217.8587,
          5889202.0398
         ]
        }
       ],
       "frames": [
        {
         "data": [
          {
           "domain": {
            "x": [
             0,
             0.48
            ]
           },
           "hole": 0.4,
           "hoverinfo": "label+percent+name",
           "labels": [
            "Anxiety disorders",
            "Attention-deficit/hyperactivity disorder",
            "Autism spectrum disorders",
            "Bipolar disorder",
            "Conduct disorder",
            "Depressive disorders",
            "Eating disorders",
            "Idiopathic developmental intellectual disability",
            "Other mental disorders",
            "Schizophrenia"
           ],
           "name": "Male",
           "text": [
            "Male"
           ],
           "textposition": "inside",
           "type": "pie",
           "values": [
            70615119.4681,
            40580128.2919,
            17341012.3752,
            14050188.0223,
            28443091.8848,
            64933249.9446,
            2946824.46012,
            48072237.0961,
            55196740.3806,
            6263530.90125
           ]
          },
          {
           "domain": {
            "x": [
             0.52,
             1
            ]
           },
           "hole": 0.4,
           "hoverinfo": "label+percent+name",
           "labels": [
            "Anxiety disorders",
            "Attention-deficit/hyperactivity disorder",
            "Autism spectrum disorders",
            "Bipolar disorder",
            "Conduct disorder",
            "Depressive disorders",
            "Eating disorders",
            "Idiopathic developmental intellectual disability",
            "Other mental disorders",
            "Schizophrenia"
           ],
           "name": "Female",
           "text": [
            "Female"
           ],
           "textposition": "inside",
           "type": "pie",
           "values": [
            119203793.735,
            16510460.8488,
            5387252.72345,
            15392039.8196,
            15403699.5364,
            104772294.817,
            6702901.13776,
            42218160.5143,
            36848217.8587,
            5889202.0398
           ]
          }
         ],
         "name": "1990"
        },
        {
         "data": [
          {
           "domain": {
            "x": [
             0,
             0.48
            ]
           },
           "hole": 0.4,
           "hoverinfo": "label+percent+name",
           "labels": [
            "Anxiety disorders",
            "Attention-deficit/hyperactivity disorder",
            "Autism spectrum disorders",
            "Bipolar disorder",
            "Conduct disorder",
            "Depressive disorders",
            "Eating disorders",
            "Idiopathic developmental intellectual disability",
            "Other mental disorders",
            "Schizophrenia"
           ],
           "name": "Male",
           "text": [
            "Male"
           ],
           "textposition": "inside",
           "type": "pie",
           "values": [
            71855444.3406,
            41228170.1902,
            17589463.3084,
            14302188.0556,
            28690257.6854,
            66278026.0354,
            3001793.61001,
            48601156.0731,
            56362257.0493,
            6400933.12245
           ]
          },
          {
           "domain": {
            "x": [
             0.52,
             1
            ]
           },
           "hole": 0.4,
           "hoverinfo": "label+percent+name",
           "labels": [
            "Anxiety disorders",
            "Attention-deficit/hyperactivity disorder",
            "Autism spectrum disorders",
            "Bipolar disorder",
            "Conduct disorder",
            "Depressive disorders",
            "Eating disorders",
            "Idiopathic developmental intellectual disability",
            "Other mental disorders",
            "Schizophrenia"
           ],
           "name": "Female",
           "text": [
            "Female"
           ],
           "textposition": "inside",
           "type": "pie",
           "values": [
            121121092.193,
            16748611.0004,
            5465558.12247,
            15659379.5156,
            15499407.4355,
            106780544.585,
            6822757.69165,
            42555037.7459,
            37617014.1741,
            6015138.7889
           ]
          }
         ],
         "name": "1991"
        },
        {
         "data": [
          {
           "domain": {
            "x": [
             0,
             0.48
            ]
           },
           "hole": 0.4,
           "hoverinfo": "label+percent+name",
           "labels": [
            "Anxiety disorders",
            "Attention-deficit/hyperactivity disorder",
            "Autism spectrum disorders",
            "Bipolar disorder",
            "Conduct disorder",
            "Depressive disorders",
            "Eating disorders",
            "Idiopathic developmental intellectual disability",
            "Other mental disorders",
            "Schizophrenia"
           ],
           "name": "Male",
           "text": [
            "Male"
           ],
           "textposition": "inside",
           "type": "pie",
           "values": [
            73109490.3104,
            41874631.1518,
            17833182.7835,
            14557463.888,
            28992049.1496,
            67622834.4127,
            3054431.70939,
            49149756.0638,
            57526744.9542,
            6538379.52814
           ]
          },
          {
           "domain": {
            "x": [
             0.52,
             1
            ]
           },
           "hole": 0.4,
           "hoverinfo": "label+percent+name",
           "labels": [
            "Anxiety disorders",
            "Attention-deficit/hyperactivity disorder",
            "Autism spectrum disorders",
            "Bipolar disorder",
            "Conduct disorder",
            "Depressive disorders",
            "Eating disorders",
            "Idiopathic developmental intellectual disability",
            "Other mental disorders",
            "Schizophrenia"
           ],
           "name": "Female",
           "text": [
            "Female"
           ],
           "textposition": "inside",
           "type": "pie",
           "values": [
            123095090.802,
            16990199.518,
            5542888.75243,
            15930803.5334,
            15622210.4873,
            108773894.392,
            6943373.005419998,
            42909578.6922,
            38392389.3129,
            6142614.01985
           ]
          }
         ],
         "name": "1992"
        },
        {
         "data": [
          {
           "domain": {
            "x": [
             0,
             0.48
            ]
           },
           "hole": 0.4,
           "hoverinfo": "label+percent+name",
           "labels": [
            "Anxiety disorders",
            "Attention-deficit/hyperactivity disorder",
            "Autism spectrum disorders",
            "Bipolar disorder",
            "Conduct disorder",
            "Depressive disorders",
            "Eating disorders",
            "Idiopathic developmental intellectual disability",
            "Other mental disorders",
            "Schizophrenia"
           ],
           "name": "Male",
           "text": [
            "Male"
           ],
           "textposition": "inside",
           "type": "pie",
           "values": [
            74366418.5671,
            42495205.7545,
            18065627.5073,
            14811509.0808,
            29328957.8219,
            68948606.8068,
            3107602.6972,
            49674049.1234,
            58671810.6543,
            6675163.70471
           ]
          },
          {
           "domain": {
            "x": [
             0.52,
             1
            ]
           },
           "hole": 0.4,
           "hoverinfo": "label+percent+name",
           "labels": [
            "Anxiety disorders",
            "Attention-deficit/hyperactivity disorder",
            "Autism spectrum disorders",
            "Bipolar disorder",
            "Conduct disorder",
            "Depressive disorders",
            "Eating disorders",
            "Idiopathic developmental intellectual disability",
            "Other mental disorders",
            "Schizophrenia"
           ],
           "name": "Female",
           "text": [
            "Female"
           ],
           "textposition": "inside",
           "type": "pie",
           "values": [
            125095047.268,
            17230776.1557,
            5617091.27925,
            16201628.4234,
            15765990.256,
            110697375.15,
            7064317.27239,
            43242040.4681,
            39163851.5008,
            6270638.10276
           ]
          }
         ],
         "name": "1993"
        },
        {
         "data": [
          {
           "domain": {
            "x": [
             0,
             0.48
            ]
           },
           "hole": 0.4,
           "hoverinfo": "label+percent+name",
           "labels": [
            "Anxiety disorders",
            "Attention-deficit/hyperactivity disorder",
            "Autism spectrum disorders",
            "Bipolar disorder",
            "Conduct disorder",
            "Depressive disorders",
            "Eating disorders",
            "Idiopathic developmental intellectual disability",
            "Other mental disorders",
            "Schizophrenia"
           ],
           "name": "Male",
           "text": [
            "Male"
           ],
           "textposition": "inside",
           "type": "pie",
           "values": [
            75628903.6731,
            43079585.542,
            18292365.0435,
            15066740.7021,
            29696948.4072,
            70265884.0889,
            3160271.19242,
            50139186.4262,
            59800639.1404,
            6810642.21326
           ]
          },
          {
           "domain": {
            "x": [
             0.52,
             1
            ]
           },
           "hole": 0.4,
           "hoverinfo": "label+percent+name",
           "labels": [
            "Anxiety disorders",
            "Attention-deficit/hyperactivity disorder",
            "Autism spectrum disorders",
            "Bipolar disorder",
            "Conduct disorder",
            "Depressive disorders",
            "Eating disorders",
            "Idiopathic developmental intellectual disability",
            "Other mental disorders",
            "Schizophrenia"
           ],
           "name": "Female",
           "text": [
            "Female"
           ],
           "textposition": "inside",
           "type": "pie",
           "values": [
            127144860.081,
            17472002.6356,
            5690611.740540002,
            16476175.2597,
            15931151.8026,
            112597938.582,
            7187285.58698,
            43530583.2072,
            39938120.5729,
            6398905.29034
           ]
          }
         ],
         "name": "1994"
        },
        {
         "data": [
          {
           "domain": {
            "x": [
             0,
             0.48
            ]
           },
           "hole": 0.4,
           "hoverinfo": "label+percent+name",
           "labels": [
            "Anxiety disorders",
            "Attention-deficit/hyperactivity disorder",
            "Autism spectrum disorders",
            "Bipolar disorder",
            "Conduct disorder",
            "Depressive disorders",
            "Eating disorders",
            "Idiopathic developmental intellectual disability",
            "Other mental disorders",
            "Schizophrenia"
           ],
           "name": "Male",
           "text": [
            "Male"
           ],
           "textposition": "inside",
           "type": "pie",
           "values": [
            76906662.1787,
            43641413.126,
            18519044.0343,
            15327892.8511,
            30102898.9869,
            71568832.9073,
            3212768.51944,
            50591043.8874,
            60929202.7416,
            6945745.84845
           ]
          },
          {
           "domain": {
            "x": [
             0.52,
             1
            ]
           },
           "hole": 0.4,
           "hoverinfo": "label+percent+name",
           "labels": [
            "Anxiety disorders",
            "Attention-deficit/hyperactivity disorder",
            "Autism spectrum disorders",
            "Bipolar disorder",
            "Conduct disorder",
            "Depressive disorders",
            "Eating disorders",
            "Idiopathic developmental intellectual disability",
            "Other mental disorders",
            "Schizophrenia"
           ],
           "name": "Female",
           "text": [
            "Female"
           ],
           "textposition": "inside",
           "type": "pie",
           "values": [
            129266859.78,
            17720188.6317,
            5765377.31343,
            16758376.7138,
            16123542.6211,
            114471425.098,
            7315516.63254,
            43814289.9125,
            40722862.7535,
            6527737.33914
           ]
          }
         ],
         "name": "1995"
        },
        {
         "data": [
          {
           "domain": {
            "x": [
             0,
             0.48
            ]
           },
           "hole": 0.4,
           "hoverinfo": "label+percent+name",
           "labels": [
            "Anxiety disorders",
            "Attention-deficit/hyperactivity disorder",
            "Autism spectrum disorders",
            "Bipolar disorder",
            "Conduct disorder",
            "Depressive disorders",
            "Eating disorders",
            "Idiopathic developmental intellectual disability",
            "Other mental disorders",
            "Schizophrenia"
           ],
           "name": "Male",
           "text": [
            "Male"
           ],
           "textposition": "inside",
           "type": "pie",
           "values": [
            78244519.6838,
            44180744.1353,
            18743290.1009,
            15596917.8532,
            30537483.0672,
            72912498.4313,
            3267738.93429,
            51003162.8857,
            62058451.2097,
            7078940.33515
           ]
          },
          {
           "domain": {
            "x": [
             0.52,
             1
            ]
           },
           "hole": 0.4,
           "hoverinfo": "label+percent+name",
           "labels": [
            "Anxiety disorders",
            "Attention-deficit/hyperactivity disorder",
            "Autism spectrum disorders",
            "Bipolar disorder",
            "Conduct disorder",
            "Depressive disorders",
            "Eating disorders",
            "Idiopathic developmental intellectual disability",
            "Other mental disorders",
            "Schizophrenia"
           ],
           "name": "Female",
           "text": [
            "Female"
           ],
           "textposition": "inside",
           "type": "pie",
           "values": [
            131751114.804,
            17976116.4838,
            5840200.179980001,
            17048158.9689,
            16335894.9848,
            116350619.573,
            7451628.472569998,
            44043894.4943,
            41516476.556,
            6657122.64724
           ]
          }
         ],
         "name": "1996"
        },
        {
         "data": [
          {
           "domain": {
            "x": [
             0,
             0.48
            ]
           },
           "hole": 0.4,
           "hoverinfo": "label+percent+name",
           "labels": [
            "Anxiety disorders",
            "Attention-deficit/hyperactivity disorder",
            "Autism spectrum disorders",
            "Bipolar disorder",
            "Conduct disorder",
            "Depressive disorders",
            "Eating disorders",
            "Idiopathic developmental intellectual disability",
            "Other mental disorders",
            "Schizophrenia"
           ],
           "name": "Male",
           "text": [
            "Male"
           ],
           "textposition": "inside",
           "type": "pie",
           "values": [
            81093979.6482,
            45199549.1607,
            19190509.716,
            16159110.5688,
            31386418.858000007,
            75744135.4083,
            3383212.435,
            51700889.5197,
            64352559.845,
            7345120.82597
           ]
          },
          {
           "domain": {
            "x": [
             0.52,
             1
            ]
           },
           "hole": 0.4,
           "hoverinfo": "label+percent+name",
           "labels": [
            "Anxiety disorders",
            "Attention-deficit/hyperactivity disorder",
            "Autism spectrum disorders",
            "Bipolar disorder",
            "Conduct disorder",
            "Depressive disorders",
            "Eating disorders",
            "Idiopathic developmental intellectual disability",
            "Other mental disorders",
            "Schizophrenia"
           ],
           "name": "Female",
           "text": [
            "Female"
           ],
           "textposition": "inside",
           "type": "pie",
           "values": [
            137880939.581,
            18489573.0803,
            5991484.0273199985,
            17650384.3084,
            16741515.1064,
            120222673.621,
            7747416.596639999,
            44363426.7204,
            43149164.9146,
            6924985.68468
           ]
          }
         ],
         "name": "1998"
        },
        {
         "data": [
          {
           "domain": {
            "x": [
             0,
             0.48
            ]
           },
           "hole": 0.4,
           "hoverinfo": "label+percent+name",
           "labels": [
            "Anxiety disorders",
            "Attention-deficit/hyperactivity disorder",
            "Autism spectrum disorders",
            "Bipolar disorder",
            "Conduct disorder",
            "Depressive disorders",
            "Eating disorders",
            "Idiopathic developmental intellectual disability",
            "Other mental disorders",
            "Schizophrenia"
           ],
           "name": "Male",
           "text": [
            "Male"
           ],
           "textposition": "inside",
           "type": "pie",
           "values": [
            79659638.2565,
            44708035.44,
            18967927.8779,
            15875225.8462,
            30978430.5755,
            74315763.4805,
            3323864.96108,
            51365367.5312,
            63201627.3357,
            7211838.384819998
           ]
          },
          {
           "domain": {
            "x": [
             0.52,
             1
            ]
           },
           "hole": 0.4,
           "hoverinfo": "label+percent+name",
           "labels": [
            "Anxiety disorders",
            "Attention-deficit/hyperactivity disorder",
            "Autism spectrum disorders",
            "Bipolar disorder",
            "Conduct disorder",
            "Depressive disorders",
            "Eating disorders",
            "Idiopathic developmental intellectual disability",
            "Other mental disorders",
            "Schizophrenia"
           ],
           "name": "Female",
           "text": [
            "Female"
           ],
           "textposition": "inside",
           "type": "pie",
           "values": [
            134722020.558,
            18238485.5931,
            5915894.6129,
            17346821.1536,
            16549116.3765,
            118272525.259,
            7595162.7402,
            44210942.9707,
            42327023.8967,
            6789731.01015
           ]
          }
         ],
         "name": "1997"
        },
        {
         "data": [
          {
           "domain": {
            "x": [
             0,
             0.48
            ]
           },
           "hole": 0.4,
           "hoverinfo": "label+percent+name",
           "labels": [
            "Anxiety disorders",
            "Attention-deficit/hyperactivity disorder",
            "Autism spectrum disorders",
            "Bipolar disorder",
            "Conduct disorder",
            "Depressive disorders",
            "Eating disorders",
            "Idiopathic developmental intellectual disability",
            "Other mental disorders",
            "Schizophrenia"
           ],
           "name": "Male",
           "text": [
            "Male"
           ],
           "textposition": "inside",
           "type": "pie",
           "values": [
            82510416.3818,
            45652173.6989,
            19411102.9112,
            16446336.9742,
            31751791.9772,
            77194215.8277,
            3444094.10948,
            52021038.6363,
            65510755.0903,
            7478456.41747
           ]
          },
          {
           "domain": {
            "x": [
             0.52,
             1
            ]
           },
           "hole": 0.4,
           "hoverinfo": "label+percent+name",
           "labels": [
            "Anxiety disorders",
            "Attention-deficit/hyperactivity disorder",
            "Autism spectrum disorders",
            "Bipolar disorder",
            "Conduct disorder",
            "Depressive disorders",
            "Eating disorders",
            "Idiopathic developmental intellectual disability",
            "Other mental disorders",
            "Schizophrenia"
           ],
           "name": "Female",
           "text": [
            "Female"
           ],
           "textposition": "inside",
           "type": "pie",
           "values": [
            140957404.044,
            18720467.5541,
            6067145.71544,
            17957337.8482,
            16908916.2731,
            122254762.642,
            7901909.53983,
            44539760.5942,
            43982363.1259,
            7061433.4461699985
           ]
          }
         ],
         "name": "1999"
        },
        {
         "data": [
          {
           "domain": {
            "x": [
             0,
             0.48
            ]
           },
           "hole": 0.4,
           "hoverinfo": "label+percent+name",
           "labels": [
            "Anxiety disorders",
            "Attention-deficit/hyperactivity disorder",
            "Autism spectrum disorders",
            "Bipolar disorder",
            "Conduct disorder",
            "Depressive disorders",
            "Eating disorders",
            "Idiopathic developmental intellectual disability",
            "Other mental disorders",
            "Schizophrenia"
           ],
           "name": "Male",
           "text": [
            "Male"
           ],
           "textposition": "inside",
           "type": "pie",
           "values": [
            83878843.6931,
            46079786.0949,
            19632400.846,
            16738597.0095,
            32083063.5876,
            78636301.9834,
            3507020.0191,
            52361104.8245,
            66688356.8893,
            7613572.420910001
           ]
          },
          {
           "domain": {
            "x": [
             0.52,
             1
            ]
           },
           "hole": 0.4,
           "hoverinfo": "label+percent+name",
           "labels": [
            "Anxiety disorders",
            "Attention-deficit/hyperactivity disorder",
            "Autism spectrum disorders",
            "Bipolar disorder",
            "Conduct disorder",
            "Depressive disorders",
            "Eating disorders",
            "Idiopathic developmental intellectual disability",
            "Other mental disorders",
            "Schizophrenia"
           ],
           "name": "Female",
           "text": [
            "Female"
           ],
           "textposition": "inside",
           "type": "pie",
           "values": [
            143679896.57799998,
            18927510.2428,
            6143438.5750199985,
            18270333.927,
            17056084.9964,
            124364099.016,
            8054229.042510001,
            44798284.2516,
            44831689.2161,
            7199085.02839
           ]
          }
         ],
         "name": "2000"
        },
        {
         "data": [
          {
           "domain": {
            "x": [
             0,
             0.48
            ]
           },
           "hole": 0.4,
           "hoverinfo": "label+percent+name",
           "labels": [
            "Anxiety disorders",
            "Attention-deficit/hyperactivity disorder",
            "Autism spectrum disorders",
            "Bipolar disorder",
            "Conduct disorder",
            "Depressive disorders",
            "Eating disorders",
            "Idiopathic developmental intellectual disability",
            "Other mental disorders",
            "Schizophrenia"
           ],
           "name": "Male",
           "text": [
            "Male"
           ],
           "textposition": "inside",
           "type": "pie",
           "values": [
            85182411.6399,
            46466839.3764,
            19854454.8185,
            17037567.919,
            32385655.9343,
            80098579.4129,
            3574175.80397,
            52687123.7692,
            67888611.8726,
            7748600.98773
           ]
          },
          {
           "domain": {
            "x": [
             0.52,
             1
            ]
           },
           "hole": 0.4,
           "hoverinfo": "label+percent+name",
           "labels": [
            "Anxiety disorders",
            "Attention-deficit/hyperactivity disorder",
            "Autism spectrum disorders",
            "Bipolar disorder",
            "Conduct disorder",
            "Depressive disorders",
            "Eating disorders",
            "Idiopathic developmental intellectual disability",
            "Other mental disorders",
            "Schizophrenia"
           ],
           "name": "Female",
           "text": [
            "Female"
           ],
           "textposition": "inside",
           "type": "pie",
           "values": [
            146004171.018,
            19111451.8755,
            6220216.46336,
            18589354.9131,
            17190388.0726,
            126598308.481,
            8208347.349769998,
            45117801.5541,
            45696652.8347,
            7337747.612930002
           ]
          }
         ],
         "name": "2001"
        },
        {
         "data": [
          {
           "domain": {
            "x": [
             0,
             0.48
            ]
           },
           "hole": 0.4,
           "hoverinfo": "label+percent+name",
           "labels": [
            "Anxiety disorders",
            "Attention-deficit/hyperactivity disorder",
            "Autism spectrum disorders",
            "Bipolar disorder",
            "Conduct disorder",
            "Depressive disorders",
            "Eating disorders",
            "Idiopathic developmental intellectual disability",
            "Other mental disorders",
            "Schizophrenia"
           ],
           "name": "Male",
           "text": [
            "Male"
           ],
           "textposition": "inside",
           "type": "pie",
           "values": [
            86449032.7529,
            46821239.867,
            20078193.8356,
            17343143.9797,
            32658718.7832,
            81595414.7471,
            3648146.92277,
            52992033.1616,
            69121242.5786,
            7884800.78531
           ]
          },
          {
           "domain": {
            "x": [
             0.52,
             1
            ]
           },
           "hole": 0.4,
           "hoverinfo": "label+percent+name",
           "labels": [
            "Anxiety disorders",
            "Attention-deficit/hyperactivity disorder",
            "Autism spectrum disorders",
            "Bipolar disorder",
            "Conduct disorder",
            "Depressive disorders",
            "Eating disorders",
            "Idiopathic developmental intellectual disability",
            "Other mental disorders",
            "Schizophrenia"
           ],
           "name": "Female",
           "text": [
            "Female"
           ],
           "textposition": "inside",
           "type": "pie",
           "values": [
            148150387.694,
            19286500.9605,
            6297894.08751,
            18914243.1905,
            17314935.43,
            128928023.194,
            8375138.169039999,
            45461972.9425,
            46581286.2379,
            7479698.71612
           ]
          }
         ],
         "name": "2002"
        },
        {
         "data": [
          {
           "domain": {
            "x": [
             0,
             0.48
            ]
           },
           "hole": 0.4,
           "hoverinfo": "label+percent+name",
           "labels": [
            "Anxiety disorders",
            "Attention-deficit/hyperactivity disorder",
            "Autism spectrum disorders",
            "Bipolar disorder",
            "Conduct disorder",
            "Depressive disorders",
            "Eating disorders",
            "Idiopathic developmental intellectual disability",
            "Other mental disorders",
            "Schizophrenia"
           ],
           "name": "Male",
           "text": [
            "Male"
           ],
           "textposition": "inside",
           "type": "pie",
           "values": [
            87698915.6374,
            47157811.868,
            20304951.4021,
            17651116.8443,
            32888286.0857,
            83105969.4427,
            3723527.14344,
            53267799.6579,
            70380336.9786,
            8024066.32445
           ]
          },
          {
           "domain": {
            "x": [
             0.52,
             1
            ]
           },
           "hole": 0.4,
           "hoverinfo": "label+percent+name",
           "labels": [
            "Anxiety disorders",
            "Attention-deficit/hyperactivity disorder",
            "Autism spectrum disorders",
            "Bipolar disorder",
            "Conduct disorder",
            "Depressive disorders",
            "Eating disorders",
            "Idiopathic developmental intellectual disability",
            "Other mental disorders",
            "Schizophrenia"
           ],
           "name": "Female",
           "text": [
            "Female"
           ],
           "textposition": "inside",
           "type": "pie",
           "values": [
            150199088.29,
            19456268.0701,
            6376749.81686,
            19242564.4358,
            17418959.5932,
            131305181.308,
            8545344.05384,
            45798810.2508,
            47482919.6233,
            7624611.01645
           ]
          }
         ],
         "name": "2003"
        },
        {
         "data": [
          {
           "domain": {
            "x": [
             0,
             0.48
            ]
           },
           "hole": 0.4,
           "hoverinfo": "label+percent+name",
           "labels": [
            "Anxiety disorders",
            "Attention-deficit/hyperactivity disorder",
            "Autism spectrum disorders",
            "Bipolar disorder",
            "Conduct disorder",
            "Depressive disorders",
            "Eating disorders",
            "Idiopathic developmental intellectual disability",
            "Other mental disorders",
            "Schizophrenia"
           ],
           "name": "Male",
           "text": [
            "Male"
           ],
           "textposition": "inside",
           "type": "pie",
           "values": [
            88948188.6697,
            47472328.5217,
            20532449.535,
            17957660.4416,
            33065191.0761,
            84624371.493,
            3799350.20358,
            53499570.4086,
            71652466.3576,
            8165843.12243
           ]
          },
          {
           "domain": {
            "x": [
             0.52,
             1
            ]
           },
           "hole": 0.4,
           "hoverinfo": "label+percent+name",
           "labels": [
            "Anxiety disorders",
            "Attention-deficit/hyperactivity disorder",
            "Autism spectrum disorders",
            "Bipolar disorder",
            "Conduct disorder",
            "Depressive disorders",
            "Eating disorders",
            "Idiopathic developmental intellectual disability",
            "Other mental disorders",
            "Schizophrenia"
           ],
           "name": "Female",
           "text": [
            "Female"
           ],
           "textposition": "inside",
           "type": "pie",
           "values": [
            152233051.776,
            19616892.2342,
            6455976.6372,
            19570482.323,
            17498080.3471,
            133707527.086,
            8715766.617789999,
            46088237.8062,
            48393865.0723,
            7769484.01265
           ]
          }
         ],
         "name": "2004"
        },
        {
         "data": [
          {
           "domain": {
            "x": [
             0,
             0.48
            ]
           },
           "hole": 0.4,
           "hoverinfo": "label+percent+name",
           "labels": [
            "Anxiety disorders",
            "Attention-deficit/hyperactivity disorder",
            "Autism spectrum disorders",
            "Bipolar disorder",
            "Conduct disorder",
            "Depressive disorders",
            "Eating disorders",
            "Idiopathic developmental intellectual disability",
            "Other mental disorders",
            "Schizophrenia"
           ],
           "name": "Male",
           "text": [
            "Male"
           ],
           "textposition": "inside",
           "type": "pie",
           "values": [
            90235279.1124,
            47790183.7882,
            20762152.5801,
            18264807.0886,
            33181042.0602,
            86119270.4019,
            3872400.22634,
            53739095.3778,
            72947716.5266,
            8312722.5734
           ]
          },
          {
           "domain": {
            "x": [
             0.52,
             1
            ]
           },
           "hole": 0.4,
           "hoverinfo": "label+percent+name",
           "labels": [
            "Anxiety disorders",
            "Attention-deficit/hyperactivity disorder",
            "Autism spectrum disorders",
            "Bipolar disorder",
            "Conduct disorder",
            "Depressive disorders",
            "Eating disorders",
            "Idiopathic developmental intellectual disability",
            "Other mental disorders",
            "Schizophrenia"
           ],
           "name": "Female",
           "text": [
            "Female"
           ],
           "textposition": "inside",
           "type": "pie",
           "values": [
            154369114.385,
            19774776.3833,
            6536139.64516,
            19901070.0947,
            17545784.2261,
            136106076.29700002,
            8881956.96308,
            46342053.3877,
            49318765.9926,
            7914123.85617
           ]
          }
         ],
         "name": "2005"
        },
        {
         "data": [
          {
           "domain": {
            "x": [
             0,
             0.48
            ]
           },
           "hole": 0.4,
           "hoverinfo": "label+percent+name",
           "labels": [
            "Anxiety disorders",
            "Attention-deficit/hyperactivity disorder",
            "Autism spectrum disorders",
            "Bipolar disorder",
            "Conduct disorder",
            "Depressive disorders",
            "Eating disorders",
            "Idiopathic developmental intellectual disability",
            "Other mental disorders",
            "Schizophrenia"
           ],
           "name": "Male",
           "text": [
            "Male"
           ],
           "textposition": "inside",
           "type": "pie",
           "values": [
            91516061.7624,
            48113842.4444,
            20994227.4143,
            18569852.2006,
            33229368.9597,
            87436678.0218,
            3950365.20136,
            53873276.6396,
            74259070.7662,
            8466727.37476
           ]
          },
          {
           "domain": {
            "x": [
             0.52,
             1
            ]
           },
           "hole": 0.4,
           "hoverinfo": "label+percent+name",
           "labels": [
            "Anxiety disorders",
            "Attention-deficit/hyperactivity disorder",
            "Autism spectrum disorders",
            "Bipolar disorder",
            "Conduct disorder",
            "Depressive disorders",
            "Eating disorders",
            "Idiopathic developmental intellectual disability",
            "Other mental disorders",
            "Schizophrenia"
           ],
           "name": "Female",
           "text": [
            "Female"
           ],
           "textposition": "inside",
           "type": "pie",
           "values": [
            156536098.884,
            19932955.005,
            6617233.82773,
            20230469.5207,
            17561700.0726,
            138160170.066,
            9054272.3804,
            46459037.1808,
            50254515.5278,
            8058196.18404
           ]
          }
         ],
         "name": "2006"
        },
        {
         "data": [
          {
           "domain": {
            "x": [
             0,
             0.48
            ]
           },
           "hole": 0.4,
           "hoverinfo": "label+percent+name",
           "labels": [
            "Anxiety disorders",
            "Attention-deficit/hyperactivity disorder",
            "Autism spectrum disorders",
            "Bipolar disorder",
            "Conduct disorder",
            "Depressive disorders",
            "Eating disorders",
            "Idiopathic developmental intellectual disability",
            "Other mental disorders",
            "Schizophrenia"
           ],
           "name": "Male",
           "text": [
            "Male"
           ],
           "textposition": "inside",
           "type": "pie",
           "values": [
            92785368.3919,
            48445727.798,
            21235479.5862,
            18879572.9473,
            33246504.5971,
            88546736.3714,
            4035967.80268,
            53885047.861,
            75610944.1725,
            8630851.95847
           ]
          },
          {
           "domain": {
            "x": [
             0.52,
             1
            ]
           },
           "hole": 0.4,
           "hoverinfo": "label+percent+name",
           "labels": [
            "Anxiety disorders",
            "Attention-deficit/hyperactivity disorder",
            "Autism spectrum disorders",
            "Bipolar disorder",
            "Conduct disorder",
            "Depressive disorders",
            "Eating disorders",
            "Idiopathic developmental intellectual disability",
            "Other mental disorders",
            "Schizophrenia"
           ],
           "name": "Female",
           "text": [
            "Female"
           ],
           "textposition": "inside",
           "type": "pie",
           "values": [
            158656977.261,
            20094763.0317,
            6700616.47986,
            20559949.4036,
            17567737.8019,
            139726800.99899998,
            9242665.46698,
            46442528.8456,
            51208259.9429,
            8204707.6118
           ]
          }
         ],
         "name": "2007"
        },
        {
         "data": [
          {
           "domain": {
            "x": [
             0,
             0.48
            ]
           },
           "hole": 0.4,
           "hoverinfo": "label+percent+name",
           "labels": [
            "Anxiety disorders",
            "Attention-deficit/hyperactivity disorder",
            "Autism spectrum disorders",
            "Bipolar disorder",
            "Conduct disorder",
            "Depressive disorders",
            "Eating disorders",
            "Idiopathic developmental intellectual disability",
            "Other mental disorders",
            "Schizophrenia"
           ],
           "name": "Male",
           "text": [
            "Male"
           ],
           "textposition": "inside",
           "type": "pie",
           "values": [
            94067352.1494,
            48792004.6881,
            21482409.1409,
            19190496.281,
            33271446.1863,
            89570815.059,
            4128662.9635,
            53859518.1798,
            76980794.8697,
            8799834.156130001
           ]
          },
          {
           "domain": {
            "x": [
             0.52,
             1
            ]
           },
           "hole": 0.4,
           "hoverinfo": "label+percent+name",
           "labels": [
            "Anxiety disorders",
            "Attention-deficit/hyperactivity disorder",
            "Autism spectrum disorders",
            "Bipolar disorder",
            "Conduct disorder",
            "Depressive disorders",
            "Eating disorders",
            "Idiopathic developmental intellectual disability",
            "Other mental disorders",
            "Schizophrenia"
           ],
           "name": "Female",
           "text": [
            "Female"
           ],
           "textposition": "inside",
           "type": "pie",
           "values": [
            160776455.942,
            20261833.4678,
            6785945.67161,
            20889875.2873,
            17583200.2617,
            141108229.602,
            9438051.15601,
            46377270.9913,
            52173240.8011,
            8353597.69906
           ]
          }
         ],
         "name": "2008"
        },
        {
         "data": [
          {
           "domain": {
            "x": [
             0,
             0.48
            ]
           },
           "hole": 0.4,
           "hoverinfo": "label+percent+name",
           "labels": [
            "Anxiety disorders",
            "Attention-deficit/hyperactivity disorder",
            "Autism spectrum disorders",
            "Bipolar disorder",
            "Conduct disorder",
            "Depressive disorders",
            "Eating disorders",
            "Idiopathic developmental intellectual disability",
            "Other mental disorders",
            "Schizophrenia"
           ],
           "name": "Male",
           "text": [
            "Male"
           ],
           "textposition": "inside",
           "type": "pie",
           "values": [
            95387885.0854,
            49138104.0875,
            21731589.5267,
            19505275.5193,
            33314868.247,
            90682250.4328,
            4221840.10343,
            53842982.0867,
            78363813.2479,
            8968551.422460001
           ]
          },
          {
           "domain": {
            "x": [
             0.52,
             1
            ]
           },
           "hole": 0.4,
           "hoverinfo": "label+percent+name",
           "labels": [
            "Anxiety disorders",
            "Attention-deficit/hyperactivity disorder",
            "Autism spectrum disorders",
            "Bipolar disorder",
            "Conduct disorder",
            "Depressive disorders",
            "Eating disorders",
            "Idiopathic developmental intellectual disability",
            "Other mental disorders",
            "Schizophrenia"
           ],
           "name": "Female",
           "text": [
            "Female"
           ],
           "textposition": "inside",
           "type": "pie",
           "values": [
            162906738.82299998,
            20426210.2604,
            6871710.0106,
            21218684.5964,
            17611228.9713,
            142630458.116,
            9631009.38399,
            46313660.8484,
            53139988.928,
            8502894.21526
           ]
          }
         ],
         "name": "2009"
        },
        {
         "data": [
          {
           "domain": {
            "x": [
             0,
             0.48
            ]
           },
           "hole": 0.4,
           "hoverinfo": "label+percent+name",
           "labels": [
            "Anxiety disorders",
            "Attention-deficit/hyperactivity disorder",
            "Autism spectrum disorders",
            "Bipolar disorder",
            "Conduct disorder",
            "Depressive disorders",
            "Eating disorders",
            "Idiopathic developmental intellectual disability",
            "Other mental disorders",
            "Schizophrenia"
           ],
           "name": "Male",
           "text": [
            "Male"
           ],
           "textposition": "inside",
           "type": "pie",
           "values": [
            96663514.2637,
            49452975.9127,
            21970751.2395,
            19800621.6542,
            33360617.3122,
            91985185.3999,
            4303221.03539,
            53910756.4941,
            79699888.7366,
            9128912.99085
           ]
          },
          {
           "domain": {
            "x": [
             0.52,
             1
            ]
           },
           "hole": 0.4,
           "hoverinfo": "label+percent+name",
           "labels": [
            "Anxiety disorders",
            "Attention-deficit/hyperactivity disorder",
            "Autism spectrum disorders",
            "Bipolar disorder",
            "Conduct disorder",
            "Depressive disorders",
            "Eating disorders",
            "Idiopathic developmental intellectual disability",
            "Other mental disorders",
            "Schizophrenia"
           ],
           "name": "Female",
           "text": [
            "Female"
           ],
           "textposition": "inside",
           "type": "pie",
           "values": [
            165024524.461,
            20579214.9295,
            6956514.357189999,
            21540105.4274,
            17644997.1389,
            144641003.12399998,
            9806237.4505,
            46337807.1675,
            54099541.4412,
            8652622.25908
           ]
          }
         ],
         "name": "2010"
        },
        {
         "data": [
          {
           "domain": {
            "x": [
             0,
             0.48
            ]
           },
           "hole": 0.4,
           "hoverinfo": "label+percent+name",
           "labels": [
            "Anxiety disorders",
            "Attention-deficit/hyperactivity disorder",
            "Autism spectrum disorders",
            "Bipolar disorder",
            "Conduct disorder",
            "Depressive disorders",
            "Eating disorders",
            "Idiopathic developmental intellectual disability",
            "Other mental disorders",
            "Schizophrenia"
           ],
           "name": "Male",
           "text": [
            "Male"
           ],
           "textposition": "inside",
           "type": "pie",
           "values": [
            97950464.1843,
            49755453.7012,
            22208091.1067,
            20091288.8228,
            33431552.1947,
            93492552.6075,
            4380449.857480002,
            54045189.706,
            81026329.5888,
            9282336.67141
           ]
          },
          {
           "domain": {
            "x": [
             0.52,
             1
            ]
           },
           "hole": 0.4,
           "hoverinfo": "label+percent+name",
           "labels": [
            "Anxiety disorders",
            "Attention-deficit/hyperactivity disorder",
            "Autism spectrum disorders",
            "Bipolar disorder",
            "Conduct disorder",
            "Depressive disorders",
            "Eating disorders",
            "Idiopathic developmental intellectual disability",
            "Other mental disorders",
            "Schizophrenia"
           ],
           "name": "Female",
           "text": [
            "Female"
           ],
           "textposition": "inside",
           "type": "pie",
           "values": [
            167122021.757,
            20725562.1984,
            7041081.85404,
            21855707.2925,
            17700334.3314,
            147045756.997,
            9970306.52878,
            46431888.5327,
            55053403.5737,
            8802047.574989999
           ]
          }
         ],
         "name": "2011"
        },
        {
         "data": [
          {
           "domain": {
            "x": [
             0,
             0.48
            ]
           },
           "hole": 0.4,
           "hoverinfo": "label+percent+name",
           "labels": [
            "Anxiety disorders",
            "Attention-deficit/hyperactivity disorder",
            "Autism spectrum disorders",
            "Bipolar disorder",
            "Conduct disorder",
            "Depressive disorders",
            "Eating disorders",
            "Idiopathic developmental intellectual disability",
            "Other mental disorders",
            "Schizophrenia"
           ],
           "name": "Male",
           "text": [
            "Male"
           ],
           "textposition": "inside",
           "type": "pie",
           "values": [
            99236949.5261,
            50066805.6976,
            22449599.0467,
            20380676.2686,
            33536166.9402,
            95021550.1163,
            4460040.87876,
            54158512.2768,
            82352697.8332,
            9431988.56803
           ]
          },
          {
           "domain": {
            "x": [
             0.52,
             1
            ]
           },
           "hole": 0.4,
           "hoverinfo": "label+percent+name",
           "labels": [
            "Anxiety disorders",
            "Attention-deficit/hyperactivity disorder",
            "Autism spectrum disorders",
            "Bipolar disorder",
            "Conduct disorder",
            "Depressive disorders",
            "Eating disorders",
            "Idiopathic developmental intellectual disability",
            "Other mental disorders",
            "Schizophrenia"
           ],
           "name": "Female",
           "text": [
            "Female"
           ],
           "textposition": "inside",
           "type": "pie",
           "values": [
            169167182.24899998,
            20875952.6619,
            7126720.74097,
            22168470.8256,
            17788549.77,
            149455106.99,
            10132587.1965,
            46519072.19100001,
            56006824.6075,
            8951707.14072
           ]
          }
         ],
         "name": "2012"
        },
        {
         "data": [
          {
           "domain": {
            "x": [
             0,
             0.48
            ]
           },
           "hole": 0.4,
           "hoverinfo": "label+percent+name",
           "labels": [
            "Anxiety disorders",
            "Attention-deficit/hyperactivity disorder",
            "Autism spectrum disorders",
            "Bipolar disorder",
            "Conduct disorder",
            "Depressive disorders",
            "Eating disorders",
            "Idiopathic developmental intellectual disability",
            "Other mental disorders",
            "Schizophrenia"
           ],
           "name": "Male",
           "text": [
            "Male"
           ],
           "textposition": "inside",
           "type": "pie",
           "values": [
            100530192.598,
            50389448.7734,
            22695270.748000003,
            20671443.1,
            33683087.0455,
            96561647.4531,
            4542386.42576,
            54254619.9496,
            83674673.7264,
            9577463.52512
           ]
          },
          {
           "domain": {
            "x": [
             0.52,
             1
            ]
           },
           "hole": 0.4,
           "hoverinfo": "label+percent+name",
           "labels": [
            "Anxiety disorders",
            "Attention-deficit/hyperactivity disorder",
            "Autism spectrum disorders",
            "Bipolar disorder",
            "Conduct disorder",
            "Depressive disorders",
            "Eating disorders",
            "Idiopathic developmental intellectual disability",
            "Other mental disorders",
            "Schizophrenia"
           ],
           "name": "Female",
           "text": [
            "Female"
           ],
           "textposition": "inside",
           "type": "pie",
           "values": [
            171180619.464,
            21032913.9525,
            7213457.186660001,
            22482987.0262,
            17911295.831,
            151879644.231,
            10296996.4176,
            46598599.5286,
            56960344.3233,
            9101669.99952
           ]
          }
         ],
         "name": "2013"
        },
        {
         "data": [
          {
           "domain": {
            "x": [
             0,
             0.48
            ]
           },
           "hole": 0.4,
           "hoverinfo": "label+percent+name",
           "labels": [
            "Anxiety disorders",
            "Attention-deficit/hyperactivity disorder",
            "Autism spectrum disorders",
            "Bipolar disorder",
            "Conduct disorder",
            "Depressive disorders",
            "Eating disorders",
            "Idiopathic developmental intellectual disability",
            "Other mental disorders",
            "Schizophrenia"
           ],
           "name": "Male",
           "text": [
            "Male"
           ],
           "textposition": "inside",
           "type": "pie",
           "values": [
            101809879.833,
            50704895.1055,
            22936202.1231,
            20959992.3334,
            33857994.909,
            98116255.7413,
            4624730.96601,
            54284634.4356,
            84977950.636,
            9716350.06383
           ]
          },
          {
           "domain": {
            "x": [
             0.52,
             1
            ]
           },
           "hole": 0.4,
           "hoverinfo": "label+percent+name",
           "labels": [
            "Anxiety disorders",
            "Attention-deficit/hyperactivity disorder",
            "Autism spectrum disorders",
            "Bipolar disorder",
            "Conduct disorder",
            "Depressive disorders",
            "Eating disorders",
            "Idiopathic developmental intellectual disability",
            "Other mental disorders",
            "Schizophrenia"
           ],
           "name": "Female",
           "text": [
            "Female"
           ],
           "textposition": "inside",
           "type": "pie",
           "values": [
            173125445.24,
            21187871.0251,
            7297996.4022,
            22793314.253,
            18058940.9199,
            154306052.861,
            10455700.545,
            46624390.0853,
            57899463.4502,
            9248785.47694
           ]
          }
         ],
         "name": "2014"
        },
        {
         "data": [
          {
           "domain": {
            "x": [
             0,
             0.48
            ]
           },
           "hole": 0.4,
           "hoverinfo": "label+percent+name",
           "labels": [
            "Anxiety disorders",
            "Attention-deficit/hyperactivity disorder",
            "Autism spectrum disorders",
            "Bipolar disorder",
            "Conduct disorder",
            "Depressive disorders",
            "Eating disorders",
            "Idiopathic developmental intellectual disability",
            "Other mental disorders",
            "Schizophrenia"
           ],
           "name": "Male",
           "text": [
            "Male"
           ],
           "textposition": "inside",
           "type": "pie",
           "values": [
            103071406.709,
            51011413.6522,
            23165799.7746,
            21247094.5159,
            34052866.9977,
            99670229.4129,
            4706557.5220599985,
            54240070.601,
            86265607.4435,
            9850306.78004
           ]
          },
          {
           "domain": {
            "x": [
             0.52,
             1
            ]
           },
           "hole": 0.4,
           "hoverinfo": "label+percent+name",
           "labels": [
            "Anxiety disorders",
            "Attention-deficit/hyperactivity disorder",
            "Autism spectrum disorders",
            "Bipolar disorder",
            "Conduct disorder",
            "Depressive disorders",
            "Eating disorders",
            "Idiopathic developmental intellectual disability",
            "Other mental disorders",
            "Schizophrenia"
           ],
           "name": "Female",
           "text": [
            "Female"
           ],
           "textposition": "inside",
           "type": "pie",
           "values": [
            174992917.982,
            21339279.5282,
            7378624.48427,
            23099427.6139,
            18224592.6842,
            156703688.54700002,
            10611889.0256,
            46589116.7894,
            58823067.96600001,
            9393973.38263
           ]
          }
         ],
         "name": "2015"
        },
        {
         "data": [
          {
           "domain": {
            "x": [
             0,
             0.48
            ]
           },
           "hole": 0.4,
           "hoverinfo": "label+percent+name",
           "labels": [
            "Anxiety disorders",
            "Attention-deficit/hyperactivity disorder",
            "Autism spectrum disorders",
            "Bipolar disorder",
            "Conduct disorder",
            "Depressive disorders",
            "Eating disorders",
            "Idiopathic developmental intellectual disability",
            "Other mental disorders",
            "Schizophrenia"
           ],
           "name": "Male",
           "text": [
            "Male"
           ],
           "textposition": "inside",
           "type": "pie",
           "values": [
            104364277.099,
            51327800.6305,
            23402603.5325,
            21540596.0028,
            34297996.292,
            101265312.737,
            4791806.92799,
            54172024.1617,
            87555885.9944,
            9978765.4265
           ]
          },
          {
           "domain": {
            "x": [
             0.52,
             1
            ]
           },
           "hole": 0.4,
           "hoverinfo": "label+percent+name",
           "labels": [
            "Anxiety disorders",
            "Attention-deficit/hyperactivity disorder",
            "Autism spectrum disorders",
            "Bipolar disorder",
            "Conduct disorder",
            "Depressive disorders",
            "Eating disorders",
            "Idiopathic developmental intellectual disability",
            "Other mental disorders",
            "Schizophrenia"
           ],
           "name": "Female",
           "text": [
            "Female"
           ],
           "textposition": "inside",
           "type": "pie",
           "values": [
            176864367.062,
            21494547.8254,
            7459986.695239998,
            23408580.2844,
            18420716.6873,
            159119585.075,
            10771952.2741,
            46535059.5385,
            59743220.7648,
            9536968.80105
           ]
          }
         ],
         "name": "2016"
        },
        {
         "data": [
          {
           "domain": {
            "x": [
             0,
             0.48
            ]
           },
           "hole": 0.4,
           "hoverinfo": "label+percent+name",
           "labels": [
            "Anxiety disorders",
            "Attention-deficit/hyperactivity disorder",
            "Autism spectrum disorders",
            "Bipolar disorder",
            "Conduct disorder",
            "Depressive disorders",
            "Eating disorders",
            "Idiopathic developmental intellectual disability",
            "Other mental disorders",
            "Schizophrenia"
           ],
           "name": "Male",
           "text": [
            "Male"
           ],
           "textposition": "inside",
           "type": "pie",
           "values": [
            105641105.973,
            51660361.4659,
            23638114.0372,
            21831913.5195,
            34584696.7533,
            102877623.959,
            4875281.18939,
            54093500.7853,
            88820209.7522,
            10099444.9767
           ]
          },
          {
           "domain": {
            "x": [
             0.52,
             1
            ]
           },
           "hole": 0.4,
           "hoverinfo": "label+percent+name",
           "labels": [
            "Anxiety disorders",
            "Attention-deficit/hyperactivity disorder",
            "Autism spectrum disorders",
            "Bipolar disorder",
            "Conduct disorder",
            "Depressive disorders",
            "Eating disorders",
            "Idiopathic developmental intellectual disability",
            "Other mental disorders",
            "Schizophrenia"
           ],
           "name": "Female",
           "text": [
            "Female"
           ],
           "textposition": "inside",
           "type": "pie",
           "values": [
            178719043.091,
            21657152.2716,
            7541549.68927,
            23717457.8532,
            18643690.2293,
            161577968.784,
            10926398.5894,
            46478692.0106,
            60658378.6346,
            9677443.37727
           ]
          }
         ],
         "name": "2017"
        }
       ],
       "layout": {
        "annotations": [
         {
          "font": {
           "size": 15
          },
          "showarrow": false,
          "text": "Male",
          "x": 0.2,
          "y": 0.5
         },
         {
          "font": {
           "size": 15
          },
          "showarrow": false,
          "text": "Female",
          "x": 0.82,
          "y": 0.5
         }
        ],
        "font": {
         "color": "#000000"
        },
        "hovermode": "closest",
        "paper_bgcolor": "rgba(0,0,0,0)",
        "plot_bgcolor": "rgba(0,0,0,0)",
        "sliders": [
         {
          "active": 0,
          "currentvalue": {
           "font": {
            "size": 15
           },
           "prefix": "Year: ",
           "visible": true,
           "xanchor": "right"
          },
          "len": 0.9,
          "pad": {
           "b": 10,
           "t": 50
          },
          "steps": [
           {
            "args": [
             [
              "1990"
             ],
             {
              "frame": {
               "duration": 300,
               "redraw": true
              },
              "mode": "immediate",
              "transition": {
               "duration": 300
              }
             }
            ],
            "label": "1990",
            "method": "animate"
           },
           {
            "args": [
             [
              "1991"
             ],
             {
              "frame": {
               "duration": 300,
               "redraw": true
              },
              "mode": "immediate",
              "transition": {
               "duration": 300
              }
             }
            ],
            "label": "1991",
            "method": "animate"
           },
           {
            "args": [
             [
              "1992"
             ],
             {
              "frame": {
               "duration": 300,
               "redraw": true
              },
              "mode": "immediate",
              "transition": {
               "duration": 300
              }
             }
            ],
            "label": "1992",
            "method": "animate"
           },
           {
            "args": [
             [
              "1993"
             ],
             {
              "frame": {
               "duration": 300,
               "redraw": true
              },
              "mode": "immediate",
              "transition": {
               "duration": 300
              }
             }
            ],
            "label": "1993",
            "method": "animate"
           },
           {
            "args": [
             [
              "1994"
             ],
             {
              "frame": {
               "duration": 300,
               "redraw": true
              },
              "mode": "immediate",
              "transition": {
               "duration": 300
              }
             }
            ],
            "label": "1994",
            "method": "animate"
           },
           {
            "args": [
             [
              "1995"
             ],
             {
              "frame": {
               "duration": 300,
               "redraw": true
              },
              "mode": "immediate",
              "transition": {
               "duration": 300
              }
             }
            ],
            "label": "1995",
            "method": "animate"
           },
           {
            "args": [
             [
              "1996"
             ],
             {
              "frame": {
               "duration": 300,
               "redraw": true
              },
              "mode": "immediate",
              "transition": {
               "duration": 300
              }
             }
            ],
            "label": "1996",
            "method": "animate"
           },
           {
            "args": [
             [
              "1998"
             ],
             {
              "frame": {
               "duration": 300,
               "redraw": true
              },
              "mode": "immediate",
              "transition": {
               "duration": 300
              }
             }
            ],
            "label": "1998",
            "method": "animate"
           },
           {
            "args": [
             [
              "1997"
             ],
             {
              "frame": {
               "duration": 300,
               "redraw": true
              },
              "mode": "immediate",
              "transition": {
               "duration": 300
              }
             }
            ],
            "label": "1997",
            "method": "animate"
           },
           {
            "args": [
             [
              "1999"
             ],
             {
              "frame": {
               "duration": 300,
               "redraw": true
              },
              "mode": "immediate",
              "transition": {
               "duration": 300
              }
             }
            ],
            "label": "1999",
            "method": "animate"
           },
           {
            "args": [
             [
              "2000"
             ],
             {
              "frame": {
               "duration": 300,
               "redraw": true
              },
              "mode": "immediate",
              "transition": {
               "duration": 300
              }
             }
            ],
            "label": "2000",
            "method": "animate"
           },
           {
            "args": [
             [
              "2001"
             ],
             {
              "frame": {
               "duration": 300,
               "redraw": true
              },
              "mode": "immediate",
              "transition": {
               "duration": 300
              }
             }
            ],
            "label": "2001",
            "method": "animate"
           },
           {
            "args": [
             [
              "2002"
             ],
             {
              "frame": {
               "duration": 300,
               "redraw": true
              },
              "mode": "immediate",
              "transition": {
               "duration": 300
              }
             }
            ],
            "label": "2002",
            "method": "animate"
           },
           {
            "args": [
             [
              "2003"
             ],
             {
              "frame": {
               "duration": 300,
               "redraw": true
              },
              "mode": "immediate",
              "transition": {
               "duration": 300
              }
             }
            ],
            "label": "2003",
            "method": "animate"
           },
           {
            "args": [
             [
              "2004"
             ],
             {
              "frame": {
               "duration": 300,
               "redraw": true
              },
              "mode": "immediate",
              "transition": {
               "duration": 300
              }
             }
            ],
            "label": "2004",
            "method": "animate"
           },
           {
            "args": [
             [
              "2005"
             ],
             {
              "frame": {
               "duration": 300,
               "redraw": true
              },
              "mode": "immediate",
              "transition": {
               "duration": 300
              }
             }
            ],
            "label": "2005",
            "method": "animate"
           },
           {
            "args": [
             [
              "2006"
             ],
             {
              "frame": {
               "duration": 300,
               "redraw": true
              },
              "mode": "immediate",
              "transition": {
               "duration": 300
              }
             }
            ],
            "label": "2006",
            "method": "animate"
           },
           {
            "args": [
             [
              "2007"
             ],
             {
              "frame": {
               "duration": 300,
               "redraw": true
              },
              "mode": "immediate",
              "transition": {
               "duration": 300
              }
             }
            ],
            "label": "2007",
            "method": "animate"
           },
           {
            "args": [
             [
              "2008"
             ],
             {
              "frame": {
               "duration": 300,
               "redraw": true
              },
              "mode": "immediate",
              "transition": {
               "duration": 300
              }
             }
            ],
            "label": "2008",
            "method": "animate"
           },
           {
            "args": [
             [
              "2009"
             ],
             {
              "frame": {
               "duration": 300,
               "redraw": true
              },
              "mode": "immediate",
              "transition": {
               "duration": 300
              }
             }
            ],
            "label": "2009",
            "method": "animate"
           },
           {
            "args": [
             [
              "2010"
             ],
             {
              "frame": {
               "duration": 300,
               "redraw": true
              },
              "mode": "immediate",
              "transition": {
               "duration": 300
              }
             }
            ],
            "label": "2010",
            "method": "animate"
           },
           {
            "args": [
             [
              "2011"
             ],
             {
              "frame": {
               "duration": 300,
               "redraw": true
              },
              "mode": "immediate",
              "transition": {
               "duration": 300
              }
             }
            ],
            "label": "2011",
            "method": "animate"
           },
           {
            "args": [
             [
              "2012"
             ],
             {
              "frame": {
               "duration": 300,
               "redraw": true
              },
              "mode": "immediate",
              "transition": {
               "duration": 300
              }
             }
            ],
            "label": "2012",
            "method": "animate"
           },
           {
            "args": [
             [
              "2013"
             ],
             {
              "frame": {
               "duration": 300,
               "redraw": true
              },
              "mode": "immediate",
              "transition": {
               "duration": 300
              }
             }
            ],
            "label": "2013",
            "method": "animate"
           },
           {
            "args": [
             [
              "2014"
             ],
             {
              "frame": {
               "duration": 300,
               "redraw": true
              },
              "mode": "immediate",
              "transition": {
               "duration": 300
              }
             }
            ],
            "label": "2014",
            "method": "animate"
           },
           {
            "args": [
             [
              "2015"
             ],
             {
              "frame": {
               "duration": 300,
               "redraw": true
              },
              "mode": "immediate",
              "transition": {
               "duration": 300
              }
             }
            ],
            "label": "2015",
            "method": "animate"
           },
           {
            "args": [
             [
              "2016"
             ],
             {
              "frame": {
               "duration": 300,
               "redraw": true
              },
              "mode": "immediate",
              "transition": {
               "duration": 300
              }
             }
            ],
            "label": "2016",
            "method": "animate"
           },
           {
            "args": [
             [
              "2017"
             ],
             {
              "frame": {
               "duration": 300,
               "redraw": true
              },
              "mode": "immediate",
              "transition": {
               "duration": 300
              }
             }
            ],
            "label": "2017",
            "method": "animate"
           }
          ],
          "transition": {
           "duration": 300,
           "easing": "cubic-in-out"
          },
          "x": 0.1,
          "xanchor": "left",
          "y": 0,
          "yanchor": "top"
         }
        ],
        "title": "Share of gender per Mental Illness Globally (%)",
        "updatemenus": [
         {
          "buttons": [
           {
            "args": [
             null,
             {
              "frame": {
               "duration": 500,
               "redraw": true
              },
              "fromcurrent": true,
              "transition": {
               "duration": 300,
               "easing": "quadratic-in-out"
              }
             }
            ],
            "label": "Play",
            "method": "animate"
           },
           {
            "args": [
             [
              null
             ],
             {
              "frame": {
               "duration": 0,
               "redraw": true
              },
              "mode": "immediate",
              "transition": {
               "duration": 0
              }
             }
            ],
            "label": "Pause",
            "method": "animate"
           }
          ],
          "direction": "left",
          "pad": {
           "r": 10,
           "t": 87
          },
          "showactive": false,
          "type": "buttons",
          "x": 0.1,
          "xanchor": "right",
          "y": 0,
          "yanchor": "top"
         }
        ]
       }
      },
      "text/html": [
       "<div id=\"b44c1f47-16e2-4415-b052-fb973e032f21\" style=\"height: 525px; width: 100%;\" class=\"plotly-graph-div\"></div><script type=\"text/javascript\">require([\"plotly\"], function(Plotly) { window.PLOTLYENV=window.PLOTLYENV || {};window.PLOTLYENV.BASE_URL=\"https://plot.ly\";\n",
       "        Plotly.plot(\n",
       "            'b44c1f47-16e2-4415-b052-fb973e032f21',\n",
       "            [{\"domain\": {\"x\": [0, 0.48]}, \"hole\": 0.4, \"hoverinfo\": \"label+percent+name\", \"labels\": [\"Anxiety disorders\", \"Attention-deficit/hyperactivity disorder\", \"Autism spectrum disorders\", \"Bipolar disorder\", \"Conduct disorder\", \"Depressive disorders\", \"Eating disorders\", \"Idiopathic developmental intellectual disability\", \"Other mental disorders\", \"Schizophrenia\"], \"name\": \"Male\", \"text\": [\"Male\"], \"textposition\": \"inside\", \"values\": [70615119.4681, 40580128.2919, 17341012.3752, 14050188.0223, 28443091.8848, 64933249.9446, 2946824.46012, 48072237.0961, 55196740.3806, 6263530.90125], \"type\": \"pie\", \"uid\": \"ad8fbada-348d-4a30-93e3-59f1d48f8ece\"}, {\"domain\": {\"x\": [0.52, 1]}, \"hole\": 0.4, \"hoverinfo\": \"label+percent+name\", \"labels\": [\"Anxiety disorders\", \"Attention-deficit/hyperactivity disorder\", \"Autism spectrum disorders\", \"Bipolar disorder\", \"Conduct disorder\", \"Depressive disorders\", \"Eating disorders\", \"Idiopathic developmental intellectual disability\", \"Other mental disorders\", \"Schizophrenia\"], \"name\": \"Female\", \"text\": [\"Female\"], \"textposition\": \"inside\", \"values\": [119203793.735, 16510460.8488, 5387252.72345, 15392039.8196, 15403699.5364, 104772294.817, 6702901.13776, 42218160.5143, 36848217.8587, 5889202.0398], \"type\": \"pie\", \"uid\": \"c1aaf89b-13cc-4534-9f3c-08e194bcf97e\"}],\n",
       "            {\"annotations\": [{\"font\": {\"size\": 15}, \"showarrow\": false, \"text\": \"Male\", \"x\": 0.2, \"y\": 0.5}, {\"font\": {\"size\": 15}, \"showarrow\": false, \"text\": \"Female\", \"x\": 0.82, \"y\": 0.5}], \"font\": {\"color\": \"#000000\"}, \"hovermode\": \"closest\", \"paper_bgcolor\": \"rgba(0,0,0,0)\", \"plot_bgcolor\": \"rgba(0,0,0,0)\", \"sliders\": [{\"active\": 0, \"currentvalue\": {\"font\": {\"size\": 15}, \"prefix\": \"Year: \", \"visible\": true, \"xanchor\": \"right\"}, \"len\": 0.9, \"pad\": {\"b\": 10, \"t\": 50}, \"steps\": [{\"args\": [[\"1990\"], {\"frame\": {\"duration\": 300, \"redraw\": true}, \"mode\": \"immediate\", \"transition\": {\"duration\": 300}}], \"label\": \"1990\", \"method\": \"animate\"}, {\"args\": [[\"1991\"], {\"frame\": {\"duration\": 300, \"redraw\": true}, \"mode\": \"immediate\", \"transition\": {\"duration\": 300}}], \"label\": \"1991\", \"method\": \"animate\"}, {\"args\": [[\"1992\"], {\"frame\": {\"duration\": 300, \"redraw\": true}, \"mode\": \"immediate\", \"transition\": {\"duration\": 300}}], \"label\": \"1992\", \"method\": \"animate\"}, {\"args\": [[\"1993\"], {\"frame\": {\"duration\": 300, \"redraw\": true}, \"mode\": \"immediate\", \"transition\": {\"duration\": 300}}], \"label\": \"1993\", \"method\": \"animate\"}, {\"args\": [[\"1994\"], {\"frame\": {\"duration\": 300, \"redraw\": true}, \"mode\": \"immediate\", \"transition\": {\"duration\": 300}}], \"label\": \"1994\", \"method\": \"animate\"}, {\"args\": [[\"1995\"], {\"frame\": {\"duration\": 300, \"redraw\": true}, \"mode\": \"immediate\", \"transition\": {\"duration\": 300}}], \"label\": \"1995\", \"method\": \"animate\"}, {\"args\": [[\"1996\"], {\"frame\": {\"duration\": 300, \"redraw\": true}, \"mode\": \"immediate\", \"transition\": {\"duration\": 300}}], \"label\": \"1996\", \"method\": \"animate\"}, {\"args\": [[\"1998\"], {\"frame\": {\"duration\": 300, \"redraw\": true}, \"mode\": \"immediate\", \"transition\": {\"duration\": 300}}], \"label\": \"1998\", \"method\": \"animate\"}, {\"args\": [[\"1997\"], {\"frame\": {\"duration\": 300, \"redraw\": true}, \"mode\": \"immediate\", \"transition\": {\"duration\": 300}}], \"label\": \"1997\", \"method\": \"animate\"}, {\"args\": [[\"1999\"], {\"frame\": {\"duration\": 300, \"redraw\": true}, \"mode\": \"immediate\", \"transition\": {\"duration\": 300}}], \"label\": \"1999\", \"method\": \"animate\"}, {\"args\": [[\"2000\"], {\"frame\": {\"duration\": 300, \"redraw\": true}, \"mode\": \"immediate\", \"transition\": {\"duration\": 300}}], \"label\": \"2000\", \"method\": \"animate\"}, {\"args\": [[\"2001\"], {\"frame\": {\"duration\": 300, \"redraw\": true}, \"mode\": \"immediate\", \"transition\": {\"duration\": 300}}], \"label\": \"2001\", \"method\": \"animate\"}, {\"args\": [[\"2002\"], {\"frame\": {\"duration\": 300, \"redraw\": true}, \"mode\": \"immediate\", \"transition\": {\"duration\": 300}}], \"label\": \"2002\", \"method\": \"animate\"}, {\"args\": [[\"2003\"], {\"frame\": {\"duration\": 300, \"redraw\": true}, \"mode\": \"immediate\", \"transition\": {\"duration\": 300}}], \"label\": \"2003\", \"method\": \"animate\"}, {\"args\": [[\"2004\"], {\"frame\": {\"duration\": 300, \"redraw\": true}, \"mode\": \"immediate\", \"transition\": {\"duration\": 300}}], \"label\": \"2004\", \"method\": \"animate\"}, {\"args\": [[\"2005\"], {\"frame\": {\"duration\": 300, \"redraw\": true}, \"mode\": \"immediate\", \"transition\": {\"duration\": 300}}], \"label\": \"2005\", \"method\": \"animate\"}, {\"args\": [[\"2006\"], {\"frame\": {\"duration\": 300, \"redraw\": true}, \"mode\": \"immediate\", \"transition\": {\"duration\": 300}}], \"label\": \"2006\", \"method\": \"animate\"}, {\"args\": [[\"2007\"], {\"frame\": {\"duration\": 300, \"redraw\": true}, \"mode\": \"immediate\", \"transition\": {\"duration\": 300}}], \"label\": \"2007\", \"method\": \"animate\"}, {\"args\": [[\"2008\"], {\"frame\": {\"duration\": 300, \"redraw\": true}, \"mode\": \"immediate\", \"transition\": {\"duration\": 300}}], \"label\": \"2008\", \"method\": \"animate\"}, {\"args\": [[\"2009\"], {\"frame\": {\"duration\": 300, \"redraw\": true}, \"mode\": \"immediate\", \"transition\": {\"duration\": 300}}], \"label\": \"2009\", \"method\": \"animate\"}, {\"args\": [[\"2010\"], {\"frame\": {\"duration\": 300, \"redraw\": true}, \"mode\": \"immediate\", \"transition\": {\"duration\": 300}}], \"label\": \"2010\", \"method\": \"animate\"}, {\"args\": [[\"2011\"], {\"frame\": {\"duration\": 300, \"redraw\": true}, \"mode\": \"immediate\", \"transition\": {\"duration\": 300}}], \"label\": \"2011\", \"method\": \"animate\"}, {\"args\": [[\"2012\"], {\"frame\": {\"duration\": 300, \"redraw\": true}, \"mode\": \"immediate\", \"transition\": {\"duration\": 300}}], \"label\": \"2012\", \"method\": \"animate\"}, {\"args\": [[\"2013\"], {\"frame\": {\"duration\": 300, \"redraw\": true}, \"mode\": \"immediate\", \"transition\": {\"duration\": 300}}], \"label\": \"2013\", \"method\": \"animate\"}, {\"args\": [[\"2014\"], {\"frame\": {\"duration\": 300, \"redraw\": true}, \"mode\": \"immediate\", \"transition\": {\"duration\": 300}}], \"label\": \"2014\", \"method\": \"animate\"}, {\"args\": [[\"2015\"], {\"frame\": {\"duration\": 300, \"redraw\": true}, \"mode\": \"immediate\", \"transition\": {\"duration\": 300}}], \"label\": \"2015\", \"method\": \"animate\"}, {\"args\": [[\"2016\"], {\"frame\": {\"duration\": 300, \"redraw\": true}, \"mode\": \"immediate\", \"transition\": {\"duration\": 300}}], \"label\": \"2016\", \"method\": \"animate\"}, {\"args\": [[\"2017\"], {\"frame\": {\"duration\": 300, \"redraw\": true}, \"mode\": \"immediate\", \"transition\": {\"duration\": 300}}], \"label\": \"2017\", \"method\": \"animate\"}], \"transition\": {\"duration\": 300, \"easing\": \"cubic-in-out\"}, \"x\": 0.1, \"xanchor\": \"left\", \"y\": 0, \"yanchor\": \"top\"}], \"title\": \"Share of gender per Mental Illness Globally (%)\", \"updatemenus\": [{\"buttons\": [{\"args\": [null, {\"frame\": {\"duration\": 500, \"redraw\": true}, \"fromcurrent\": true, \"transition\": {\"duration\": 300, \"easing\": \"quadratic-in-out\"}}], \"label\": \"Play\", \"method\": \"animate\"}, {\"args\": [[null], {\"frame\": {\"duration\": 0, \"redraw\": true}, \"mode\": \"immediate\", \"transition\": {\"duration\": 0}}], \"label\": \"Pause\", \"method\": \"animate\"}], \"direction\": \"left\", \"pad\": {\"r\": 10, \"t\": 87}, \"showactive\": false, \"type\": \"buttons\", \"x\": 0.1, \"xanchor\": \"right\", \"y\": 0, \"yanchor\": \"top\"}]},\n",
       "            {\"showLink\": true, \"linkText\": \"Export to plot.ly\", \"plotlyServerURL\": \"https://plot.ly\"}\n",
       "        ).then(function () {return Plotly.addFrames('b44c1f47-16e2-4415-b052-fb973e032f21',[{\"data\": [{\"domain\": {\"x\": [0, 0.48]}, \"hole\": 0.4, \"hoverinfo\": \"label+percent+name\", \"labels\": [\"Anxiety disorders\", \"Attention-deficit/hyperactivity disorder\", \"Autism spectrum disorders\", \"Bipolar disorder\", \"Conduct disorder\", \"Depressive disorders\", \"Eating disorders\", \"Idiopathic developmental intellectual disability\", \"Other mental disorders\", \"Schizophrenia\"], \"name\": \"Male\", \"text\": [\"Male\"], \"textposition\": \"inside\", \"values\": [70615119.4681, 40580128.2919, 17341012.3752, 14050188.0223, 28443091.8848, 64933249.9446, 2946824.46012, 48072237.0961, 55196740.3806, 6263530.90125], \"type\": \"pie\"}, {\"domain\": {\"x\": [0.52, 1]}, \"hole\": 0.4, \"hoverinfo\": \"label+percent+name\", \"labels\": [\"Anxiety disorders\", \"Attention-deficit/hyperactivity disorder\", \"Autism spectrum disorders\", \"Bipolar disorder\", \"Conduct disorder\", \"Depressive disorders\", \"Eating disorders\", \"Idiopathic developmental intellectual disability\", \"Other mental disorders\", \"Schizophrenia\"], \"name\": \"Female\", \"text\": [\"Female\"], \"textposition\": \"inside\", \"values\": [119203793.735, 16510460.8488, 5387252.72345, 15392039.8196, 15403699.5364, 104772294.817, 6702901.13776, 42218160.5143, 36848217.8587, 5889202.0398], \"type\": \"pie\"}], \"name\": \"1990\"}, {\"data\": [{\"domain\": {\"x\": [0, 0.48]}, \"hole\": 0.4, \"hoverinfo\": \"label+percent+name\", \"labels\": [\"Anxiety disorders\", \"Attention-deficit/hyperactivity disorder\", \"Autism spectrum disorders\", \"Bipolar disorder\", \"Conduct disorder\", \"Depressive disorders\", \"Eating disorders\", \"Idiopathic developmental intellectual disability\", \"Other mental disorders\", \"Schizophrenia\"], \"name\": \"Male\", \"text\": [\"Male\"], \"textposition\": \"inside\", \"values\": [71855444.3406, 41228170.1902, 17589463.3084, 14302188.0556, 28690257.6854, 66278026.0354, 3001793.61001, 48601156.0731, 56362257.0493, 6400933.12245], \"type\": \"pie\"}, {\"domain\": {\"x\": [0.52, 1]}, \"hole\": 0.4, \"hoverinfo\": \"label+percent+name\", \"labels\": [\"Anxiety disorders\", \"Attention-deficit/hyperactivity disorder\", \"Autism spectrum disorders\", \"Bipolar disorder\", \"Conduct disorder\", \"Depressive disorders\", \"Eating disorders\", \"Idiopathic developmental intellectual disability\", \"Other mental disorders\", \"Schizophrenia\"], \"name\": \"Female\", \"text\": [\"Female\"], \"textposition\": \"inside\", \"values\": [121121092.193, 16748611.0004, 5465558.12247, 15659379.5156, 15499407.4355, 106780544.585, 6822757.69165, 42555037.7459, 37617014.1741, 6015138.7889], \"type\": \"pie\"}], \"name\": \"1991\"}, {\"data\": [{\"domain\": {\"x\": [0, 0.48]}, \"hole\": 0.4, \"hoverinfo\": \"label+percent+name\", \"labels\": [\"Anxiety disorders\", \"Attention-deficit/hyperactivity disorder\", \"Autism spectrum disorders\", \"Bipolar disorder\", \"Conduct disorder\", \"Depressive disorders\", \"Eating disorders\", \"Idiopathic developmental intellectual disability\", \"Other mental disorders\", \"Schizophrenia\"], \"name\": \"Male\", \"text\": [\"Male\"], \"textposition\": \"inside\", \"values\": [73109490.3104, 41874631.1518, 17833182.7835, 14557463.888, 28992049.1496, 67622834.4127, 3054431.70939, 49149756.0638, 57526744.9542, 6538379.52814], \"type\": \"pie\"}, {\"domain\": {\"x\": [0.52, 1]}, \"hole\": 0.4, \"hoverinfo\": \"label+percent+name\", \"labels\": [\"Anxiety disorders\", \"Attention-deficit/hyperactivity disorder\", \"Autism spectrum disorders\", \"Bipolar disorder\", \"Conduct disorder\", \"Depressive disorders\", \"Eating disorders\", \"Idiopathic developmental intellectual disability\", \"Other mental disorders\", \"Schizophrenia\"], \"name\": \"Female\", \"text\": [\"Female\"], \"textposition\": \"inside\", \"values\": [123095090.802, 16990199.518, 5542888.75243, 15930803.5334, 15622210.4873, 108773894.392, 6943373.005419998, 42909578.6922, 38392389.3129, 6142614.01985], \"type\": \"pie\"}], \"name\": \"1992\"}, {\"data\": [{\"domain\": {\"x\": [0, 0.48]}, \"hole\": 0.4, \"hoverinfo\": \"label+percent+name\", \"labels\": [\"Anxiety disorders\", \"Attention-deficit/hyperactivity disorder\", \"Autism spectrum disorders\", \"Bipolar disorder\", \"Conduct disorder\", \"Depressive disorders\", \"Eating disorders\", \"Idiopathic developmental intellectual disability\", \"Other mental disorders\", \"Schizophrenia\"], \"name\": \"Male\", \"text\": [\"Male\"], \"textposition\": \"inside\", \"values\": [74366418.5671, 42495205.7545, 18065627.5073, 14811509.0808, 29328957.8219, 68948606.8068, 3107602.6972, 49674049.1234, 58671810.6543, 6675163.70471], \"type\": \"pie\"}, {\"domain\": {\"x\": [0.52, 1]}, \"hole\": 0.4, \"hoverinfo\": \"label+percent+name\", \"labels\": [\"Anxiety disorders\", \"Attention-deficit/hyperactivity disorder\", \"Autism spectrum disorders\", \"Bipolar disorder\", \"Conduct disorder\", \"Depressive disorders\", \"Eating disorders\", \"Idiopathic developmental intellectual disability\", \"Other mental disorders\", \"Schizophrenia\"], \"name\": \"Female\", \"text\": [\"Female\"], \"textposition\": \"inside\", \"values\": [125095047.268, 17230776.1557, 5617091.27925, 16201628.4234, 15765990.256, 110697375.15, 7064317.27239, 43242040.4681, 39163851.5008, 6270638.10276], \"type\": \"pie\"}], \"name\": \"1993\"}, {\"data\": [{\"domain\": {\"x\": [0, 0.48]}, \"hole\": 0.4, \"hoverinfo\": \"label+percent+name\", \"labels\": [\"Anxiety disorders\", \"Attention-deficit/hyperactivity disorder\", \"Autism spectrum disorders\", \"Bipolar disorder\", \"Conduct disorder\", \"Depressive disorders\", \"Eating disorders\", \"Idiopathic developmental intellectual disability\", \"Other mental disorders\", \"Schizophrenia\"], \"name\": \"Male\", \"text\": [\"Male\"], \"textposition\": \"inside\", \"values\": [75628903.6731, 43079585.542, 18292365.0435, 15066740.7021, 29696948.4072, 70265884.0889, 3160271.19242, 50139186.4262, 59800639.1404, 6810642.21326], \"type\": \"pie\"}, {\"domain\": {\"x\": [0.52, 1]}, \"hole\": 0.4, \"hoverinfo\": \"label+percent+name\", \"labels\": [\"Anxiety disorders\", \"Attention-deficit/hyperactivity disorder\", \"Autism spectrum disorders\", \"Bipolar disorder\", \"Conduct disorder\", \"Depressive disorders\", \"Eating disorders\", \"Idiopathic developmental intellectual disability\", \"Other mental disorders\", \"Schizophrenia\"], \"name\": \"Female\", \"text\": [\"Female\"], \"textposition\": \"inside\", \"values\": [127144860.081, 17472002.6356, 5690611.740540002, 16476175.2597, 15931151.8026, 112597938.582, 7187285.58698, 43530583.2072, 39938120.5729, 6398905.29034], \"type\": \"pie\"}], \"name\": \"1994\"}, {\"data\": [{\"domain\": {\"x\": [0, 0.48]}, \"hole\": 0.4, \"hoverinfo\": \"label+percent+name\", \"labels\": [\"Anxiety disorders\", \"Attention-deficit/hyperactivity disorder\", \"Autism spectrum disorders\", \"Bipolar disorder\", \"Conduct disorder\", \"Depressive disorders\", \"Eating disorders\", \"Idiopathic developmental intellectual disability\", \"Other mental disorders\", \"Schizophrenia\"], \"name\": \"Male\", \"text\": [\"Male\"], \"textposition\": \"inside\", \"values\": [76906662.1787, 43641413.126, 18519044.0343, 15327892.8511, 30102898.9869, 71568832.9073, 3212768.51944, 50591043.8874, 60929202.7416, 6945745.84845], \"type\": \"pie\"}, {\"domain\": {\"x\": [0.52, 1]}, \"hole\": 0.4, \"hoverinfo\": \"label+percent+name\", \"labels\": [\"Anxiety disorders\", \"Attention-deficit/hyperactivity disorder\", \"Autism spectrum disorders\", \"Bipolar disorder\", \"Conduct disorder\", \"Depressive disorders\", \"Eating disorders\", \"Idiopathic developmental intellectual disability\", \"Other mental disorders\", \"Schizophrenia\"], \"name\": \"Female\", \"text\": [\"Female\"], \"textposition\": \"inside\", \"values\": [129266859.78, 17720188.6317, 5765377.31343, 16758376.7138, 16123542.6211, 114471425.098, 7315516.63254, 43814289.9125, 40722862.7535, 6527737.33914], \"type\": \"pie\"}], \"name\": \"1995\"}, {\"data\": [{\"domain\": {\"x\": [0, 0.48]}, \"hole\": 0.4, \"hoverinfo\": \"label+percent+name\", \"labels\": [\"Anxiety disorders\", \"Attention-deficit/hyperactivity disorder\", \"Autism spectrum disorders\", \"Bipolar disorder\", \"Conduct disorder\", \"Depressive disorders\", \"Eating disorders\", \"Idiopathic developmental intellectual disability\", \"Other mental disorders\", \"Schizophrenia\"], \"name\": \"Male\", \"text\": [\"Male\"], \"textposition\": \"inside\", \"values\": [78244519.6838, 44180744.1353, 18743290.1009, 15596917.8532, 30537483.0672, 72912498.4313, 3267738.93429, 51003162.8857, 62058451.2097, 7078940.33515], \"type\": \"pie\"}, {\"domain\": {\"x\": [0.52, 1]}, \"hole\": 0.4, \"hoverinfo\": \"label+percent+name\", \"labels\": [\"Anxiety disorders\", \"Attention-deficit/hyperactivity disorder\", \"Autism spectrum disorders\", \"Bipolar disorder\", \"Conduct disorder\", \"Depressive disorders\", \"Eating disorders\", \"Idiopathic developmental intellectual disability\", \"Other mental disorders\", \"Schizophrenia\"], \"name\": \"Female\", \"text\": [\"Female\"], \"textposition\": \"inside\", \"values\": [131751114.804, 17976116.4838, 5840200.179980001, 17048158.9689, 16335894.9848, 116350619.573, 7451628.472569998, 44043894.4943, 41516476.556, 6657122.64724], \"type\": \"pie\"}], \"name\": \"1996\"}, {\"data\": [{\"domain\": {\"x\": [0, 0.48]}, \"hole\": 0.4, \"hoverinfo\": \"label+percent+name\", \"labels\": [\"Anxiety disorders\", \"Attention-deficit/hyperactivity disorder\", \"Autism spectrum disorders\", \"Bipolar disorder\", \"Conduct disorder\", \"Depressive disorders\", \"Eating disorders\", \"Idiopathic developmental intellectual disability\", \"Other mental disorders\", \"Schizophrenia\"], \"name\": \"Male\", \"text\": [\"Male\"], \"textposition\": \"inside\", \"values\": [81093979.6482, 45199549.1607, 19190509.716, 16159110.5688, 31386418.858000007, 75744135.4083, 3383212.435, 51700889.5197, 64352559.845, 7345120.82597], \"type\": \"pie\"}, {\"domain\": {\"x\": [0.52, 1]}, \"hole\": 0.4, \"hoverinfo\": \"label+percent+name\", \"labels\": [\"Anxiety disorders\", \"Attention-deficit/hyperactivity disorder\", \"Autism spectrum disorders\", \"Bipolar disorder\", \"Conduct disorder\", \"Depressive disorders\", \"Eating disorders\", \"Idiopathic developmental intellectual disability\", \"Other mental disorders\", \"Schizophrenia\"], \"name\": \"Female\", \"text\": [\"Female\"], \"textposition\": \"inside\", \"values\": [137880939.581, 18489573.0803, 5991484.0273199985, 17650384.3084, 16741515.1064, 120222673.621, 7747416.596639999, 44363426.7204, 43149164.9146, 6924985.68468], \"type\": \"pie\"}], \"name\": \"1998\"}, {\"data\": [{\"domain\": {\"x\": [0, 0.48]}, \"hole\": 0.4, \"hoverinfo\": \"label+percent+name\", \"labels\": [\"Anxiety disorders\", \"Attention-deficit/hyperactivity disorder\", \"Autism spectrum disorders\", \"Bipolar disorder\", \"Conduct disorder\", \"Depressive disorders\", \"Eating disorders\", \"Idiopathic developmental intellectual disability\", \"Other mental disorders\", \"Schizophrenia\"], \"name\": \"Male\", \"text\": [\"Male\"], \"textposition\": \"inside\", \"values\": [79659638.2565, 44708035.44, 18967927.8779, 15875225.8462, 30978430.5755, 74315763.4805, 3323864.96108, 51365367.5312, 63201627.3357, 7211838.384819998], \"type\": \"pie\"}, {\"domain\": {\"x\": [0.52, 1]}, \"hole\": 0.4, \"hoverinfo\": \"label+percent+name\", \"labels\": [\"Anxiety disorders\", \"Attention-deficit/hyperactivity disorder\", \"Autism spectrum disorders\", \"Bipolar disorder\", \"Conduct disorder\", \"Depressive disorders\", \"Eating disorders\", \"Idiopathic developmental intellectual disability\", \"Other mental disorders\", \"Schizophrenia\"], \"name\": \"Female\", \"text\": [\"Female\"], \"textposition\": \"inside\", \"values\": [134722020.558, 18238485.5931, 5915894.6129, 17346821.1536, 16549116.3765, 118272525.259, 7595162.7402, 44210942.9707, 42327023.8967, 6789731.01015], \"type\": \"pie\"}], \"name\": \"1997\"}, {\"data\": [{\"domain\": {\"x\": [0, 0.48]}, \"hole\": 0.4, \"hoverinfo\": \"label+percent+name\", \"labels\": [\"Anxiety disorders\", \"Attention-deficit/hyperactivity disorder\", \"Autism spectrum disorders\", \"Bipolar disorder\", \"Conduct disorder\", \"Depressive disorders\", \"Eating disorders\", \"Idiopathic developmental intellectual disability\", \"Other mental disorders\", \"Schizophrenia\"], \"name\": \"Male\", \"text\": [\"Male\"], \"textposition\": \"inside\", \"values\": [82510416.3818, 45652173.6989, 19411102.9112, 16446336.9742, 31751791.9772, 77194215.8277, 3444094.10948, 52021038.6363, 65510755.0903, 7478456.41747], \"type\": \"pie\"}, {\"domain\": {\"x\": [0.52, 1]}, \"hole\": 0.4, \"hoverinfo\": \"label+percent+name\", \"labels\": [\"Anxiety disorders\", \"Attention-deficit/hyperactivity disorder\", \"Autism spectrum disorders\", \"Bipolar disorder\", \"Conduct disorder\", \"Depressive disorders\", \"Eating disorders\", \"Idiopathic developmental intellectual disability\", \"Other mental disorders\", \"Schizophrenia\"], \"name\": \"Female\", \"text\": [\"Female\"], \"textposition\": \"inside\", \"values\": [140957404.044, 18720467.5541, 6067145.71544, 17957337.8482, 16908916.2731, 122254762.642, 7901909.53983, 44539760.5942, 43982363.1259, 7061433.4461699985], \"type\": \"pie\"}], \"name\": \"1999\"}, {\"data\": [{\"domain\": {\"x\": [0, 0.48]}, \"hole\": 0.4, \"hoverinfo\": \"label+percent+name\", \"labels\": [\"Anxiety disorders\", \"Attention-deficit/hyperactivity disorder\", \"Autism spectrum disorders\", \"Bipolar disorder\", \"Conduct disorder\", \"Depressive disorders\", \"Eating disorders\", \"Idiopathic developmental intellectual disability\", \"Other mental disorders\", \"Schizophrenia\"], \"name\": \"Male\", \"text\": [\"Male\"], \"textposition\": \"inside\", \"values\": [83878843.6931, 46079786.0949, 19632400.846, 16738597.0095, 32083063.5876, 78636301.9834, 3507020.0191, 52361104.8245, 66688356.8893, 7613572.420910001], \"type\": \"pie\"}, {\"domain\": {\"x\": [0.52, 1]}, \"hole\": 0.4, \"hoverinfo\": \"label+percent+name\", \"labels\": [\"Anxiety disorders\", \"Attention-deficit/hyperactivity disorder\", \"Autism spectrum disorders\", \"Bipolar disorder\", \"Conduct disorder\", \"Depressive disorders\", \"Eating disorders\", \"Idiopathic developmental intellectual disability\", \"Other mental disorders\", \"Schizophrenia\"], \"name\": \"Female\", \"text\": [\"Female\"], \"textposition\": \"inside\", \"values\": [143679896.57799998, 18927510.2428, 6143438.5750199985, 18270333.927, 17056084.9964, 124364099.016, 8054229.042510001, 44798284.2516, 44831689.2161, 7199085.02839], \"type\": \"pie\"}], \"name\": \"2000\"}, {\"data\": [{\"domain\": {\"x\": [0, 0.48]}, \"hole\": 0.4, \"hoverinfo\": \"label+percent+name\", \"labels\": [\"Anxiety disorders\", \"Attention-deficit/hyperactivity disorder\", \"Autism spectrum disorders\", \"Bipolar disorder\", \"Conduct disorder\", \"Depressive disorders\", \"Eating disorders\", \"Idiopathic developmental intellectual disability\", \"Other mental disorders\", \"Schizophrenia\"], \"name\": \"Male\", \"text\": [\"Male\"], \"textposition\": \"inside\", \"values\": [85182411.6399, 46466839.3764, 19854454.8185, 17037567.919, 32385655.9343, 80098579.4129, 3574175.80397, 52687123.7692, 67888611.8726, 7748600.98773], \"type\": \"pie\"}, {\"domain\": {\"x\": [0.52, 1]}, \"hole\": 0.4, \"hoverinfo\": \"label+percent+name\", \"labels\": [\"Anxiety disorders\", \"Attention-deficit/hyperactivity disorder\", \"Autism spectrum disorders\", \"Bipolar disorder\", \"Conduct disorder\", \"Depressive disorders\", \"Eating disorders\", \"Idiopathic developmental intellectual disability\", \"Other mental disorders\", \"Schizophrenia\"], \"name\": \"Female\", \"text\": [\"Female\"], \"textposition\": \"inside\", \"values\": [146004171.018, 19111451.8755, 6220216.46336, 18589354.9131, 17190388.0726, 126598308.481, 8208347.349769998, 45117801.5541, 45696652.8347, 7337747.612930002], \"type\": \"pie\"}], \"name\": \"2001\"}, {\"data\": [{\"domain\": {\"x\": [0, 0.48]}, \"hole\": 0.4, \"hoverinfo\": \"label+percent+name\", \"labels\": [\"Anxiety disorders\", \"Attention-deficit/hyperactivity disorder\", \"Autism spectrum disorders\", \"Bipolar disorder\", \"Conduct disorder\", \"Depressive disorders\", \"Eating disorders\", \"Idiopathic developmental intellectual disability\", \"Other mental disorders\", \"Schizophrenia\"], \"name\": \"Male\", \"text\": [\"Male\"], \"textposition\": \"inside\", \"values\": [86449032.7529, 46821239.867, 20078193.8356, 17343143.9797, 32658718.7832, 81595414.7471, 3648146.92277, 52992033.1616, 69121242.5786, 7884800.78531], \"type\": \"pie\"}, {\"domain\": {\"x\": [0.52, 1]}, \"hole\": 0.4, \"hoverinfo\": \"label+percent+name\", \"labels\": [\"Anxiety disorders\", \"Attention-deficit/hyperactivity disorder\", \"Autism spectrum disorders\", \"Bipolar disorder\", \"Conduct disorder\", \"Depressive disorders\", \"Eating disorders\", \"Idiopathic developmental intellectual disability\", \"Other mental disorders\", \"Schizophrenia\"], \"name\": \"Female\", \"text\": [\"Female\"], \"textposition\": \"inside\", \"values\": [148150387.694, 19286500.9605, 6297894.08751, 18914243.1905, 17314935.43, 128928023.194, 8375138.169039999, 45461972.9425, 46581286.2379, 7479698.71612], \"type\": \"pie\"}], \"name\": \"2002\"}, {\"data\": [{\"domain\": {\"x\": [0, 0.48]}, \"hole\": 0.4, \"hoverinfo\": \"label+percent+name\", \"labels\": [\"Anxiety disorders\", \"Attention-deficit/hyperactivity disorder\", \"Autism spectrum disorders\", \"Bipolar disorder\", \"Conduct disorder\", \"Depressive disorders\", \"Eating disorders\", \"Idiopathic developmental intellectual disability\", \"Other mental disorders\", \"Schizophrenia\"], \"name\": \"Male\", \"text\": [\"Male\"], \"textposition\": \"inside\", \"values\": [87698915.6374, 47157811.868, 20304951.4021, 17651116.8443, 32888286.0857, 83105969.4427, 3723527.14344, 53267799.6579, 70380336.9786, 8024066.32445], \"type\": \"pie\"}, {\"domain\": {\"x\": [0.52, 1]}, \"hole\": 0.4, \"hoverinfo\": \"label+percent+name\", \"labels\": [\"Anxiety disorders\", \"Attention-deficit/hyperactivity disorder\", \"Autism spectrum disorders\", \"Bipolar disorder\", \"Conduct disorder\", \"Depressive disorders\", \"Eating disorders\", \"Idiopathic developmental intellectual disability\", \"Other mental disorders\", \"Schizophrenia\"], \"name\": \"Female\", \"text\": [\"Female\"], \"textposition\": \"inside\", \"values\": [150199088.29, 19456268.0701, 6376749.81686, 19242564.4358, 17418959.5932, 131305181.308, 8545344.05384, 45798810.2508, 47482919.6233, 7624611.01645], \"type\": \"pie\"}], \"name\": \"2003\"}, {\"data\": [{\"domain\": {\"x\": [0, 0.48]}, \"hole\": 0.4, \"hoverinfo\": \"label+percent+name\", \"labels\": [\"Anxiety disorders\", \"Attention-deficit/hyperactivity disorder\", \"Autism spectrum disorders\", \"Bipolar disorder\", \"Conduct disorder\", \"Depressive disorders\", \"Eating disorders\", \"Idiopathic developmental intellectual disability\", \"Other mental disorders\", \"Schizophrenia\"], \"name\": \"Male\", \"text\": [\"Male\"], \"textposition\": \"inside\", \"values\": [88948188.6697, 47472328.5217, 20532449.535, 17957660.4416, 33065191.0761, 84624371.493, 3799350.20358, 53499570.4086, 71652466.3576, 8165843.12243], \"type\": \"pie\"}, {\"domain\": {\"x\": [0.52, 1]}, \"hole\": 0.4, \"hoverinfo\": \"label+percent+name\", \"labels\": [\"Anxiety disorders\", \"Attention-deficit/hyperactivity disorder\", \"Autism spectrum disorders\", \"Bipolar disorder\", \"Conduct disorder\", \"Depressive disorders\", \"Eating disorders\", \"Idiopathic developmental intellectual disability\", \"Other mental disorders\", \"Schizophrenia\"], \"name\": \"Female\", \"text\": [\"Female\"], \"textposition\": \"inside\", \"values\": [152233051.776, 19616892.2342, 6455976.6372, 19570482.323, 17498080.3471, 133707527.086, 8715766.617789999, 46088237.8062, 48393865.0723, 7769484.01265], \"type\": \"pie\"}], \"name\": \"2004\"}, {\"data\": [{\"domain\": {\"x\": [0, 0.48]}, \"hole\": 0.4, \"hoverinfo\": \"label+percent+name\", \"labels\": [\"Anxiety disorders\", \"Attention-deficit/hyperactivity disorder\", \"Autism spectrum disorders\", \"Bipolar disorder\", \"Conduct disorder\", \"Depressive disorders\", \"Eating disorders\", \"Idiopathic developmental intellectual disability\", \"Other mental disorders\", \"Schizophrenia\"], \"name\": \"Male\", \"text\": [\"Male\"], \"textposition\": \"inside\", \"values\": [90235279.1124, 47790183.7882, 20762152.5801, 18264807.0886, 33181042.0602, 86119270.4019, 3872400.22634, 53739095.3778, 72947716.5266, 8312722.5734], \"type\": \"pie\"}, {\"domain\": {\"x\": [0.52, 1]}, \"hole\": 0.4, \"hoverinfo\": \"label+percent+name\", \"labels\": [\"Anxiety disorders\", \"Attention-deficit/hyperactivity disorder\", \"Autism spectrum disorders\", \"Bipolar disorder\", \"Conduct disorder\", \"Depressive disorders\", \"Eating disorders\", \"Idiopathic developmental intellectual disability\", \"Other mental disorders\", \"Schizophrenia\"], \"name\": \"Female\", \"text\": [\"Female\"], \"textposition\": \"inside\", \"values\": [154369114.385, 19774776.3833, 6536139.64516, 19901070.0947, 17545784.2261, 136106076.29700002, 8881956.96308, 46342053.3877, 49318765.9926, 7914123.85617], \"type\": \"pie\"}], \"name\": \"2005\"}, {\"data\": [{\"domain\": {\"x\": [0, 0.48]}, \"hole\": 0.4, \"hoverinfo\": \"label+percent+name\", \"labels\": [\"Anxiety disorders\", \"Attention-deficit/hyperactivity disorder\", \"Autism spectrum disorders\", \"Bipolar disorder\", \"Conduct disorder\", \"Depressive disorders\", \"Eating disorders\", \"Idiopathic developmental intellectual disability\", \"Other mental disorders\", \"Schizophrenia\"], \"name\": \"Male\", \"text\": [\"Male\"], \"textposition\": \"inside\", \"values\": [91516061.7624, 48113842.4444, 20994227.4143, 18569852.2006, 33229368.9597, 87436678.0218, 3950365.20136, 53873276.6396, 74259070.7662, 8466727.37476], \"type\": \"pie\"}, {\"domain\": {\"x\": [0.52, 1]}, \"hole\": 0.4, \"hoverinfo\": \"label+percent+name\", \"labels\": [\"Anxiety disorders\", \"Attention-deficit/hyperactivity disorder\", \"Autism spectrum disorders\", \"Bipolar disorder\", \"Conduct disorder\", \"Depressive disorders\", \"Eating disorders\", \"Idiopathic developmental intellectual disability\", \"Other mental disorders\", \"Schizophrenia\"], \"name\": \"Female\", \"text\": [\"Female\"], \"textposition\": \"inside\", \"values\": [156536098.884, 19932955.005, 6617233.82773, 20230469.5207, 17561700.0726, 138160170.066, 9054272.3804, 46459037.1808, 50254515.5278, 8058196.18404], \"type\": \"pie\"}], \"name\": \"2006\"}, {\"data\": [{\"domain\": {\"x\": [0, 0.48]}, \"hole\": 0.4, \"hoverinfo\": \"label+percent+name\", \"labels\": [\"Anxiety disorders\", \"Attention-deficit/hyperactivity disorder\", \"Autism spectrum disorders\", \"Bipolar disorder\", \"Conduct disorder\", \"Depressive disorders\", \"Eating disorders\", \"Idiopathic developmental intellectual disability\", \"Other mental disorders\", \"Schizophrenia\"], \"name\": \"Male\", \"text\": [\"Male\"], \"textposition\": \"inside\", \"values\": [92785368.3919, 48445727.798, 21235479.5862, 18879572.9473, 33246504.5971, 88546736.3714, 4035967.80268, 53885047.861, 75610944.1725, 8630851.95847], \"type\": \"pie\"}, {\"domain\": {\"x\": [0.52, 1]}, \"hole\": 0.4, \"hoverinfo\": \"label+percent+name\", \"labels\": [\"Anxiety disorders\", \"Attention-deficit/hyperactivity disorder\", \"Autism spectrum disorders\", \"Bipolar disorder\", \"Conduct disorder\", \"Depressive disorders\", \"Eating disorders\", \"Idiopathic developmental intellectual disability\", \"Other mental disorders\", \"Schizophrenia\"], \"name\": \"Female\", \"text\": [\"Female\"], \"textposition\": \"inside\", \"values\": [158656977.261, 20094763.0317, 6700616.47986, 20559949.4036, 17567737.8019, 139726800.99899998, 9242665.46698, 46442528.8456, 51208259.9429, 8204707.6118], \"type\": \"pie\"}], \"name\": \"2007\"}, {\"data\": [{\"domain\": {\"x\": [0, 0.48]}, \"hole\": 0.4, \"hoverinfo\": \"label+percent+name\", \"labels\": [\"Anxiety disorders\", \"Attention-deficit/hyperactivity disorder\", \"Autism spectrum disorders\", \"Bipolar disorder\", \"Conduct disorder\", \"Depressive disorders\", \"Eating disorders\", \"Idiopathic developmental intellectual disability\", \"Other mental disorders\", \"Schizophrenia\"], \"name\": \"Male\", \"text\": [\"Male\"], \"textposition\": \"inside\", \"values\": [94067352.1494, 48792004.6881, 21482409.1409, 19190496.281, 33271446.1863, 89570815.059, 4128662.9635, 53859518.1798, 76980794.8697, 8799834.156130001], \"type\": \"pie\"}, {\"domain\": {\"x\": [0.52, 1]}, \"hole\": 0.4, \"hoverinfo\": \"label+percent+name\", \"labels\": [\"Anxiety disorders\", \"Attention-deficit/hyperactivity disorder\", \"Autism spectrum disorders\", \"Bipolar disorder\", \"Conduct disorder\", \"Depressive disorders\", \"Eating disorders\", \"Idiopathic developmental intellectual disability\", \"Other mental disorders\", \"Schizophrenia\"], \"name\": \"Female\", \"text\": [\"Female\"], \"textposition\": \"inside\", \"values\": [160776455.942, 20261833.4678, 6785945.67161, 20889875.2873, 17583200.2617, 141108229.602, 9438051.15601, 46377270.9913, 52173240.8011, 8353597.69906], \"type\": \"pie\"}], \"name\": \"2008\"}, {\"data\": [{\"domain\": {\"x\": [0, 0.48]}, \"hole\": 0.4, \"hoverinfo\": \"label+percent+name\", \"labels\": [\"Anxiety disorders\", \"Attention-deficit/hyperactivity disorder\", \"Autism spectrum disorders\", \"Bipolar disorder\", \"Conduct disorder\", \"Depressive disorders\", \"Eating disorders\", \"Idiopathic developmental intellectual disability\", \"Other mental disorders\", \"Schizophrenia\"], \"name\": \"Male\", \"text\": [\"Male\"], \"textposition\": \"inside\", \"values\": [95387885.0854, 49138104.0875, 21731589.5267, 19505275.5193, 33314868.247, 90682250.4328, 4221840.10343, 53842982.0867, 78363813.2479, 8968551.422460001], \"type\": \"pie\"}, {\"domain\": {\"x\": [0.52, 1]}, \"hole\": 0.4, \"hoverinfo\": \"label+percent+name\", \"labels\": [\"Anxiety disorders\", \"Attention-deficit/hyperactivity disorder\", \"Autism spectrum disorders\", \"Bipolar disorder\", \"Conduct disorder\", \"Depressive disorders\", \"Eating disorders\", \"Idiopathic developmental intellectual disability\", \"Other mental disorders\", \"Schizophrenia\"], \"name\": \"Female\", \"text\": [\"Female\"], \"textposition\": \"inside\", \"values\": [162906738.82299998, 20426210.2604, 6871710.0106, 21218684.5964, 17611228.9713, 142630458.116, 9631009.38399, 46313660.8484, 53139988.928, 8502894.21526], \"type\": \"pie\"}], \"name\": \"2009\"}, {\"data\": [{\"domain\": {\"x\": [0, 0.48]}, \"hole\": 0.4, \"hoverinfo\": \"label+percent+name\", \"labels\": [\"Anxiety disorders\", \"Attention-deficit/hyperactivity disorder\", \"Autism spectrum disorders\", \"Bipolar disorder\", \"Conduct disorder\", \"Depressive disorders\", \"Eating disorders\", \"Idiopathic developmental intellectual disability\", \"Other mental disorders\", \"Schizophrenia\"], \"name\": \"Male\", \"text\": [\"Male\"], \"textposition\": \"inside\", \"values\": [96663514.2637, 49452975.9127, 21970751.2395, 19800621.6542, 33360617.3122, 91985185.3999, 4303221.03539, 53910756.4941, 79699888.7366, 9128912.99085], \"type\": \"pie\"}, {\"domain\": {\"x\": [0.52, 1]}, \"hole\": 0.4, \"hoverinfo\": \"label+percent+name\", \"labels\": [\"Anxiety disorders\", \"Attention-deficit/hyperactivity disorder\", \"Autism spectrum disorders\", \"Bipolar disorder\", \"Conduct disorder\", \"Depressive disorders\", \"Eating disorders\", \"Idiopathic developmental intellectual disability\", \"Other mental disorders\", \"Schizophrenia\"], \"name\": \"Female\", \"text\": [\"Female\"], \"textposition\": \"inside\", \"values\": [165024524.461, 20579214.9295, 6956514.357189999, 21540105.4274, 17644997.1389, 144641003.12399998, 9806237.4505, 46337807.1675, 54099541.4412, 8652622.25908], \"type\": \"pie\"}], \"name\": \"2010\"}, {\"data\": [{\"domain\": {\"x\": [0, 0.48]}, \"hole\": 0.4, \"hoverinfo\": \"label+percent+name\", \"labels\": [\"Anxiety disorders\", \"Attention-deficit/hyperactivity disorder\", \"Autism spectrum disorders\", \"Bipolar disorder\", \"Conduct disorder\", \"Depressive disorders\", \"Eating disorders\", \"Idiopathic developmental intellectual disability\", \"Other mental disorders\", \"Schizophrenia\"], \"name\": \"Male\", \"text\": [\"Male\"], \"textposition\": \"inside\", \"values\": [97950464.1843, 49755453.7012, 22208091.1067, 20091288.8228, 33431552.1947, 93492552.6075, 4380449.857480002, 54045189.706, 81026329.5888, 9282336.67141], \"type\": \"pie\"}, {\"domain\": {\"x\": [0.52, 1]}, \"hole\": 0.4, \"hoverinfo\": \"label+percent+name\", \"labels\": [\"Anxiety disorders\", \"Attention-deficit/hyperactivity disorder\", \"Autism spectrum disorders\", \"Bipolar disorder\", \"Conduct disorder\", \"Depressive disorders\", \"Eating disorders\", \"Idiopathic developmental intellectual disability\", \"Other mental disorders\", \"Schizophrenia\"], \"name\": \"Female\", \"text\": [\"Female\"], \"textposition\": \"inside\", \"values\": [167122021.757, 20725562.1984, 7041081.85404, 21855707.2925, 17700334.3314, 147045756.997, 9970306.52878, 46431888.5327, 55053403.5737, 8802047.574989999], \"type\": \"pie\"}], \"name\": \"2011\"}, {\"data\": [{\"domain\": {\"x\": [0, 0.48]}, \"hole\": 0.4, \"hoverinfo\": \"label+percent+name\", \"labels\": [\"Anxiety disorders\", \"Attention-deficit/hyperactivity disorder\", \"Autism spectrum disorders\", \"Bipolar disorder\", \"Conduct disorder\", \"Depressive disorders\", \"Eating disorders\", \"Idiopathic developmental intellectual disability\", \"Other mental disorders\", \"Schizophrenia\"], \"name\": \"Male\", \"text\": [\"Male\"], \"textposition\": \"inside\", \"values\": [99236949.5261, 50066805.6976, 22449599.0467, 20380676.2686, 33536166.9402, 95021550.1163, 4460040.87876, 54158512.2768, 82352697.8332, 9431988.56803], \"type\": \"pie\"}, {\"domain\": {\"x\": [0.52, 1]}, \"hole\": 0.4, \"hoverinfo\": \"label+percent+name\", \"labels\": [\"Anxiety disorders\", \"Attention-deficit/hyperactivity disorder\", \"Autism spectrum disorders\", \"Bipolar disorder\", \"Conduct disorder\", \"Depressive disorders\", \"Eating disorders\", \"Idiopathic developmental intellectual disability\", \"Other mental disorders\", \"Schizophrenia\"], \"name\": \"Female\", \"text\": [\"Female\"], \"textposition\": \"inside\", \"values\": [169167182.24899998, 20875952.6619, 7126720.74097, 22168470.8256, 17788549.77, 149455106.99, 10132587.1965, 46519072.19100001, 56006824.6075, 8951707.14072], \"type\": \"pie\"}], \"name\": \"2012\"}, {\"data\": [{\"domain\": {\"x\": [0, 0.48]}, \"hole\": 0.4, \"hoverinfo\": \"label+percent+name\", \"labels\": [\"Anxiety disorders\", \"Attention-deficit/hyperactivity disorder\", \"Autism spectrum disorders\", \"Bipolar disorder\", \"Conduct disorder\", \"Depressive disorders\", \"Eating disorders\", \"Idiopathic developmental intellectual disability\", \"Other mental disorders\", \"Schizophrenia\"], \"name\": \"Male\", \"text\": [\"Male\"], \"textposition\": \"inside\", \"values\": [100530192.598, 50389448.7734, 22695270.748000003, 20671443.1, 33683087.0455, 96561647.4531, 4542386.42576, 54254619.9496, 83674673.7264, 9577463.52512], \"type\": \"pie\"}, {\"domain\": {\"x\": [0.52, 1]}, \"hole\": 0.4, \"hoverinfo\": \"label+percent+name\", \"labels\": [\"Anxiety disorders\", \"Attention-deficit/hyperactivity disorder\", \"Autism spectrum disorders\", \"Bipolar disorder\", \"Conduct disorder\", \"Depressive disorders\", \"Eating disorders\", \"Idiopathic developmental intellectual disability\", \"Other mental disorders\", \"Schizophrenia\"], \"name\": \"Female\", \"text\": [\"Female\"], \"textposition\": \"inside\", \"values\": [171180619.464, 21032913.9525, 7213457.186660001, 22482987.0262, 17911295.831, 151879644.231, 10296996.4176, 46598599.5286, 56960344.3233, 9101669.99952], \"type\": \"pie\"}], \"name\": \"2013\"}, {\"data\": [{\"domain\": {\"x\": [0, 0.48]}, \"hole\": 0.4, \"hoverinfo\": \"label+percent+name\", \"labels\": [\"Anxiety disorders\", \"Attention-deficit/hyperactivity disorder\", \"Autism spectrum disorders\", \"Bipolar disorder\", \"Conduct disorder\", \"Depressive disorders\", \"Eating disorders\", \"Idiopathic developmental intellectual disability\", \"Other mental disorders\", \"Schizophrenia\"], \"name\": \"Male\", \"text\": [\"Male\"], \"textposition\": \"inside\", \"values\": [101809879.833, 50704895.1055, 22936202.1231, 20959992.3334, 33857994.909, 98116255.7413, 4624730.96601, 54284634.4356, 84977950.636, 9716350.06383], \"type\": \"pie\"}, {\"domain\": {\"x\": [0.52, 1]}, \"hole\": 0.4, \"hoverinfo\": \"label+percent+name\", \"labels\": [\"Anxiety disorders\", \"Attention-deficit/hyperactivity disorder\", \"Autism spectrum disorders\", \"Bipolar disorder\", \"Conduct disorder\", \"Depressive disorders\", \"Eating disorders\", \"Idiopathic developmental intellectual disability\", \"Other mental disorders\", \"Schizophrenia\"], \"name\": \"Female\", \"text\": [\"Female\"], \"textposition\": \"inside\", \"values\": [173125445.24, 21187871.0251, 7297996.4022, 22793314.253, 18058940.9199, 154306052.861, 10455700.545, 46624390.0853, 57899463.4502, 9248785.47694], \"type\": \"pie\"}], \"name\": \"2014\"}, {\"data\": [{\"domain\": {\"x\": [0, 0.48]}, \"hole\": 0.4, \"hoverinfo\": \"label+percent+name\", \"labels\": [\"Anxiety disorders\", \"Attention-deficit/hyperactivity disorder\", \"Autism spectrum disorders\", \"Bipolar disorder\", \"Conduct disorder\", \"Depressive disorders\", \"Eating disorders\", \"Idiopathic developmental intellectual disability\", \"Other mental disorders\", \"Schizophrenia\"], \"name\": \"Male\", \"text\": [\"Male\"], \"textposition\": \"inside\", \"values\": [103071406.709, 51011413.6522, 23165799.7746, 21247094.5159, 34052866.9977, 99670229.4129, 4706557.5220599985, 54240070.601, 86265607.4435, 9850306.78004], \"type\": \"pie\"}, {\"domain\": {\"x\": [0.52, 1]}, \"hole\": 0.4, \"hoverinfo\": \"label+percent+name\", \"labels\": [\"Anxiety disorders\", \"Attention-deficit/hyperactivity disorder\", \"Autism spectrum disorders\", \"Bipolar disorder\", \"Conduct disorder\", \"Depressive disorders\", \"Eating disorders\", \"Idiopathic developmental intellectual disability\", \"Other mental disorders\", \"Schizophrenia\"], \"name\": \"Female\", \"text\": [\"Female\"], \"textposition\": \"inside\", \"values\": [174992917.982, 21339279.5282, 7378624.48427, 23099427.6139, 18224592.6842, 156703688.54700002, 10611889.0256, 46589116.7894, 58823067.96600001, 9393973.38263], \"type\": \"pie\"}], \"name\": \"2015\"}, {\"data\": [{\"domain\": {\"x\": [0, 0.48]}, \"hole\": 0.4, \"hoverinfo\": \"label+percent+name\", \"labels\": [\"Anxiety disorders\", \"Attention-deficit/hyperactivity disorder\", \"Autism spectrum disorders\", \"Bipolar disorder\", \"Conduct disorder\", \"Depressive disorders\", \"Eating disorders\", \"Idiopathic developmental intellectual disability\", \"Other mental disorders\", \"Schizophrenia\"], \"name\": \"Male\", \"text\": [\"Male\"], \"textposition\": \"inside\", \"values\": [104364277.099, 51327800.6305, 23402603.5325, 21540596.0028, 34297996.292, 101265312.737, 4791806.92799, 54172024.1617, 87555885.9944, 9978765.4265], \"type\": \"pie\"}, {\"domain\": {\"x\": [0.52, 1]}, \"hole\": 0.4, \"hoverinfo\": \"label+percent+name\", \"labels\": [\"Anxiety disorders\", \"Attention-deficit/hyperactivity disorder\", \"Autism spectrum disorders\", \"Bipolar disorder\", \"Conduct disorder\", \"Depressive disorders\", \"Eating disorders\", \"Idiopathic developmental intellectual disability\", \"Other mental disorders\", \"Schizophrenia\"], \"name\": \"Female\", \"text\": [\"Female\"], \"textposition\": \"inside\", \"values\": [176864367.062, 21494547.8254, 7459986.695239998, 23408580.2844, 18420716.6873, 159119585.075, 10771952.2741, 46535059.5385, 59743220.7648, 9536968.80105], \"type\": \"pie\"}], \"name\": \"2016\"}, {\"data\": [{\"domain\": {\"x\": [0, 0.48]}, \"hole\": 0.4, \"hoverinfo\": \"label+percent+name\", \"labels\": [\"Anxiety disorders\", \"Attention-deficit/hyperactivity disorder\", \"Autism spectrum disorders\", \"Bipolar disorder\", \"Conduct disorder\", \"Depressive disorders\", \"Eating disorders\", \"Idiopathic developmental intellectual disability\", \"Other mental disorders\", \"Schizophrenia\"], \"name\": \"Male\", \"text\": [\"Male\"], \"textposition\": \"inside\", \"values\": [105641105.973, 51660361.4659, 23638114.0372, 21831913.5195, 34584696.7533, 102877623.959, 4875281.18939, 54093500.7853, 88820209.7522, 10099444.9767], \"type\": \"pie\"}, {\"domain\": {\"x\": [0.52, 1]}, \"hole\": 0.4, \"hoverinfo\": \"label+percent+name\", \"labels\": [\"Anxiety disorders\", \"Attention-deficit/hyperactivity disorder\", \"Autism spectrum disorders\", \"Bipolar disorder\", \"Conduct disorder\", \"Depressive disorders\", \"Eating disorders\", \"Idiopathic developmental intellectual disability\", \"Other mental disorders\", \"Schizophrenia\"], \"name\": \"Female\", \"text\": [\"Female\"], \"textposition\": \"inside\", \"values\": [178719043.091, 21657152.2716, 7541549.68927, 23717457.8532, 18643690.2293, 161577968.784, 10926398.5894, 46478692.0106, 60658378.6346, 9677443.37727], \"type\": \"pie\"}], \"name\": \"2017\"}]);}).then(function(){Plotly.animate('b44c1f47-16e2-4415-b052-fb973e032f21');})\n",
       "        });</script><script type=\"text/javascript\">window.addEventListener(\"resize\", function(){window._Plotly.Plots.resize(document.getElementById(\"b44c1f47-16e2-4415-b052-fb973e032f21\"));});</script>"
      ],
      "text/vnd.plotly.v1+html": [
       "<div id=\"b44c1f47-16e2-4415-b052-fb973e032f21\" style=\"height: 525px; width: 100%;\" class=\"plotly-graph-div\"></div><script type=\"text/javascript\">require([\"plotly\"], function(Plotly) { window.PLOTLYENV=window.PLOTLYENV || {};window.PLOTLYENV.BASE_URL=\"https://plot.ly\";\n",
       "        Plotly.plot(\n",
       "            'b44c1f47-16e2-4415-b052-fb973e032f21',\n",
       "            [{\"domain\": {\"x\": [0, 0.48]}, \"hole\": 0.4, \"hoverinfo\": \"label+percent+name\", \"labels\": [\"Anxiety disorders\", \"Attention-deficit/hyperactivity disorder\", \"Autism spectrum disorders\", \"Bipolar disorder\", \"Conduct disorder\", \"Depressive disorders\", \"Eating disorders\", \"Idiopathic developmental intellectual disability\", \"Other mental disorders\", \"Schizophrenia\"], \"name\": \"Male\", \"text\": [\"Male\"], \"textposition\": \"inside\", \"values\": [70615119.4681, 40580128.2919, 17341012.3752, 14050188.0223, 28443091.8848, 64933249.9446, 2946824.46012, 48072237.0961, 55196740.3806, 6263530.90125], \"type\": \"pie\", \"uid\": \"ad8fbada-348d-4a30-93e3-59f1d48f8ece\"}, {\"domain\": {\"x\": [0.52, 1]}, \"hole\": 0.4, \"hoverinfo\": \"label+percent+name\", \"labels\": [\"Anxiety disorders\", \"Attention-deficit/hyperactivity disorder\", \"Autism spectrum disorders\", \"Bipolar disorder\", \"Conduct disorder\", \"Depressive disorders\", \"Eating disorders\", \"Idiopathic developmental intellectual disability\", \"Other mental disorders\", \"Schizophrenia\"], \"name\": \"Female\", \"text\": [\"Female\"], \"textposition\": \"inside\", \"values\": [119203793.735, 16510460.8488, 5387252.72345, 15392039.8196, 15403699.5364, 104772294.817, 6702901.13776, 42218160.5143, 36848217.8587, 5889202.0398], \"type\": \"pie\", \"uid\": \"c1aaf89b-13cc-4534-9f3c-08e194bcf97e\"}],\n",
       "            {\"annotations\": [{\"font\": {\"size\": 15}, \"showarrow\": false, \"text\": \"Male\", \"x\": 0.2, \"y\": 0.5}, {\"font\": {\"size\": 15}, \"showarrow\": false, \"text\": \"Female\", \"x\": 0.82, \"y\": 0.5}], \"font\": {\"color\": \"#000000\"}, \"hovermode\": \"closest\", \"paper_bgcolor\": \"rgba(0,0,0,0)\", \"plot_bgcolor\": \"rgba(0,0,0,0)\", \"sliders\": [{\"active\": 0, \"currentvalue\": {\"font\": {\"size\": 15}, \"prefix\": \"Year: \", \"visible\": true, \"xanchor\": \"right\"}, \"len\": 0.9, \"pad\": {\"b\": 10, \"t\": 50}, \"steps\": [{\"args\": [[\"1990\"], {\"frame\": {\"duration\": 300, \"redraw\": true}, \"mode\": \"immediate\", \"transition\": {\"duration\": 300}}], \"label\": \"1990\", \"method\": \"animate\"}, {\"args\": [[\"1991\"], {\"frame\": {\"duration\": 300, \"redraw\": true}, \"mode\": \"immediate\", \"transition\": {\"duration\": 300}}], \"label\": \"1991\", \"method\": \"animate\"}, {\"args\": [[\"1992\"], {\"frame\": {\"duration\": 300, \"redraw\": true}, \"mode\": \"immediate\", \"transition\": {\"duration\": 300}}], \"label\": \"1992\", \"method\": \"animate\"}, {\"args\": [[\"1993\"], {\"frame\": {\"duration\": 300, \"redraw\": true}, \"mode\": \"immediate\", \"transition\": {\"duration\": 300}}], \"label\": \"1993\", \"method\": \"animate\"}, {\"args\": [[\"1994\"], {\"frame\": {\"duration\": 300, \"redraw\": true}, \"mode\": \"immediate\", \"transition\": {\"duration\": 300}}], \"label\": \"1994\", \"method\": \"animate\"}, {\"args\": [[\"1995\"], {\"frame\": {\"duration\": 300, \"redraw\": true}, \"mode\": \"immediate\", \"transition\": {\"duration\": 300}}], \"label\": \"1995\", \"method\": \"animate\"}, {\"args\": [[\"1996\"], {\"frame\": {\"duration\": 300, \"redraw\": true}, \"mode\": \"immediate\", \"transition\": {\"duration\": 300}}], \"label\": \"1996\", \"method\": \"animate\"}, {\"args\": [[\"1998\"], {\"frame\": {\"duration\": 300, \"redraw\": true}, \"mode\": \"immediate\", \"transition\": {\"duration\": 300}}], \"label\": \"1998\", \"method\": \"animate\"}, {\"args\": [[\"1997\"], {\"frame\": {\"duration\": 300, \"redraw\": true}, \"mode\": \"immediate\", \"transition\": {\"duration\": 300}}], \"label\": \"1997\", \"method\": \"animate\"}, {\"args\": [[\"1999\"], {\"frame\": {\"duration\": 300, \"redraw\": true}, \"mode\": \"immediate\", \"transition\": {\"duration\": 300}}], \"label\": \"1999\", \"method\": \"animate\"}, {\"args\": [[\"2000\"], {\"frame\": {\"duration\": 300, \"redraw\": true}, \"mode\": \"immediate\", \"transition\": {\"duration\": 300}}], \"label\": \"2000\", \"method\": \"animate\"}, {\"args\": [[\"2001\"], {\"frame\": {\"duration\": 300, \"redraw\": true}, \"mode\": \"immediate\", \"transition\": {\"duration\": 300}}], \"label\": \"2001\", \"method\": \"animate\"}, {\"args\": [[\"2002\"], {\"frame\": {\"duration\": 300, \"redraw\": true}, \"mode\": \"immediate\", \"transition\": {\"duration\": 300}}], \"label\": \"2002\", \"method\": \"animate\"}, {\"args\": [[\"2003\"], {\"frame\": {\"duration\": 300, \"redraw\": true}, \"mode\": \"immediate\", \"transition\": {\"duration\": 300}}], \"label\": \"2003\", \"method\": \"animate\"}, {\"args\": [[\"2004\"], {\"frame\": {\"duration\": 300, \"redraw\": true}, \"mode\": \"immediate\", \"transition\": {\"duration\": 300}}], \"label\": \"2004\", \"method\": \"animate\"}, {\"args\": [[\"2005\"], {\"frame\": {\"duration\": 300, \"redraw\": true}, \"mode\": \"immediate\", \"transition\": {\"duration\": 300}}], \"label\": \"2005\", \"method\": \"animate\"}, {\"args\": [[\"2006\"], {\"frame\": {\"duration\": 300, \"redraw\": true}, \"mode\": \"immediate\", \"transition\": {\"duration\": 300}}], \"label\": \"2006\", \"method\": \"animate\"}, {\"args\": [[\"2007\"], {\"frame\": {\"duration\": 300, \"redraw\": true}, \"mode\": \"immediate\", \"transition\": {\"duration\": 300}}], \"label\": \"2007\", \"method\": \"animate\"}, {\"args\": [[\"2008\"], {\"frame\": {\"duration\": 300, \"redraw\": true}, \"mode\": \"immediate\", \"transition\": {\"duration\": 300}}], \"label\": \"2008\", \"method\": \"animate\"}, {\"args\": [[\"2009\"], {\"frame\": {\"duration\": 300, \"redraw\": true}, \"mode\": \"immediate\", \"transition\": {\"duration\": 300}}], \"label\": \"2009\", \"method\": \"animate\"}, {\"args\": [[\"2010\"], {\"frame\": {\"duration\": 300, \"redraw\": true}, \"mode\": \"immediate\", \"transition\": {\"duration\": 300}}], \"label\": \"2010\", \"method\": \"animate\"}, {\"args\": [[\"2011\"], {\"frame\": {\"duration\": 300, \"redraw\": true}, \"mode\": \"immediate\", \"transition\": {\"duration\": 300}}], \"label\": \"2011\", \"method\": \"animate\"}, {\"args\": [[\"2012\"], {\"frame\": {\"duration\": 300, \"redraw\": true}, \"mode\": \"immediate\", \"transition\": {\"duration\": 300}}], \"label\": \"2012\", \"method\": \"animate\"}, {\"args\": [[\"2013\"], {\"frame\": {\"duration\": 300, \"redraw\": true}, \"mode\": \"immediate\", \"transition\": {\"duration\": 300}}], \"label\": \"2013\", \"method\": \"animate\"}, {\"args\": [[\"2014\"], {\"frame\": {\"duration\": 300, \"redraw\": true}, \"mode\": \"immediate\", \"transition\": {\"duration\": 300}}], \"label\": \"2014\", \"method\": \"animate\"}, {\"args\": [[\"2015\"], {\"frame\": {\"duration\": 300, \"redraw\": true}, \"mode\": \"immediate\", \"transition\": {\"duration\": 300}}], \"label\": \"2015\", \"method\": \"animate\"}, {\"args\": [[\"2016\"], {\"frame\": {\"duration\": 300, \"redraw\": true}, \"mode\": \"immediate\", \"transition\": {\"duration\": 300}}], \"label\": \"2016\", \"method\": \"animate\"}, {\"args\": [[\"2017\"], {\"frame\": {\"duration\": 300, \"redraw\": true}, \"mode\": \"immediate\", \"transition\": {\"duration\": 300}}], \"label\": \"2017\", \"method\": \"animate\"}], \"transition\": {\"duration\": 300, \"easing\": \"cubic-in-out\"}, \"x\": 0.1, \"xanchor\": \"left\", \"y\": 0, \"yanchor\": \"top\"}], \"title\": \"Share of gender per Mental Illness Globally (%)\", \"updatemenus\": [{\"buttons\": [{\"args\": [null, {\"frame\": {\"duration\": 500, \"redraw\": true}, \"fromcurrent\": true, \"transition\": {\"duration\": 300, \"easing\": \"quadratic-in-out\"}}], \"label\": \"Play\", \"method\": \"animate\"}, {\"args\": [[null], {\"frame\": {\"duration\": 0, \"redraw\": true}, \"mode\": \"immediate\", \"transition\": {\"duration\": 0}}], \"label\": \"Pause\", \"method\": \"animate\"}], \"direction\": \"left\", \"pad\": {\"r\": 10, \"t\": 87}, \"showactive\": false, \"type\": \"buttons\", \"x\": 0.1, \"xanchor\": \"right\", \"y\": 0, \"yanchor\": \"top\"}]},\n",
       "            {\"showLink\": true, \"linkText\": \"Export to plot.ly\", \"plotlyServerURL\": \"https://plot.ly\"}\n",
       "        ).then(function () {return Plotly.addFrames('b44c1f47-16e2-4415-b052-fb973e032f21',[{\"data\": [{\"domain\": {\"x\": [0, 0.48]}, \"hole\": 0.4, \"hoverinfo\": \"label+percent+name\", \"labels\": [\"Anxiety disorders\", \"Attention-deficit/hyperactivity disorder\", \"Autism spectrum disorders\", \"Bipolar disorder\", \"Conduct disorder\", \"Depressive disorders\", \"Eating disorders\", \"Idiopathic developmental intellectual disability\", \"Other mental disorders\", \"Schizophrenia\"], \"name\": \"Male\", \"text\": [\"Male\"], \"textposition\": \"inside\", \"values\": [70615119.4681, 40580128.2919, 17341012.3752, 14050188.0223, 28443091.8848, 64933249.9446, 2946824.46012, 48072237.0961, 55196740.3806, 6263530.90125], \"type\": \"pie\"}, {\"domain\": {\"x\": [0.52, 1]}, \"hole\": 0.4, \"hoverinfo\": \"label+percent+name\", \"labels\": [\"Anxiety disorders\", \"Attention-deficit/hyperactivity disorder\", \"Autism spectrum disorders\", \"Bipolar disorder\", \"Conduct disorder\", \"Depressive disorders\", \"Eating disorders\", \"Idiopathic developmental intellectual disability\", \"Other mental disorders\", \"Schizophrenia\"], \"name\": \"Female\", \"text\": [\"Female\"], \"textposition\": \"inside\", \"values\": [119203793.735, 16510460.8488, 5387252.72345, 15392039.8196, 15403699.5364, 104772294.817, 6702901.13776, 42218160.5143, 36848217.8587, 5889202.0398], \"type\": \"pie\"}], \"name\": \"1990\"}, {\"data\": [{\"domain\": {\"x\": [0, 0.48]}, \"hole\": 0.4, \"hoverinfo\": \"label+percent+name\", \"labels\": [\"Anxiety disorders\", \"Attention-deficit/hyperactivity disorder\", \"Autism spectrum disorders\", \"Bipolar disorder\", \"Conduct disorder\", \"Depressive disorders\", \"Eating disorders\", \"Idiopathic developmental intellectual disability\", \"Other mental disorders\", \"Schizophrenia\"], \"name\": \"Male\", \"text\": [\"Male\"], \"textposition\": \"inside\", \"values\": [71855444.3406, 41228170.1902, 17589463.3084, 14302188.0556, 28690257.6854, 66278026.0354, 3001793.61001, 48601156.0731, 56362257.0493, 6400933.12245], \"type\": \"pie\"}, {\"domain\": {\"x\": [0.52, 1]}, \"hole\": 0.4, \"hoverinfo\": \"label+percent+name\", \"labels\": [\"Anxiety disorders\", \"Attention-deficit/hyperactivity disorder\", \"Autism spectrum disorders\", \"Bipolar disorder\", \"Conduct disorder\", \"Depressive disorders\", \"Eating disorders\", \"Idiopathic developmental intellectual disability\", \"Other mental disorders\", \"Schizophrenia\"], \"name\": \"Female\", \"text\": [\"Female\"], \"textposition\": \"inside\", \"values\": [121121092.193, 16748611.0004, 5465558.12247, 15659379.5156, 15499407.4355, 106780544.585, 6822757.69165, 42555037.7459, 37617014.1741, 6015138.7889], \"type\": \"pie\"}], \"name\": \"1991\"}, {\"data\": [{\"domain\": {\"x\": [0, 0.48]}, \"hole\": 0.4, \"hoverinfo\": \"label+percent+name\", \"labels\": [\"Anxiety disorders\", \"Attention-deficit/hyperactivity disorder\", \"Autism spectrum disorders\", \"Bipolar disorder\", \"Conduct disorder\", \"Depressive disorders\", \"Eating disorders\", \"Idiopathic developmental intellectual disability\", \"Other mental disorders\", \"Schizophrenia\"], \"name\": \"Male\", \"text\": [\"Male\"], \"textposition\": \"inside\", \"values\": [73109490.3104, 41874631.1518, 17833182.7835, 14557463.888, 28992049.1496, 67622834.4127, 3054431.70939, 49149756.0638, 57526744.9542, 6538379.52814], \"type\": \"pie\"}, {\"domain\": {\"x\": [0.52, 1]}, \"hole\": 0.4, \"hoverinfo\": \"label+percent+name\", \"labels\": [\"Anxiety disorders\", \"Attention-deficit/hyperactivity disorder\", \"Autism spectrum disorders\", \"Bipolar disorder\", \"Conduct disorder\", \"Depressive disorders\", \"Eating disorders\", \"Idiopathic developmental intellectual disability\", \"Other mental disorders\", \"Schizophrenia\"], \"name\": \"Female\", \"text\": [\"Female\"], \"textposition\": \"inside\", \"values\": [123095090.802, 16990199.518, 5542888.75243, 15930803.5334, 15622210.4873, 108773894.392, 6943373.005419998, 42909578.6922, 38392389.3129, 6142614.01985], \"type\": \"pie\"}], \"name\": \"1992\"}, {\"data\": [{\"domain\": {\"x\": [0, 0.48]}, \"hole\": 0.4, \"hoverinfo\": \"label+percent+name\", \"labels\": [\"Anxiety disorders\", \"Attention-deficit/hyperactivity disorder\", \"Autism spectrum disorders\", \"Bipolar disorder\", \"Conduct disorder\", \"Depressive disorders\", \"Eating disorders\", \"Idiopathic developmental intellectual disability\", \"Other mental disorders\", \"Schizophrenia\"], \"name\": \"Male\", \"text\": [\"Male\"], \"textposition\": \"inside\", \"values\": [74366418.5671, 42495205.7545, 18065627.5073, 14811509.0808, 29328957.8219, 68948606.8068, 3107602.6972, 49674049.1234, 58671810.6543, 6675163.70471], \"type\": \"pie\"}, {\"domain\": {\"x\": [0.52, 1]}, \"hole\": 0.4, \"hoverinfo\": \"label+percent+name\", \"labels\": [\"Anxiety disorders\", \"Attention-deficit/hyperactivity disorder\", \"Autism spectrum disorders\", \"Bipolar disorder\", \"Conduct disorder\", \"Depressive disorders\", \"Eating disorders\", \"Idiopathic developmental intellectual disability\", \"Other mental disorders\", \"Schizophrenia\"], \"name\": \"Female\", \"text\": [\"Female\"], \"textposition\": \"inside\", \"values\": [125095047.268, 17230776.1557, 5617091.27925, 16201628.4234, 15765990.256, 110697375.15, 7064317.27239, 43242040.4681, 39163851.5008, 6270638.10276], \"type\": \"pie\"}], \"name\": \"1993\"}, {\"data\": [{\"domain\": {\"x\": [0, 0.48]}, \"hole\": 0.4, \"hoverinfo\": \"label+percent+name\", \"labels\": [\"Anxiety disorders\", \"Attention-deficit/hyperactivity disorder\", \"Autism spectrum disorders\", \"Bipolar disorder\", \"Conduct disorder\", \"Depressive disorders\", \"Eating disorders\", \"Idiopathic developmental intellectual disability\", \"Other mental disorders\", \"Schizophrenia\"], \"name\": \"Male\", \"text\": [\"Male\"], \"textposition\": \"inside\", \"values\": [75628903.6731, 43079585.542, 18292365.0435, 15066740.7021, 29696948.4072, 70265884.0889, 3160271.19242, 50139186.4262, 59800639.1404, 6810642.21326], \"type\": \"pie\"}, {\"domain\": {\"x\": [0.52, 1]}, \"hole\": 0.4, \"hoverinfo\": \"label+percent+name\", \"labels\": [\"Anxiety disorders\", \"Attention-deficit/hyperactivity disorder\", \"Autism spectrum disorders\", \"Bipolar disorder\", \"Conduct disorder\", \"Depressive disorders\", \"Eating disorders\", \"Idiopathic developmental intellectual disability\", \"Other mental disorders\", \"Schizophrenia\"], \"name\": \"Female\", \"text\": [\"Female\"], \"textposition\": \"inside\", \"values\": [127144860.081, 17472002.6356, 5690611.740540002, 16476175.2597, 15931151.8026, 112597938.582, 7187285.58698, 43530583.2072, 39938120.5729, 6398905.29034], \"type\": \"pie\"}], \"name\": \"1994\"}, {\"data\": [{\"domain\": {\"x\": [0, 0.48]}, \"hole\": 0.4, \"hoverinfo\": \"label+percent+name\", \"labels\": [\"Anxiety disorders\", \"Attention-deficit/hyperactivity disorder\", \"Autism spectrum disorders\", \"Bipolar disorder\", \"Conduct disorder\", \"Depressive disorders\", \"Eating disorders\", \"Idiopathic developmental intellectual disability\", \"Other mental disorders\", \"Schizophrenia\"], \"name\": \"Male\", \"text\": [\"Male\"], \"textposition\": \"inside\", \"values\": [76906662.1787, 43641413.126, 18519044.0343, 15327892.8511, 30102898.9869, 71568832.9073, 3212768.51944, 50591043.8874, 60929202.7416, 6945745.84845], \"type\": \"pie\"}, {\"domain\": {\"x\": [0.52, 1]}, \"hole\": 0.4, \"hoverinfo\": \"label+percent+name\", \"labels\": [\"Anxiety disorders\", \"Attention-deficit/hyperactivity disorder\", \"Autism spectrum disorders\", \"Bipolar disorder\", \"Conduct disorder\", \"Depressive disorders\", \"Eating disorders\", \"Idiopathic developmental intellectual disability\", \"Other mental disorders\", \"Schizophrenia\"], \"name\": \"Female\", \"text\": [\"Female\"], \"textposition\": \"inside\", \"values\": [129266859.78, 17720188.6317, 5765377.31343, 16758376.7138, 16123542.6211, 114471425.098, 7315516.63254, 43814289.9125, 40722862.7535, 6527737.33914], \"type\": \"pie\"}], \"name\": \"1995\"}, {\"data\": [{\"domain\": {\"x\": [0, 0.48]}, \"hole\": 0.4, \"hoverinfo\": \"label+percent+name\", \"labels\": [\"Anxiety disorders\", \"Attention-deficit/hyperactivity disorder\", \"Autism spectrum disorders\", \"Bipolar disorder\", \"Conduct disorder\", \"Depressive disorders\", \"Eating disorders\", \"Idiopathic developmental intellectual disability\", \"Other mental disorders\", \"Schizophrenia\"], \"name\": \"Male\", \"text\": [\"Male\"], \"textposition\": \"inside\", \"values\": [78244519.6838, 44180744.1353, 18743290.1009, 15596917.8532, 30537483.0672, 72912498.4313, 3267738.93429, 51003162.8857, 62058451.2097, 7078940.33515], \"type\": \"pie\"}, {\"domain\": {\"x\": [0.52, 1]}, \"hole\": 0.4, \"hoverinfo\": \"label+percent+name\", \"labels\": [\"Anxiety disorders\", \"Attention-deficit/hyperactivity disorder\", \"Autism spectrum disorders\", \"Bipolar disorder\", \"Conduct disorder\", \"Depressive disorders\", \"Eating disorders\", \"Idiopathic developmental intellectual disability\", \"Other mental disorders\", \"Schizophrenia\"], \"name\": \"Female\", \"text\": [\"Female\"], \"textposition\": \"inside\", \"values\": [131751114.804, 17976116.4838, 5840200.179980001, 17048158.9689, 16335894.9848, 116350619.573, 7451628.472569998, 44043894.4943, 41516476.556, 6657122.64724], \"type\": \"pie\"}], \"name\": \"1996\"}, {\"data\": [{\"domain\": {\"x\": [0, 0.48]}, \"hole\": 0.4, \"hoverinfo\": \"label+percent+name\", \"labels\": [\"Anxiety disorders\", \"Attention-deficit/hyperactivity disorder\", \"Autism spectrum disorders\", \"Bipolar disorder\", \"Conduct disorder\", \"Depressive disorders\", \"Eating disorders\", \"Idiopathic developmental intellectual disability\", \"Other mental disorders\", \"Schizophrenia\"], \"name\": \"Male\", \"text\": [\"Male\"], \"textposition\": \"inside\", \"values\": [81093979.6482, 45199549.1607, 19190509.716, 16159110.5688, 31386418.858000007, 75744135.4083, 3383212.435, 51700889.5197, 64352559.845, 7345120.82597], \"type\": \"pie\"}, {\"domain\": {\"x\": [0.52, 1]}, \"hole\": 0.4, \"hoverinfo\": \"label+percent+name\", \"labels\": [\"Anxiety disorders\", \"Attention-deficit/hyperactivity disorder\", \"Autism spectrum disorders\", \"Bipolar disorder\", \"Conduct disorder\", \"Depressive disorders\", \"Eating disorders\", \"Idiopathic developmental intellectual disability\", \"Other mental disorders\", \"Schizophrenia\"], \"name\": \"Female\", \"text\": [\"Female\"], \"textposition\": \"inside\", \"values\": [137880939.581, 18489573.0803, 5991484.0273199985, 17650384.3084, 16741515.1064, 120222673.621, 7747416.596639999, 44363426.7204, 43149164.9146, 6924985.68468], \"type\": \"pie\"}], \"name\": \"1998\"}, {\"data\": [{\"domain\": {\"x\": [0, 0.48]}, \"hole\": 0.4, \"hoverinfo\": \"label+percent+name\", \"labels\": [\"Anxiety disorders\", \"Attention-deficit/hyperactivity disorder\", \"Autism spectrum disorders\", \"Bipolar disorder\", \"Conduct disorder\", \"Depressive disorders\", \"Eating disorders\", \"Idiopathic developmental intellectual disability\", \"Other mental disorders\", \"Schizophrenia\"], \"name\": \"Male\", \"text\": [\"Male\"], \"textposition\": \"inside\", \"values\": [79659638.2565, 44708035.44, 18967927.8779, 15875225.8462, 30978430.5755, 74315763.4805, 3323864.96108, 51365367.5312, 63201627.3357, 7211838.384819998], \"type\": \"pie\"}, {\"domain\": {\"x\": [0.52, 1]}, \"hole\": 0.4, \"hoverinfo\": \"label+percent+name\", \"labels\": [\"Anxiety disorders\", \"Attention-deficit/hyperactivity disorder\", \"Autism spectrum disorders\", \"Bipolar disorder\", \"Conduct disorder\", \"Depressive disorders\", \"Eating disorders\", \"Idiopathic developmental intellectual disability\", \"Other mental disorders\", \"Schizophrenia\"], \"name\": \"Female\", \"text\": [\"Female\"], \"textposition\": \"inside\", \"values\": [134722020.558, 18238485.5931, 5915894.6129, 17346821.1536, 16549116.3765, 118272525.259, 7595162.7402, 44210942.9707, 42327023.8967, 6789731.01015], \"type\": \"pie\"}], \"name\": \"1997\"}, {\"data\": [{\"domain\": {\"x\": [0, 0.48]}, \"hole\": 0.4, \"hoverinfo\": \"label+percent+name\", \"labels\": [\"Anxiety disorders\", \"Attention-deficit/hyperactivity disorder\", \"Autism spectrum disorders\", \"Bipolar disorder\", \"Conduct disorder\", \"Depressive disorders\", \"Eating disorders\", \"Idiopathic developmental intellectual disability\", \"Other mental disorders\", \"Schizophrenia\"], \"name\": \"Male\", \"text\": [\"Male\"], \"textposition\": \"inside\", \"values\": [82510416.3818, 45652173.6989, 19411102.9112, 16446336.9742, 31751791.9772, 77194215.8277, 3444094.10948, 52021038.6363, 65510755.0903, 7478456.41747], \"type\": \"pie\"}, {\"domain\": {\"x\": [0.52, 1]}, \"hole\": 0.4, \"hoverinfo\": \"label+percent+name\", \"labels\": [\"Anxiety disorders\", \"Attention-deficit/hyperactivity disorder\", \"Autism spectrum disorders\", \"Bipolar disorder\", \"Conduct disorder\", \"Depressive disorders\", \"Eating disorders\", \"Idiopathic developmental intellectual disability\", \"Other mental disorders\", \"Schizophrenia\"], \"name\": \"Female\", \"text\": [\"Female\"], \"textposition\": \"inside\", \"values\": [140957404.044, 18720467.5541, 6067145.71544, 17957337.8482, 16908916.2731, 122254762.642, 7901909.53983, 44539760.5942, 43982363.1259, 7061433.4461699985], \"type\": \"pie\"}], \"name\": \"1999\"}, {\"data\": [{\"domain\": {\"x\": [0, 0.48]}, \"hole\": 0.4, \"hoverinfo\": \"label+percent+name\", \"labels\": [\"Anxiety disorders\", \"Attention-deficit/hyperactivity disorder\", \"Autism spectrum disorders\", \"Bipolar disorder\", \"Conduct disorder\", \"Depressive disorders\", \"Eating disorders\", \"Idiopathic developmental intellectual disability\", \"Other mental disorders\", \"Schizophrenia\"], \"name\": \"Male\", \"text\": [\"Male\"], \"textposition\": \"inside\", \"values\": [83878843.6931, 46079786.0949, 19632400.846, 16738597.0095, 32083063.5876, 78636301.9834, 3507020.0191, 52361104.8245, 66688356.8893, 7613572.420910001], \"type\": \"pie\"}, {\"domain\": {\"x\": [0.52, 1]}, \"hole\": 0.4, \"hoverinfo\": \"label+percent+name\", \"labels\": [\"Anxiety disorders\", \"Attention-deficit/hyperactivity disorder\", \"Autism spectrum disorders\", \"Bipolar disorder\", \"Conduct disorder\", \"Depressive disorders\", \"Eating disorders\", \"Idiopathic developmental intellectual disability\", \"Other mental disorders\", \"Schizophrenia\"], \"name\": \"Female\", \"text\": [\"Female\"], \"textposition\": \"inside\", \"values\": [143679896.57799998, 18927510.2428, 6143438.5750199985, 18270333.927, 17056084.9964, 124364099.016, 8054229.042510001, 44798284.2516, 44831689.2161, 7199085.02839], \"type\": \"pie\"}], \"name\": \"2000\"}, {\"data\": [{\"domain\": {\"x\": [0, 0.48]}, \"hole\": 0.4, \"hoverinfo\": \"label+percent+name\", \"labels\": [\"Anxiety disorders\", \"Attention-deficit/hyperactivity disorder\", \"Autism spectrum disorders\", \"Bipolar disorder\", \"Conduct disorder\", \"Depressive disorders\", \"Eating disorders\", \"Idiopathic developmental intellectual disability\", \"Other mental disorders\", \"Schizophrenia\"], \"name\": \"Male\", \"text\": [\"Male\"], \"textposition\": \"inside\", \"values\": [85182411.6399, 46466839.3764, 19854454.8185, 17037567.919, 32385655.9343, 80098579.4129, 3574175.80397, 52687123.7692, 67888611.8726, 7748600.98773], \"type\": \"pie\"}, {\"domain\": {\"x\": [0.52, 1]}, \"hole\": 0.4, \"hoverinfo\": \"label+percent+name\", \"labels\": [\"Anxiety disorders\", \"Attention-deficit/hyperactivity disorder\", \"Autism spectrum disorders\", \"Bipolar disorder\", \"Conduct disorder\", \"Depressive disorders\", \"Eating disorders\", \"Idiopathic developmental intellectual disability\", \"Other mental disorders\", \"Schizophrenia\"], \"name\": \"Female\", \"text\": [\"Female\"], \"textposition\": \"inside\", \"values\": [146004171.018, 19111451.8755, 6220216.46336, 18589354.9131, 17190388.0726, 126598308.481, 8208347.349769998, 45117801.5541, 45696652.8347, 7337747.612930002], \"type\": \"pie\"}], \"name\": \"2001\"}, {\"data\": [{\"domain\": {\"x\": [0, 0.48]}, \"hole\": 0.4, \"hoverinfo\": \"label+percent+name\", \"labels\": [\"Anxiety disorders\", \"Attention-deficit/hyperactivity disorder\", \"Autism spectrum disorders\", \"Bipolar disorder\", \"Conduct disorder\", \"Depressive disorders\", \"Eating disorders\", \"Idiopathic developmental intellectual disability\", \"Other mental disorders\", \"Schizophrenia\"], \"name\": \"Male\", \"text\": [\"Male\"], \"textposition\": \"inside\", \"values\": [86449032.7529, 46821239.867, 20078193.8356, 17343143.9797, 32658718.7832, 81595414.7471, 3648146.92277, 52992033.1616, 69121242.5786, 7884800.78531], \"type\": \"pie\"}, {\"domain\": {\"x\": [0.52, 1]}, \"hole\": 0.4, \"hoverinfo\": \"label+percent+name\", \"labels\": [\"Anxiety disorders\", \"Attention-deficit/hyperactivity disorder\", \"Autism spectrum disorders\", \"Bipolar disorder\", \"Conduct disorder\", \"Depressive disorders\", \"Eating disorders\", \"Idiopathic developmental intellectual disability\", \"Other mental disorders\", \"Schizophrenia\"], \"name\": \"Female\", \"text\": [\"Female\"], \"textposition\": \"inside\", \"values\": [148150387.694, 19286500.9605, 6297894.08751, 18914243.1905, 17314935.43, 128928023.194, 8375138.169039999, 45461972.9425, 46581286.2379, 7479698.71612], \"type\": \"pie\"}], \"name\": \"2002\"}, {\"data\": [{\"domain\": {\"x\": [0, 0.48]}, \"hole\": 0.4, \"hoverinfo\": \"label+percent+name\", \"labels\": [\"Anxiety disorders\", \"Attention-deficit/hyperactivity disorder\", \"Autism spectrum disorders\", \"Bipolar disorder\", \"Conduct disorder\", \"Depressive disorders\", \"Eating disorders\", \"Idiopathic developmental intellectual disability\", \"Other mental disorders\", \"Schizophrenia\"], \"name\": \"Male\", \"text\": [\"Male\"], \"textposition\": \"inside\", \"values\": [87698915.6374, 47157811.868, 20304951.4021, 17651116.8443, 32888286.0857, 83105969.4427, 3723527.14344, 53267799.6579, 70380336.9786, 8024066.32445], \"type\": \"pie\"}, {\"domain\": {\"x\": [0.52, 1]}, \"hole\": 0.4, \"hoverinfo\": \"label+percent+name\", \"labels\": [\"Anxiety disorders\", \"Attention-deficit/hyperactivity disorder\", \"Autism spectrum disorders\", \"Bipolar disorder\", \"Conduct disorder\", \"Depressive disorders\", \"Eating disorders\", \"Idiopathic developmental intellectual disability\", \"Other mental disorders\", \"Schizophrenia\"], \"name\": \"Female\", \"text\": [\"Female\"], \"textposition\": \"inside\", \"values\": [150199088.29, 19456268.0701, 6376749.81686, 19242564.4358, 17418959.5932, 131305181.308, 8545344.05384, 45798810.2508, 47482919.6233, 7624611.01645], \"type\": \"pie\"}], \"name\": \"2003\"}, {\"data\": [{\"domain\": {\"x\": [0, 0.48]}, \"hole\": 0.4, \"hoverinfo\": \"label+percent+name\", \"labels\": [\"Anxiety disorders\", \"Attention-deficit/hyperactivity disorder\", \"Autism spectrum disorders\", \"Bipolar disorder\", \"Conduct disorder\", \"Depressive disorders\", \"Eating disorders\", \"Idiopathic developmental intellectual disability\", \"Other mental disorders\", \"Schizophrenia\"], \"name\": \"Male\", \"text\": [\"Male\"], \"textposition\": \"inside\", \"values\": [88948188.6697, 47472328.5217, 20532449.535, 17957660.4416, 33065191.0761, 84624371.493, 3799350.20358, 53499570.4086, 71652466.3576, 8165843.12243], \"type\": \"pie\"}, {\"domain\": {\"x\": [0.52, 1]}, \"hole\": 0.4, \"hoverinfo\": \"label+percent+name\", \"labels\": [\"Anxiety disorders\", \"Attention-deficit/hyperactivity disorder\", \"Autism spectrum disorders\", \"Bipolar disorder\", \"Conduct disorder\", \"Depressive disorders\", \"Eating disorders\", \"Idiopathic developmental intellectual disability\", \"Other mental disorders\", \"Schizophrenia\"], \"name\": \"Female\", \"text\": [\"Female\"], \"textposition\": \"inside\", \"values\": [152233051.776, 19616892.2342, 6455976.6372, 19570482.323, 17498080.3471, 133707527.086, 8715766.617789999, 46088237.8062, 48393865.0723, 7769484.01265], \"type\": \"pie\"}], \"name\": \"2004\"}, {\"data\": [{\"domain\": {\"x\": [0, 0.48]}, \"hole\": 0.4, \"hoverinfo\": \"label+percent+name\", \"labels\": [\"Anxiety disorders\", \"Attention-deficit/hyperactivity disorder\", \"Autism spectrum disorders\", \"Bipolar disorder\", \"Conduct disorder\", \"Depressive disorders\", \"Eating disorders\", \"Idiopathic developmental intellectual disability\", \"Other mental disorders\", \"Schizophrenia\"], \"name\": \"Male\", \"text\": [\"Male\"], \"textposition\": \"inside\", \"values\": [90235279.1124, 47790183.7882, 20762152.5801, 18264807.0886, 33181042.0602, 86119270.4019, 3872400.22634, 53739095.3778, 72947716.5266, 8312722.5734], \"type\": \"pie\"}, {\"domain\": {\"x\": [0.52, 1]}, \"hole\": 0.4, \"hoverinfo\": \"label+percent+name\", \"labels\": [\"Anxiety disorders\", \"Attention-deficit/hyperactivity disorder\", \"Autism spectrum disorders\", \"Bipolar disorder\", \"Conduct disorder\", \"Depressive disorders\", \"Eating disorders\", \"Idiopathic developmental intellectual disability\", \"Other mental disorders\", \"Schizophrenia\"], \"name\": \"Female\", \"text\": [\"Female\"], \"textposition\": \"inside\", \"values\": [154369114.385, 19774776.3833, 6536139.64516, 19901070.0947, 17545784.2261, 136106076.29700002, 8881956.96308, 46342053.3877, 49318765.9926, 7914123.85617], \"type\": \"pie\"}], \"name\": \"2005\"}, {\"data\": [{\"domain\": {\"x\": [0, 0.48]}, \"hole\": 0.4, \"hoverinfo\": \"label+percent+name\", \"labels\": [\"Anxiety disorders\", \"Attention-deficit/hyperactivity disorder\", \"Autism spectrum disorders\", \"Bipolar disorder\", \"Conduct disorder\", \"Depressive disorders\", \"Eating disorders\", \"Idiopathic developmental intellectual disability\", \"Other mental disorders\", \"Schizophrenia\"], \"name\": \"Male\", \"text\": [\"Male\"], \"textposition\": \"inside\", \"values\": [91516061.7624, 48113842.4444, 20994227.4143, 18569852.2006, 33229368.9597, 87436678.0218, 3950365.20136, 53873276.6396, 74259070.7662, 8466727.37476], \"type\": \"pie\"}, {\"domain\": {\"x\": [0.52, 1]}, \"hole\": 0.4, \"hoverinfo\": \"label+percent+name\", \"labels\": [\"Anxiety disorders\", \"Attention-deficit/hyperactivity disorder\", \"Autism spectrum disorders\", \"Bipolar disorder\", \"Conduct disorder\", \"Depressive disorders\", \"Eating disorders\", \"Idiopathic developmental intellectual disability\", \"Other mental disorders\", \"Schizophrenia\"], \"name\": \"Female\", \"text\": [\"Female\"], \"textposition\": \"inside\", \"values\": [156536098.884, 19932955.005, 6617233.82773, 20230469.5207, 17561700.0726, 138160170.066, 9054272.3804, 46459037.1808, 50254515.5278, 8058196.18404], \"type\": \"pie\"}], \"name\": \"2006\"}, {\"data\": [{\"domain\": {\"x\": [0, 0.48]}, \"hole\": 0.4, \"hoverinfo\": \"label+percent+name\", \"labels\": [\"Anxiety disorders\", \"Attention-deficit/hyperactivity disorder\", \"Autism spectrum disorders\", \"Bipolar disorder\", \"Conduct disorder\", \"Depressive disorders\", \"Eating disorders\", \"Idiopathic developmental intellectual disability\", \"Other mental disorders\", \"Schizophrenia\"], \"name\": \"Male\", \"text\": [\"Male\"], \"textposition\": \"inside\", \"values\": [92785368.3919, 48445727.798, 21235479.5862, 18879572.9473, 33246504.5971, 88546736.3714, 4035967.80268, 53885047.861, 75610944.1725, 8630851.95847], \"type\": \"pie\"}, {\"domain\": {\"x\": [0.52, 1]}, \"hole\": 0.4, \"hoverinfo\": \"label+percent+name\", \"labels\": [\"Anxiety disorders\", \"Attention-deficit/hyperactivity disorder\", \"Autism spectrum disorders\", \"Bipolar disorder\", \"Conduct disorder\", \"Depressive disorders\", \"Eating disorders\", \"Idiopathic developmental intellectual disability\", \"Other mental disorders\", \"Schizophrenia\"], \"name\": \"Female\", \"text\": [\"Female\"], \"textposition\": \"inside\", \"values\": [158656977.261, 20094763.0317, 6700616.47986, 20559949.4036, 17567737.8019, 139726800.99899998, 9242665.46698, 46442528.8456, 51208259.9429, 8204707.6118], \"type\": \"pie\"}], \"name\": \"2007\"}, {\"data\": [{\"domain\": {\"x\": [0, 0.48]}, \"hole\": 0.4, \"hoverinfo\": \"label+percent+name\", \"labels\": [\"Anxiety disorders\", \"Attention-deficit/hyperactivity disorder\", \"Autism spectrum disorders\", \"Bipolar disorder\", \"Conduct disorder\", \"Depressive disorders\", \"Eating disorders\", \"Idiopathic developmental intellectual disability\", \"Other mental disorders\", \"Schizophrenia\"], \"name\": \"Male\", \"text\": [\"Male\"], \"textposition\": \"inside\", \"values\": [94067352.1494, 48792004.6881, 21482409.1409, 19190496.281, 33271446.1863, 89570815.059, 4128662.9635, 53859518.1798, 76980794.8697, 8799834.156130001], \"type\": \"pie\"}, {\"domain\": {\"x\": [0.52, 1]}, \"hole\": 0.4, \"hoverinfo\": \"label+percent+name\", \"labels\": [\"Anxiety disorders\", \"Attention-deficit/hyperactivity disorder\", \"Autism spectrum disorders\", \"Bipolar disorder\", \"Conduct disorder\", \"Depressive disorders\", \"Eating disorders\", \"Idiopathic developmental intellectual disability\", \"Other mental disorders\", \"Schizophrenia\"], \"name\": \"Female\", \"text\": [\"Female\"], \"textposition\": \"inside\", \"values\": [160776455.942, 20261833.4678, 6785945.67161, 20889875.2873, 17583200.2617, 141108229.602, 9438051.15601, 46377270.9913, 52173240.8011, 8353597.69906], \"type\": \"pie\"}], \"name\": \"2008\"}, {\"data\": [{\"domain\": {\"x\": [0, 0.48]}, \"hole\": 0.4, \"hoverinfo\": \"label+percent+name\", \"labels\": [\"Anxiety disorders\", \"Attention-deficit/hyperactivity disorder\", \"Autism spectrum disorders\", \"Bipolar disorder\", \"Conduct disorder\", \"Depressive disorders\", \"Eating disorders\", \"Idiopathic developmental intellectual disability\", \"Other mental disorders\", \"Schizophrenia\"], \"name\": \"Male\", \"text\": [\"Male\"], \"textposition\": \"inside\", \"values\": [95387885.0854, 49138104.0875, 21731589.5267, 19505275.5193, 33314868.247, 90682250.4328, 4221840.10343, 53842982.0867, 78363813.2479, 8968551.422460001], \"type\": \"pie\"}, {\"domain\": {\"x\": [0.52, 1]}, \"hole\": 0.4, \"hoverinfo\": \"label+percent+name\", \"labels\": [\"Anxiety disorders\", \"Attention-deficit/hyperactivity disorder\", \"Autism spectrum disorders\", \"Bipolar disorder\", \"Conduct disorder\", \"Depressive disorders\", \"Eating disorders\", \"Idiopathic developmental intellectual disability\", \"Other mental disorders\", \"Schizophrenia\"], \"name\": \"Female\", \"text\": [\"Female\"], \"textposition\": \"inside\", \"values\": [162906738.82299998, 20426210.2604, 6871710.0106, 21218684.5964, 17611228.9713, 142630458.116, 9631009.38399, 46313660.8484, 53139988.928, 8502894.21526], \"type\": \"pie\"}], \"name\": \"2009\"}, {\"data\": [{\"domain\": {\"x\": [0, 0.48]}, \"hole\": 0.4, \"hoverinfo\": \"label+percent+name\", \"labels\": [\"Anxiety disorders\", \"Attention-deficit/hyperactivity disorder\", \"Autism spectrum disorders\", \"Bipolar disorder\", \"Conduct disorder\", \"Depressive disorders\", \"Eating disorders\", \"Idiopathic developmental intellectual disability\", \"Other mental disorders\", \"Schizophrenia\"], \"name\": \"Male\", \"text\": [\"Male\"], \"textposition\": \"inside\", \"values\": [96663514.2637, 49452975.9127, 21970751.2395, 19800621.6542, 33360617.3122, 91985185.3999, 4303221.03539, 53910756.4941, 79699888.7366, 9128912.99085], \"type\": \"pie\"}, {\"domain\": {\"x\": [0.52, 1]}, \"hole\": 0.4, \"hoverinfo\": \"label+percent+name\", \"labels\": [\"Anxiety disorders\", \"Attention-deficit/hyperactivity disorder\", \"Autism spectrum disorders\", \"Bipolar disorder\", \"Conduct disorder\", \"Depressive disorders\", \"Eating disorders\", \"Idiopathic developmental intellectual disability\", \"Other mental disorders\", \"Schizophrenia\"], \"name\": \"Female\", \"text\": [\"Female\"], \"textposition\": \"inside\", \"values\": [165024524.461, 20579214.9295, 6956514.357189999, 21540105.4274, 17644997.1389, 144641003.12399998, 9806237.4505, 46337807.1675, 54099541.4412, 8652622.25908], \"type\": \"pie\"}], \"name\": \"2010\"}, {\"data\": [{\"domain\": {\"x\": [0, 0.48]}, \"hole\": 0.4, \"hoverinfo\": \"label+percent+name\", \"labels\": [\"Anxiety disorders\", \"Attention-deficit/hyperactivity disorder\", \"Autism spectrum disorders\", \"Bipolar disorder\", \"Conduct disorder\", \"Depressive disorders\", \"Eating disorders\", \"Idiopathic developmental intellectual disability\", \"Other mental disorders\", \"Schizophrenia\"], \"name\": \"Male\", \"text\": [\"Male\"], \"textposition\": \"inside\", \"values\": [97950464.1843, 49755453.7012, 22208091.1067, 20091288.8228, 33431552.1947, 93492552.6075, 4380449.857480002, 54045189.706, 81026329.5888, 9282336.67141], \"type\": \"pie\"}, {\"domain\": {\"x\": [0.52, 1]}, \"hole\": 0.4, \"hoverinfo\": \"label+percent+name\", \"labels\": [\"Anxiety disorders\", \"Attention-deficit/hyperactivity disorder\", \"Autism spectrum disorders\", \"Bipolar disorder\", \"Conduct disorder\", \"Depressive disorders\", \"Eating disorders\", \"Idiopathic developmental intellectual disability\", \"Other mental disorders\", \"Schizophrenia\"], \"name\": \"Female\", \"text\": [\"Female\"], \"textposition\": \"inside\", \"values\": [167122021.757, 20725562.1984, 7041081.85404, 21855707.2925, 17700334.3314, 147045756.997, 9970306.52878, 46431888.5327, 55053403.5737, 8802047.574989999], \"type\": \"pie\"}], \"name\": \"2011\"}, {\"data\": [{\"domain\": {\"x\": [0, 0.48]}, \"hole\": 0.4, \"hoverinfo\": \"label+percent+name\", \"labels\": [\"Anxiety disorders\", \"Attention-deficit/hyperactivity disorder\", \"Autism spectrum disorders\", \"Bipolar disorder\", \"Conduct disorder\", \"Depressive disorders\", \"Eating disorders\", \"Idiopathic developmental intellectual disability\", \"Other mental disorders\", \"Schizophrenia\"], \"name\": \"Male\", \"text\": [\"Male\"], \"textposition\": \"inside\", \"values\": [99236949.5261, 50066805.6976, 22449599.0467, 20380676.2686, 33536166.9402, 95021550.1163, 4460040.87876, 54158512.2768, 82352697.8332, 9431988.56803], \"type\": \"pie\"}, {\"domain\": {\"x\": [0.52, 1]}, \"hole\": 0.4, \"hoverinfo\": \"label+percent+name\", \"labels\": [\"Anxiety disorders\", \"Attention-deficit/hyperactivity disorder\", \"Autism spectrum disorders\", \"Bipolar disorder\", \"Conduct disorder\", \"Depressive disorders\", \"Eating disorders\", \"Idiopathic developmental intellectual disability\", \"Other mental disorders\", \"Schizophrenia\"], \"name\": \"Female\", \"text\": [\"Female\"], \"textposition\": \"inside\", \"values\": [169167182.24899998, 20875952.6619, 7126720.74097, 22168470.8256, 17788549.77, 149455106.99, 10132587.1965, 46519072.19100001, 56006824.6075, 8951707.14072], \"type\": \"pie\"}], \"name\": \"2012\"}, {\"data\": [{\"domain\": {\"x\": [0, 0.48]}, \"hole\": 0.4, \"hoverinfo\": \"label+percent+name\", \"labels\": [\"Anxiety disorders\", \"Attention-deficit/hyperactivity disorder\", \"Autism spectrum disorders\", \"Bipolar disorder\", \"Conduct disorder\", \"Depressive disorders\", \"Eating disorders\", \"Idiopathic developmental intellectual disability\", \"Other mental disorders\", \"Schizophrenia\"], \"name\": \"Male\", \"text\": [\"Male\"], \"textposition\": \"inside\", \"values\": [100530192.598, 50389448.7734, 22695270.748000003, 20671443.1, 33683087.0455, 96561647.4531, 4542386.42576, 54254619.9496, 83674673.7264, 9577463.52512], \"type\": \"pie\"}, {\"domain\": {\"x\": [0.52, 1]}, \"hole\": 0.4, \"hoverinfo\": \"label+percent+name\", \"labels\": [\"Anxiety disorders\", \"Attention-deficit/hyperactivity disorder\", \"Autism spectrum disorders\", \"Bipolar disorder\", \"Conduct disorder\", \"Depressive disorders\", \"Eating disorders\", \"Idiopathic developmental intellectual disability\", \"Other mental disorders\", \"Schizophrenia\"], \"name\": \"Female\", \"text\": [\"Female\"], \"textposition\": \"inside\", \"values\": [171180619.464, 21032913.9525, 7213457.186660001, 22482987.0262, 17911295.831, 151879644.231, 10296996.4176, 46598599.5286, 56960344.3233, 9101669.99952], \"type\": \"pie\"}], \"name\": \"2013\"}, {\"data\": [{\"domain\": {\"x\": [0, 0.48]}, \"hole\": 0.4, \"hoverinfo\": \"label+percent+name\", \"labels\": [\"Anxiety disorders\", \"Attention-deficit/hyperactivity disorder\", \"Autism spectrum disorders\", \"Bipolar disorder\", \"Conduct disorder\", \"Depressive disorders\", \"Eating disorders\", \"Idiopathic developmental intellectual disability\", \"Other mental disorders\", \"Schizophrenia\"], \"name\": \"Male\", \"text\": [\"Male\"], \"textposition\": \"inside\", \"values\": [101809879.833, 50704895.1055, 22936202.1231, 20959992.3334, 33857994.909, 98116255.7413, 4624730.96601, 54284634.4356, 84977950.636, 9716350.06383], \"type\": \"pie\"}, {\"domain\": {\"x\": [0.52, 1]}, \"hole\": 0.4, \"hoverinfo\": \"label+percent+name\", \"labels\": [\"Anxiety disorders\", \"Attention-deficit/hyperactivity disorder\", \"Autism spectrum disorders\", \"Bipolar disorder\", \"Conduct disorder\", \"Depressive disorders\", \"Eating disorders\", \"Idiopathic developmental intellectual disability\", \"Other mental disorders\", \"Schizophrenia\"], \"name\": \"Female\", \"text\": [\"Female\"], \"textposition\": \"inside\", \"values\": [173125445.24, 21187871.0251, 7297996.4022, 22793314.253, 18058940.9199, 154306052.861, 10455700.545, 46624390.0853, 57899463.4502, 9248785.47694], \"type\": \"pie\"}], \"name\": \"2014\"}, {\"data\": [{\"domain\": {\"x\": [0, 0.48]}, \"hole\": 0.4, \"hoverinfo\": \"label+percent+name\", \"labels\": [\"Anxiety disorders\", \"Attention-deficit/hyperactivity disorder\", \"Autism spectrum disorders\", \"Bipolar disorder\", \"Conduct disorder\", \"Depressive disorders\", \"Eating disorders\", \"Idiopathic developmental intellectual disability\", \"Other mental disorders\", \"Schizophrenia\"], \"name\": \"Male\", \"text\": [\"Male\"], \"textposition\": \"inside\", \"values\": [103071406.709, 51011413.6522, 23165799.7746, 21247094.5159, 34052866.9977, 99670229.4129, 4706557.5220599985, 54240070.601, 86265607.4435, 9850306.78004], \"type\": \"pie\"}, {\"domain\": {\"x\": [0.52, 1]}, \"hole\": 0.4, \"hoverinfo\": \"label+percent+name\", \"labels\": [\"Anxiety disorders\", \"Attention-deficit/hyperactivity disorder\", \"Autism spectrum disorders\", \"Bipolar disorder\", \"Conduct disorder\", \"Depressive disorders\", \"Eating disorders\", \"Idiopathic developmental intellectual disability\", \"Other mental disorders\", \"Schizophrenia\"], \"name\": \"Female\", \"text\": [\"Female\"], \"textposition\": \"inside\", \"values\": [174992917.982, 21339279.5282, 7378624.48427, 23099427.6139, 18224592.6842, 156703688.54700002, 10611889.0256, 46589116.7894, 58823067.96600001, 9393973.38263], \"type\": \"pie\"}], \"name\": \"2015\"}, {\"data\": [{\"domain\": {\"x\": [0, 0.48]}, \"hole\": 0.4, \"hoverinfo\": \"label+percent+name\", \"labels\": [\"Anxiety disorders\", \"Attention-deficit/hyperactivity disorder\", \"Autism spectrum disorders\", \"Bipolar disorder\", \"Conduct disorder\", \"Depressive disorders\", \"Eating disorders\", \"Idiopathic developmental intellectual disability\", \"Other mental disorders\", \"Schizophrenia\"], \"name\": \"Male\", \"text\": [\"Male\"], \"textposition\": \"inside\", \"values\": [104364277.099, 51327800.6305, 23402603.5325, 21540596.0028, 34297996.292, 101265312.737, 4791806.92799, 54172024.1617, 87555885.9944, 9978765.4265], \"type\": \"pie\"}, {\"domain\": {\"x\": [0.52, 1]}, \"hole\": 0.4, \"hoverinfo\": \"label+percent+name\", \"labels\": [\"Anxiety disorders\", \"Attention-deficit/hyperactivity disorder\", \"Autism spectrum disorders\", \"Bipolar disorder\", \"Conduct disorder\", \"Depressive disorders\", \"Eating disorders\", \"Idiopathic developmental intellectual disability\", \"Other mental disorders\", \"Schizophrenia\"], \"name\": \"Female\", \"text\": [\"Female\"], \"textposition\": \"inside\", \"values\": [176864367.062, 21494547.8254, 7459986.695239998, 23408580.2844, 18420716.6873, 159119585.075, 10771952.2741, 46535059.5385, 59743220.7648, 9536968.80105], \"type\": \"pie\"}], \"name\": \"2016\"}, {\"data\": [{\"domain\": {\"x\": [0, 0.48]}, \"hole\": 0.4, \"hoverinfo\": \"label+percent+name\", \"labels\": [\"Anxiety disorders\", \"Attention-deficit/hyperactivity disorder\", \"Autism spectrum disorders\", \"Bipolar disorder\", \"Conduct disorder\", \"Depressive disorders\", \"Eating disorders\", \"Idiopathic developmental intellectual disability\", \"Other mental disorders\", \"Schizophrenia\"], \"name\": \"Male\", \"text\": [\"Male\"], \"textposition\": \"inside\", \"values\": [105641105.973, 51660361.4659, 23638114.0372, 21831913.5195, 34584696.7533, 102877623.959, 4875281.18939, 54093500.7853, 88820209.7522, 10099444.9767], \"type\": \"pie\"}, {\"domain\": {\"x\": [0.52, 1]}, \"hole\": 0.4, \"hoverinfo\": \"label+percent+name\", \"labels\": [\"Anxiety disorders\", \"Attention-deficit/hyperactivity disorder\", \"Autism spectrum disorders\", \"Bipolar disorder\", \"Conduct disorder\", \"Depressive disorders\", \"Eating disorders\", \"Idiopathic developmental intellectual disability\", \"Other mental disorders\", \"Schizophrenia\"], \"name\": \"Female\", \"text\": [\"Female\"], \"textposition\": \"inside\", \"values\": [178719043.091, 21657152.2716, 7541549.68927, 23717457.8532, 18643690.2293, 161577968.784, 10926398.5894, 46478692.0106, 60658378.6346, 9677443.37727], \"type\": \"pie\"}], \"name\": \"2017\"}]);}).then(function(){Plotly.animate('b44c1f47-16e2-4415-b052-fb973e032f21');})\n",
       "        });</script><script type=\"text/javascript\">window.addEventListener(\"resize\", function(){window._Plotly.Plots.resize(document.getElementById(\"b44c1f47-16e2-4415-b052-fb973e032f21\"));});</script>"
      ]
     },
     "metadata": {},
     "output_type": "display_data"
    }
   ],
   "source": [
    "iplot(fig_gender_global, validate=True)"
   ]
  },
  {
   "cell_type": "code",
   "execution_count": 501,
   "metadata": {},
   "outputs": [],
   "source": [
    "html_str = plot(fig_gender_global, include_plotlyjs=False, output_type='div')\n",
    "save_html(html_str, \"prevalence_gender_disorder_share_global\")"
   ]
  },
  {
   "cell_type": "markdown",
   "metadata": {},
   "source": []
  }
 ],
 "metadata": {
  "kernelspec": {
   "display_name": "Python 3",
   "language": "python",
   "name": "python3"
  },
  "language_info": {
   "codemirror_mode": {
    "name": "ipython",
    "version": 3
   },
   "file_extension": ".py",
   "mimetype": "text/x-python",
   "name": "python",
   "nbconvert_exporter": "python",
   "pygments_lexer": "ipython3",
   "version": "3.6.7"
  }
 },
 "nbformat": 4,
 "nbformat_minor": 2
}
