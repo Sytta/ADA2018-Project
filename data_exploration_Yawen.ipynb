{
 "cells": [
  {
   "cell_type": "code",
   "execution_count": 1,
   "metadata": {},
   "outputs": [],
   "source": [
    "import pandas as pd\n",
    "import os"
   ]
  },
  {
   "cell_type": "code",
   "execution_count": 4,
   "metadata": {},
   "outputs": [],
   "source": [
    "data_folder = \"./data/GBD_data/\"\n",
    "saving_folder = \"./data/Cleaned_GBD_data/\"\n",
    "file_list = [i for i in sorted(os.listdir(data_folder)) if 'IHME-GBD' in i]"
   ]
  },
  {
   "cell_type": "code",
   "execution_count": null,
   "metadata": {},
   "outputs": [
    {
     "name": "stdout",
     "output_type": "stream",
     "text": [
      "Reading IHME-GBD_2017_DATA-302bab91-1.csv ...\n",
      "Reading IHME-GBD_2017_DATA-302bab91-10.csv ...\n",
      "Reading IHME-GBD_2017_DATA-302bab91-11.csv ...\n",
      "Reading IHME-GBD_2017_DATA-302bab91-12.csv ...\n",
      "Reading IHME-GBD_2017_DATA-302bab91-13.csv ...\n",
      "Reading IHME-GBD_2017_DATA-302bab91-14.csv ...\n",
      "Reading IHME-GBD_2017_DATA-302bab91-15.csv ...\n"
     ]
    }
   ],
   "source": [
    "pdfs = []\n",
    "for file in file_list:\n",
    "    print(\"Reading {} ...\".format(file))\n",
    "    pdfs.append(pd.read_csv(data_folder + file))"
   ]
  },
  {
   "cell_type": "markdown",
   "metadata": {},
   "source": [
    "### Data Cleaning\n",
    "\n",
    "Splitting the dataset according to different measures. Dropping the location_id, measure_id, sex_id, age_id, cause_id, metric_id columns because they are not useful."
   ]
  },
  {
   "cell_type": "code",
   "execution_count": null,
   "metadata": {},
   "outputs": [],
   "source": [
    "cleaned_pdfs = []\n",
    "for i in range(len(pdfs)):\n",
    "    cleaned_pdfs.append(pdfs[i].drop(['location_id', 'measure_id', 'sex_id', 'age_id', 'cause_id', 'metric_id'], axis=1))\n",
    "\n",
    "# Merge into one huge data matrix\n",
    "pd_all = pd.concat(cleaned_pdfs).reset_index(drop=True)\n",
    "pd_all.shape"
   ]
  },
  {
   "cell_type": "code",
   "execution_count": null,
   "metadata": {},
   "outputs": [],
   "source": [
    "pd_all.head()"
   ]
  },
  {
   "cell_type": "code",
   "execution_count": null,
   "metadata": {},
   "outputs": [],
   "source": [
    "# Get all measure names\n",
    "measure_names = pd_all.measure_name.unique()\n",
    "# Group by and get all groups\n",
    "groups_by = pd_all.groupby('measure_name')\n",
    "measure_groups = dict.fromkeys(measure_names)\n",
    "for measure in measure_names:\n",
    "    measure_groups[measure] = groups_by.get_group(measure)"
   ]
  },
  {
   "cell_type": "code",
   "execution_count": null,
   "metadata": {},
   "outputs": [],
   "source": [
    "# Save the groups in csv\n",
    "for measure in measure_names:\n",
    "    filename = data_folder+measure+\".csv\"\n",
    "    print(\"Saving {} to {}\".format(measure, saving_folder+measure+\".csv\"))\n",
    "    measure_groups[measure].to_csv(filename, compression=\"zip\")"
   ]
  },
  {
   "cell_type": "markdown",
   "metadata": {},
   "source": [
    "### Data Exploration"
   ]
  },
  {
   "cell_type": "code",
   "execution_count": null,
   "metadata": {},
   "outputs": [],
   "source": []
  }
 ],
 "metadata": {
  "kernelspec": {
   "display_name": "Python 3",
   "language": "python",
   "name": "python3"
  },
  "language_info": {
   "codemirror_mode": {
    "name": "ipython",
    "version": 3
   },
   "file_extension": ".py",
   "mimetype": "text/x-python",
   "name": "python",
   "nbconvert_exporter": "python",
   "pygments_lexer": "ipython3",
   "version": "3.6.5"
  }
 },
 "nbformat": 4,
 "nbformat_minor": 2
}
