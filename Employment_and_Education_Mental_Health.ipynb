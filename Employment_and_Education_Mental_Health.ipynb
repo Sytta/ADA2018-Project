{
 "cells": [
  {
   "cell_type": "markdown",
   "metadata": {},
   "source": [
    "# Data Exploration & Insights"
   ]
  },
  {
   "cell_type": "code",
   "execution_count": 1,
   "metadata": {},
   "outputs": [],
   "source": [
    "# preliminary imports\n",
    "import numpy as np\n",
    "import pandas as pd\n",
    "import matplotlib.pyplot as plt"
   ]
  },
  {
   "cell_type": "code",
   "execution_count": 2,
   "metadata": {},
   "outputs": [],
   "source": [
    "# name data folder and files\n",
    "data_folder = './data/'\n",
    "data_file = 'OECD_Mental_Health_Stats.csv'"
   ]
  },
  {
   "cell_type": "code",
   "execution_count": 3,
   "metadata": {},
   "outputs": [],
   "source": [
    "# import data to pandas dataframe\n",
    "mental_health_data = pd.read_csv(data_folder + data_file)"
   ]
  },
  {
   "cell_type": "markdown",
   "metadata": {},
   "source": [
    "## Data Cleaning & Preparation"
   ]
  },
  {
   "cell_type": "code",
   "execution_count": 4,
   "metadata": {},
   "outputs": [
    {
     "data": {
      "text/html": [
       "<div>\n",
       "<style scoped>\n",
       "    .dataframe tbody tr th:only-of-type {\n",
       "        vertical-align: middle;\n",
       "    }\n",
       "\n",
       "    .dataframe tbody tr th {\n",
       "        vertical-align: top;\n",
       "    }\n",
       "\n",
       "    .dataframe thead th {\n",
       "        text-align: right;\n",
       "    }\n",
       "</style>\n",
       "<table border=\"1\" class=\"dataframe\">\n",
       "  <thead>\n",
       "    <tr style=\"text-align: right;\">\n",
       "      <th></th>\n",
       "      <th>Country</th>\n",
       "      <th>Education</th>\n",
       "      <th>Gender</th>\n",
       "      <th>Age</th>\n",
       "      <th>Employment</th>\n",
       "      <th>Indicator</th>\n",
       "      <th>Year</th>\n",
       "      <th>Value</th>\n",
       "    </tr>\n",
       "  </thead>\n",
       "  <tbody>\n",
       "    <tr>\n",
       "      <th>0</th>\n",
       "      <td>Austria</td>\n",
       "      <td>Below upper secondary education</td>\n",
       "      <td>Total</td>\n",
       "      <td>25-44 years</td>\n",
       "      <td>Employed</td>\n",
       "      <td>Percentage of adults who report having depression</td>\n",
       "      <td>2014</td>\n",
       "      <td>6.5209</td>\n",
       "    </tr>\n",
       "    <tr>\n",
       "      <th>1</th>\n",
       "      <td>Austria</td>\n",
       "      <td>Below upper secondary education</td>\n",
       "      <td>Women</td>\n",
       "      <td>25-44 years</td>\n",
       "      <td>Employed</td>\n",
       "      <td>Percentage of adults who report having depression</td>\n",
       "      <td>2014</td>\n",
       "      <td>8.8432</td>\n",
       "    </tr>\n",
       "    <tr>\n",
       "      <th>2</th>\n",
       "      <td>Austria</td>\n",
       "      <td>Below upper secondary education</td>\n",
       "      <td>Men</td>\n",
       "      <td>25-44 years</td>\n",
       "      <td>Employed</td>\n",
       "      <td>Percentage of adults who report having depression</td>\n",
       "      <td>2014</td>\n",
       "      <td>2.7627</td>\n",
       "    </tr>\n",
       "    <tr>\n",
       "      <th>3</th>\n",
       "      <td>Austria</td>\n",
       "      <td>Below upper secondary education</td>\n",
       "      <td>Total</td>\n",
       "      <td>25-44 years</td>\n",
       "      <td>Total</td>\n",
       "      <td>Percentage of adults who report having depression</td>\n",
       "      <td>2014</td>\n",
       "      <td>12.8613</td>\n",
       "    </tr>\n",
       "    <tr>\n",
       "      <th>4</th>\n",
       "      <td>Austria</td>\n",
       "      <td>Below upper secondary education</td>\n",
       "      <td>Women</td>\n",
       "      <td>25-44 years</td>\n",
       "      <td>Total</td>\n",
       "      <td>Percentage of adults who report having depression</td>\n",
       "      <td>2014</td>\n",
       "      <td>12.2516</td>\n",
       "    </tr>\n",
       "  </tbody>\n",
       "</table>\n",
       "</div>"
      ],
      "text/plain": [
       "   Country                        Education Gender          Age Employment  \\\n",
       "0  Austria  Below upper secondary education  Total  25-44 years   Employed   \n",
       "1  Austria  Below upper secondary education  Women  25-44 years   Employed   \n",
       "2  Austria  Below upper secondary education    Men  25-44 years   Employed   \n",
       "3  Austria  Below upper secondary education  Total  25-44 years      Total   \n",
       "4  Austria  Below upper secondary education  Women  25-44 years      Total   \n",
       "\n",
       "                                           Indicator  Year    Value  \n",
       "0  Percentage of adults who report having depression  2014   6.5209  \n",
       "1  Percentage of adults who report having depression  2014   8.8432  \n",
       "2  Percentage of adults who report having depression  2014   2.7627  \n",
       "3  Percentage of adults who report having depression  2014  12.8613  \n",
       "4  Percentage of adults who report having depression  2014  12.2516  "
      ]
     },
     "execution_count": 4,
     "metadata": {},
     "output_type": "execute_result"
    }
   ],
   "source": [
    "# Clean and Prepare Data\n",
    "\n",
    "# Drop redundant columns that depend on another column\n",
    "# Also drop 'Measure', 'Flag Codes', and 'Flags' columns because they are not needed in our data exploration\n",
    "mental_health_data = mental_health_data.drop(['ISC11A', 'COUNTRY', 'MEASURE', 'Reference year', 'SEX', 'PIAAC_CATEGORY', 'INDICATOR', 'AGE', 'Measure', 'Flag Codes', 'Flags'], axis=1)\n",
    "\n",
    "# Drop rows where Value is NaN, and drop columns Measure, Flag Codes, and Flags (because they indicate that value is NaN)\n",
    "mental_health_data = mental_health_data.dropna(subset = ['Value'])\n",
    "\n",
    "# Rename some columns for easier understanding\n",
    "mental_health_data = mental_health_data.rename(columns={'ISCED-A 2011': 'Education', 'Category': 'Employment', 'YEAR': 'Year'})\n",
    "\n",
    "# Convert categorical columns to type category\n",
    "cat_cols = ['Country', 'Education', 'Gender', 'Age', 'Employment', 'Indicator']\n",
    "mental_health_data[cat_cols] = mental_health_data[cat_cols].astype('category')\n",
    "\n",
    "# View current dataset\n",
    "mental_health_data.head()"
   ]
  },
  {
   "cell_type": "code",
   "execution_count": 5,
   "metadata": {},
   "outputs": [
    {
     "data": {
      "text/plain": [
       "(8428, 8)"
      ]
     },
     "execution_count": 5,
     "metadata": {},
     "output_type": "execute_result"
    }
   ],
   "source": [
    "mental_health_data.shape"
   ]
  },
  {
   "cell_type": "markdown",
   "metadata": {},
   "source": [
    "## Data Exploration"
   ]
  },
  {
   "cell_type": "code",
   "execution_count": 6,
   "metadata": {},
   "outputs": [],
   "source": [
    "# Create 3 separate dataframes for the 3 indicators in the dataset\n",
    "depressed = mental_health_data[mental_health_data.Indicator == 'Percentage of adults who report having depression']\n",
    "health_numeracy = mental_health_data[mental_health_data.Indicator == 'Percentage of adults reporting that they are in good health, by numeracy proficiency level ']\n",
    "health_literacy = mental_health_data[mental_health_data.Indicator == 'Percentage of adults reporting that they are in good health, by literacy proficiency level ']\n",
    "\n",
    "# Creat 1 dataframe that combines health_numeracy and health_literacy\n",
    "health_all = mental_health_data[(mental_health_data.Indicator == 'Percentage of adults reporting that they are in good health, by numeracy proficiency level ') | (mental_health_data.Indicator == 'Percentage of adults reporting that they are in good health, by literacy proficiency level ')]\n"
   ]
  },
  {
   "cell_type": "code",
   "execution_count": 8,
   "metadata": {},
   "outputs": [
    {
     "data": {
      "text/html": [
       "<div>\n",
       "<style scoped>\n",
       "    .dataframe tbody tr th:only-of-type {\n",
       "        vertical-align: middle;\n",
       "    }\n",
       "\n",
       "    .dataframe tbody tr th {\n",
       "        vertical-align: top;\n",
       "    }\n",
       "\n",
       "    .dataframe thead th {\n",
       "        text-align: right;\n",
       "    }\n",
       "</style>\n",
       "<table border=\"1\" class=\"dataframe\">\n",
       "  <thead>\n",
       "    <tr style=\"text-align: right;\">\n",
       "      <th></th>\n",
       "      <th>Country</th>\n",
       "      <th>Education</th>\n",
       "      <th>Gender</th>\n",
       "      <th>Age</th>\n",
       "      <th>Employment</th>\n",
       "      <th>Indicator</th>\n",
       "      <th>Year</th>\n",
       "      <th>Value</th>\n",
       "    </tr>\n",
       "  </thead>\n",
       "  <tbody>\n",
       "    <tr>\n",
       "      <th>0</th>\n",
       "      <td>Austria</td>\n",
       "      <td>Below upper secondary education</td>\n",
       "      <td>Total</td>\n",
       "      <td>25-44 years</td>\n",
       "      <td>Employed</td>\n",
       "      <td>Percentage of adults who report having depression</td>\n",
       "      <td>2014</td>\n",
       "      <td>6.5209</td>\n",
       "    </tr>\n",
       "    <tr>\n",
       "      <th>1</th>\n",
       "      <td>Austria</td>\n",
       "      <td>Below upper secondary education</td>\n",
       "      <td>Women</td>\n",
       "      <td>25-44 years</td>\n",
       "      <td>Employed</td>\n",
       "      <td>Percentage of adults who report having depression</td>\n",
       "      <td>2014</td>\n",
       "      <td>8.8432</td>\n",
       "    </tr>\n",
       "    <tr>\n",
       "      <th>2</th>\n",
       "      <td>Austria</td>\n",
       "      <td>Below upper secondary education</td>\n",
       "      <td>Men</td>\n",
       "      <td>25-44 years</td>\n",
       "      <td>Employed</td>\n",
       "      <td>Percentage of adults who report having depression</td>\n",
       "      <td>2014</td>\n",
       "      <td>2.7627</td>\n",
       "    </tr>\n",
       "    <tr>\n",
       "      <th>3</th>\n",
       "      <td>Austria</td>\n",
       "      <td>Below upper secondary education</td>\n",
       "      <td>Total</td>\n",
       "      <td>25-44 years</td>\n",
       "      <td>Total</td>\n",
       "      <td>Percentage of adults who report having depression</td>\n",
       "      <td>2014</td>\n",
       "      <td>12.8613</td>\n",
       "    </tr>\n",
       "    <tr>\n",
       "      <th>4</th>\n",
       "      <td>Austria</td>\n",
       "      <td>Below upper secondary education</td>\n",
       "      <td>Women</td>\n",
       "      <td>25-44 years</td>\n",
       "      <td>Total</td>\n",
       "      <td>Percentage of adults who report having depression</td>\n",
       "      <td>2014</td>\n",
       "      <td>12.2516</td>\n",
       "    </tr>\n",
       "  </tbody>\n",
       "</table>\n",
       "</div>"
      ],
      "text/plain": [
       "   Country                        Education Gender          Age Employment  \\\n",
       "0  Austria  Below upper secondary education  Total  25-44 years   Employed   \n",
       "1  Austria  Below upper secondary education  Women  25-44 years   Employed   \n",
       "2  Austria  Below upper secondary education    Men  25-44 years   Employed   \n",
       "3  Austria  Below upper secondary education  Total  25-44 years      Total   \n",
       "4  Austria  Below upper secondary education  Women  25-44 years      Total   \n",
       "\n",
       "                                           Indicator  Year    Value  \n",
       "0  Percentage of adults who report having depression  2014   6.5209  \n",
       "1  Percentage of adults who report having depression  2014   8.8432  \n",
       "2  Percentage of adults who report having depression  2014   2.7627  \n",
       "3  Percentage of adults who report having depression  2014  12.8613  \n",
       "4  Percentage of adults who report having depression  2014  12.2516  "
      ]
     },
     "execution_count": 8,
     "metadata": {},
     "output_type": "execute_result"
    }
   ],
   "source": [
    "depressed.head()"
   ]
  },
  {
   "cell_type": "code",
   "execution_count": 9,
   "metadata": {},
   "outputs": [
    {
     "data": {
      "text/html": [
       "<div>\n",
       "<style scoped>\n",
       "    .dataframe tbody tr th:only-of-type {\n",
       "        vertical-align: middle;\n",
       "    }\n",
       "\n",
       "    .dataframe tbody tr th {\n",
       "        vertical-align: top;\n",
       "    }\n",
       "\n",
       "    .dataframe thead th {\n",
       "        text-align: right;\n",
       "    }\n",
       "</style>\n",
       "<table border=\"1\" class=\"dataframe\">\n",
       "  <thead>\n",
       "    <tr style=\"text-align: right;\">\n",
       "      <th></th>\n",
       "      <th>Country</th>\n",
       "      <th>Education</th>\n",
       "      <th>Gender</th>\n",
       "      <th>Age</th>\n",
       "      <th>Employment</th>\n",
       "      <th>Indicator</th>\n",
       "      <th>Year</th>\n",
       "      <th>Value</th>\n",
       "    </tr>\n",
       "  </thead>\n",
       "  <tbody>\n",
       "    <tr>\n",
       "      <th>5832</th>\n",
       "      <td>Israel</td>\n",
       "      <td>All levels of education</td>\n",
       "      <td>Men</td>\n",
       "      <td>25-64 years</td>\n",
       "      <td>Level (0/1)</td>\n",
       "      <td>Percentage of adults reporting that they are i...</td>\n",
       "      <td>2015</td>\n",
       "      <td>67.0</td>\n",
       "    </tr>\n",
       "    <tr>\n",
       "      <th>5833</th>\n",
       "      <td>England</td>\n",
       "      <td>All levels of education</td>\n",
       "      <td>Women</td>\n",
       "      <td>25-64 years</td>\n",
       "      <td>Level (4/5)</td>\n",
       "      <td>Percentage of adults reporting that they are i...</td>\n",
       "      <td>2012</td>\n",
       "      <td>91.0</td>\n",
       "    </tr>\n",
       "    <tr>\n",
       "      <th>5834</th>\n",
       "      <td>Estonia</td>\n",
       "      <td>Upper secondary and post-secondary non-tertiar...</td>\n",
       "      <td>Women</td>\n",
       "      <td>25-64 years</td>\n",
       "      <td>Level (0/1)</td>\n",
       "      <td>Percentage of adults reporting that they are i...</td>\n",
       "      <td>2012</td>\n",
       "      <td>41.0</td>\n",
       "    </tr>\n",
       "    <tr>\n",
       "      <th>5835</th>\n",
       "      <td>Chile</td>\n",
       "      <td>All levels of education</td>\n",
       "      <td>Total</td>\n",
       "      <td>25-64 years</td>\n",
       "      <td>Level (4/5)</td>\n",
       "      <td>Percentage of adults reporting that they are i...</td>\n",
       "      <td>2015</td>\n",
       "      <td>7.0</td>\n",
       "    </tr>\n",
       "    <tr>\n",
       "      <th>5836</th>\n",
       "      <td>Japan</td>\n",
       "      <td>All levels of education</td>\n",
       "      <td>Total</td>\n",
       "      <td>25-64 years</td>\n",
       "      <td>Level (4/5)</td>\n",
       "      <td>Percentage of adults reporting that they are i...</td>\n",
       "      <td>2012</td>\n",
       "      <td>77.0</td>\n",
       "    </tr>\n",
       "  </tbody>\n",
       "</table>\n",
       "</div>"
      ],
      "text/plain": [
       "      Country                                          Education Gender  \\\n",
       "5832   Israel                            All levels of education    Men   \n",
       "5833  England                            All levels of education  Women   \n",
       "5834  Estonia  Upper secondary and post-secondary non-tertiar...  Women   \n",
       "5835    Chile                            All levels of education  Total   \n",
       "5836    Japan                            All levels of education  Total   \n",
       "\n",
       "              Age   Employment  \\\n",
       "5832  25-64 years  Level (0/1)   \n",
       "5833  25-64 years  Level (4/5)   \n",
       "5834  25-64 years  Level (0/1)   \n",
       "5835  25-64 years  Level (4/5)   \n",
       "5836  25-64 years  Level (4/5)   \n",
       "\n",
       "                                              Indicator  Year  Value  \n",
       "5832  Percentage of adults reporting that they are i...  2015   67.0  \n",
       "5833  Percentage of adults reporting that they are i...  2012   91.0  \n",
       "5834  Percentage of adults reporting that they are i...  2012   41.0  \n",
       "5835  Percentage of adults reporting that they are i...  2015    7.0  \n",
       "5836  Percentage of adults reporting that they are i...  2012   77.0  "
      ]
     },
     "execution_count": 9,
     "metadata": {},
     "output_type": "execute_result"
    }
   ],
   "source": [
    "health_all.head()"
   ]
  },
  {
   "cell_type": "markdown",
   "metadata": {},
   "source": [
    "### Depression Dataset - 2014"
   ]
  },
  {
   "cell_type": "code",
   "execution_count": 11,
   "metadata": {},
   "outputs": [
    {
     "data": {
      "text/plain": [
       "Education\n",
       "All levels of education                                      6.527361\n",
       "Below upper secondary education                              9.729693\n",
       "Tertiary education                                           4.875315\n",
       "Upper secondary and post-secondary non-tertiary education    6.977213\n",
       "Name: Value, dtype: float64"
      ]
     },
     "execution_count": 11,
     "metadata": {},
     "output_type": "execute_result"
    }
   ],
   "source": [
    "depressed.groupby(['Education'])['Value'].mean()"
   ]
  },
  {
   "cell_type": "markdown",
   "metadata": {},
   "source": [
    "Above shows a trend that lower levels of education is correlated with higher depression percentages. Let's explore this a bit further by also grouping by employment."
   ]
  },
  {
   "cell_type": "code",
   "execution_count": 31,
   "metadata": {},
   "outputs": [
    {
     "data": {
      "text/plain": [
       "Employment\n",
       "Active         6.734838\n",
       "Employed       5.816607\n",
       "Level (0/1)         NaN\n",
       "Level (2)           NaN\n",
       "Level (3)           NaN\n",
       "Level (4/5)         NaN\n",
       "Total          8.445505\n",
       "Name: Value, dtype: float64"
      ]
     },
     "execution_count": 31,
     "metadata": {},
     "output_type": "execute_result"
    }
   ],
   "source": [
    "depressed.groupby(['Employment'])['Value'].mean()"
   ]
  },
  {
   "cell_type": "code",
   "execution_count": 12,
   "metadata": {},
   "outputs": [
    {
     "data": {
      "text/plain": [
       "Education                                                  Employment\n",
       "All levels of education                                    Active         6.248466\n",
       "                                                           Employed       5.427080\n",
       "                                                           Total          7.906535\n",
       "Below upper secondary education                            Active         9.222765\n",
       "                                                           Employed       7.528450\n",
       "                                                           Total         12.283211\n",
       "Tertiary education                                         Active         4.786342\n",
       "                                                           Employed       4.364011\n",
       "                                                           Total          5.473121\n",
       "Upper secondary and post-secondary non-tertiary education  Active         6.765906\n",
       "                                                           Employed       6.046579\n",
       "                                                           Total          8.119154\n",
       "Name: Value, dtype: float64"
      ]
     },
     "execution_count": 12,
     "metadata": {},
     "output_type": "execute_result"
    }
   ],
   "source": [
    "depressed.groupby(['Education', 'Employment'])['Value'].mean()"
   ]
  },
  {
   "cell_type": "markdown",
   "metadata": {},
   "source": [
    "In all levels of education, employed adults has lower depression levels than active job seeking adults. "
   ]
  },
  {
   "cell_type": "code",
   "execution_count": 15,
   "metadata": {},
   "outputs": [
    {
     "data": {
      "text/plain": [
       "Country\n",
       "Australia                                       NaN\n",
       "Austria                                    7.370024\n",
       "Belgium                                    5.760428\n",
       "Canada                                          NaN\n",
       "Chile                                           NaN\n",
       "Czech Republic                             3.129252\n",
       "Denmark                                    7.779905\n",
       "England                                         NaN\n",
       "Estonia                                    4.390859\n",
       "Finland                                    9.027674\n",
       "Flanders                                        NaN\n",
       "France                                     5.699592\n",
       "Germany                                   11.246651\n",
       "Greece                                     3.015814\n",
       "Hungary                                    3.982471\n",
       "Iceland                                   12.651997\n",
       "Ireland                                   12.697508\n",
       "Israel                                          NaN\n",
       "Italy                                      2.890819\n",
       "Japan                                           NaN\n",
       "Korea                                           NaN\n",
       "Latvia                                     7.524262\n",
       "Lithuania                                  3.568833\n",
       "Luxembourg                                 9.892022\n",
       "Netherlands                                6.630377\n",
       "New Zealand                                     NaN\n",
       "Northern Ireland                                NaN\n",
       "Norway                                     6.472943\n",
       "Poland                                     3.308406\n",
       "Portugal                                   8.800878\n",
       "Singapore                                       NaN\n",
       "Slovak Republic                            3.585916\n",
       "Slovenia                                   7.966189\n",
       "Spain                                      5.538067\n",
       "Sweden                                     8.985342\n",
       "Turkey                                    10.896648\n",
       "United Kingdom                             8.507356\n",
       "United States                                   NaN\n",
       "Unweighted average (Unitary countries)     7.132726\n",
       "Name: Value, dtype: float64"
      ]
     },
     "execution_count": 15,
     "metadata": {},
     "output_type": "execute_result"
    }
   ],
   "source": [
    "depressed.groupby(['Country'])['Value'].mean()"
   ]
  },
  {
   "cell_type": "markdown",
   "metadata": {},
   "source": [
    "**Only data for France, none for any other country we care about so let's use health_all dataset for country segmentation**"
   ]
  },
  {
   "cell_type": "code",
   "execution_count": 16,
   "metadata": {},
   "outputs": [
    {
     "data": {
      "text/plain": [
       "Year\n",
       "2014    7.006444\n",
       "Name: Value, dtype: float64"
      ]
     },
     "execution_count": 16,
     "metadata": {},
     "output_type": "execute_result"
    }
   ],
   "source": [
    "depressed.groupby(['Year'])['Value'].mean()"
   ]
  },
  {
   "cell_type": "markdown",
   "metadata": {},
   "source": [
    "### Health Datasets - 2012 & 2015"
   ]
  },
  {
   "cell_type": "code",
   "execution_count": 17,
   "metadata": {},
   "outputs": [
    {
     "data": {
      "text/plain": [
       "Employment\n",
       "Active               NaN\n",
       "Employed             NaN\n",
       "Level (0/1)    36.149727\n",
       "Level (2)      40.282245\n",
       "Level (3)      42.976986\n",
       "Level (4/5)    46.157749\n",
       "Total                NaN\n",
       "Name: Value, dtype: float64"
      ]
     },
     "execution_count": 17,
     "metadata": {},
     "output_type": "execute_result"
    }
   ],
   "source": [
    "health_numeracy.groupby(['Employment'])['Value'].mean()"
   ]
  },
  {
   "cell_type": "code",
   "execution_count": 18,
   "metadata": {},
   "outputs": [
    {
     "data": {
      "text/plain": [
       "Employment\n",
       "Active               NaN\n",
       "Employed             NaN\n",
       "Level (0/1)    36.154132\n",
       "Level (2)      39.847786\n",
       "Level (3)      42.644595\n",
       "Level (4/5)    46.274157\n",
       "Total                NaN\n",
       "Name: Value, dtype: float64"
      ]
     },
     "execution_count": 18,
     "metadata": {},
     "output_type": "execute_result"
    }
   ],
   "source": [
    "health_literacy.groupby(['Employment'])['Value'].mean()"
   ]
  },
  {
   "cell_type": "code",
   "execution_count": 19,
   "metadata": {},
   "outputs": [
    {
     "data": {
      "text/plain": [
       "Employment\n",
       "Active               NaN\n",
       "Employed             NaN\n",
       "Level (0/1)    36.151920\n",
       "Level (2)      40.064733\n",
       "Level (3)      42.809660\n",
       "Level (4/5)    46.215520\n",
       "Total                NaN\n",
       "Name: Value, dtype: float64"
      ]
     },
     "execution_count": 19,
     "metadata": {},
     "output_type": "execute_result"
    }
   ],
   "source": [
    "health_all.groupby(['Employment'])['Value'].mean()"
   ]
  },
  {
   "cell_type": "code",
   "execution_count": 29,
   "metadata": {},
   "outputs": [
    {
     "data": {
      "text/plain": [
       "Country        Employment \n",
       "Australia      Level (0/1)    39.310417\n",
       "               Level (2)      43.141667\n",
       "               Level (3)      44.537500\n",
       "               Level (4/5)    46.147619\n",
       "France         Level (0/1)    36.112500\n",
       "               Level (2)      40.791667\n",
       "               Level (3)      43.558333\n",
       "               Level (4/5)    46.602941\n",
       "United States  Level (0/1)    37.022917\n",
       "               Level (2)      42.627083\n",
       "               Level (3)      46.002632\n",
       "               Level (4/5)    48.391176\n",
       "Name: Value, dtype: float64"
      ]
     },
     "execution_count": 29,
     "metadata": {},
     "output_type": "execute_result"
    }
   ],
   "source": [
    "health_all.loc[health_all['Country'].isin(['Australia', 'France', 'United States'])].groupby(['Country','Employment'])['Value'].mean()"
   ]
  },
  {
   "cell_type": "markdown",
   "metadata": {},
   "source": [
    "From the above statistics, it is obvious that there is correlation between the numerical and literacy proficiency level and the health rate. Higher levels of both (or either one of) literacy and numerical proficiency is correlated with higher good-health reports. "
   ]
  },
  {
   "cell_type": "code",
   "execution_count": 22,
   "metadata": {},
   "outputs": [
    {
     "data": {
      "text/plain": [
       "Country\n",
       "Australia                                 43.191935\n",
       "Austria                                   41.990698\n",
       "Belgium                                         NaN\n",
       "Canada                                    44.474444\n",
       "Chile                                           NaN\n",
       "Czech Republic                            45.133333\n",
       "Denmark                                   41.170330\n",
       "England                                   43.361111\n",
       "Estonia                                   30.802778\n",
       "Finland                                   39.826136\n",
       "Flanders                                  43.063793\n",
       "France                                    41.385955\n",
       "Germany                                   44.522093\n",
       "Greece                                          NaN\n",
       "Hungary                                         NaN\n",
       "Iceland                                         NaN\n",
       "Ireland                                   45.146629\n",
       "Israel                                          NaN\n",
       "Italy                                     43.879775\n",
       "Japan                                     36.438235\n",
       "Korea                                     24.957471\n",
       "Latvia                                          NaN\n",
       "Lithuania                                       NaN\n",
       "Luxembourg                                      NaN\n",
       "Netherlands                               41.047191\n",
       "New Zealand                                     NaN\n",
       "Northern Ireland                          42.494253\n",
       "Norway                                    41.526374\n",
       "Poland                                    40.921023\n",
       "Portugal                                        NaN\n",
       "Singapore                                       NaN\n",
       "Slovak Republic                           39.858333\n",
       "Slovenia                                        NaN\n",
       "Spain                                     41.543023\n",
       "Sweden                                    42.262222\n",
       "Turkey                                          NaN\n",
       "United Kingdom                                  NaN\n",
       "United States                             42.955952\n",
       "Unweighted average (Unitary countries)    40.005556\n",
       "Name: Value, dtype: float64"
      ]
     },
     "execution_count": 22,
     "metadata": {},
     "output_type": "execute_result"
    }
   ],
   "source": [
    "health_all[health_all.Year == 2012].groupby(['Country'])['Value'].mean()"
   ]
  },
  {
   "cell_type": "markdown",
   "metadata": {},
   "source": [
    "**Countries Average Reports of Good Health Condition in 2012**\n",
    "\n",
    "Of the countries we are interested in, we have their statistics on % of population who reported themselves in good health condition:\n",
    "* Australia: 43.1919\n",
    "* China: N/A\n",
    "* France: 41.385955\n",
    "* Russia: N/A\n",
    "* United States: 42.955952\n",
    "\n",
    "Note we used 2012 instead of 2015 because 2015 did not have any data for the above countries"
   ]
  },
  {
   "cell_type": "code",
   "execution_count": null,
   "metadata": {},
   "outputs": [],
   "source": []
  }
 ],
 "metadata": {
  "kernelspec": {
   "display_name": "Python 3",
   "language": "python",
   "name": "python3"
  },
  "language_info": {
   "codemirror_mode": {
    "name": "ipython",
    "version": 3
   },
   "file_extension": ".py",
   "mimetype": "text/x-python",
   "name": "python",
   "nbconvert_exporter": "python",
   "pygments_lexer": "ipython3",
   "version": "3.6.6"
  }
 },
 "nbformat": 4,
 "nbformat_minor": 2
}
