{
 "cells": [
  {
   "cell_type": "code",
   "execution_count": 293,
   "metadata": {},
   "outputs": [],
   "source": [
    "import plotly.plotly as py\n",
    "import pandas as pd\n",
    "import os\n",
    "import random\n",
    "from pylab import *\n",
    "import matplotlib.pyplot as plt"
   ]
  },
  {
   "cell_type": "code",
   "execution_count": 268,
   "metadata": {},
   "outputs": [],
   "source": [
    "plotly.tools.set_credentials_file(username='CANada-2018', api_key='qxDFj32iznKNE8t5VuUv')"
   ]
  },
  {
   "cell_type": "code",
   "execution_count": 90,
   "metadata": {},
   "outputs": [],
   "source": [
    "reading_folder = \"./visualization/\"\n",
    "file_list = [i for i in sorted(os.listdir(reading_folder)) if '.csv' in i]"
   ]
  },
  {
   "cell_type": "code",
   "execution_count": 122,
   "metadata": {},
   "outputs": [],
   "source": [
    "ONE_MILLION = 1000000\n",
    "ONE_100_K = 100000"
   ]
  },
  {
   "cell_type": "code",
   "execution_count": 60,
   "metadata": {},
   "outputs": [
    {
     "name": "stdout",
     "output_type": "stream",
     "text": [
      "Reading DALY_Africa_Number.csv ...\n",
      "Reading DALY_Africa_Rate.csv ...\n",
      "Reading DALY_America_Number.csv ...\n",
      "Reading DALY_America_Rate.csv ...\n",
      "Reading DALY_Asia_Number.csv ...\n",
      "Reading DALY_Asia_Rate.csv ...\n",
      "Reading DALY_Australia_Number.csv ...\n",
      "Reading DALY_Australia_Rate.csv ...\n",
      "Reading DALY_China_Number.csv ...\n",
      "Reading DALY_China_Rate.csv ...\n",
      "Reading DALY_Europe_Number.csv ...\n",
      "Reading DALY_Europe_Rate.csv ...\n",
      "Reading DALY_France_Number.csv ...\n",
      "Reading DALY_France_Rate.csv ...\n",
      "Reading DALY_Global_Number.csv ...\n",
      "Reading DALY_Global_Rate.csv ...\n",
      "Reading DALY_Number.csv ...\n",
      "Reading DALY_Oceania_Number.csv ...\n",
      "Reading DALY_Oceania_Rate.csv ...\n",
      "Reading DALY_Rate.csv ...\n",
      "Reading DALY_Russian Federation_Number.csv ...\n",
      "Reading DALY_Russian Federation_Rate.csv ...\n",
      "Reading DALY_United States_Number.csv ...\n",
      "Reading DALY_United States_Rate.csv ...\n"
     ]
    }
   ],
   "source": [
    "DALY_dict = dict.fromkeys(file_list)\n",
    "for file in file_list:\n",
    "    print(\"Reading {} ...\".format(file))\n",
    "    DALY_dict[file] = pd.read_csv(reading_folder + file, index_col=0)"
   ]
  },
  {
   "cell_type": "code",
   "execution_count": 318,
   "metadata": {},
   "outputs": [],
   "source": [
    "DALY_number = DALY_dict['DALY_Number.csv']\n",
    "DALY_rate = DALY_dict['DALY_Rate.csv']\n",
    "\n",
    "# Categorize the countries\n",
    "glob = ['Global']\n",
    "continents = ['Asia', 'Europe', 'Oceania', 'America', 'Africa']\n",
    "countries = [ i for i in sorted(DALY_number.location.unique()) if ((not i in continents) and (i != 'Global'))]\n",
    "\n",
    "level_1 = ['Mental disorders']\n",
    "depression = ['Major depressive disorder', 'Dysthymia']\n",
    "eating = ['Anorexia nervosa', 'Bulimia nervosa']\n",
    "level_2 = [i for i in DALY_number.cause.unique() if (i not in level_1) and (i not in depression) and (i not in eating) ]\n",
    "\n",
    "location = continents\n",
    "df = DALY_number\n",
    "sex = 'Both'\n",
    "disorder = level_2\n",
    "age = 'All Ages'\n",
    "\n",
    "df_year = df[(df.year == 2017) & (df.location.isin(location)) & (df.cause.isin(disorder)) & (df.sex == sex) & (df.age == age)]\n",
    "\n",
    "# Labels for the graph\n",
    "labels = sorted(list(df_year.cause.unique()))\n",
    "\n",
    "# Colors for each node\n",
    "cmap = cm.get_cmap('viridis', len(labels))    # PiYG\n",
    "colors = []\n",
    "rgbas = []\n",
    "for i in range(cmap.N):\n",
    "    rgb = cmap(i)[:3] # will return rgba, we take only first 3 so we get rgb\n",
    "    colors.append(matplotlib.colors.rgb2hex(rgb))\n",
    "    rgbas.append(rgb + (0.5,))\n",
    "\n",
    "labels.extend(sorted(location))\n",
    "\n",
    "cmap = cm.get_cmap('Reds', len(location))    # PiYG\n",
    "for i in range(cmap.N):\n",
    "    rgb = cmap(i)[:3] # will return rgba, we take only first 3 so we get rgb\n",
    "    colors.append(matplotlib.colors.rgb2hex(rgb))\n",
    "\n",
    "\n",
    "df_location = df_year.groupby(['cause', 'location'])['val'].sum().unstack()\n",
    "# Percentage per mental illness\n",
    "df_disorder_std = df_location.apply(lambda x: x/x.sum() * 100)\n",
    "# Percentage per location\n",
    "df_location_std = df_location.apply(lambda x: x/x.sum() * 100, axis=1)\n",
    "\n",
    "# Source - Locations\n",
    "source = []\n",
    "for j in range(len(df_location.columns)):\n",
    "    source.extend([i for i in range(len(df_location.index))])\n",
    "\n",
    "# Target - Mental illness\n",
    "target = []\n",
    "for j in range(len(df_location.columns)):\n",
    "    target.extend([j + len(df_location.index) for i in range(len(df_location.index))])\n",
    "    \n",
    "# Values\n",
    "values = []\n",
    "for i in df_location.columns:\n",
    "    values.extend(list(df_location[i]))\n",
    "\n",
    "# Link colors\n",
    "link_colors = []\n",
    "for i in source:\n",
    "    link_colors.append(\"rgba{}\".format(rgbas[i]))"
   ]
  },
  {
   "cell_type": "code",
   "execution_count": 324,
   "metadata": {},
   "outputs": [
    {
     "data": {
      "text/html": [
       "<iframe id=\"igraph\" scrolling=\"no\" style=\"border:none;\" seamless=\"seamless\" src=\"https://plot.ly/~CANada-2018/81.embed\" height=\"525px\" width=\"100%\"></iframe>"
      ],
      "text/plain": [
       "<plotly.tools.PlotlyDisplay object>"
      ]
     },
     "execution_count": 324,
     "metadata": {},
     "output_type": "execute_result"
    }
   ],
   "source": [
    "data = dict(\n",
    "    type='sankey',\n",
    "    node = dict(\n",
    "      pad = 15,\n",
    "      thickness = 20,\n",
    "      line = dict(\n",
    "        color = \"black\",\n",
    "        width = 0.5\n",
    "      ),\n",
    "      label = labels,\n",
    "      color = colors\n",
    "    ),\n",
    "    orientation = \"h\",\n",
    "    valueformat = \".0f\",\n",
    "    link = dict(\n",
    "      source = source,\n",
    "      target = target,\n",
    "      value = values,\n",
    "      color = link_colors\n",
    "  ))\n",
    "\n",
    "layout =  dict(\n",
    "    title = \"Disability-Adjusted Life Years (DALY) per Mental Illness on a continent level\",\n",
    "    font = dict(\n",
    "      size = 10\n",
    "    )\n",
    ")\n",
    "\n",
    "fig = dict(data=[data], layout=layout)\n",
    "py.iplot(fig, validate=False)"
   ]
  },
  {
   "cell_type": "code",
   "execution_count": null,
   "metadata": {},
   "outputs": [],
   "source": []
  }
 ],
 "metadata": {
  "kernelspec": {
   "display_name": "Python 3",
   "language": "python",
   "name": "python3"
  },
  "language_info": {
   "codemirror_mode": {
    "name": "ipython",
    "version": 3
   },
   "file_extension": ".py",
   "mimetype": "text/x-python",
   "name": "python",
   "nbconvert_exporter": "python",
   "pygments_lexer": "ipython3",
   "version": "3.6.5"
  }
 },
 "nbformat": 4,
 "nbformat_minor": 2
}
